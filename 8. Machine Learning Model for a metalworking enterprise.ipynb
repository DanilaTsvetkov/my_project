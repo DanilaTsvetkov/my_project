{
 "cells": [
  {
   "cell_type": "markdown",
   "metadata": {
    "toc": true
   },
   "source": [
    "<h1>Содержание<span class=\"tocSkip\"></span></h1>\n",
    "<div class=\"toc\"><ul class=\"toc-item\"><li><span><a href=\"#Подготовка-данных\" data-toc-modified-id=\"Подготовка-данных-1\"><span class=\"toc-item-num\">1&nbsp;&nbsp;</span>Подготовка данных</a></span><ul class=\"toc-item\"><li><span><a href=\"#Откройте-файлы-и-изучите-их.\" data-toc-modified-id=\"Откройте-файлы-и-изучите-их.-1.1\"><span class=\"toc-item-num\">1.1&nbsp;&nbsp;</span>Откройте файлы и изучите их.</a></span></li><li><span><a href=\"#Проверьте,-что-эффективность-обогащения-рассчитана-правильно.-Вычислите-её-на-обучающей-выборке-для-признака-rougher.output.recovery.-Найдите-MAE-между-вашими-расчётами-и-значением-признака.-Опишите-выводы.\" data-toc-modified-id=\"Проверьте,-что-эффективность-обогащения-рассчитана-правильно.-Вычислите-её-на-обучающей-выборке-для-признака-rougher.output.recovery.-Найдите-MAE-между-вашими-расчётами-и-значением-признака.-Опишите-выводы.-1.2\"><span class=\"toc-item-num\">1.2&nbsp;&nbsp;</span>Проверьте, что эффективность обогащения рассчитана правильно. Вычислите её на обучающей выборке для признака rougher.output.recovery. Найдите MAE между вашими расчётами и значением признака. Опишите выводы.</a></span></li><li><span><a href=\"#Проанализируйте-признаки,-недоступные-в-тестовой-выборке.-Что-это-за-параметры?-К-какому-типу-относятся?\" data-toc-modified-id=\"Проанализируйте-признаки,-недоступные-в-тестовой-выборке.-Что-это-за-параметры?-К-какому-типу-относятся?-1.3\"><span class=\"toc-item-num\">1.3&nbsp;&nbsp;</span>Проанализируйте признаки, недоступные в тестовой выборке. Что это за параметры? К какому типу относятся?</a></span></li><li><span><a href=\"#Проведите-предобработку-данных.\" data-toc-modified-id=\"Проведите-предобработку-данных.-1.4\"><span class=\"toc-item-num\">1.4&nbsp;&nbsp;</span>Проведите предобработку данных.</a></span></li><li><span><a href=\"#Перейдем-к-нашим-пропускам,-посчитаем-и-оценим-их-в-количестве,-размере-и-возможной-зависимости,-от-целевых-признаков.\" data-toc-modified-id=\"Перейдем-к-нашим-пропускам,-посчитаем-и-оценим-их-в-количестве,-размере-и-возможной-зависимости,-от-целевых-признаков.-1.5\"><span class=\"toc-item-num\">1.5&nbsp;&nbsp;</span>Перейдем к нашим пропускам, посчитаем и оценим их в количестве, размере и возможной зависимости, от целевых признаков.</a></span></li></ul></li><li><span><a href=\"#Анализ-данных\" data-toc-modified-id=\"Анализ-данных-2\"><span class=\"toc-item-num\">2&nbsp;&nbsp;</span>Анализ данных</a></span><ul class=\"toc-item\"><li><span><a href=\"#Посмотрите,-как-меняется-концентрация-металлов-(Au,-Ag,-Pb)-на-различных-этапах:-в-сырье,-в-черновом-концентрате,-в-концентрате-после-первой-очистки-и-в-финальном-концентрате.-Какие-особенности-имеют-распределения?-Опишите-выводы.\" data-toc-modified-id=\"Посмотрите,-как-меняется-концентрация-металлов-(Au,-Ag,-Pb)-на-различных-этапах:-в-сырье,-в-черновом-концентрате,-в-концентрате-после-первой-очистки-и-в-финальном-концентрате.-Какие-особенности-имеют-распределения?-Опишите-выводы.-2.1\"><span class=\"toc-item-num\">2.1&nbsp;&nbsp;</span>Посмотрите, как меняется концентрация металлов (Au, Ag, Pb) на различных этапах: в сырье, в черновом концентрате, в концентрате после первой очистки и в финальном концентрате. Какие особенности имеют распределения? Опишите выводы.</a></span><ul class=\"toc-item\"><li><span><a href=\"#Сырьё\" data-toc-modified-id=\"Сырьё-2.1.1\"><span class=\"toc-item-num\">2.1.1&nbsp;&nbsp;</span>Сырьё</a></span></li><li><span><a href=\"#Черновые-концентраты\" data-toc-modified-id=\"Черновые-концентраты-2.1.2\"><span class=\"toc-item-num\">2.1.2&nbsp;&nbsp;</span>Черновые концентраты</a></span></li><li><span><a href=\"#Концентраты-после-первой-очистки\" data-toc-modified-id=\"Концентраты-после-первой-очистки-2.1.3\"><span class=\"toc-item-num\">2.1.3&nbsp;&nbsp;</span>Концентраты после первой очистки</a></span></li><li><span><a href=\"#Финальные-концентраты\" data-toc-modified-id=\"Финальные-концентраты-2.1.4\"><span class=\"toc-item-num\">2.1.4&nbsp;&nbsp;</span>Финальные концентраты</a></span></li></ul></li><li><span><a href=\"#Сравните-распределения-размеров-гранул-исходного-сырья-на-обучающей-и-тестовой-выборках.-Если-распределения-сильно-отличаются-друг-от-друга,-оценка-модели-будет-неправильной.\" data-toc-modified-id=\"Сравните-распределения-размеров-гранул-исходного-сырья-на-обучающей-и-тестовой-выборках.-Если-распределения-сильно-отличаются-друг-от-друга,-оценка-модели-будет-неправильной.-2.2\"><span class=\"toc-item-num\">2.2&nbsp;&nbsp;</span>Сравните распределения размеров гранул исходного сырья на обучающей и тестовой выборках. Если распределения сильно отличаются друг от друга, оценка модели будет неправильной.</a></span><ul class=\"toc-item\"><li><span><a href=\"#Гистограмма-размер-гранул-исходного-сырья-на-тестовой-выборке\" data-toc-modified-id=\"Гистограмма-размер-гранул-исходного-сырья-на-тестовой-выборке-2.2.1\"><span class=\"toc-item-num\">2.2.1&nbsp;&nbsp;</span>Гистограмма размер гранул исходного сырья на тестовой выборке</a></span></li><li><span><a href=\"#Гистограмма-размер-гранул-исходного-сырья-на-обучающей-выборке\" data-toc-modified-id=\"Гистограмма-размер-гранул-исходного-сырья-на-обучающей-выборке-2.2.2\"><span class=\"toc-item-num\">2.2.2&nbsp;&nbsp;</span>Гистограмма размер гранул исходного сырья на обучающей выборке</a></span></li></ul></li><li><span><a href=\"#Исследуйте-суммарную-концентрацию-металлов-на-разных-стадиях:-в-сырье,-в-черновом-концентрате,-в-концентрате-после-первой-очистки-и-в-финальном-концентрате.\" data-toc-modified-id=\"Исследуйте-суммарную-концентрацию-металлов-на-разных-стадиях:-в-сырье,-в-черновом-концентрате,-в-концентрате-после-первой-очистки-и-в-финальном-концентрате.-2.3\"><span class=\"toc-item-num\">2.3&nbsp;&nbsp;</span>Исследуйте суммарную концентрацию металлов на разных стадиях: в сырье, в черновом концентрате, в концентрате после первой очистки и в финальном концентрате.</a></span><ul class=\"toc-item\"><li><span><a href=\"#Cуммарная-концентрация-металлов-на-разных-стадиях:-в-сырье\" data-toc-modified-id=\"Cуммарная-концентрация-металлов-на-разных-стадиях:-в-сырье-2.3.1\"><span class=\"toc-item-num\">2.3.1&nbsp;&nbsp;</span>Cуммарная концентрация металлов на разных стадиях: в сырье</a></span></li><li><span><a href=\"#Cуммарная-концентрация-металлов-на-разных-стадиях:--в-черновом-концентрате\" data-toc-modified-id=\"Cуммарная-концентрация-металлов-на-разных-стадиях:--в-черновом-концентрате-2.3.2\"><span class=\"toc-item-num\">2.3.2&nbsp;&nbsp;</span>Cуммарная концентрация металлов на разных стадиях:  в черновом концентрате</a></span></li><li><span><a href=\"#Cуммарная-концентрация-металлов-на-разных-стадиях:-в-концентрате-после-первой-очистки\" data-toc-modified-id=\"Cуммарная-концентрация-металлов-на-разных-стадиях:-в-концентрате-после-первой-очистки-2.3.3\"><span class=\"toc-item-num\">2.3.3&nbsp;&nbsp;</span>Cуммарная концентрация металлов на разных стадиях: в концентрате после первой очистки</a></span></li><li><span><a href=\"#Cуммарная-концентрация-металлов-на-разных-стадиях:-в-финальном-концентрате\" data-toc-modified-id=\"Cуммарная-концентрация-металлов-на-разных-стадиях:-в-финальном-концентрате-2.3.4\"><span class=\"toc-item-num\">2.3.4&nbsp;&nbsp;</span>Cуммарная концентрация металлов на разных стадиях: в финальном концентрате</a></span></li></ul></li></ul></li><li><span><a href=\"#Модель\" data-toc-modified-id=\"Модель-3\"><span class=\"toc-item-num\">3&nbsp;&nbsp;</span>Модель</a></span><ul class=\"toc-item\"><li><span><a href=\"#Напишите-функцию-для-вычисления-итоговой-sMAPE.\" data-toc-modified-id=\"Напишите-функцию-для-вычисления-итоговой-sMAPE.-3.1\"><span class=\"toc-item-num\">3.1&nbsp;&nbsp;</span>Напишите функцию для вычисления итоговой sMAPE.</a></span></li><li><span><a href=\"#Обучите-разные-модели-и-оцените-их-качество-кросс-валидацией.-Выберите-лучшую-модель-и-проверьте-её-на-тестовой-выборке.-Опишите-выводы.\" data-toc-modified-id=\"Обучите-разные-модели-и-оцените-их-качество-кросс-валидацией.-Выберите-лучшую-модель-и-проверьте-её-на-тестовой-выборке.-Опишите-выводы.-3.2\"><span class=\"toc-item-num\">3.2&nbsp;&nbsp;</span>Обучите разные модели и оцените их качество кросс-валидацией. Выберите лучшую модель и проверьте её на тестовой выборке. Опишите выводы.</a></span><ul class=\"toc-item\"><li><ul class=\"toc-item\"><li><span><a href=\"#Предсказываем-cross_val_score\" data-toc-modified-id=\"Предсказываем-cross_val_score-3.2.0.1\"><span class=\"toc-item-num\">3.2.0.1&nbsp;&nbsp;</span>Предсказываем cross_val_score</a></span></li><li><span><a href=\"#Предсказываем-cross_val_predict\" data-toc-modified-id=\"Предсказываем-cross_val_predict-3.2.0.2\"><span class=\"toc-item-num\">3.2.0.2&nbsp;&nbsp;</span>Предсказываем cross_val_predict</a></span></li><li><span><a href=\"#Проверка-адекватности.\" data-toc-modified-id=\"Проверка-адекватности.-3.2.0.3\"><span class=\"toc-item-num\">3.2.0.3&nbsp;&nbsp;</span>Проверка адекватности.</a></span></li></ul></li><li><span><a href=\"#лес-деревьев\" data-toc-modified-id=\"лес-деревьев-3.2.1\"><span class=\"toc-item-num\">3.2.1&nbsp;&nbsp;</span>лес деревьев</a></span></li><li><span><a href=\"#test\" data-toc-modified-id=\"test-3.2.2\"><span class=\"toc-item-num\">3.2.2&nbsp;&nbsp;</span>test</a></span></li></ul></li></ul></li><li><span><a href=\"#Чек-лист-готовности-проекта\" data-toc-modified-id=\"Чек-лист-готовности-проекта-4\"><span class=\"toc-item-num\">4&nbsp;&nbsp;</span>Чек-лист готовности проекта</a></span></li></ul></div>"
   ]
  },
  {
   "cell_type": "markdown",
   "metadata": {},
   "source": [
    "# Восстановление золота из руды"
   ]
  },
  {
   "cell_type": "markdown",
   "metadata": {},
   "source": [
    "Подготовка прототипа модели машинного обучения для «Цифры». Компания разрабатывает решения для эффективной работы промышленных предприятий.\n",
    "\n",
    "Модель должна предсказать коэффициент восстановления золота из золотосодержащей руды. Используем данные с параметрами добычи и очистки. \n",
    "\n",
    "Модель поможет оптимизировать производство, чтобы не запускать предприятие с убыточными характеристиками.\n",
    "\n",
    "Нужно:\n",
    "\n",
    "1. Подготовить данные;\n",
    "2. Провести исследовательский анализ данных;\n",
    "3. Построить и обучить модель."
   ]
  },
  {
   "cell_type": "code",
   "execution_count": 1,
   "metadata": {},
   "outputs": [],
   "source": [
    "import pandas as pd\n",
    "import numpy as np\n",
    "import seaborn as sns\n",
    "from sklearn import datasets\n",
    "from sklearn.preprocessing import StandardScaler\n",
    "from sklearn.metrics import mean_absolute_error\n",
    "from sklearn.metrics import make_scorer\n",
    "from sklearn.model_selection import cross_val_score\n",
    "from sklearn.model_selection import GridSearchCV\n",
    "from sklearn.linear_model import LinearRegression\n",
    "from sklearn.ensemble import RandomForestRegressor\n",
    "\n",
    "pd.options.mode.chained_assignment = None                   # игнорирование ошибки при масштабизации"
   ]
  },
  {
   "cell_type": "markdown",
   "metadata": {},
   "source": [
    "Расширение границ тетрадки, выведу отдельно для возможности включения по  желанию, говорят не всем нравиться. "
   ]
  },
  {
   "cell_type": "code",
   "execution_count": 2,
   "metadata": {},
   "outputs": [
    {
     "data": {
      "text/html": [
       "<style>.container { width:70% !important; }</style>"
      ],
      "text/plain": [
       "<IPython.core.display.HTML object>"
      ]
     },
     "metadata": {},
     "output_type": "display_data"
    }
   ],
   "source": [
    "from IPython.core.display import display, HTML\n",
    "display(HTML(\"<style>.container { width:70% !important; }</style>\"))"
   ]
  },
  {
   "cell_type": "markdown",
   "metadata": {},
   "source": [
    "## Подготовка данных"
   ]
  },
  {
   "cell_type": "markdown",
   "metadata": {},
   "source": [
    "###  Откройте файлы и изучите их."
   ]
  },
  {
   "cell_type": "code",
   "execution_count": 3,
   "metadata": {},
   "outputs": [],
   "source": [
    "train  = pd.read_csv('/datasets/gold_industry_train.csv')\n",
    "test = pd.read_csv('/datasets/gold_industry_test.csv')\n",
    "df = pd.read_csv('/datasets/gold_industry_full.csv')"
   ]
  },
  {
   "cell_type": "markdown",
   "metadata": {},
   "source": [
    "Описание данных\n",
    "- Технологический процесс\n",
    "    - **Rougher feed** — исходное сырье\n",
    "    - **Rougher additions** (или reagent additions) — флотационные реагенты:  \n",
    "      **Xanthate**, **Sulphate**, **Depressant**\n",
    "        - **Xanthate** — ксантогенат (промотер, или активатор флотации);\n",
    "        - **Sulphate** — сульфат (на данном производстве сульфид натрия);\n",
    "        - **Depressant** — депрессант (силикат натрия).\n",
    "    - **Rougher process** (англ. «грубый процесс») — флотация\n",
    "    - **Rougher tails** — отвальные хвосты\n",
    "    - **Float banks** — флотационная установка\n",
    "    - **Cleaner process** — очистка\n",
    "    - **Rougher Au** — черновой концентрат золота\n",
    "    - **Final Au** — финальный концентрат золота\n",
    "- Параметры этапов\n",
    "    - **air amount** — объём воздуха\n",
    "    - **fluid levels** — уровень жидкости\n",
    "    - **feed size** — размер гранул сырья\n",
    "    - **feed rateм — скорость подачи\n",
    "- Наименование признаков  \n",
    "    Наименование признаков должно быть такое:<font color='blue'>[этап].[тип_параметра].[название_параметра]</font>  \n",
    "    Пример: <font color='blue'>**rougher.input.feed_ag**</font>\n",
    "    - Возможные значения для блока <font color='blue'>[этап]</font>:\n",
    "        - **rougher** — флотация\n",
    "        - **primary_cleaner** — первичная очистка\n",
    "        - **secondary_cleaner** — вторичная очистка\n",
    "        - **final** — финальные характеристики\n",
    "    - Возможные значения для блока <font color='blue'>[тип_параметра]</font>:\n",
    "        - **input** — параметры сырья\n",
    "        - **output** — параметры продукта\n",
    "        - **state** — параметры, характеризующие текущее состояние этапа\n",
    "        - **calculation** — расчётные характеристики"
   ]
  },
  {
   "cell_type": "markdown",
   "metadata": {},
   "source": [
    "Заглянем в каждый дата сет и посмотрим на типы данных, количество, пропуски и распределения."
   ]
  },
  {
   "cell_type": "code",
   "execution_count": 4,
   "metadata": {},
   "outputs": [
    {
     "data": {
      "text/html": [
       "<div>\n",
       "<style scoped>\n",
       "    .dataframe tbody tr th:only-of-type {\n",
       "        vertical-align: middle;\n",
       "    }\n",
       "\n",
       "    .dataframe tbody tr th {\n",
       "        vertical-align: top;\n",
       "    }\n",
       "\n",
       "    .dataframe thead th {\n",
       "        text-align: right;\n",
       "    }\n",
       "</style>\n",
       "<table border=\"1\" class=\"dataframe\">\n",
       "  <thead>\n",
       "    <tr style=\"text-align: right;\">\n",
       "      <th></th>\n",
       "      <th>date</th>\n",
       "      <th>rougher.input.feed_au</th>\n",
       "      <th>rougher.input.feed_ag</th>\n",
       "      <th>rougher.input.feed_pb</th>\n",
       "      <th>rougher.input.feed_sol</th>\n",
       "      <th>rougher.input.feed_rate</th>\n",
       "      <th>rougher.input.feed_size</th>\n",
       "      <th>rougher.input.floatbank10_sulfate</th>\n",
       "      <th>rougher.input.floatbank10_xanthate</th>\n",
       "      <th>rougher.state.floatbank10_a_air</th>\n",
       "      <th>rougher.state.floatbank10_a_level</th>\n",
       "      <th>rougher.state.floatbank10_b_air</th>\n",
       "      <th>rougher.state.floatbank10_b_level</th>\n",
       "      <th>rougher.state.floatbank10_c_air</th>\n",
       "      <th>rougher.state.floatbank10_c_level</th>\n",
       "      <th>rougher.state.floatbank10_d_air</th>\n",
       "      <th>rougher.state.floatbank10_d_level</th>\n",
       "      <th>rougher.state.floatbank10_e_air</th>\n",
       "      <th>rougher.state.floatbank10_e_level</th>\n",
       "      <th>rougher.state.floatbank10_f_air</th>\n",
       "      <th>rougher.state.floatbank10_f_level</th>\n",
       "      <th>rougher.input.floatbank11_sulfate</th>\n",
       "      <th>rougher.input.floatbank11_xanthate</th>\n",
       "      <th>rougher.calculation.sulfate_to_au_concentrate</th>\n",
       "      <th>rougher.calculation.floatbank10_sulfate_to_au_feed</th>\n",
       "      <th>rougher.calculation.floatbank11_sulfate_to_au_feed</th>\n",
       "      <th>rougher.calculation.au_pb_ratio</th>\n",
       "      <th>rougher.output.concentrate_au</th>\n",
       "      <th>rougher.output.concentrate_ag</th>\n",
       "      <th>rougher.output.concentrate_pb</th>\n",
       "      <th>rougher.output.concentrate_sol</th>\n",
       "      <th>rougher.output.recovery</th>\n",
       "      <th>rougher.output.tail_au</th>\n",
       "      <th>rougher.output.tail_ag</th>\n",
       "      <th>rougher.output.tail_pb</th>\n",
       "      <th>rougher.output.tail_sol</th>\n",
       "      <th>primary_cleaner.input.sulfate</th>\n",
       "      <th>primary_cleaner.input.depressant</th>\n",
       "      <th>primary_cleaner.input.feed_size</th>\n",
       "      <th>primary_cleaner.input.xanthate</th>\n",
       "      <th>primary_cleaner.state.floatbank8_a_air</th>\n",
       "      <th>primary_cleaner.state.floatbank8_a_level</th>\n",
       "      <th>primary_cleaner.state.floatbank8_b_air</th>\n",
       "      <th>primary_cleaner.state.floatbank8_b_level</th>\n",
       "      <th>primary_cleaner.state.floatbank8_c_air</th>\n",
       "      <th>primary_cleaner.state.floatbank8_c_level</th>\n",
       "      <th>primary_cleaner.state.floatbank8_d_air</th>\n",
       "      <th>primary_cleaner.state.floatbank8_d_level</th>\n",
       "      <th>primary_cleaner.output.concentrate_au</th>\n",
       "      <th>primary_cleaner.output.concentrate_ag</th>\n",
       "      <th>primary_cleaner.output.concentrate_pb</th>\n",
       "      <th>primary_cleaner.output.concentrate_sol</th>\n",
       "      <th>primary_cleaner.output.tail_au</th>\n",
       "      <th>primary_cleaner.output.tail_ag</th>\n",
       "      <th>primary_cleaner.output.tail_pb</th>\n",
       "      <th>primary_cleaner.output.tail_sol</th>\n",
       "      <th>secondary_cleaner.state.floatbank2_a_air</th>\n",
       "      <th>secondary_cleaner.state.floatbank2_a_level</th>\n",
       "      <th>secondary_cleaner.state.floatbank2_b_air</th>\n",
       "      <th>secondary_cleaner.state.floatbank2_b_level</th>\n",
       "      <th>secondary_cleaner.state.floatbank3_a_air</th>\n",
       "      <th>secondary_cleaner.state.floatbank3_a_level</th>\n",
       "      <th>secondary_cleaner.state.floatbank3_b_air</th>\n",
       "      <th>secondary_cleaner.state.floatbank3_b_level</th>\n",
       "      <th>secondary_cleaner.state.floatbank4_a_air</th>\n",
       "      <th>secondary_cleaner.state.floatbank4_a_level</th>\n",
       "      <th>secondary_cleaner.state.floatbank4_b_air</th>\n",
       "      <th>secondary_cleaner.state.floatbank4_b_level</th>\n",
       "      <th>secondary_cleaner.state.floatbank5_a_air</th>\n",
       "      <th>secondary_cleaner.state.floatbank5_a_level</th>\n",
       "      <th>secondary_cleaner.state.floatbank5_b_air</th>\n",
       "      <th>secondary_cleaner.state.floatbank5_b_level</th>\n",
       "      <th>secondary_cleaner.state.floatbank6_a_air</th>\n",
       "      <th>secondary_cleaner.state.floatbank6_a_level</th>\n",
       "      <th>secondary_cleaner.output.tail_au</th>\n",
       "      <th>secondary_cleaner.output.tail_ag</th>\n",
       "      <th>secondary_cleaner.output.tail_pb</th>\n",
       "      <th>secondary_cleaner.output.tail_sol</th>\n",
       "      <th>final.output.concentrate_au</th>\n",
       "      <th>final.output.concentrate_ag</th>\n",
       "      <th>final.output.concentrate_pb</th>\n",
       "      <th>final.output.concentrate_sol</th>\n",
       "      <th>final.output.recovery</th>\n",
       "      <th>final.output.tail_au</th>\n",
       "      <th>final.output.tail_ag</th>\n",
       "      <th>final.output.tail_pb</th>\n",
       "      <th>final.output.tail_sol</th>\n",
       "    </tr>\n",
       "  </thead>\n",
       "  <tbody>\n",
       "    <tr>\n",
       "      <th>0</th>\n",
       "      <td>2016-01-15 00:00:00</td>\n",
       "      <td>6.486150</td>\n",
       "      <td>6.100378</td>\n",
       "      <td>2.284912</td>\n",
       "      <td>36.808594</td>\n",
       "      <td>523.546326</td>\n",
       "      <td>55.486599</td>\n",
       "      <td>11.986616</td>\n",
       "      <td>6.007990</td>\n",
       "      <td>999.706909</td>\n",
       "      <td>-404.066986</td>\n",
       "      <td>1603.011353</td>\n",
       "      <td>-434.715027</td>\n",
       "      <td>1602.375000</td>\n",
       "      <td>-442.204468</td>\n",
       "      <td>1598.937256</td>\n",
       "      <td>-451.294128</td>\n",
       "      <td>1404.472046</td>\n",
       "      <td>-455.462982</td>\n",
       "      <td>1416.354980</td>\n",
       "      <td>-451.939636</td>\n",
       "      <td>11.836743</td>\n",
       "      <td>6.005818</td>\n",
       "      <td>41885.707031</td>\n",
       "      <td>3481.779053</td>\n",
       "      <td>3520.337158</td>\n",
       "      <td>2.838687</td>\n",
       "      <td>19.793808</td>\n",
       "      <td>11.500771</td>\n",
       "      <td>7.101074</td>\n",
       "      <td>28.029297</td>\n",
       "      <td>87.107763</td>\n",
       "      <td>1.170244</td>\n",
       "      <td>5.008018</td>\n",
       "      <td>0.508728</td>\n",
       "      <td>19.154297</td>\n",
       "      <td>127.092003</td>\n",
       "      <td>10.128295</td>\n",
       "      <td>7.25</td>\n",
       "      <td>0.988759</td>\n",
       "      <td>1549.775757</td>\n",
       "      <td>-498.912140</td>\n",
       "      <td>1551.434204</td>\n",
       "      <td>-516.403442</td>\n",
       "      <td>1549.873901</td>\n",
       "      <td>-498.666595</td>\n",
       "      <td>1554.367432</td>\n",
       "      <td>-493.428131</td>\n",
       "      <td>34.174427</td>\n",
       "      <td>8.547551</td>\n",
       "      <td>10.389648</td>\n",
       "      <td>19.529297</td>\n",
       "      <td>2.106679</td>\n",
       "      <td>14.936526</td>\n",
       "      <td>2.534912</td>\n",
       "      <td>7.476074</td>\n",
       "      <td>25.853109</td>\n",
       "      <td>-498.526489</td>\n",
       "      <td>23.893660</td>\n",
       "      <td>-501.406281</td>\n",
       "      <td>23.961798</td>\n",
       "      <td>-495.262817</td>\n",
       "      <td>21.940409</td>\n",
       "      <td>-499.340973</td>\n",
       "      <td>14.016835</td>\n",
       "      <td>-502.488007</td>\n",
       "      <td>12.099931</td>\n",
       "      <td>-504.715942</td>\n",
       "      <td>9.925633</td>\n",
       "      <td>-498.310211</td>\n",
       "      <td>8.079666</td>\n",
       "      <td>-500.470978</td>\n",
       "      <td>14.151341</td>\n",
       "      <td>-605.841980</td>\n",
       "      <td>2.606185</td>\n",
       "      <td>14.500184</td>\n",
       "      <td>4.694824</td>\n",
       "      <td>8.764648</td>\n",
       "      <td>42.192020</td>\n",
       "      <td>6.055403</td>\n",
       "      <td>9.889648</td>\n",
       "      <td>5.507324</td>\n",
       "      <td>70.541216</td>\n",
       "      <td>2.143149</td>\n",
       "      <td>10.411962</td>\n",
       "      <td>0.895447</td>\n",
       "      <td>16.904297</td>\n",
       "    </tr>\n",
       "    <tr>\n",
       "      <th>1</th>\n",
       "      <td>2016-01-15 01:00:00</td>\n",
       "      <td>6.478583</td>\n",
       "      <td>6.161113</td>\n",
       "      <td>2.266033</td>\n",
       "      <td>35.753385</td>\n",
       "      <td>525.290581</td>\n",
       "      <td>57.278666</td>\n",
       "      <td>11.971193</td>\n",
       "      <td>6.005766</td>\n",
       "      <td>1000.286398</td>\n",
       "      <td>-400.065196</td>\n",
       "      <td>1600.754587</td>\n",
       "      <td>-449.953435</td>\n",
       "      <td>1600.479580</td>\n",
       "      <td>-449.830646</td>\n",
       "      <td>1600.527589</td>\n",
       "      <td>-449.953649</td>\n",
       "      <td>1399.227084</td>\n",
       "      <td>-450.869848</td>\n",
       "      <td>1399.719514</td>\n",
       "      <td>-450.119001</td>\n",
       "      <td>11.996163</td>\n",
       "      <td>6.012594</td>\n",
       "      <td>42050.861809</td>\n",
       "      <td>3498.370979</td>\n",
       "      <td>3489.981857</td>\n",
       "      <td>2.858998</td>\n",
       "      <td>20.050975</td>\n",
       "      <td>11.615865</td>\n",
       "      <td>7.278807</td>\n",
       "      <td>28.067063</td>\n",
       "      <td>86.843261</td>\n",
       "      <td>1.184827</td>\n",
       "      <td>4.955378</td>\n",
       "      <td>0.536689</td>\n",
       "      <td>18.965234</td>\n",
       "      <td>125.629232</td>\n",
       "      <td>10.296251</td>\n",
       "      <td>7.25</td>\n",
       "      <td>1.002663</td>\n",
       "      <td>1576.166671</td>\n",
       "      <td>-500.904965</td>\n",
       "      <td>1575.950626</td>\n",
       "      <td>-499.865889</td>\n",
       "      <td>1575.994189</td>\n",
       "      <td>-499.315107</td>\n",
       "      <td>1574.479259</td>\n",
       "      <td>-498.931665</td>\n",
       "      <td>34.118526</td>\n",
       "      <td>8.558743</td>\n",
       "      <td>10.497069</td>\n",
       "      <td>19.369147</td>\n",
       "      <td>2.353017</td>\n",
       "      <td>16.250511</td>\n",
       "      <td>3.049646</td>\n",
       "      <td>6.733907</td>\n",
       "      <td>25.880539</td>\n",
       "      <td>-499.989656</td>\n",
       "      <td>23.889530</td>\n",
       "      <td>-500.372428</td>\n",
       "      <td>23.970550</td>\n",
       "      <td>-500.085473</td>\n",
       "      <td>22.085714</td>\n",
       "      <td>-499.446897</td>\n",
       "      <td>13.992281</td>\n",
       "      <td>-505.503262</td>\n",
       "      <td>11.950531</td>\n",
       "      <td>-501.331529</td>\n",
       "      <td>10.039245</td>\n",
       "      <td>-500.169983</td>\n",
       "      <td>7.984757</td>\n",
       "      <td>-500.582168</td>\n",
       "      <td>13.998353</td>\n",
       "      <td>-599.787184</td>\n",
       "      <td>2.488248</td>\n",
       "      <td>14.265474</td>\n",
       "      <td>4.592547</td>\n",
       "      <td>9.001494</td>\n",
       "      <td>42.701629</td>\n",
       "      <td>6.029369</td>\n",
       "      <td>9.968944</td>\n",
       "      <td>5.257781</td>\n",
       "      <td>69.266198</td>\n",
       "      <td>2.224930</td>\n",
       "      <td>10.462676</td>\n",
       "      <td>0.927452</td>\n",
       "      <td>16.634514</td>\n",
       "    </tr>\n",
       "    <tr>\n",
       "      <th>2</th>\n",
       "      <td>2016-01-15 02:00:00</td>\n",
       "      <td>6.362222</td>\n",
       "      <td>6.116455</td>\n",
       "      <td>2.159622</td>\n",
       "      <td>35.971630</td>\n",
       "      <td>530.026610</td>\n",
       "      <td>57.510649</td>\n",
       "      <td>11.920603</td>\n",
       "      <td>6.197377</td>\n",
       "      <td>999.719565</td>\n",
       "      <td>-400.074028</td>\n",
       "      <td>1599.337330</td>\n",
       "      <td>-450.008530</td>\n",
       "      <td>1599.672797</td>\n",
       "      <td>-449.954491</td>\n",
       "      <td>1599.849325</td>\n",
       "      <td>-449.954185</td>\n",
       "      <td>1399.180945</td>\n",
       "      <td>-449.937588</td>\n",
       "      <td>1400.316682</td>\n",
       "      <td>-450.527147</td>\n",
       "      <td>11.920305</td>\n",
       "      <td>6.204633</td>\n",
       "      <td>42018.101184</td>\n",
       "      <td>3495.348910</td>\n",
       "      <td>3502.359819</td>\n",
       "      <td>2.945989</td>\n",
       "      <td>19.737170</td>\n",
       "      <td>11.695753</td>\n",
       "      <td>7.216833</td>\n",
       "      <td>27.454037</td>\n",
       "      <td>86.842308</td>\n",
       "      <td>1.162562</td>\n",
       "      <td>4.843460</td>\n",
       "      <td>0.546416</td>\n",
       "      <td>18.808533</td>\n",
       "      <td>123.819808</td>\n",
       "      <td>11.316280</td>\n",
       "      <td>7.25</td>\n",
       "      <td>0.991265</td>\n",
       "      <td>1601.556163</td>\n",
       "      <td>-499.997791</td>\n",
       "      <td>1600.386685</td>\n",
       "      <td>-500.607762</td>\n",
       "      <td>1602.003542</td>\n",
       "      <td>-500.870069</td>\n",
       "      <td>1599.541515</td>\n",
       "      <td>-499.827444</td>\n",
       "      <td>33.969464</td>\n",
       "      <td>8.603505</td>\n",
       "      <td>10.354494</td>\n",
       "      <td>19.167579</td>\n",
       "      <td>2.416800</td>\n",
       "      <td>16.491823</td>\n",
       "      <td>3.124664</td>\n",
       "      <td>6.471768</td>\n",
       "      <td>26.005245</td>\n",
       "      <td>-499.929616</td>\n",
       "      <td>23.886657</td>\n",
       "      <td>-499.951928</td>\n",
       "      <td>23.913535</td>\n",
       "      <td>-499.442343</td>\n",
       "      <td>23.957717</td>\n",
       "      <td>-499.901982</td>\n",
       "      <td>14.015015</td>\n",
       "      <td>-502.520901</td>\n",
       "      <td>11.912783</td>\n",
       "      <td>-501.133383</td>\n",
       "      <td>10.070913</td>\n",
       "      <td>-500.129135</td>\n",
       "      <td>8.013877</td>\n",
       "      <td>-500.517572</td>\n",
       "      <td>14.028663</td>\n",
       "      <td>-601.427363</td>\n",
       "      <td>2.458187</td>\n",
       "      <td>14.115662</td>\n",
       "      <td>4.624775</td>\n",
       "      <td>8.842896</td>\n",
       "      <td>42.657501</td>\n",
       "      <td>6.055926</td>\n",
       "      <td>10.213995</td>\n",
       "      <td>5.383759</td>\n",
       "      <td>68.116445</td>\n",
       "      <td>2.257889</td>\n",
       "      <td>10.507046</td>\n",
       "      <td>0.953716</td>\n",
       "      <td>16.208849</td>\n",
       "    </tr>\n",
       "  </tbody>\n",
       "</table>\n",
       "</div>"
      ],
      "text/plain": [
       "                  date  rougher.input.feed_au  rougher.input.feed_ag  \\\n",
       "0  2016-01-15 00:00:00               6.486150               6.100378   \n",
       "1  2016-01-15 01:00:00               6.478583               6.161113   \n",
       "2  2016-01-15 02:00:00               6.362222               6.116455   \n",
       "\n",
       "   rougher.input.feed_pb  rougher.input.feed_sol  rougher.input.feed_rate  \\\n",
       "0               2.284912               36.808594               523.546326   \n",
       "1               2.266033               35.753385               525.290581   \n",
       "2               2.159622               35.971630               530.026610   \n",
       "\n",
       "   rougher.input.feed_size  rougher.input.floatbank10_sulfate  \\\n",
       "0                55.486599                          11.986616   \n",
       "1                57.278666                          11.971193   \n",
       "2                57.510649                          11.920603   \n",
       "\n",
       "   rougher.input.floatbank10_xanthate  rougher.state.floatbank10_a_air  \\\n",
       "0                            6.007990                       999.706909   \n",
       "1                            6.005766                      1000.286398   \n",
       "2                            6.197377                       999.719565   \n",
       "\n",
       "   rougher.state.floatbank10_a_level  rougher.state.floatbank10_b_air  \\\n",
       "0                        -404.066986                      1603.011353   \n",
       "1                        -400.065196                      1600.754587   \n",
       "2                        -400.074028                      1599.337330   \n",
       "\n",
       "   rougher.state.floatbank10_b_level  rougher.state.floatbank10_c_air  \\\n",
       "0                        -434.715027                      1602.375000   \n",
       "1                        -449.953435                      1600.479580   \n",
       "2                        -450.008530                      1599.672797   \n",
       "\n",
       "   rougher.state.floatbank10_c_level  rougher.state.floatbank10_d_air  \\\n",
       "0                        -442.204468                      1598.937256   \n",
       "1                        -449.830646                      1600.527589   \n",
       "2                        -449.954491                      1599.849325   \n",
       "\n",
       "   rougher.state.floatbank10_d_level  rougher.state.floatbank10_e_air  \\\n",
       "0                        -451.294128                      1404.472046   \n",
       "1                        -449.953649                      1399.227084   \n",
       "2                        -449.954185                      1399.180945   \n",
       "\n",
       "   rougher.state.floatbank10_e_level  rougher.state.floatbank10_f_air  \\\n",
       "0                        -455.462982                      1416.354980   \n",
       "1                        -450.869848                      1399.719514   \n",
       "2                        -449.937588                      1400.316682   \n",
       "\n",
       "   rougher.state.floatbank10_f_level  rougher.input.floatbank11_sulfate  \\\n",
       "0                        -451.939636                          11.836743   \n",
       "1                        -450.119001                          11.996163   \n",
       "2                        -450.527147                          11.920305   \n",
       "\n",
       "   rougher.input.floatbank11_xanthate  \\\n",
       "0                            6.005818   \n",
       "1                            6.012594   \n",
       "2                            6.204633   \n",
       "\n",
       "   rougher.calculation.sulfate_to_au_concentrate  \\\n",
       "0                                   41885.707031   \n",
       "1                                   42050.861809   \n",
       "2                                   42018.101184   \n",
       "\n",
       "   rougher.calculation.floatbank10_sulfate_to_au_feed  \\\n",
       "0                                        3481.779053    \n",
       "1                                        3498.370979    \n",
       "2                                        3495.348910    \n",
       "\n",
       "   rougher.calculation.floatbank11_sulfate_to_au_feed  \\\n",
       "0                                        3520.337158    \n",
       "1                                        3489.981857    \n",
       "2                                        3502.359819    \n",
       "\n",
       "   rougher.calculation.au_pb_ratio  rougher.output.concentrate_au  \\\n",
       "0                         2.838687                      19.793808   \n",
       "1                         2.858998                      20.050975   \n",
       "2                         2.945989                      19.737170   \n",
       "\n",
       "   rougher.output.concentrate_ag  rougher.output.concentrate_pb  \\\n",
       "0                      11.500771                       7.101074   \n",
       "1                      11.615865                       7.278807   \n",
       "2                      11.695753                       7.216833   \n",
       "\n",
       "   rougher.output.concentrate_sol  rougher.output.recovery  \\\n",
       "0                       28.029297                87.107763   \n",
       "1                       28.067063                86.843261   \n",
       "2                       27.454037                86.842308   \n",
       "\n",
       "   rougher.output.tail_au  rougher.output.tail_ag  rougher.output.tail_pb  \\\n",
       "0                1.170244                5.008018                0.508728   \n",
       "1                1.184827                4.955378                0.536689   \n",
       "2                1.162562                4.843460                0.546416   \n",
       "\n",
       "   rougher.output.tail_sol  primary_cleaner.input.sulfate  \\\n",
       "0                19.154297                     127.092003   \n",
       "1                18.965234                     125.629232   \n",
       "2                18.808533                     123.819808   \n",
       "\n",
       "   primary_cleaner.input.depressant  primary_cleaner.input.feed_size  \\\n",
       "0                         10.128295                             7.25   \n",
       "1                         10.296251                             7.25   \n",
       "2                         11.316280                             7.25   \n",
       "\n",
       "   primary_cleaner.input.xanthate  primary_cleaner.state.floatbank8_a_air  \\\n",
       "0                        0.988759                             1549.775757   \n",
       "1                        1.002663                             1576.166671   \n",
       "2                        0.991265                             1601.556163   \n",
       "\n",
       "   primary_cleaner.state.floatbank8_a_level  \\\n",
       "0                               -498.912140   \n",
       "1                               -500.904965   \n",
       "2                               -499.997791   \n",
       "\n",
       "   primary_cleaner.state.floatbank8_b_air  \\\n",
       "0                             1551.434204   \n",
       "1                             1575.950626   \n",
       "2                             1600.386685   \n",
       "\n",
       "   primary_cleaner.state.floatbank8_b_level  \\\n",
       "0                               -516.403442   \n",
       "1                               -499.865889   \n",
       "2                               -500.607762   \n",
       "\n",
       "   primary_cleaner.state.floatbank8_c_air  \\\n",
       "0                             1549.873901   \n",
       "1                             1575.994189   \n",
       "2                             1602.003542   \n",
       "\n",
       "   primary_cleaner.state.floatbank8_c_level  \\\n",
       "0                               -498.666595   \n",
       "1                               -499.315107   \n",
       "2                               -500.870069   \n",
       "\n",
       "   primary_cleaner.state.floatbank8_d_air  \\\n",
       "0                             1554.367432   \n",
       "1                             1574.479259   \n",
       "2                             1599.541515   \n",
       "\n",
       "   primary_cleaner.state.floatbank8_d_level  \\\n",
       "0                               -493.428131   \n",
       "1                               -498.931665   \n",
       "2                               -499.827444   \n",
       "\n",
       "   primary_cleaner.output.concentrate_au  \\\n",
       "0                              34.174427   \n",
       "1                              34.118526   \n",
       "2                              33.969464   \n",
       "\n",
       "   primary_cleaner.output.concentrate_ag  \\\n",
       "0                               8.547551   \n",
       "1                               8.558743   \n",
       "2                               8.603505   \n",
       "\n",
       "   primary_cleaner.output.concentrate_pb  \\\n",
       "0                              10.389648   \n",
       "1                              10.497069   \n",
       "2                              10.354494   \n",
       "\n",
       "   primary_cleaner.output.concentrate_sol  primary_cleaner.output.tail_au  \\\n",
       "0                               19.529297                        2.106679   \n",
       "1                               19.369147                        2.353017   \n",
       "2                               19.167579                        2.416800   \n",
       "\n",
       "   primary_cleaner.output.tail_ag  primary_cleaner.output.tail_pb  \\\n",
       "0                       14.936526                        2.534912   \n",
       "1                       16.250511                        3.049646   \n",
       "2                       16.491823                        3.124664   \n",
       "\n",
       "   primary_cleaner.output.tail_sol  secondary_cleaner.state.floatbank2_a_air  \\\n",
       "0                         7.476074                                 25.853109   \n",
       "1                         6.733907                                 25.880539   \n",
       "2                         6.471768                                 26.005245   \n",
       "\n",
       "   secondary_cleaner.state.floatbank2_a_level  \\\n",
       "0                                 -498.526489   \n",
       "1                                 -499.989656   \n",
       "2                                 -499.929616   \n",
       "\n",
       "   secondary_cleaner.state.floatbank2_b_air  \\\n",
       "0                                 23.893660   \n",
       "1                                 23.889530   \n",
       "2                                 23.886657   \n",
       "\n",
       "   secondary_cleaner.state.floatbank2_b_level  \\\n",
       "0                                 -501.406281   \n",
       "1                                 -500.372428   \n",
       "2                                 -499.951928   \n",
       "\n",
       "   secondary_cleaner.state.floatbank3_a_air  \\\n",
       "0                                 23.961798   \n",
       "1                                 23.970550   \n",
       "2                                 23.913535   \n",
       "\n",
       "   secondary_cleaner.state.floatbank3_a_level  \\\n",
       "0                                 -495.262817   \n",
       "1                                 -500.085473   \n",
       "2                                 -499.442343   \n",
       "\n",
       "   secondary_cleaner.state.floatbank3_b_air  \\\n",
       "0                                 21.940409   \n",
       "1                                 22.085714   \n",
       "2                                 23.957717   \n",
       "\n",
       "   secondary_cleaner.state.floatbank3_b_level  \\\n",
       "0                                 -499.340973   \n",
       "1                                 -499.446897   \n",
       "2                                 -499.901982   \n",
       "\n",
       "   secondary_cleaner.state.floatbank4_a_air  \\\n",
       "0                                 14.016835   \n",
       "1                                 13.992281   \n",
       "2                                 14.015015   \n",
       "\n",
       "   secondary_cleaner.state.floatbank4_a_level  \\\n",
       "0                                 -502.488007   \n",
       "1                                 -505.503262   \n",
       "2                                 -502.520901   \n",
       "\n",
       "   secondary_cleaner.state.floatbank4_b_air  \\\n",
       "0                                 12.099931   \n",
       "1                                 11.950531   \n",
       "2                                 11.912783   \n",
       "\n",
       "   secondary_cleaner.state.floatbank4_b_level  \\\n",
       "0                                 -504.715942   \n",
       "1                                 -501.331529   \n",
       "2                                 -501.133383   \n",
       "\n",
       "   secondary_cleaner.state.floatbank5_a_air  \\\n",
       "0                                  9.925633   \n",
       "1                                 10.039245   \n",
       "2                                 10.070913   \n",
       "\n",
       "   secondary_cleaner.state.floatbank5_a_level  \\\n",
       "0                                 -498.310211   \n",
       "1                                 -500.169983   \n",
       "2                                 -500.129135   \n",
       "\n",
       "   secondary_cleaner.state.floatbank5_b_air  \\\n",
       "0                                  8.079666   \n",
       "1                                  7.984757   \n",
       "2                                  8.013877   \n",
       "\n",
       "   secondary_cleaner.state.floatbank5_b_level  \\\n",
       "0                                 -500.470978   \n",
       "1                                 -500.582168   \n",
       "2                                 -500.517572   \n",
       "\n",
       "   secondary_cleaner.state.floatbank6_a_air  \\\n",
       "0                                 14.151341   \n",
       "1                                 13.998353   \n",
       "2                                 14.028663   \n",
       "\n",
       "   secondary_cleaner.state.floatbank6_a_level  \\\n",
       "0                                 -605.841980   \n",
       "1                                 -599.787184   \n",
       "2                                 -601.427363   \n",
       "\n",
       "   secondary_cleaner.output.tail_au  secondary_cleaner.output.tail_ag  \\\n",
       "0                          2.606185                         14.500184   \n",
       "1                          2.488248                         14.265474   \n",
       "2                          2.458187                         14.115662   \n",
       "\n",
       "   secondary_cleaner.output.tail_pb  secondary_cleaner.output.tail_sol  \\\n",
       "0                          4.694824                           8.764648   \n",
       "1                          4.592547                           9.001494   \n",
       "2                          4.624775                           8.842896   \n",
       "\n",
       "   final.output.concentrate_au  final.output.concentrate_ag  \\\n",
       "0                    42.192020                     6.055403   \n",
       "1                    42.701629                     6.029369   \n",
       "2                    42.657501                     6.055926   \n",
       "\n",
       "   final.output.concentrate_pb  final.output.concentrate_sol  \\\n",
       "0                     9.889648                      5.507324   \n",
       "1                     9.968944                      5.257781   \n",
       "2                    10.213995                      5.383759   \n",
       "\n",
       "   final.output.recovery  final.output.tail_au  final.output.tail_ag  \\\n",
       "0              70.541216              2.143149             10.411962   \n",
       "1              69.266198              2.224930             10.462676   \n",
       "2              68.116445              2.257889             10.507046   \n",
       "\n",
       "   final.output.tail_pb  final.output.tail_sol  \n",
       "0              0.895447              16.904297  \n",
       "1              0.927452              16.634514  \n",
       "2              0.953716              16.208849  "
      ]
     },
     "execution_count": 4,
     "metadata": {},
     "output_type": "execute_result"
    }
   ],
   "source": [
    "train.head(3)"
   ]
  },
  {
   "cell_type": "code",
   "execution_count": 5,
   "metadata": {},
   "outputs": [
    {
     "data": {
      "text/html": [
       "<div>\n",
       "<style scoped>\n",
       "    .dataframe tbody tr th:only-of-type {\n",
       "        vertical-align: middle;\n",
       "    }\n",
       "\n",
       "    .dataframe tbody tr th {\n",
       "        vertical-align: top;\n",
       "    }\n",
       "\n",
       "    .dataframe thead th {\n",
       "        text-align: right;\n",
       "    }\n",
       "</style>\n",
       "<table border=\"1\" class=\"dataframe\">\n",
       "  <thead>\n",
       "    <tr style=\"text-align: right;\">\n",
       "      <th></th>\n",
       "      <th>date</th>\n",
       "      <th>rougher.input.feed_au</th>\n",
       "      <th>rougher.input.feed_ag</th>\n",
       "      <th>rougher.input.feed_pb</th>\n",
       "      <th>rougher.input.feed_sol</th>\n",
       "      <th>rougher.input.feed_rate</th>\n",
       "      <th>rougher.input.feed_size</th>\n",
       "      <th>rougher.input.floatbank10_sulfate</th>\n",
       "      <th>rougher.input.floatbank10_xanthate</th>\n",
       "      <th>rougher.state.floatbank10_a_air</th>\n",
       "      <th>rougher.state.floatbank10_a_level</th>\n",
       "      <th>rougher.state.floatbank10_b_air</th>\n",
       "      <th>rougher.state.floatbank10_b_level</th>\n",
       "      <th>rougher.state.floatbank10_c_air</th>\n",
       "      <th>rougher.state.floatbank10_c_level</th>\n",
       "      <th>rougher.state.floatbank10_d_air</th>\n",
       "      <th>rougher.state.floatbank10_d_level</th>\n",
       "      <th>rougher.state.floatbank10_e_air</th>\n",
       "      <th>rougher.state.floatbank10_e_level</th>\n",
       "      <th>rougher.state.floatbank10_f_air</th>\n",
       "      <th>rougher.state.floatbank10_f_level</th>\n",
       "      <th>rougher.input.floatbank11_sulfate</th>\n",
       "      <th>rougher.input.floatbank11_xanthate</th>\n",
       "      <th>primary_cleaner.input.sulfate</th>\n",
       "      <th>primary_cleaner.input.depressant</th>\n",
       "      <th>primary_cleaner.input.feed_size</th>\n",
       "      <th>primary_cleaner.input.xanthate</th>\n",
       "      <th>primary_cleaner.state.floatbank8_a_air</th>\n",
       "      <th>primary_cleaner.state.floatbank8_a_level</th>\n",
       "      <th>primary_cleaner.state.floatbank8_b_air</th>\n",
       "      <th>primary_cleaner.state.floatbank8_b_level</th>\n",
       "      <th>primary_cleaner.state.floatbank8_c_air</th>\n",
       "      <th>primary_cleaner.state.floatbank8_c_level</th>\n",
       "      <th>primary_cleaner.state.floatbank8_d_air</th>\n",
       "      <th>primary_cleaner.state.floatbank8_d_level</th>\n",
       "      <th>secondary_cleaner.state.floatbank2_a_air</th>\n",
       "      <th>secondary_cleaner.state.floatbank2_a_level</th>\n",
       "      <th>secondary_cleaner.state.floatbank2_b_air</th>\n",
       "      <th>secondary_cleaner.state.floatbank2_b_level</th>\n",
       "      <th>secondary_cleaner.state.floatbank3_a_air</th>\n",
       "      <th>secondary_cleaner.state.floatbank3_a_level</th>\n",
       "      <th>secondary_cleaner.state.floatbank3_b_air</th>\n",
       "      <th>secondary_cleaner.state.floatbank3_b_level</th>\n",
       "      <th>secondary_cleaner.state.floatbank4_a_air</th>\n",
       "      <th>secondary_cleaner.state.floatbank4_a_level</th>\n",
       "      <th>secondary_cleaner.state.floatbank4_b_air</th>\n",
       "      <th>secondary_cleaner.state.floatbank4_b_level</th>\n",
       "      <th>secondary_cleaner.state.floatbank5_a_air</th>\n",
       "      <th>secondary_cleaner.state.floatbank5_a_level</th>\n",
       "      <th>secondary_cleaner.state.floatbank5_b_air</th>\n",
       "      <th>secondary_cleaner.state.floatbank5_b_level</th>\n",
       "      <th>secondary_cleaner.state.floatbank6_a_air</th>\n",
       "      <th>secondary_cleaner.state.floatbank6_a_level</th>\n",
       "    </tr>\n",
       "  </thead>\n",
       "  <tbody>\n",
       "    <tr>\n",
       "      <th>0</th>\n",
       "      <td>2017-12-09 14:59:59</td>\n",
       "      <td>4.365491</td>\n",
       "      <td>6.158718</td>\n",
       "      <td>3.875727</td>\n",
       "      <td>39.135119</td>\n",
       "      <td>555.820208</td>\n",
       "      <td>94.544358</td>\n",
       "      <td>6.146982</td>\n",
       "      <td>9.308612</td>\n",
       "      <td>1196.238112</td>\n",
       "      <td>-299.862743</td>\n",
       "      <td>1147.248241</td>\n",
       "      <td>-500.363165</td>\n",
       "      <td>1047.279065</td>\n",
       "      <td>-500.354091</td>\n",
       "      <td>948.756608</td>\n",
       "      <td>-498.439416</td>\n",
       "      <td>849.441918</td>\n",
       "      <td>-499.255503</td>\n",
       "      <td>850.112246</td>\n",
       "      <td>-499.407112</td>\n",
       "      <td>6.168939</td>\n",
       "      <td>9.309852</td>\n",
       "      <td>95.248427</td>\n",
       "      <td>8.078957</td>\n",
       "      <td>6.5</td>\n",
       "      <td>1.283045</td>\n",
       "      <td>1648.759906</td>\n",
       "      <td>-399.862053</td>\n",
       "      <td>1650.135395</td>\n",
       "      <td>-399.957321</td>\n",
       "      <td>1648.831890</td>\n",
       "      <td>-400.586116</td>\n",
       "      <td>1649.464582</td>\n",
       "      <td>-400.673303</td>\n",
       "      <td>34.940919</td>\n",
       "      <td>-500.150510</td>\n",
       "      <td>30.031867</td>\n",
       "      <td>-500.328335</td>\n",
       "      <td>26.033990</td>\n",
       "      <td>-500.147792</td>\n",
       "      <td>22.952306</td>\n",
       "      <td>-500.037678</td>\n",
       "      <td>23.018622</td>\n",
       "      <td>-500.492702</td>\n",
       "      <td>20.020205</td>\n",
       "      <td>-500.220296</td>\n",
       "      <td>17.963512</td>\n",
       "      <td>-499.939490</td>\n",
       "      <td>12.990306</td>\n",
       "      <td>-500.080993</td>\n",
       "      <td>19.990336</td>\n",
       "      <td>-499.191575</td>\n",
       "    </tr>\n",
       "    <tr>\n",
       "      <th>1</th>\n",
       "      <td>2017-12-09 15:59:59</td>\n",
       "      <td>4.362781</td>\n",
       "      <td>6.048130</td>\n",
       "      <td>3.902537</td>\n",
       "      <td>39.713906</td>\n",
       "      <td>544.731687</td>\n",
       "      <td>123.742430</td>\n",
       "      <td>6.210119</td>\n",
       "      <td>9.297709</td>\n",
       "      <td>1201.904177</td>\n",
       "      <td>-299.907308</td>\n",
       "      <td>1154.087804</td>\n",
       "      <td>-500.036580</td>\n",
       "      <td>1054.009756</td>\n",
       "      <td>-500.237335</td>\n",
       "      <td>944.138793</td>\n",
       "      <td>-496.866953</td>\n",
       "      <td>851.589767</td>\n",
       "      <td>-499.040466</td>\n",
       "      <td>851.345606</td>\n",
       "      <td>-499.122561</td>\n",
       "      <td>6.209517</td>\n",
       "      <td>9.297194</td>\n",
       "      <td>98.880538</td>\n",
       "      <td>7.984164</td>\n",
       "      <td>6.5</td>\n",
       "      <td>1.241969</td>\n",
       "      <td>1646.547763</td>\n",
       "      <td>-398.977083</td>\n",
       "      <td>1648.212240</td>\n",
       "      <td>-400.383265</td>\n",
       "      <td>1648.917387</td>\n",
       "      <td>-399.521344</td>\n",
       "      <td>1651.498591</td>\n",
       "      <td>-399.745329</td>\n",
       "      <td>34.980742</td>\n",
       "      <td>-498.131002</td>\n",
       "      <td>29.968453</td>\n",
       "      <td>-586.013330</td>\n",
       "      <td>25.971737</td>\n",
       "      <td>-499.608392</td>\n",
       "      <td>22.958448</td>\n",
       "      <td>-499.821308</td>\n",
       "      <td>23.024963</td>\n",
       "      <td>-501.153409</td>\n",
       "      <td>20.054122</td>\n",
       "      <td>-500.314711</td>\n",
       "      <td>17.979515</td>\n",
       "      <td>-499.272871</td>\n",
       "      <td>12.992404</td>\n",
       "      <td>-499.976268</td>\n",
       "      <td>20.013986</td>\n",
       "      <td>-500.625471</td>\n",
       "    </tr>\n",
       "    <tr>\n",
       "      <th>2</th>\n",
       "      <td>2017-12-09 16:59:59</td>\n",
       "      <td>5.081681</td>\n",
       "      <td>6.082745</td>\n",
       "      <td>4.564078</td>\n",
       "      <td>37.208683</td>\n",
       "      <td>558.155110</td>\n",
       "      <td>82.610855</td>\n",
       "      <td>7.363824</td>\n",
       "      <td>9.003562</td>\n",
       "      <td>1200.826926</td>\n",
       "      <td>-300.124116</td>\n",
       "      <td>1150.754676</td>\n",
       "      <td>-499.986009</td>\n",
       "      <td>1049.182824</td>\n",
       "      <td>-500.014696</td>\n",
       "      <td>948.085464</td>\n",
       "      <td>-499.997003</td>\n",
       "      <td>850.170086</td>\n",
       "      <td>-500.270334</td>\n",
       "      <td>849.557905</td>\n",
       "      <td>-500.198702</td>\n",
       "      <td>7.358308</td>\n",
       "      <td>9.000624</td>\n",
       "      <td>119.497545</td>\n",
       "      <td>8.003752</td>\n",
       "      <td>6.5</td>\n",
       "      <td>1.259741</td>\n",
       "      <td>1647.368779</td>\n",
       "      <td>-399.788506</td>\n",
       "      <td>1648.395206</td>\n",
       "      <td>-400.166490</td>\n",
       "      <td>1648.953828</td>\n",
       "      <td>-400.468641</td>\n",
       "      <td>1649.821569</td>\n",
       "      <td>-400.071884</td>\n",
       "      <td>34.952967</td>\n",
       "      <td>-501.204647</td>\n",
       "      <td>29.927025</td>\n",
       "      <td>-500.106628</td>\n",
       "      <td>25.978253</td>\n",
       "      <td>-499.890060</td>\n",
       "      <td>23.004376</td>\n",
       "      <td>-500.014529</td>\n",
       "      <td>22.993827</td>\n",
       "      <td>-501.559663</td>\n",
       "      <td>20.029144</td>\n",
       "      <td>-500.000662</td>\n",
       "      <td>18.012723</td>\n",
       "      <td>-500.024764</td>\n",
       "      <td>13.016445</td>\n",
       "      <td>-500.058432</td>\n",
       "      <td>19.973767</td>\n",
       "      <td>-501.394155</td>\n",
       "    </tr>\n",
       "  </tbody>\n",
       "</table>\n",
       "</div>"
      ],
      "text/plain": [
       "                  date  rougher.input.feed_au  rougher.input.feed_ag  \\\n",
       "0  2017-12-09 14:59:59               4.365491               6.158718   \n",
       "1  2017-12-09 15:59:59               4.362781               6.048130   \n",
       "2  2017-12-09 16:59:59               5.081681               6.082745   \n",
       "\n",
       "   rougher.input.feed_pb  rougher.input.feed_sol  rougher.input.feed_rate  \\\n",
       "0               3.875727               39.135119               555.820208   \n",
       "1               3.902537               39.713906               544.731687   \n",
       "2               4.564078               37.208683               558.155110   \n",
       "\n",
       "   rougher.input.feed_size  rougher.input.floatbank10_sulfate  \\\n",
       "0                94.544358                           6.146982   \n",
       "1               123.742430                           6.210119   \n",
       "2                82.610855                           7.363824   \n",
       "\n",
       "   rougher.input.floatbank10_xanthate  rougher.state.floatbank10_a_air  \\\n",
       "0                            9.308612                      1196.238112   \n",
       "1                            9.297709                      1201.904177   \n",
       "2                            9.003562                      1200.826926   \n",
       "\n",
       "   rougher.state.floatbank10_a_level  rougher.state.floatbank10_b_air  \\\n",
       "0                        -299.862743                      1147.248241   \n",
       "1                        -299.907308                      1154.087804   \n",
       "2                        -300.124116                      1150.754676   \n",
       "\n",
       "   rougher.state.floatbank10_b_level  rougher.state.floatbank10_c_air  \\\n",
       "0                        -500.363165                      1047.279065   \n",
       "1                        -500.036580                      1054.009756   \n",
       "2                        -499.986009                      1049.182824   \n",
       "\n",
       "   rougher.state.floatbank10_c_level  rougher.state.floatbank10_d_air  \\\n",
       "0                        -500.354091                       948.756608   \n",
       "1                        -500.237335                       944.138793   \n",
       "2                        -500.014696                       948.085464   \n",
       "\n",
       "   rougher.state.floatbank10_d_level  rougher.state.floatbank10_e_air  \\\n",
       "0                        -498.439416                       849.441918   \n",
       "1                        -496.866953                       851.589767   \n",
       "2                        -499.997003                       850.170086   \n",
       "\n",
       "   rougher.state.floatbank10_e_level  rougher.state.floatbank10_f_air  \\\n",
       "0                        -499.255503                       850.112246   \n",
       "1                        -499.040466                       851.345606   \n",
       "2                        -500.270334                       849.557905   \n",
       "\n",
       "   rougher.state.floatbank10_f_level  rougher.input.floatbank11_sulfate  \\\n",
       "0                        -499.407112                           6.168939   \n",
       "1                        -499.122561                           6.209517   \n",
       "2                        -500.198702                           7.358308   \n",
       "\n",
       "   rougher.input.floatbank11_xanthate  primary_cleaner.input.sulfate  \\\n",
       "0                            9.309852                      95.248427   \n",
       "1                            9.297194                      98.880538   \n",
       "2                            9.000624                     119.497545   \n",
       "\n",
       "   primary_cleaner.input.depressant  primary_cleaner.input.feed_size  \\\n",
       "0                          8.078957                              6.5   \n",
       "1                          7.984164                              6.5   \n",
       "2                          8.003752                              6.5   \n",
       "\n",
       "   primary_cleaner.input.xanthate  primary_cleaner.state.floatbank8_a_air  \\\n",
       "0                        1.283045                             1648.759906   \n",
       "1                        1.241969                             1646.547763   \n",
       "2                        1.259741                             1647.368779   \n",
       "\n",
       "   primary_cleaner.state.floatbank8_a_level  \\\n",
       "0                               -399.862053   \n",
       "1                               -398.977083   \n",
       "2                               -399.788506   \n",
       "\n",
       "   primary_cleaner.state.floatbank8_b_air  \\\n",
       "0                             1650.135395   \n",
       "1                             1648.212240   \n",
       "2                             1648.395206   \n",
       "\n",
       "   primary_cleaner.state.floatbank8_b_level  \\\n",
       "0                               -399.957321   \n",
       "1                               -400.383265   \n",
       "2                               -400.166490   \n",
       "\n",
       "   primary_cleaner.state.floatbank8_c_air  \\\n",
       "0                             1648.831890   \n",
       "1                             1648.917387   \n",
       "2                             1648.953828   \n",
       "\n",
       "   primary_cleaner.state.floatbank8_c_level  \\\n",
       "0                               -400.586116   \n",
       "1                               -399.521344   \n",
       "2                               -400.468641   \n",
       "\n",
       "   primary_cleaner.state.floatbank8_d_air  \\\n",
       "0                             1649.464582   \n",
       "1                             1651.498591   \n",
       "2                             1649.821569   \n",
       "\n",
       "   primary_cleaner.state.floatbank8_d_level  \\\n",
       "0                               -400.673303   \n",
       "1                               -399.745329   \n",
       "2                               -400.071884   \n",
       "\n",
       "   secondary_cleaner.state.floatbank2_a_air  \\\n",
       "0                                 34.940919   \n",
       "1                                 34.980742   \n",
       "2                                 34.952967   \n",
       "\n",
       "   secondary_cleaner.state.floatbank2_a_level  \\\n",
       "0                                 -500.150510   \n",
       "1                                 -498.131002   \n",
       "2                                 -501.204647   \n",
       "\n",
       "   secondary_cleaner.state.floatbank2_b_air  \\\n",
       "0                                 30.031867   \n",
       "1                                 29.968453   \n",
       "2                                 29.927025   \n",
       "\n",
       "   secondary_cleaner.state.floatbank2_b_level  \\\n",
       "0                                 -500.328335   \n",
       "1                                 -586.013330   \n",
       "2                                 -500.106628   \n",
       "\n",
       "   secondary_cleaner.state.floatbank3_a_air  \\\n",
       "0                                 26.033990   \n",
       "1                                 25.971737   \n",
       "2                                 25.978253   \n",
       "\n",
       "   secondary_cleaner.state.floatbank3_a_level  \\\n",
       "0                                 -500.147792   \n",
       "1                                 -499.608392   \n",
       "2                                 -499.890060   \n",
       "\n",
       "   secondary_cleaner.state.floatbank3_b_air  \\\n",
       "0                                 22.952306   \n",
       "1                                 22.958448   \n",
       "2                                 23.004376   \n",
       "\n",
       "   secondary_cleaner.state.floatbank3_b_level  \\\n",
       "0                                 -500.037678   \n",
       "1                                 -499.821308   \n",
       "2                                 -500.014529   \n",
       "\n",
       "   secondary_cleaner.state.floatbank4_a_air  \\\n",
       "0                                 23.018622   \n",
       "1                                 23.024963   \n",
       "2                                 22.993827   \n",
       "\n",
       "   secondary_cleaner.state.floatbank4_a_level  \\\n",
       "0                                 -500.492702   \n",
       "1                                 -501.153409   \n",
       "2                                 -501.559663   \n",
       "\n",
       "   secondary_cleaner.state.floatbank4_b_air  \\\n",
       "0                                 20.020205   \n",
       "1                                 20.054122   \n",
       "2                                 20.029144   \n",
       "\n",
       "   secondary_cleaner.state.floatbank4_b_level  \\\n",
       "0                                 -500.220296   \n",
       "1                                 -500.314711   \n",
       "2                                 -500.000662   \n",
       "\n",
       "   secondary_cleaner.state.floatbank5_a_air  \\\n",
       "0                                 17.963512   \n",
       "1                                 17.979515   \n",
       "2                                 18.012723   \n",
       "\n",
       "   secondary_cleaner.state.floatbank5_a_level  \\\n",
       "0                                 -499.939490   \n",
       "1                                 -499.272871   \n",
       "2                                 -500.024764   \n",
       "\n",
       "   secondary_cleaner.state.floatbank5_b_air  \\\n",
       "0                                 12.990306   \n",
       "1                                 12.992404   \n",
       "2                                 13.016445   \n",
       "\n",
       "   secondary_cleaner.state.floatbank5_b_level  \\\n",
       "0                                 -500.080993   \n",
       "1                                 -499.976268   \n",
       "2                                 -500.058432   \n",
       "\n",
       "   secondary_cleaner.state.floatbank6_a_air  \\\n",
       "0                                 19.990336   \n",
       "1                                 20.013986   \n",
       "2                                 19.973767   \n",
       "\n",
       "   secondary_cleaner.state.floatbank6_a_level  \n",
       "0                                 -499.191575  \n",
       "1                                 -500.625471  \n",
       "2                                 -501.394155  "
      ]
     },
     "execution_count": 5,
     "metadata": {},
     "output_type": "execute_result"
    }
   ],
   "source": [
    "test.head(3)"
   ]
  },
  {
   "cell_type": "code",
   "execution_count": 6,
   "metadata": {},
   "outputs": [
    {
     "data": {
      "text/html": [
       "<div>\n",
       "<style scoped>\n",
       "    .dataframe tbody tr th:only-of-type {\n",
       "        vertical-align: middle;\n",
       "    }\n",
       "\n",
       "    .dataframe tbody tr th {\n",
       "        vertical-align: top;\n",
       "    }\n",
       "\n",
       "    .dataframe thead th {\n",
       "        text-align: right;\n",
       "    }\n",
       "</style>\n",
       "<table border=\"1\" class=\"dataframe\">\n",
       "  <thead>\n",
       "    <tr style=\"text-align: right;\">\n",
       "      <th></th>\n",
       "      <th>date</th>\n",
       "      <th>rougher.input.feed_au</th>\n",
       "      <th>rougher.input.feed_ag</th>\n",
       "      <th>rougher.input.feed_pb</th>\n",
       "      <th>rougher.input.feed_sol</th>\n",
       "      <th>rougher.input.feed_rate</th>\n",
       "      <th>rougher.input.feed_size</th>\n",
       "      <th>rougher.input.floatbank10_sulfate</th>\n",
       "      <th>rougher.input.floatbank10_xanthate</th>\n",
       "      <th>rougher.state.floatbank10_a_air</th>\n",
       "      <th>rougher.state.floatbank10_a_level</th>\n",
       "      <th>rougher.state.floatbank10_b_air</th>\n",
       "      <th>rougher.state.floatbank10_b_level</th>\n",
       "      <th>rougher.state.floatbank10_c_air</th>\n",
       "      <th>rougher.state.floatbank10_c_level</th>\n",
       "      <th>rougher.state.floatbank10_d_air</th>\n",
       "      <th>rougher.state.floatbank10_d_level</th>\n",
       "      <th>rougher.state.floatbank10_e_air</th>\n",
       "      <th>rougher.state.floatbank10_e_level</th>\n",
       "      <th>rougher.state.floatbank10_f_air</th>\n",
       "      <th>rougher.state.floatbank10_f_level</th>\n",
       "      <th>rougher.input.floatbank11_sulfate</th>\n",
       "      <th>rougher.input.floatbank11_xanthate</th>\n",
       "      <th>rougher.calculation.sulfate_to_au_concentrate</th>\n",
       "      <th>rougher.calculation.floatbank10_sulfate_to_au_feed</th>\n",
       "      <th>rougher.calculation.floatbank11_sulfate_to_au_feed</th>\n",
       "      <th>rougher.calculation.au_pb_ratio</th>\n",
       "      <th>rougher.output.concentrate_au</th>\n",
       "      <th>rougher.output.concentrate_ag</th>\n",
       "      <th>rougher.output.concentrate_pb</th>\n",
       "      <th>rougher.output.concentrate_sol</th>\n",
       "      <th>rougher.output.recovery</th>\n",
       "      <th>rougher.output.tail_au</th>\n",
       "      <th>rougher.output.tail_ag</th>\n",
       "      <th>rougher.output.tail_pb</th>\n",
       "      <th>rougher.output.tail_sol</th>\n",
       "      <th>primary_cleaner.input.sulfate</th>\n",
       "      <th>primary_cleaner.input.depressant</th>\n",
       "      <th>primary_cleaner.input.feed_size</th>\n",
       "      <th>primary_cleaner.input.xanthate</th>\n",
       "      <th>primary_cleaner.state.floatbank8_a_air</th>\n",
       "      <th>primary_cleaner.state.floatbank8_a_level</th>\n",
       "      <th>primary_cleaner.state.floatbank8_b_air</th>\n",
       "      <th>primary_cleaner.state.floatbank8_b_level</th>\n",
       "      <th>primary_cleaner.state.floatbank8_c_air</th>\n",
       "      <th>primary_cleaner.state.floatbank8_c_level</th>\n",
       "      <th>primary_cleaner.state.floatbank8_d_air</th>\n",
       "      <th>primary_cleaner.state.floatbank8_d_level</th>\n",
       "      <th>primary_cleaner.output.concentrate_au</th>\n",
       "      <th>primary_cleaner.output.concentrate_ag</th>\n",
       "      <th>primary_cleaner.output.concentrate_pb</th>\n",
       "      <th>primary_cleaner.output.concentrate_sol</th>\n",
       "      <th>primary_cleaner.output.tail_au</th>\n",
       "      <th>primary_cleaner.output.tail_ag</th>\n",
       "      <th>primary_cleaner.output.tail_pb</th>\n",
       "      <th>primary_cleaner.output.tail_sol</th>\n",
       "      <th>secondary_cleaner.state.floatbank2_a_air</th>\n",
       "      <th>secondary_cleaner.state.floatbank2_a_level</th>\n",
       "      <th>secondary_cleaner.state.floatbank2_b_air</th>\n",
       "      <th>secondary_cleaner.state.floatbank2_b_level</th>\n",
       "      <th>secondary_cleaner.state.floatbank3_a_air</th>\n",
       "      <th>secondary_cleaner.state.floatbank3_a_level</th>\n",
       "      <th>secondary_cleaner.state.floatbank3_b_air</th>\n",
       "      <th>secondary_cleaner.state.floatbank3_b_level</th>\n",
       "      <th>secondary_cleaner.state.floatbank4_a_air</th>\n",
       "      <th>secondary_cleaner.state.floatbank4_a_level</th>\n",
       "      <th>secondary_cleaner.state.floatbank4_b_air</th>\n",
       "      <th>secondary_cleaner.state.floatbank4_b_level</th>\n",
       "      <th>secondary_cleaner.state.floatbank5_a_air</th>\n",
       "      <th>secondary_cleaner.state.floatbank5_a_level</th>\n",
       "      <th>secondary_cleaner.state.floatbank5_b_air</th>\n",
       "      <th>secondary_cleaner.state.floatbank5_b_level</th>\n",
       "      <th>secondary_cleaner.state.floatbank6_a_air</th>\n",
       "      <th>secondary_cleaner.state.floatbank6_a_level</th>\n",
       "      <th>secondary_cleaner.output.tail_au</th>\n",
       "      <th>secondary_cleaner.output.tail_ag</th>\n",
       "      <th>secondary_cleaner.output.tail_pb</th>\n",
       "      <th>secondary_cleaner.output.tail_sol</th>\n",
       "      <th>final.output.concentrate_au</th>\n",
       "      <th>final.output.concentrate_ag</th>\n",
       "      <th>final.output.concentrate_pb</th>\n",
       "      <th>final.output.concentrate_sol</th>\n",
       "      <th>final.output.recovery</th>\n",
       "      <th>final.output.tail_au</th>\n",
       "      <th>final.output.tail_ag</th>\n",
       "      <th>final.output.tail_pb</th>\n",
       "      <th>final.output.tail_sol</th>\n",
       "    </tr>\n",
       "  </thead>\n",
       "  <tbody>\n",
       "    <tr>\n",
       "      <th>0</th>\n",
       "      <td>2016-01-15 00:00:00</td>\n",
       "      <td>6.486150</td>\n",
       "      <td>6.100378</td>\n",
       "      <td>2.284912</td>\n",
       "      <td>36.808594</td>\n",
       "      <td>523.546326</td>\n",
       "      <td>55.486599</td>\n",
       "      <td>11.986616</td>\n",
       "      <td>6.007990</td>\n",
       "      <td>999.706909</td>\n",
       "      <td>-404.066986</td>\n",
       "      <td>1603.011353</td>\n",
       "      <td>-434.715027</td>\n",
       "      <td>1602.375000</td>\n",
       "      <td>-442.204468</td>\n",
       "      <td>1598.937256</td>\n",
       "      <td>-451.294128</td>\n",
       "      <td>1404.472046</td>\n",
       "      <td>-455.462982</td>\n",
       "      <td>1416.354980</td>\n",
       "      <td>-451.939636</td>\n",
       "      <td>11.836743</td>\n",
       "      <td>6.005818</td>\n",
       "      <td>41885.707031</td>\n",
       "      <td>3481.779053</td>\n",
       "      <td>3520.337158</td>\n",
       "      <td>2.838687</td>\n",
       "      <td>19.793808</td>\n",
       "      <td>11.500771</td>\n",
       "      <td>7.101074</td>\n",
       "      <td>28.029297</td>\n",
       "      <td>87.107763</td>\n",
       "      <td>1.170244</td>\n",
       "      <td>5.008018</td>\n",
       "      <td>0.508728</td>\n",
       "      <td>19.154297</td>\n",
       "      <td>127.092003</td>\n",
       "      <td>10.128295</td>\n",
       "      <td>7.25</td>\n",
       "      <td>0.988759</td>\n",
       "      <td>1549.775757</td>\n",
       "      <td>-498.912140</td>\n",
       "      <td>1551.434204</td>\n",
       "      <td>-516.403442</td>\n",
       "      <td>1549.873901</td>\n",
       "      <td>-498.666595</td>\n",
       "      <td>1554.367432</td>\n",
       "      <td>-493.428131</td>\n",
       "      <td>34.174427</td>\n",
       "      <td>8.547551</td>\n",
       "      <td>10.389648</td>\n",
       "      <td>19.529297</td>\n",
       "      <td>2.106679</td>\n",
       "      <td>14.936526</td>\n",
       "      <td>2.534912</td>\n",
       "      <td>7.476074</td>\n",
       "      <td>25.853109</td>\n",
       "      <td>-498.526489</td>\n",
       "      <td>23.893660</td>\n",
       "      <td>-501.406281</td>\n",
       "      <td>23.961798</td>\n",
       "      <td>-495.262817</td>\n",
       "      <td>21.940409</td>\n",
       "      <td>-499.340973</td>\n",
       "      <td>14.016835</td>\n",
       "      <td>-502.488007</td>\n",
       "      <td>12.099931</td>\n",
       "      <td>-504.715942</td>\n",
       "      <td>9.925633</td>\n",
       "      <td>-498.310211</td>\n",
       "      <td>8.079666</td>\n",
       "      <td>-500.470978</td>\n",
       "      <td>14.151341</td>\n",
       "      <td>-605.841980</td>\n",
       "      <td>2.606185</td>\n",
       "      <td>14.500184</td>\n",
       "      <td>4.694824</td>\n",
       "      <td>8.764648</td>\n",
       "      <td>42.192020</td>\n",
       "      <td>6.055403</td>\n",
       "      <td>9.889648</td>\n",
       "      <td>5.507324</td>\n",
       "      <td>70.541216</td>\n",
       "      <td>2.143149</td>\n",
       "      <td>10.411962</td>\n",
       "      <td>0.895447</td>\n",
       "      <td>16.904297</td>\n",
       "    </tr>\n",
       "    <tr>\n",
       "      <th>1</th>\n",
       "      <td>2016-01-15 01:00:00</td>\n",
       "      <td>6.478583</td>\n",
       "      <td>6.161113</td>\n",
       "      <td>2.266033</td>\n",
       "      <td>35.753385</td>\n",
       "      <td>525.290581</td>\n",
       "      <td>57.278666</td>\n",
       "      <td>11.971193</td>\n",
       "      <td>6.005766</td>\n",
       "      <td>1000.286398</td>\n",
       "      <td>-400.065196</td>\n",
       "      <td>1600.754587</td>\n",
       "      <td>-449.953435</td>\n",
       "      <td>1600.479580</td>\n",
       "      <td>-449.830646</td>\n",
       "      <td>1600.527589</td>\n",
       "      <td>-449.953649</td>\n",
       "      <td>1399.227084</td>\n",
       "      <td>-450.869848</td>\n",
       "      <td>1399.719514</td>\n",
       "      <td>-450.119001</td>\n",
       "      <td>11.996163</td>\n",
       "      <td>6.012594</td>\n",
       "      <td>42050.861809</td>\n",
       "      <td>3498.370979</td>\n",
       "      <td>3489.981857</td>\n",
       "      <td>2.858998</td>\n",
       "      <td>20.050975</td>\n",
       "      <td>11.615865</td>\n",
       "      <td>7.278807</td>\n",
       "      <td>28.067063</td>\n",
       "      <td>86.843261</td>\n",
       "      <td>1.184827</td>\n",
       "      <td>4.955378</td>\n",
       "      <td>0.536689</td>\n",
       "      <td>18.965234</td>\n",
       "      <td>125.629232</td>\n",
       "      <td>10.296251</td>\n",
       "      <td>7.25</td>\n",
       "      <td>1.002663</td>\n",
       "      <td>1576.166671</td>\n",
       "      <td>-500.904965</td>\n",
       "      <td>1575.950626</td>\n",
       "      <td>-499.865889</td>\n",
       "      <td>1575.994189</td>\n",
       "      <td>-499.315107</td>\n",
       "      <td>1574.479259</td>\n",
       "      <td>-498.931665</td>\n",
       "      <td>34.118526</td>\n",
       "      <td>8.558743</td>\n",
       "      <td>10.497069</td>\n",
       "      <td>19.369147</td>\n",
       "      <td>2.353017</td>\n",
       "      <td>16.250511</td>\n",
       "      <td>3.049646</td>\n",
       "      <td>6.733907</td>\n",
       "      <td>25.880539</td>\n",
       "      <td>-499.989656</td>\n",
       "      <td>23.889530</td>\n",
       "      <td>-500.372428</td>\n",
       "      <td>23.970550</td>\n",
       "      <td>-500.085473</td>\n",
       "      <td>22.085714</td>\n",
       "      <td>-499.446897</td>\n",
       "      <td>13.992281</td>\n",
       "      <td>-505.503262</td>\n",
       "      <td>11.950531</td>\n",
       "      <td>-501.331529</td>\n",
       "      <td>10.039245</td>\n",
       "      <td>-500.169983</td>\n",
       "      <td>7.984757</td>\n",
       "      <td>-500.582168</td>\n",
       "      <td>13.998353</td>\n",
       "      <td>-599.787184</td>\n",
       "      <td>2.488248</td>\n",
       "      <td>14.265474</td>\n",
       "      <td>4.592547</td>\n",
       "      <td>9.001494</td>\n",
       "      <td>42.701629</td>\n",
       "      <td>6.029369</td>\n",
       "      <td>9.968944</td>\n",
       "      <td>5.257781</td>\n",
       "      <td>69.266198</td>\n",
       "      <td>2.224930</td>\n",
       "      <td>10.462676</td>\n",
       "      <td>0.927452</td>\n",
       "      <td>16.634514</td>\n",
       "    </tr>\n",
       "    <tr>\n",
       "      <th>2</th>\n",
       "      <td>2016-01-15 02:00:00</td>\n",
       "      <td>6.362222</td>\n",
       "      <td>6.116455</td>\n",
       "      <td>2.159622</td>\n",
       "      <td>35.971630</td>\n",
       "      <td>530.026610</td>\n",
       "      <td>57.510649</td>\n",
       "      <td>11.920603</td>\n",
       "      <td>6.197377</td>\n",
       "      <td>999.719565</td>\n",
       "      <td>-400.074028</td>\n",
       "      <td>1599.337330</td>\n",
       "      <td>-450.008530</td>\n",
       "      <td>1599.672797</td>\n",
       "      <td>-449.954491</td>\n",
       "      <td>1599.849325</td>\n",
       "      <td>-449.954185</td>\n",
       "      <td>1399.180945</td>\n",
       "      <td>-449.937588</td>\n",
       "      <td>1400.316682</td>\n",
       "      <td>-450.527147</td>\n",
       "      <td>11.920305</td>\n",
       "      <td>6.204633</td>\n",
       "      <td>42018.101184</td>\n",
       "      <td>3495.348910</td>\n",
       "      <td>3502.359819</td>\n",
       "      <td>2.945989</td>\n",
       "      <td>19.737170</td>\n",
       "      <td>11.695753</td>\n",
       "      <td>7.216833</td>\n",
       "      <td>27.454037</td>\n",
       "      <td>86.842308</td>\n",
       "      <td>1.162562</td>\n",
       "      <td>4.843460</td>\n",
       "      <td>0.546416</td>\n",
       "      <td>18.808533</td>\n",
       "      <td>123.819808</td>\n",
       "      <td>11.316280</td>\n",
       "      <td>7.25</td>\n",
       "      <td>0.991265</td>\n",
       "      <td>1601.556163</td>\n",
       "      <td>-499.997791</td>\n",
       "      <td>1600.386685</td>\n",
       "      <td>-500.607762</td>\n",
       "      <td>1602.003542</td>\n",
       "      <td>-500.870069</td>\n",
       "      <td>1599.541515</td>\n",
       "      <td>-499.827444</td>\n",
       "      <td>33.969464</td>\n",
       "      <td>8.603505</td>\n",
       "      <td>10.354494</td>\n",
       "      <td>19.167579</td>\n",
       "      <td>2.416800</td>\n",
       "      <td>16.491823</td>\n",
       "      <td>3.124664</td>\n",
       "      <td>6.471768</td>\n",
       "      <td>26.005245</td>\n",
       "      <td>-499.929616</td>\n",
       "      <td>23.886657</td>\n",
       "      <td>-499.951928</td>\n",
       "      <td>23.913535</td>\n",
       "      <td>-499.442343</td>\n",
       "      <td>23.957717</td>\n",
       "      <td>-499.901982</td>\n",
       "      <td>14.015015</td>\n",
       "      <td>-502.520901</td>\n",
       "      <td>11.912783</td>\n",
       "      <td>-501.133383</td>\n",
       "      <td>10.070913</td>\n",
       "      <td>-500.129135</td>\n",
       "      <td>8.013877</td>\n",
       "      <td>-500.517572</td>\n",
       "      <td>14.028663</td>\n",
       "      <td>-601.427363</td>\n",
       "      <td>2.458187</td>\n",
       "      <td>14.115662</td>\n",
       "      <td>4.624775</td>\n",
       "      <td>8.842896</td>\n",
       "      <td>42.657501</td>\n",
       "      <td>6.055926</td>\n",
       "      <td>10.213995</td>\n",
       "      <td>5.383759</td>\n",
       "      <td>68.116445</td>\n",
       "      <td>2.257889</td>\n",
       "      <td>10.507046</td>\n",
       "      <td>0.953716</td>\n",
       "      <td>16.208849</td>\n",
       "    </tr>\n",
       "  </tbody>\n",
       "</table>\n",
       "</div>"
      ],
      "text/plain": [
       "                  date  rougher.input.feed_au  rougher.input.feed_ag  \\\n",
       "0  2016-01-15 00:00:00               6.486150               6.100378   \n",
       "1  2016-01-15 01:00:00               6.478583               6.161113   \n",
       "2  2016-01-15 02:00:00               6.362222               6.116455   \n",
       "\n",
       "   rougher.input.feed_pb  rougher.input.feed_sol  rougher.input.feed_rate  \\\n",
       "0               2.284912               36.808594               523.546326   \n",
       "1               2.266033               35.753385               525.290581   \n",
       "2               2.159622               35.971630               530.026610   \n",
       "\n",
       "   rougher.input.feed_size  rougher.input.floatbank10_sulfate  \\\n",
       "0                55.486599                          11.986616   \n",
       "1                57.278666                          11.971193   \n",
       "2                57.510649                          11.920603   \n",
       "\n",
       "   rougher.input.floatbank10_xanthate  rougher.state.floatbank10_a_air  \\\n",
       "0                            6.007990                       999.706909   \n",
       "1                            6.005766                      1000.286398   \n",
       "2                            6.197377                       999.719565   \n",
       "\n",
       "   rougher.state.floatbank10_a_level  rougher.state.floatbank10_b_air  \\\n",
       "0                        -404.066986                      1603.011353   \n",
       "1                        -400.065196                      1600.754587   \n",
       "2                        -400.074028                      1599.337330   \n",
       "\n",
       "   rougher.state.floatbank10_b_level  rougher.state.floatbank10_c_air  \\\n",
       "0                        -434.715027                      1602.375000   \n",
       "1                        -449.953435                      1600.479580   \n",
       "2                        -450.008530                      1599.672797   \n",
       "\n",
       "   rougher.state.floatbank10_c_level  rougher.state.floatbank10_d_air  \\\n",
       "0                        -442.204468                      1598.937256   \n",
       "1                        -449.830646                      1600.527589   \n",
       "2                        -449.954491                      1599.849325   \n",
       "\n",
       "   rougher.state.floatbank10_d_level  rougher.state.floatbank10_e_air  \\\n",
       "0                        -451.294128                      1404.472046   \n",
       "1                        -449.953649                      1399.227084   \n",
       "2                        -449.954185                      1399.180945   \n",
       "\n",
       "   rougher.state.floatbank10_e_level  rougher.state.floatbank10_f_air  \\\n",
       "0                        -455.462982                      1416.354980   \n",
       "1                        -450.869848                      1399.719514   \n",
       "2                        -449.937588                      1400.316682   \n",
       "\n",
       "   rougher.state.floatbank10_f_level  rougher.input.floatbank11_sulfate  \\\n",
       "0                        -451.939636                          11.836743   \n",
       "1                        -450.119001                          11.996163   \n",
       "2                        -450.527147                          11.920305   \n",
       "\n",
       "   rougher.input.floatbank11_xanthate  \\\n",
       "0                            6.005818   \n",
       "1                            6.012594   \n",
       "2                            6.204633   \n",
       "\n",
       "   rougher.calculation.sulfate_to_au_concentrate  \\\n",
       "0                                   41885.707031   \n",
       "1                                   42050.861809   \n",
       "2                                   42018.101184   \n",
       "\n",
       "   rougher.calculation.floatbank10_sulfate_to_au_feed  \\\n",
       "0                                        3481.779053    \n",
       "1                                        3498.370979    \n",
       "2                                        3495.348910    \n",
       "\n",
       "   rougher.calculation.floatbank11_sulfate_to_au_feed  \\\n",
       "0                                        3520.337158    \n",
       "1                                        3489.981857    \n",
       "2                                        3502.359819    \n",
       "\n",
       "   rougher.calculation.au_pb_ratio  rougher.output.concentrate_au  \\\n",
       "0                         2.838687                      19.793808   \n",
       "1                         2.858998                      20.050975   \n",
       "2                         2.945989                      19.737170   \n",
       "\n",
       "   rougher.output.concentrate_ag  rougher.output.concentrate_pb  \\\n",
       "0                      11.500771                       7.101074   \n",
       "1                      11.615865                       7.278807   \n",
       "2                      11.695753                       7.216833   \n",
       "\n",
       "   rougher.output.concentrate_sol  rougher.output.recovery  \\\n",
       "0                       28.029297                87.107763   \n",
       "1                       28.067063                86.843261   \n",
       "2                       27.454037                86.842308   \n",
       "\n",
       "   rougher.output.tail_au  rougher.output.tail_ag  rougher.output.tail_pb  \\\n",
       "0                1.170244                5.008018                0.508728   \n",
       "1                1.184827                4.955378                0.536689   \n",
       "2                1.162562                4.843460                0.546416   \n",
       "\n",
       "   rougher.output.tail_sol  primary_cleaner.input.sulfate  \\\n",
       "0                19.154297                     127.092003   \n",
       "1                18.965234                     125.629232   \n",
       "2                18.808533                     123.819808   \n",
       "\n",
       "   primary_cleaner.input.depressant  primary_cleaner.input.feed_size  \\\n",
       "0                         10.128295                             7.25   \n",
       "1                         10.296251                             7.25   \n",
       "2                         11.316280                             7.25   \n",
       "\n",
       "   primary_cleaner.input.xanthate  primary_cleaner.state.floatbank8_a_air  \\\n",
       "0                        0.988759                             1549.775757   \n",
       "1                        1.002663                             1576.166671   \n",
       "2                        0.991265                             1601.556163   \n",
       "\n",
       "   primary_cleaner.state.floatbank8_a_level  \\\n",
       "0                               -498.912140   \n",
       "1                               -500.904965   \n",
       "2                               -499.997791   \n",
       "\n",
       "   primary_cleaner.state.floatbank8_b_air  \\\n",
       "0                             1551.434204   \n",
       "1                             1575.950626   \n",
       "2                             1600.386685   \n",
       "\n",
       "   primary_cleaner.state.floatbank8_b_level  \\\n",
       "0                               -516.403442   \n",
       "1                               -499.865889   \n",
       "2                               -500.607762   \n",
       "\n",
       "   primary_cleaner.state.floatbank8_c_air  \\\n",
       "0                             1549.873901   \n",
       "1                             1575.994189   \n",
       "2                             1602.003542   \n",
       "\n",
       "   primary_cleaner.state.floatbank8_c_level  \\\n",
       "0                               -498.666595   \n",
       "1                               -499.315107   \n",
       "2                               -500.870069   \n",
       "\n",
       "   primary_cleaner.state.floatbank8_d_air  \\\n",
       "0                             1554.367432   \n",
       "1                             1574.479259   \n",
       "2                             1599.541515   \n",
       "\n",
       "   primary_cleaner.state.floatbank8_d_level  \\\n",
       "0                               -493.428131   \n",
       "1                               -498.931665   \n",
       "2                               -499.827444   \n",
       "\n",
       "   primary_cleaner.output.concentrate_au  \\\n",
       "0                              34.174427   \n",
       "1                              34.118526   \n",
       "2                              33.969464   \n",
       "\n",
       "   primary_cleaner.output.concentrate_ag  \\\n",
       "0                               8.547551   \n",
       "1                               8.558743   \n",
       "2                               8.603505   \n",
       "\n",
       "   primary_cleaner.output.concentrate_pb  \\\n",
       "0                              10.389648   \n",
       "1                              10.497069   \n",
       "2                              10.354494   \n",
       "\n",
       "   primary_cleaner.output.concentrate_sol  primary_cleaner.output.tail_au  \\\n",
       "0                               19.529297                        2.106679   \n",
       "1                               19.369147                        2.353017   \n",
       "2                               19.167579                        2.416800   \n",
       "\n",
       "   primary_cleaner.output.tail_ag  primary_cleaner.output.tail_pb  \\\n",
       "0                       14.936526                        2.534912   \n",
       "1                       16.250511                        3.049646   \n",
       "2                       16.491823                        3.124664   \n",
       "\n",
       "   primary_cleaner.output.tail_sol  secondary_cleaner.state.floatbank2_a_air  \\\n",
       "0                         7.476074                                 25.853109   \n",
       "1                         6.733907                                 25.880539   \n",
       "2                         6.471768                                 26.005245   \n",
       "\n",
       "   secondary_cleaner.state.floatbank2_a_level  \\\n",
       "0                                 -498.526489   \n",
       "1                                 -499.989656   \n",
       "2                                 -499.929616   \n",
       "\n",
       "   secondary_cleaner.state.floatbank2_b_air  \\\n",
       "0                                 23.893660   \n",
       "1                                 23.889530   \n",
       "2                                 23.886657   \n",
       "\n",
       "   secondary_cleaner.state.floatbank2_b_level  \\\n",
       "0                                 -501.406281   \n",
       "1                                 -500.372428   \n",
       "2                                 -499.951928   \n",
       "\n",
       "   secondary_cleaner.state.floatbank3_a_air  \\\n",
       "0                                 23.961798   \n",
       "1                                 23.970550   \n",
       "2                                 23.913535   \n",
       "\n",
       "   secondary_cleaner.state.floatbank3_a_level  \\\n",
       "0                                 -495.262817   \n",
       "1                                 -500.085473   \n",
       "2                                 -499.442343   \n",
       "\n",
       "   secondary_cleaner.state.floatbank3_b_air  \\\n",
       "0                                 21.940409   \n",
       "1                                 22.085714   \n",
       "2                                 23.957717   \n",
       "\n",
       "   secondary_cleaner.state.floatbank3_b_level  \\\n",
       "0                                 -499.340973   \n",
       "1                                 -499.446897   \n",
       "2                                 -499.901982   \n",
       "\n",
       "   secondary_cleaner.state.floatbank4_a_air  \\\n",
       "0                                 14.016835   \n",
       "1                                 13.992281   \n",
       "2                                 14.015015   \n",
       "\n",
       "   secondary_cleaner.state.floatbank4_a_level  \\\n",
       "0                                 -502.488007   \n",
       "1                                 -505.503262   \n",
       "2                                 -502.520901   \n",
       "\n",
       "   secondary_cleaner.state.floatbank4_b_air  \\\n",
       "0                                 12.099931   \n",
       "1                                 11.950531   \n",
       "2                                 11.912783   \n",
       "\n",
       "   secondary_cleaner.state.floatbank4_b_level  \\\n",
       "0                                 -504.715942   \n",
       "1                                 -501.331529   \n",
       "2                                 -501.133383   \n",
       "\n",
       "   secondary_cleaner.state.floatbank5_a_air  \\\n",
       "0                                  9.925633   \n",
       "1                                 10.039245   \n",
       "2                                 10.070913   \n",
       "\n",
       "   secondary_cleaner.state.floatbank5_a_level  \\\n",
       "0                                 -498.310211   \n",
       "1                                 -500.169983   \n",
       "2                                 -500.129135   \n",
       "\n",
       "   secondary_cleaner.state.floatbank5_b_air  \\\n",
       "0                                  8.079666   \n",
       "1                                  7.984757   \n",
       "2                                  8.013877   \n",
       "\n",
       "   secondary_cleaner.state.floatbank5_b_level  \\\n",
       "0                                 -500.470978   \n",
       "1                                 -500.582168   \n",
       "2                                 -500.517572   \n",
       "\n",
       "   secondary_cleaner.state.floatbank6_a_air  \\\n",
       "0                                 14.151341   \n",
       "1                                 13.998353   \n",
       "2                                 14.028663   \n",
       "\n",
       "   secondary_cleaner.state.floatbank6_a_level  \\\n",
       "0                                 -605.841980   \n",
       "1                                 -599.787184   \n",
       "2                                 -601.427363   \n",
       "\n",
       "   secondary_cleaner.output.tail_au  secondary_cleaner.output.tail_ag  \\\n",
       "0                          2.606185                         14.500184   \n",
       "1                          2.488248                         14.265474   \n",
       "2                          2.458187                         14.115662   \n",
       "\n",
       "   secondary_cleaner.output.tail_pb  secondary_cleaner.output.tail_sol  \\\n",
       "0                          4.694824                           8.764648   \n",
       "1                          4.592547                           9.001494   \n",
       "2                          4.624775                           8.842896   \n",
       "\n",
       "   final.output.concentrate_au  final.output.concentrate_ag  \\\n",
       "0                    42.192020                     6.055403   \n",
       "1                    42.701629                     6.029369   \n",
       "2                    42.657501                     6.055926   \n",
       "\n",
       "   final.output.concentrate_pb  final.output.concentrate_sol  \\\n",
       "0                     9.889648                      5.507324   \n",
       "1                     9.968944                      5.257781   \n",
       "2                    10.213995                      5.383759   \n",
       "\n",
       "   final.output.recovery  final.output.tail_au  final.output.tail_ag  \\\n",
       "0              70.541216              2.143149             10.411962   \n",
       "1              69.266198              2.224930             10.462676   \n",
       "2              68.116445              2.257889             10.507046   \n",
       "\n",
       "   final.output.tail_pb  final.output.tail_sol  \n",
       "0              0.895447              16.904297  \n",
       "1              0.927452              16.634514  \n",
       "2              0.953716              16.208849  "
      ]
     },
     "execution_count": 6,
     "metadata": {},
     "output_type": "execute_result"
    }
   ],
   "source": [
    "df.head(3)"
   ]
  },
  {
   "cell_type": "code",
   "execution_count": 7,
   "metadata": {},
   "outputs": [
    {
     "name": "stdout",
     "output_type": "stream",
     "text": [
      "<class 'pandas.core.frame.DataFrame'>\n",
      "RangeIndex: 14579 entries, 0 to 14578\n",
      "Data columns (total 87 columns):\n",
      " #   Column                                              Non-Null Count  Dtype  \n",
      "---  ------                                              --------------  -----  \n",
      " 0   date                                                14579 non-null  object \n",
      " 1   rougher.input.feed_au                               14579 non-null  float64\n",
      " 2   rougher.input.feed_ag                               14579 non-null  float64\n",
      " 3   rougher.input.feed_pb                               14507 non-null  float64\n",
      " 4   rougher.input.feed_sol                              14502 non-null  float64\n",
      " 5   rougher.input.feed_rate                             14572 non-null  float64\n",
      " 6   rougher.input.feed_size                             14478 non-null  float64\n",
      " 7   rougher.input.floatbank10_sulfate                   14548 non-null  float64\n",
      " 8   rougher.input.floatbank10_xanthate                  14572 non-null  float64\n",
      " 9   rougher.state.floatbank10_a_air                     14579 non-null  float64\n",
      " 10  rougher.state.floatbank10_a_level                   14579 non-null  float64\n",
      " 11  rougher.state.floatbank10_b_air                     14579 non-null  float64\n",
      " 12  rougher.state.floatbank10_b_level                   14579 non-null  float64\n",
      " 13  rougher.state.floatbank10_c_air                     14579 non-null  float64\n",
      " 14  rougher.state.floatbank10_c_level                   14579 non-null  float64\n",
      " 15  rougher.state.floatbank10_d_air                     14579 non-null  float64\n",
      " 16  rougher.state.floatbank10_d_level                   14579 non-null  float64\n",
      " 17  rougher.state.floatbank10_e_air                     14150 non-null  float64\n",
      " 18  rougher.state.floatbank10_e_level                   14579 non-null  float64\n",
      " 19  rougher.state.floatbank10_f_air                     14579 non-null  float64\n",
      " 20  rougher.state.floatbank10_f_level                   14579 non-null  float64\n",
      " 21  rougher.input.floatbank11_sulfate                   14543 non-null  float64\n",
      " 22  rougher.input.floatbank11_xanthate                  14172 non-null  float64\n",
      " 23  rougher.calculation.sulfate_to_au_concentrate       14578 non-null  float64\n",
      " 24  rougher.calculation.floatbank10_sulfate_to_au_feed  14578 non-null  float64\n",
      " 25  rougher.calculation.floatbank11_sulfate_to_au_feed  14578 non-null  float64\n",
      " 26  rougher.calculation.au_pb_ratio                     14579 non-null  float64\n",
      " 27  rougher.output.concentrate_au                       14579 non-null  float64\n",
      " 28  rougher.output.concentrate_ag                       14579 non-null  float64\n",
      " 29  rougher.output.concentrate_pb                       14579 non-null  float64\n",
      " 30  rougher.output.concentrate_sol                      14561 non-null  float64\n",
      " 31  rougher.output.recovery                             14579 non-null  float64\n",
      " 32  rougher.output.tail_au                              14579 non-null  float64\n",
      " 33  rougher.output.tail_ag                              14578 non-null  float64\n",
      " 34  rougher.output.tail_pb                              14579 non-null  float64\n",
      " 35  rougher.output.tail_sol                             14579 non-null  float64\n",
      " 36  primary_cleaner.input.sulfate                       14556 non-null  float64\n",
      " 37  primary_cleaner.input.depressant                    14551 non-null  float64\n",
      " 38  primary_cleaner.input.feed_size                     14579 non-null  float64\n",
      " 39  primary_cleaner.input.xanthate                      14518 non-null  float64\n",
      " 40  primary_cleaner.state.floatbank8_a_air              14576 non-null  float64\n",
      " 41  primary_cleaner.state.floatbank8_a_level            14579 non-null  float64\n",
      " 42  primary_cleaner.state.floatbank8_b_air              14576 non-null  float64\n",
      " 43  primary_cleaner.state.floatbank8_b_level            14579 non-null  float64\n",
      " 44  primary_cleaner.state.floatbank8_c_air              14579 non-null  float64\n",
      " 45  primary_cleaner.state.floatbank8_c_level            14579 non-null  float64\n",
      " 46  primary_cleaner.state.floatbank8_d_air              14578 non-null  float64\n",
      " 47  primary_cleaner.state.floatbank8_d_level            14579 non-null  float64\n",
      " 48  primary_cleaner.output.concentrate_au               14579 non-null  float64\n",
      " 49  primary_cleaner.output.concentrate_ag               14579 non-null  float64\n",
      " 50  primary_cleaner.output.concentrate_pb               14491 non-null  float64\n",
      " 51  primary_cleaner.output.concentrate_sol              14314 non-null  float64\n",
      " 52  primary_cleaner.output.tail_au                      14579 non-null  float64\n",
      " 53  primary_cleaner.output.tail_ag                      14575 non-null  float64\n",
      " 54  primary_cleaner.output.tail_pb                      14573 non-null  float64\n",
      " 55  primary_cleaner.output.tail_sol                     14534 non-null  float64\n",
      " 56  secondary_cleaner.state.floatbank2_a_air            14485 non-null  float64\n",
      " 57  secondary_cleaner.state.floatbank2_a_level          14579 non-null  float64\n",
      " 58  secondary_cleaner.state.floatbank2_b_air            14557 non-null  float64\n",
      " 59  secondary_cleaner.state.floatbank2_b_level          14579 non-null  float64\n",
      " 60  secondary_cleaner.state.floatbank3_a_air            14567 non-null  float64\n",
      " 61  secondary_cleaner.state.floatbank3_a_level          14579 non-null  float64\n",
      " 62  secondary_cleaner.state.floatbank3_b_air            14579 non-null  float64\n",
      " 63  secondary_cleaner.state.floatbank3_b_level          14579 non-null  float64\n",
      " 64  secondary_cleaner.state.floatbank4_a_air            14574 non-null  float64\n",
      " 65  secondary_cleaner.state.floatbank4_a_level          14579 non-null  float64\n",
      " 66  secondary_cleaner.state.floatbank4_b_air            14579 non-null  float64\n",
      " 67  secondary_cleaner.state.floatbank4_b_level          14579 non-null  float64\n",
      " 68  secondary_cleaner.state.floatbank5_a_air            14579 non-null  float64\n",
      " 69  secondary_cleaner.state.floatbank5_a_level          14579 non-null  float64\n",
      " 70  secondary_cleaner.state.floatbank5_b_air            14579 non-null  float64\n",
      " 71  secondary_cleaner.state.floatbank5_b_level          14579 non-null  float64\n",
      " 72  secondary_cleaner.state.floatbank6_a_air            14578 non-null  float64\n",
      " 73  secondary_cleaner.state.floatbank6_a_level          14579 non-null  float64\n",
      " 74  secondary_cleaner.output.tail_au                    14579 non-null  float64\n",
      " 75  secondary_cleaner.output.tail_ag                    14578 non-null  float64\n",
      " 76  secondary_cleaner.output.tail_pb                    14575 non-null  float64\n",
      " 77  secondary_cleaner.output.tail_sol                   13659 non-null  float64\n",
      " 78  final.output.concentrate_au                         14579 non-null  float64\n",
      " 79  final.output.concentrate_ag                         14578 non-null  float64\n",
      " 80  final.output.concentrate_pb                         14578 non-null  float64\n",
      " 81  final.output.concentrate_sol                        14387 non-null  float64\n",
      " 82  final.output.recovery                               14579 non-null  float64\n",
      " 83  final.output.tail_au                                14579 non-null  float64\n",
      " 84  final.output.tail_ag                                14578 non-null  float64\n",
      " 85  final.output.tail_pb                                14504 non-null  float64\n",
      " 86  final.output.tail_sol                               14574 non-null  float64\n",
      "dtypes: float64(86), object(1)\n",
      "memory usage: 9.7+ MB\n",
      "<class 'pandas.core.frame.DataFrame'>\n",
      "RangeIndex: 4860 entries, 0 to 4859\n",
      "Data columns (total 53 columns):\n",
      " #   Column                                      Non-Null Count  Dtype  \n",
      "---  ------                                      --------------  -----  \n",
      " 0   date                                        4860 non-null   object \n",
      " 1   rougher.input.feed_au                       4860 non-null   float64\n",
      " 2   rougher.input.feed_ag                       4860 non-null   float64\n",
      " 3   rougher.input.feed_pb                       4832 non-null   float64\n",
      " 4   rougher.input.feed_sol                      4838 non-null   float64\n",
      " 5   rougher.input.feed_rate                     4856 non-null   float64\n",
      " 6   rougher.input.feed_size                     4816 non-null   float64\n",
      " 7   rougher.input.floatbank10_sulfate           4857 non-null   float64\n",
      " 8   rougher.input.floatbank10_xanthate          4859 non-null   float64\n",
      " 9   rougher.state.floatbank10_a_air             4859 non-null   float64\n",
      " 10  rougher.state.floatbank10_a_level           4859 non-null   float64\n",
      " 11  rougher.state.floatbank10_b_air             4859 non-null   float64\n",
      " 12  rougher.state.floatbank10_b_level           4859 non-null   float64\n",
      " 13  rougher.state.floatbank10_c_air             4859 non-null   float64\n",
      " 14  rougher.state.floatbank10_c_level           4859 non-null   float64\n",
      " 15  rougher.state.floatbank10_d_air             4860 non-null   float64\n",
      " 16  rougher.state.floatbank10_d_level           4860 non-null   float64\n",
      " 17  rougher.state.floatbank10_e_air             4853 non-null   float64\n",
      " 18  rougher.state.floatbank10_e_level           4860 non-null   float64\n",
      " 19  rougher.state.floatbank10_f_air             4860 non-null   float64\n",
      " 20  rougher.state.floatbank10_f_level           4860 non-null   float64\n",
      " 21  rougher.input.floatbank11_sulfate           4852 non-null   float64\n",
      " 22  rougher.input.floatbank11_xanthate          4814 non-null   float64\n",
      " 23  primary_cleaner.input.sulfate               4859 non-null   float64\n",
      " 24  primary_cleaner.input.depressant            4851 non-null   float64\n",
      " 25  primary_cleaner.input.feed_size             4860 non-null   float64\n",
      " 26  primary_cleaner.input.xanthate              4817 non-null   float64\n",
      " 27  primary_cleaner.state.floatbank8_a_air      4859 non-null   float64\n",
      " 28  primary_cleaner.state.floatbank8_a_level    4859 non-null   float64\n",
      " 29  primary_cleaner.state.floatbank8_b_air      4859 non-null   float64\n",
      " 30  primary_cleaner.state.floatbank8_b_level    4859 non-null   float64\n",
      " 31  primary_cleaner.state.floatbank8_c_air      4858 non-null   float64\n",
      " 32  primary_cleaner.state.floatbank8_c_level    4859 non-null   float64\n",
      " 33  primary_cleaner.state.floatbank8_d_air      4858 non-null   float64\n",
      " 34  primary_cleaner.state.floatbank8_d_level    4859 non-null   float64\n",
      " 35  secondary_cleaner.state.floatbank2_a_air    4734 non-null   float64\n",
      " 36  secondary_cleaner.state.floatbank2_a_level  4859 non-null   float64\n",
      " 37  secondary_cleaner.state.floatbank2_b_air    4859 non-null   float64\n",
      " 38  secondary_cleaner.state.floatbank2_b_level  4859 non-null   float64\n",
      " 39  secondary_cleaner.state.floatbank3_a_air    4859 non-null   float64\n",
      " 40  secondary_cleaner.state.floatbank3_a_level  4859 non-null   float64\n",
      " 41  secondary_cleaner.state.floatbank3_b_air    4859 non-null   float64\n",
      " 42  secondary_cleaner.state.floatbank3_b_level  4859 non-null   float64\n",
      " 43  secondary_cleaner.state.floatbank4_a_air    4859 non-null   float64\n",
      " 44  secondary_cleaner.state.floatbank4_a_level  4859 non-null   float64\n",
      " 45  secondary_cleaner.state.floatbank4_b_air    4859 non-null   float64\n",
      " 46  secondary_cleaner.state.floatbank4_b_level  4859 non-null   float64\n",
      " 47  secondary_cleaner.state.floatbank5_a_air    4859 non-null   float64\n",
      " 48  secondary_cleaner.state.floatbank5_a_level  4859 non-null   float64\n",
      " 49  secondary_cleaner.state.floatbank5_b_air    4859 non-null   float64\n",
      " 50  secondary_cleaner.state.floatbank5_b_level  4859 non-null   float64\n",
      " 51  secondary_cleaner.state.floatbank6_a_air    4859 non-null   float64\n",
      " 52  secondary_cleaner.state.floatbank6_a_level  4859 non-null   float64\n",
      "dtypes: float64(52), object(1)\n",
      "memory usage: 2.0+ MB\n",
      "<class 'pandas.core.frame.DataFrame'>\n",
      "RangeIndex: 19439 entries, 0 to 19438\n",
      "Data columns (total 87 columns):\n",
      " #   Column                                              Non-Null Count  Dtype  \n",
      "---  ------                                              --------------  -----  \n",
      " 0   date                                                19439 non-null  object \n",
      " 1   rougher.input.feed_au                               19439 non-null  float64\n",
      " 2   rougher.input.feed_ag                               19439 non-null  float64\n",
      " 3   rougher.input.feed_pb                               19339 non-null  float64\n",
      " 4   rougher.input.feed_sol                              19340 non-null  float64\n",
      " 5   rougher.input.feed_rate                             19428 non-null  float64\n",
      " 6   rougher.input.feed_size                             19294 non-null  float64\n",
      " 7   rougher.input.floatbank10_sulfate                   19405 non-null  float64\n",
      " 8   rougher.input.floatbank10_xanthate                  19431 non-null  float64\n",
      " 9   rougher.state.floatbank10_a_air                     19438 non-null  float64\n",
      " 10  rougher.state.floatbank10_a_level                   19438 non-null  float64\n",
      " 11  rougher.state.floatbank10_b_air                     19438 non-null  float64\n",
      " 12  rougher.state.floatbank10_b_level                   19438 non-null  float64\n",
      " 13  rougher.state.floatbank10_c_air                     19438 non-null  float64\n",
      " 14  rougher.state.floatbank10_c_level                   19438 non-null  float64\n",
      " 15  rougher.state.floatbank10_d_air                     19439 non-null  float64\n",
      " 16  rougher.state.floatbank10_d_level                   19439 non-null  float64\n",
      " 17  rougher.state.floatbank10_e_air                     19003 non-null  float64\n",
      " 18  rougher.state.floatbank10_e_level                   19439 non-null  float64\n",
      " 19  rougher.state.floatbank10_f_air                     19439 non-null  float64\n",
      " 20  rougher.state.floatbank10_f_level                   19439 non-null  float64\n",
      " 21  rougher.input.floatbank11_sulfate                   19395 non-null  float64\n",
      " 22  rougher.input.floatbank11_xanthate                  18986 non-null  float64\n",
      " 23  rougher.calculation.sulfate_to_au_concentrate       19437 non-null  float64\n",
      " 24  rougher.calculation.floatbank10_sulfate_to_au_feed  19437 non-null  float64\n",
      " 25  rougher.calculation.floatbank11_sulfate_to_au_feed  19437 non-null  float64\n",
      " 26  rougher.calculation.au_pb_ratio                     19439 non-null  float64\n",
      " 27  rougher.output.concentrate_au                       19439 non-null  float64\n",
      " 28  rougher.output.concentrate_ag                       19439 non-null  float64\n",
      " 29  rougher.output.concentrate_pb                       19439 non-null  float64\n",
      " 30  rougher.output.concentrate_sol                      19416 non-null  float64\n",
      " 31  rougher.output.recovery                             19439 non-null  float64\n",
      " 32  rougher.output.tail_au                              19439 non-null  float64\n",
      " 33  rougher.output.tail_ag                              19438 non-null  float64\n",
      " 34  rougher.output.tail_pb                              19439 non-null  float64\n",
      " 35  rougher.output.tail_sol                             19439 non-null  float64\n",
      " 36  primary_cleaner.input.sulfate                       19415 non-null  float64\n",
      " 37  primary_cleaner.input.depressant                    19402 non-null  float64\n",
      " 38  primary_cleaner.input.feed_size                     19439 non-null  float64\n",
      " 39  primary_cleaner.input.xanthate                      19335 non-null  float64\n",
      " 40  primary_cleaner.state.floatbank8_a_air              19435 non-null  float64\n",
      " 41  primary_cleaner.state.floatbank8_a_level            19438 non-null  float64\n",
      " 42  primary_cleaner.state.floatbank8_b_air              19435 non-null  float64\n",
      " 43  primary_cleaner.state.floatbank8_b_level            19438 non-null  float64\n",
      " 44  primary_cleaner.state.floatbank8_c_air              19437 non-null  float64\n",
      " 45  primary_cleaner.state.floatbank8_c_level            19438 non-null  float64\n",
      " 46  primary_cleaner.state.floatbank8_d_air              19436 non-null  float64\n",
      " 47  primary_cleaner.state.floatbank8_d_level            19438 non-null  float64\n",
      " 48  primary_cleaner.output.concentrate_au               19439 non-null  float64\n",
      " 49  primary_cleaner.output.concentrate_ag               19439 non-null  float64\n",
      " 50  primary_cleaner.output.concentrate_pb               19323 non-null  float64\n",
      " 51  primary_cleaner.output.concentrate_sol              19069 non-null  float64\n",
      " 52  primary_cleaner.output.tail_au                      19439 non-null  float64\n",
      " 53  primary_cleaner.output.tail_ag                      19435 non-null  float64\n",
      " 54  primary_cleaner.output.tail_pb                      19418 non-null  float64\n",
      " 55  primary_cleaner.output.tail_sol                     19377 non-null  float64\n",
      " 56  secondary_cleaner.state.floatbank2_a_air            19219 non-null  float64\n",
      " 57  secondary_cleaner.state.floatbank2_a_level          19438 non-null  float64\n",
      " 58  secondary_cleaner.state.floatbank2_b_air            19416 non-null  float64\n",
      " 59  secondary_cleaner.state.floatbank2_b_level          19438 non-null  float64\n",
      " 60  secondary_cleaner.state.floatbank3_a_air            19426 non-null  float64\n",
      " 61  secondary_cleaner.state.floatbank3_a_level          19438 non-null  float64\n",
      " 62  secondary_cleaner.state.floatbank3_b_air            19438 non-null  float64\n",
      " 63  secondary_cleaner.state.floatbank3_b_level          19438 non-null  float64\n",
      " 64  secondary_cleaner.state.floatbank4_a_air            19433 non-null  float64\n",
      " 65  secondary_cleaner.state.floatbank4_a_level          19438 non-null  float64\n",
      " 66  secondary_cleaner.state.floatbank4_b_air            19438 non-null  float64\n",
      " 67  secondary_cleaner.state.floatbank4_b_level          19438 non-null  float64\n",
      " 68  secondary_cleaner.state.floatbank5_a_air            19438 non-null  float64\n",
      " 69  secondary_cleaner.state.floatbank5_a_level          19438 non-null  float64\n",
      " 70  secondary_cleaner.state.floatbank5_b_air            19438 non-null  float64\n",
      " 71  secondary_cleaner.state.floatbank5_b_level          19438 non-null  float64\n",
      " 72  secondary_cleaner.state.floatbank6_a_air            19437 non-null  float64\n",
      " 73  secondary_cleaner.state.floatbank6_a_level          19438 non-null  float64\n",
      " 74  secondary_cleaner.output.tail_au                    19439 non-null  float64\n",
      " 75  secondary_cleaner.output.tail_ag                    19437 non-null  float64\n",
      " 76  secondary_cleaner.output.tail_pb                    19427 non-null  float64\n",
      " 77  secondary_cleaner.output.tail_sol                   17691 non-null  float64\n",
      " 78  final.output.concentrate_au                         19439 non-null  float64\n",
      " 79  final.output.concentrate_ag                         19438 non-null  float64\n",
      " 80  final.output.concentrate_pb                         19438 non-null  float64\n",
      " 81  final.output.concentrate_sol                        19228 non-null  float64\n",
      " 82  final.output.recovery                               19439 non-null  float64\n",
      " 83  final.output.tail_au                                19439 non-null  float64\n",
      " 84  final.output.tail_ag                                19438 non-null  float64\n",
      " 85  final.output.tail_pb                                19338 non-null  float64\n",
      " 86  final.output.tail_sol                               19433 non-null  float64\n",
      "dtypes: float64(86), object(1)\n",
      "memory usage: 12.9+ MB\n"
     ]
    },
    {
     "data": {
      "text/plain": [
       "(None, None, None)"
      ]
     },
     "execution_count": 7,
     "metadata": {},
     "output_type": "execute_result"
    }
   ],
   "source": [
    "train.info(), test.info(), df.info()"
   ]
  },
  {
   "cell_type": "code",
   "execution_count": 8,
   "metadata": {},
   "outputs": [
    {
     "data": {
      "text/plain": [
       "((14579, 87), (4860, 53), (19439, 87))"
      ]
     },
     "execution_count": 8,
     "metadata": {},
     "output_type": "execute_result"
    }
   ],
   "source": [
    "train.shape, test.shape, df.shape"
   ]
  },
  {
   "cell_type": "markdown",
   "metadata": {},
   "source": [
    "В целом данные почти полные есть небольшие потери.\n",
    "Посмотрим на распределение данных во всех столбцах в которых есть больше 100 пропусков."
   ]
  },
  {
   "cell_type": "code",
   "execution_count": 9,
   "metadata": {},
   "outputs": [
    {
     "data": {
      "image/png": "[encoded data removed]",
      "text/plain": [
       "<Figure size 1080x720 with 9 Axes>"
      ]
     },
     "metadata": {
      "needs_background": "light"
     },
     "output_type": "display_data"
    }
   ],
   "source": [
    "(df\n",
    "    .loc[:,\n",
    "    ['secondary_cleaner.output.tail_sol','rougher.input.feed_pb',\n",
    "    'rougher.input.feed_size','rougher.state.floatbank10_e_air',\n",
    "    'rougher.input.floatbank11_xanthate','primary_cleaner.input.xanthate',\n",
    "    'primary_cleaner.output.concentrate_sol','secondary_cleaner.state.floatbank2_a_air',\n",
    "    'final.output.tail_pb']].hist(figsize=(15,10),bins=100));"
   ]
  },
  {
   "cell_type": "markdown",
   "metadata": {},
   "source": [
    "У большинства характеристик почти нормальное распределение. У некоторых значений большое количество 0, возможно эти 0 следствие очистки. Так как отсутствующих значения почти во всех столбцах кроме одного не больше 453 пропусков заполним все пропуски медианами. Столбец *secondary_cleaner.output.tail_sol* — отвалившийся хвост после очистки имеет преобладающее значение 0 и значения столбца далеки от нормального распределения, заполним их 0."
   ]
  },
  {
   "cell_type": "markdown",
   "metadata": {},
   "source": [
    "### Проверьте, что эффективность обогащения рассчитана правильно. Вычислите её на обучающей выборке для признака rougher.output.recovery. Найдите MAE между вашими расчётами и значением признака. Опишите выводы."
   ]
  },
  {
   "cell_type": "markdown",
   "metadata": {},
   "source": [
    "Проверим все уникальные значения в столбце **rougher.output.recovery** они не должны выходить за диапазон от 0 до 100."
   ]
  },
  {
   "cell_type": "code",
   "execution_count": 10,
   "metadata": {},
   "outputs": [
    {
     "data": {
      "text/plain": [
       "array([100.        ,  99.84766302,  99.77295778, ...,   6.70543829,\n",
       "         2.5208538 ,   0.        ])"
      ]
     },
     "execution_count": 10,
     "metadata": {},
     "output_type": "execute_result"
    }
   ],
   "source": [
    "train['rougher.output.recovery'].sort_values(ascending=False).unique()"
   ]
  },
  {
   "cell_type": "markdown",
   "metadata": {},
   "source": [
    "Вычислим эффективность обогащения на обучающей выборке.  Для этого создадим три константы и запишем в них требуемые нам параметры для расчета.\n",
    "- C — доля золота в концентрате после флотации; [rougher.output.concentrate_au]\n",
    "- F — доля золота в сырье/концентрате до флотации; [rougher.input.feed_au ]\n",
    "- T — доля золота в отвальных хвостах после флотации.[rougher.output.tail_au]\n",
    "\n",
    "rougher.output.recovery — эффективность обогащения чернового концентрата \n",
    "<!-- final.output.recovery обогащения финального концентрата  -->\n",
    "\n",
    "<!-- rougher.calculation.sulfate_to_au_concentrate\t -->\n",
    "<!-- rougher.calculation.floatbank10_sulfate_to_au_feed -->\n",
    "<!-- rougher.calculation.floatbank11_sulfate_to_au_feed -->\n",
    "<!-- rougher.calculation.au_pb_ratio - соотношение золото и серебра -->"
   ]
  },
  {
   "cell_type": "code",
   "execution_count": 12,
   "metadata": {},
   "outputs": [],
   "source": [
    "C = train['rougher.output.concentrate_au'] \n",
    "F = train['rougher.input.feed_au']\n",
    "T = train['rougher.output.tail_au']\n",
    "\n",
    "train['recalculation_rougher_output_recovery'] = (C*(F-T))/(F*(C-T))*100 # Расчёт эффективности"
   ]
  },
  {
   "cell_type": "markdown",
   "metadata": {},
   "source": [
    "Убедимся, что значения в числа от 0 до 100"
   ]
  },
  {
   "cell_type": "code",
   "execution_count": 13,
   "metadata": {},
   "outputs": [
    {
     "data": {
      "text/plain": [
       "array([100.        ,  99.84766302,  99.77295778, ...,   6.70543829,\n",
       "         2.5208538 ,  -0.        ])"
      ]
     },
     "execution_count": 13,
     "metadata": {},
     "output_type": "execute_result"
    }
   ],
   "source": [
    "train['recalculation_rougher_output_recovery'].sort_values(ascending=False).unique()"
   ]
  },
  {
   "cell_type": "markdown",
   "metadata": {},
   "source": [
    "Теперь посчитаем ***MAE*** между нашими расчётами и предоставленными данными."
   ]
  },
  {
   "cell_type": "code",
   "execution_count": 14,
   "metadata": {},
   "outputs": [
    {
     "data": {
      "text/plain": [
       "9.83758577644259e-15"
      ]
     },
     "execution_count": 14,
     "metadata": {},
     "output_type": "execute_result"
    }
   ],
   "source": [
    "MAE_A = train['rougher.output.recovery']\n",
    "MAE_B = train['recalculation_rougher_output_recovery']\n",
    "n = 14579\n",
    "mean_absolute_error(MAE_A, MAE_B)"
   ]
  },
  {
   "cell_type": "markdown",
   "metadata": {},
   "source": [
    "Есть явное отклонение. Выходит где-то закралась ошибка. Или же часть данных не правдоподобная."
   ]
  },
  {
   "cell_type": "markdown",
   "metadata": {},
   "source": [
    "\n",
    "<!-- train_mae = pd.Series(train['rougher.output.recovery'].median(), index=train['rougher.output.recovery'].index) -->\n",
    "<!-- mae = mean_absolute_error(train['rougher.output.recovery'], train_mae) -->\n",
    "<!-- mae -->"
   ]
  },
  {
   "cell_type": "markdown",
   "metadata": {},
   "source": [
    "### Проанализируйте признаки, недоступные в тестовой выборке. Что это за параметры? К какому типу относятся?"
   ]
  },
  {
   "cell_type": "code",
   "execution_count": 15,
   "metadata": {},
   "outputs": [
    {
     "data": {
      "text/plain": [
       "\"['rougher.output.recovery', 'secondary_cleaner.output.tail_pb', 'rougher.output.concentrate_ag', 'primary_cleaner.output.concentrate_au', 'primary_cleaner.output.concentrate_pb', 'secondary_cleaner.output.tail_au', 'rougher.calculation.sulfate_to_au_concentrate', 'rougher.output.tail_ag', 'final.output.tail_ag', 'secondary_cleaner.output.tail_sol', 'rougher.output.concentrate_sol', 'primary_cleaner.output.concentrate_ag', 'primary_cleaner.output.tail_pb', 'final.output.tail_au', 'final.output.concentrate_pb', 'rougher.output.concentrate_au', 'rougher.output.tail_au', 'primary_cleaner.output.tail_sol', 'rougher.output.tail_pb', 'recalculation_rougher_output_recovery', 'rougher.calculation.floatbank10_sulfate_to_au_feed', 'rougher.output.tail_sol', 'final.output.concentrate_ag', 'rougher.calculation.floatbank11_sulfate_to_au_feed', 'final.output.recovery', 'primary_cleaner.output.tail_ag', 'final.output.tail_sol', 'secondary_cleaner.output.tail_ag', 'final.output.concentrate_sol', 'rougher.output.concentrate_pb', 'final.output.tail_pb', 'primary_cleaner.output.concentrate_sol', 'primary_cleaner.output.tail_au', 'final.output.concentrate_au', 'rougher.calculation.au_pb_ratio']\""
      ]
     },
     "execution_count": 15,
     "metadata": {},
     "output_type": "execute_result"
    }
   ],
   "source": [
    "str(list(set(train.columns) - set(test.columns)))"
   ]
  },
  {
   "cell_type": "markdown",
   "metadata": {},
   "source": [
    "В тестовой выборке отсутствуют все данные о результатах выхода — **output** на этапе флотация. Это параметры показывающие результаты котыре получились в результате первичной обработки сырья(флотации)\n",
    "\n",
    "Так же из тестовой выборки убрали все расчетные данные — **calculation** этапа флотация. Это расчитаные значения.\n",
    "Всего отсутствует 35 столбцов с данными\n"
   ]
  },
  {
   "cell_type": "markdown",
   "metadata": {},
   "source": [
    "Все данные не котегориальны"
   ]
  },
  {
   "cell_type": "markdown",
   "metadata": {},
   "source": [
    "### Проведите предобработку данных."
   ]
  },
  {
   "cell_type": "markdown",
   "metadata": {},
   "source": [
    "Для начала подберем целевые признаки для нашей тестовой выборки. По условиям проекта для расчёта итоговой метрики нам потребуется два целевых признака **rougher.output.recovery** — эффективность обогащения чернового концентрата и **final.output.recovery** — эффективность обогащения финального концентрата."
   ]
  },
  {
   "cell_type": "markdown",
   "metadata": {},
   "source": [
    "<div class=\"\"> \n",
    "<b>Комментарий студента:</b> Приветсвую и рад знакомству)\n",
    "    Вот с этого момента и начинаються проблемы. В целом я так и не смог сделать не список не фрейм и не столбец, что бы были только значения признаков без лишнеего мусора. Очень буду признателен за советы или подсказки в решение этой проблемы."
   ]
  },
  {
   "cell_type": "code",
   "execution_count": 16,
   "metadata": {},
   "outputs": [
    {
     "name": "stdout",
     "output_type": "stream",
     "text": [
      "0    87.107763\n",
      "1    86.843261\n",
      "2    86.842308\n",
      "Name: rougher.output.recovery, dtype: float64\n"
     ]
    },
    {
     "data": {
      "text/plain": [
       "0    89.514960\n",
       "1    89.858126\n",
       "2    91.816623\n",
       "Name: rougher.output.recovery, dtype: float64"
      ]
     },
     "execution_count": 16,
     "metadata": {},
     "output_type": "execute_result"
    }
   ],
   "source": [
    "test = test.merge(df[['rougher.output.recovery', 'final.output.recovery', 'date']], how = 'inner', on= 'date')\n",
    "print(df['rougher.output.recovery'].head(3))\n",
    "test['rougher.output.recovery'].head(3)"
   ]
  },
  {
   "cell_type": "markdown",
   "metadata": {},
   "source": [
    "### Перейдем к нашим пропускам, посчитаем и оценим их в количестве, размере и возможной зависимости, от целевых признаков."
   ]
  },
  {
   "cell_type": "code",
   "execution_count": 17,
   "metadata": {},
   "outputs": [
    {
     "data": {
      "text/plain": [
       "2648"
      ]
     },
     "execution_count": 17,
     "metadata": {},
     "output_type": "execute_result"
    }
   ],
   "source": [
    "train.isna().sum().sort_values(ascending=False).head(10).sum()"
   ]
  },
  {
   "cell_type": "code",
   "execution_count": 18,
   "metadata": {},
   "outputs": [
    {
     "data": {
      "text/plain": [
       "secondary_cleaner.state.floatbank2_a_air    126\n",
       "rougher.input.floatbank11_xanthate           46\n",
       "rougher.input.feed_size                      44\n",
       "primary_cleaner.input.xanthate               43\n",
       "rougher.input.feed_pb                        28\n",
       "dtype: int64"
      ]
     },
     "execution_count": 18,
     "metadata": {},
     "output_type": "execute_result"
    }
   ],
   "source": [
    "test.isna().sum().sort_values(ascending=False).head()"
   ]
  },
  {
   "cell_type": "code",
   "execution_count": 19,
   "metadata": {},
   "outputs": [
    {
     "data": {
      "text/plain": [
       "secondary_cleaner.output.tail_sol           1748\n",
       "rougher.input.floatbank11_xanthate           453\n",
       "rougher.state.floatbank10_e_air              436\n",
       "primary_cleaner.output.concentrate_sol       370\n",
       "secondary_cleaner.state.floatbank2_a_air     220\n",
       "dtype: int64"
      ]
     },
     "execution_count": 19,
     "metadata": {},
     "output_type": "execute_result"
    }
   ],
   "source": [
    "df.isna().sum().sort_values(ascending=False).head()"
   ]
  },
  {
   "cell_type": "code",
   "execution_count": 20,
   "metadata": {},
   "outputs": [
    {
     "data": {
      "text/plain": [
       "(3227, 4481)"
      ]
     },
     "execution_count": 20,
     "metadata": {},
     "output_type": "execute_result"
    }
   ],
   "source": [
    "df.isna().sum().sort_values(ascending=False).head().sum(), df.isna().sum().sort_values(ascending=False).sum()"
   ]
  },
  {
   "cell_type": "markdown",
   "metadata": {},
   "source": [
    "Посмотрим на корреляцию."
   ]
  },
  {
   "cell_type": "code",
   "execution_count": 21,
   "metadata": {},
   "outputs": [
    {
     "data": {
      "text/html": [
       "<div>\n",
       "<style scoped>\n",
       "    .dataframe tbody tr th:only-of-type {\n",
       "        vertical-align: middle;\n",
       "    }\n",
       "\n",
       "    .dataframe tbody tr th {\n",
       "        vertical-align: top;\n",
       "    }\n",
       "\n",
       "    .dataframe thead th {\n",
       "        text-align: right;\n",
       "    }\n",
       "</style>\n",
       "<table border=\"1\" class=\"dataframe\">\n",
       "  <thead>\n",
       "    <tr style=\"text-align: right;\">\n",
       "      <th></th>\n",
       "      <th>final.output.recovery</th>\n",
       "      <th>final.output.recovery</th>\n",
       "      <th>rougher.input.floatbank11_xanthate</th>\n",
       "      <th>rougher.state.floatbank10_e_air</th>\n",
       "      <th>primary_cleaner.output.concentrate_sol</th>\n",
       "      <th>secondary_cleaner.state.floatbank2_a_air</th>\n",
       "      <th>final.output.concentrate_sol</th>\n",
       "      <th>rougher.input.feed_size</th>\n",
       "      <th>primary_cleaner.output.concentrate_pb</th>\n",
       "      <th>primary_cleaner.input.xanthate</th>\n",
       "      <th>final.output.tail_pb</th>\n",
       "      <th>rougher.input.feed_pb</th>\n",
       "      <th>secondary_cleaner.output.tail_sol</th>\n",
       "    </tr>\n",
       "  </thead>\n",
       "  <tbody>\n",
       "    <tr>\n",
       "      <th>final.output.recovery</th>\n",
       "      <td>1.000000</td>\n",
       "      <td>1.000000</td>\n",
       "      <td>0.328231</td>\n",
       "      <td>-0.095410</td>\n",
       "      <td>0.210740</td>\n",
       "      <td>0.109825</td>\n",
       "      <td>0.265993</td>\n",
       "      <td>0.048744</td>\n",
       "      <td>0.149933</td>\n",
       "      <td>0.206445</td>\n",
       "      <td>-0.143094</td>\n",
       "      <td>0.175646</td>\n",
       "      <td>-0.030084</td>\n",
       "    </tr>\n",
       "    <tr>\n",
       "      <th>final.output.recovery</th>\n",
       "      <td>1.000000</td>\n",
       "      <td>1.000000</td>\n",
       "      <td>0.328231</td>\n",
       "      <td>-0.095410</td>\n",
       "      <td>0.210740</td>\n",
       "      <td>0.109825</td>\n",
       "      <td>0.265993</td>\n",
       "      <td>0.048744</td>\n",
       "      <td>0.149933</td>\n",
       "      <td>0.206445</td>\n",
       "      <td>-0.143094</td>\n",
       "      <td>0.175646</td>\n",
       "      <td>-0.030084</td>\n",
       "    </tr>\n",
       "    <tr>\n",
       "      <th>rougher.input.floatbank11_xanthate</th>\n",
       "      <td>0.328231</td>\n",
       "      <td>0.328231</td>\n",
       "      <td>1.000000</td>\n",
       "      <td>-0.020405</td>\n",
       "      <td>0.375309</td>\n",
       "      <td>-0.003380</td>\n",
       "      <td>-0.021031</td>\n",
       "      <td>0.099848</td>\n",
       "      <td>0.092727</td>\n",
       "      <td>0.414596</td>\n",
       "      <td>-0.166725</td>\n",
       "      <td>0.064683</td>\n",
       "      <td>0.024705</td>\n",
       "    </tr>\n",
       "    <tr>\n",
       "      <th>rougher.state.floatbank10_e_air</th>\n",
       "      <td>-0.095410</td>\n",
       "      <td>-0.095410</td>\n",
       "      <td>-0.020405</td>\n",
       "      <td>1.000000</td>\n",
       "      <td>0.049549</td>\n",
       "      <td>-0.108899</td>\n",
       "      <td>-0.070840</td>\n",
       "      <td>-0.035018</td>\n",
       "      <td>-0.237540</td>\n",
       "      <td>-0.168751</td>\n",
       "      <td>-0.360260</td>\n",
       "      <td>-0.350495</td>\n",
       "      <td>0.202335</td>\n",
       "    </tr>\n",
       "    <tr>\n",
       "      <th>primary_cleaner.output.concentrate_sol</th>\n",
       "      <td>0.210740</td>\n",
       "      <td>0.210740</td>\n",
       "      <td>0.375309</td>\n",
       "      <td>0.049549</td>\n",
       "      <td>1.000000</td>\n",
       "      <td>-0.141872</td>\n",
       "      <td>0.240549</td>\n",
       "      <td>-0.001862</td>\n",
       "      <td>0.368866</td>\n",
       "      <td>0.306002</td>\n",
       "      <td>-0.006221</td>\n",
       "      <td>0.185224</td>\n",
       "      <td>0.268933</td>\n",
       "    </tr>\n",
       "    <tr>\n",
       "      <th>secondary_cleaner.state.floatbank2_a_air</th>\n",
       "      <td>0.109825</td>\n",
       "      <td>0.109825</td>\n",
       "      <td>-0.003380</td>\n",
       "      <td>-0.108899</td>\n",
       "      <td>-0.141872</td>\n",
       "      <td>1.000000</td>\n",
       "      <td>-0.052395</td>\n",
       "      <td>0.021041</td>\n",
       "      <td>0.033422</td>\n",
       "      <td>-0.167018</td>\n",
       "      <td>-0.027917</td>\n",
       "      <td>0.042443</td>\n",
       "      <td>0.049661</td>\n",
       "    </tr>\n",
       "    <tr>\n",
       "      <th>final.output.concentrate_sol</th>\n",
       "      <td>0.265993</td>\n",
       "      <td>0.265993</td>\n",
       "      <td>-0.021031</td>\n",
       "      <td>-0.070840</td>\n",
       "      <td>0.240549</td>\n",
       "      <td>-0.052395</td>\n",
       "      <td>1.000000</td>\n",
       "      <td>-0.209526</td>\n",
       "      <td>0.020953</td>\n",
       "      <td>0.046279</td>\n",
       "      <td>0.221714</td>\n",
       "      <td>0.185576</td>\n",
       "      <td>0.345594</td>\n",
       "    </tr>\n",
       "    <tr>\n",
       "      <th>rougher.input.feed_size</th>\n",
       "      <td>0.048744</td>\n",
       "      <td>0.048744</td>\n",
       "      <td>0.099848</td>\n",
       "      <td>-0.035018</td>\n",
       "      <td>-0.001862</td>\n",
       "      <td>0.021041</td>\n",
       "      <td>-0.209526</td>\n",
       "      <td>1.000000</td>\n",
       "      <td>0.056664</td>\n",
       "      <td>0.057861</td>\n",
       "      <td>-0.110962</td>\n",
       "      <td>-0.054133</td>\n",
       "      <td>-0.310050</td>\n",
       "    </tr>\n",
       "    <tr>\n",
       "      <th>primary_cleaner.output.concentrate_pb</th>\n",
       "      <td>0.149933</td>\n",
       "      <td>0.149933</td>\n",
       "      <td>0.092727</td>\n",
       "      <td>-0.237540</td>\n",
       "      <td>0.368866</td>\n",
       "      <td>0.033422</td>\n",
       "      <td>0.020953</td>\n",
       "      <td>0.056664</td>\n",
       "      <td>1.000000</td>\n",
       "      <td>0.078666</td>\n",
       "      <td>0.436652</td>\n",
       "      <td>0.458708</td>\n",
       "      <td>-0.184729</td>\n",
       "    </tr>\n",
       "    <tr>\n",
       "      <th>primary_cleaner.input.xanthate</th>\n",
       "      <td>0.206445</td>\n",
       "      <td>0.206445</td>\n",
       "      <td>0.414596</td>\n",
       "      <td>-0.168751</td>\n",
       "      <td>0.306002</td>\n",
       "      <td>-0.167018</td>\n",
       "      <td>0.046279</td>\n",
       "      <td>0.057861</td>\n",
       "      <td>0.078666</td>\n",
       "      <td>1.000000</td>\n",
       "      <td>0.031143</td>\n",
       "      <td>0.110320</td>\n",
       "      <td>-0.108844</td>\n",
       "    </tr>\n",
       "    <tr>\n",
       "      <th>final.output.tail_pb</th>\n",
       "      <td>-0.143094</td>\n",
       "      <td>-0.143094</td>\n",
       "      <td>-0.166725</td>\n",
       "      <td>-0.360260</td>\n",
       "      <td>-0.006221</td>\n",
       "      <td>-0.027917</td>\n",
       "      <td>0.221714</td>\n",
       "      <td>-0.110962</td>\n",
       "      <td>0.436652</td>\n",
       "      <td>0.031143</td>\n",
       "      <td>1.000000</td>\n",
       "      <td>0.773465</td>\n",
       "      <td>-0.026049</td>\n",
       "    </tr>\n",
       "    <tr>\n",
       "      <th>rougher.input.feed_pb</th>\n",
       "      <td>0.175646</td>\n",
       "      <td>0.175646</td>\n",
       "      <td>0.064683</td>\n",
       "      <td>-0.350495</td>\n",
       "      <td>0.185224</td>\n",
       "      <td>0.042443</td>\n",
       "      <td>0.185576</td>\n",
       "      <td>-0.054133</td>\n",
       "      <td>0.458708</td>\n",
       "      <td>0.110320</td>\n",
       "      <td>0.773465</td>\n",
       "      <td>1.000000</td>\n",
       "      <td>-0.026652</td>\n",
       "    </tr>\n",
       "    <tr>\n",
       "      <th>secondary_cleaner.output.tail_sol</th>\n",
       "      <td>-0.030084</td>\n",
       "      <td>-0.030084</td>\n",
       "      <td>0.024705</td>\n",
       "      <td>0.202335</td>\n",
       "      <td>0.268933</td>\n",
       "      <td>0.049661</td>\n",
       "      <td>0.345594</td>\n",
       "      <td>-0.310050</td>\n",
       "      <td>-0.184729</td>\n",
       "      <td>-0.108844</td>\n",
       "      <td>-0.026049</td>\n",
       "      <td>-0.026652</td>\n",
       "      <td>1.000000</td>\n",
       "    </tr>\n",
       "  </tbody>\n",
       "</table>\n",
       "</div>"
      ],
      "text/plain": [
       "                                          final.output.recovery  \\\n",
       "final.output.recovery                                  1.000000   \n",
       "final.output.recovery                                  1.000000   \n",
       "rougher.input.floatbank11_xanthate                     0.328231   \n",
       "rougher.state.floatbank10_e_air                       -0.095410   \n",
       "primary_cleaner.output.concentrate_sol                 0.210740   \n",
       "secondary_cleaner.state.floatbank2_a_air               0.109825   \n",
       "final.output.concentrate_sol                           0.265993   \n",
       "rougher.input.feed_size                                0.048744   \n",
       "primary_cleaner.output.concentrate_pb                  0.149933   \n",
       "primary_cleaner.input.xanthate                         0.206445   \n",
       "final.output.tail_pb                                  -0.143094   \n",
       "rougher.input.feed_pb                                  0.175646   \n",
       "secondary_cleaner.output.tail_sol                     -0.030084   \n",
       "\n",
       "                                          final.output.recovery  \\\n",
       "final.output.recovery                                  1.000000   \n",
       "final.output.recovery                                  1.000000   \n",
       "rougher.input.floatbank11_xanthate                     0.328231   \n",
       "rougher.state.floatbank10_e_air                       -0.095410   \n",
       "primary_cleaner.output.concentrate_sol                 0.210740   \n",
       "secondary_cleaner.state.floatbank2_a_air               0.109825   \n",
       "final.output.concentrate_sol                           0.265993   \n",
       "rougher.input.feed_size                                0.048744   \n",
       "primary_cleaner.output.concentrate_pb                  0.149933   \n",
       "primary_cleaner.input.xanthate                         0.206445   \n",
       "final.output.tail_pb                                  -0.143094   \n",
       "rougher.input.feed_pb                                  0.175646   \n",
       "secondary_cleaner.output.tail_sol                     -0.030084   \n",
       "\n",
       "                                          rougher.input.floatbank11_xanthate  \\\n",
       "final.output.recovery                                               0.328231   \n",
       "final.output.recovery                                               0.328231   \n",
       "rougher.input.floatbank11_xanthate                                  1.000000   \n",
       "rougher.state.floatbank10_e_air                                    -0.020405   \n",
       "primary_cleaner.output.concentrate_sol                              0.375309   \n",
       "secondary_cleaner.state.floatbank2_a_air                           -0.003380   \n",
       "final.output.concentrate_sol                                       -0.021031   \n",
       "rougher.input.feed_size                                             0.099848   \n",
       "primary_cleaner.output.concentrate_pb                               0.092727   \n",
       "primary_cleaner.input.xanthate                                      0.414596   \n",
       "final.output.tail_pb                                               -0.166725   \n",
       "rougher.input.feed_pb                                               0.064683   \n",
       "secondary_cleaner.output.tail_sol                                   0.024705   \n",
       "\n",
       "                                          rougher.state.floatbank10_e_air  \\\n",
       "final.output.recovery                                           -0.095410   \n",
       "final.output.recovery                                           -0.095410   \n",
       "rougher.input.floatbank11_xanthate                              -0.020405   \n",
       "rougher.state.floatbank10_e_air                                  1.000000   \n",
       "primary_cleaner.output.concentrate_sol                           0.049549   \n",
       "secondary_cleaner.state.floatbank2_a_air                        -0.108899   \n",
       "final.output.concentrate_sol                                    -0.070840   \n",
       "rougher.input.feed_size                                         -0.035018   \n",
       "primary_cleaner.output.concentrate_pb                           -0.237540   \n",
       "primary_cleaner.input.xanthate                                  -0.168751   \n",
       "final.output.tail_pb                                            -0.360260   \n",
       "rougher.input.feed_pb                                           -0.350495   \n",
       "secondary_cleaner.output.tail_sol                                0.202335   \n",
       "\n",
       "                                          primary_cleaner.output.concentrate_sol  \\\n",
       "final.output.recovery                                                   0.210740   \n",
       "final.output.recovery                                                   0.210740   \n",
       "rougher.input.floatbank11_xanthate                                      0.375309   \n",
       "rougher.state.floatbank10_e_air                                         0.049549   \n",
       "primary_cleaner.output.concentrate_sol                                  1.000000   \n",
       "secondary_cleaner.state.floatbank2_a_air                               -0.141872   \n",
       "final.output.concentrate_sol                                            0.240549   \n",
       "rougher.input.feed_size                                                -0.001862   \n",
       "primary_cleaner.output.concentrate_pb                                   0.368866   \n",
       "primary_cleaner.input.xanthate                                          0.306002   \n",
       "final.output.tail_pb                                                   -0.006221   \n",
       "rougher.input.feed_pb                                                   0.185224   \n",
       "secondary_cleaner.output.tail_sol                                       0.268933   \n",
       "\n",
       "                                          secondary_cleaner.state.floatbank2_a_air  \\\n",
       "final.output.recovery                                                     0.109825   \n",
       "final.output.recovery                                                     0.109825   \n",
       "rougher.input.floatbank11_xanthate                                       -0.003380   \n",
       "rougher.state.floatbank10_e_air                                          -0.108899   \n",
       "primary_cleaner.output.concentrate_sol                                   -0.141872   \n",
       "secondary_cleaner.state.floatbank2_a_air                                  1.000000   \n",
       "final.output.concentrate_sol                                             -0.052395   \n",
       "rougher.input.feed_size                                                   0.021041   \n",
       "primary_cleaner.output.concentrate_pb                                     0.033422   \n",
       "primary_cleaner.input.xanthate                                           -0.167018   \n",
       "final.output.tail_pb                                                     -0.027917   \n",
       "rougher.input.feed_pb                                                     0.042443   \n",
       "secondary_cleaner.output.tail_sol                                         0.049661   \n",
       "\n",
       "                                          final.output.concentrate_sol  \\\n",
       "final.output.recovery                                         0.265993   \n",
       "final.output.recovery                                         0.265993   \n",
       "rougher.input.floatbank11_xanthate                           -0.021031   \n",
       "rougher.state.floatbank10_e_air                              -0.070840   \n",
       "primary_cleaner.output.concentrate_sol                        0.240549   \n",
       "secondary_cleaner.state.floatbank2_a_air                     -0.052395   \n",
       "final.output.concentrate_sol                                  1.000000   \n",
       "rougher.input.feed_size                                      -0.209526   \n",
       "primary_cleaner.output.concentrate_pb                         0.020953   \n",
       "primary_cleaner.input.xanthate                                0.046279   \n",
       "final.output.tail_pb                                          0.221714   \n",
       "rougher.input.feed_pb                                         0.185576   \n",
       "secondary_cleaner.output.tail_sol                             0.345594   \n",
       "\n",
       "                                          rougher.input.feed_size  \\\n",
       "final.output.recovery                                    0.048744   \n",
       "final.output.recovery                                    0.048744   \n",
       "rougher.input.floatbank11_xanthate                       0.099848   \n",
       "rougher.state.floatbank10_e_air                         -0.035018   \n",
       "primary_cleaner.output.concentrate_sol                  -0.001862   \n",
       "secondary_cleaner.state.floatbank2_a_air                 0.021041   \n",
       "final.output.concentrate_sol                            -0.209526   \n",
       "rougher.input.feed_size                                  1.000000   \n",
       "primary_cleaner.output.concentrate_pb                    0.056664   \n",
       "primary_cleaner.input.xanthate                           0.057861   \n",
       "final.output.tail_pb                                    -0.110962   \n",
       "rougher.input.feed_pb                                   -0.054133   \n",
       "secondary_cleaner.output.tail_sol                       -0.310050   \n",
       "\n",
       "                                          primary_cleaner.output.concentrate_pb  \\\n",
       "final.output.recovery                                                  0.149933   \n",
       "final.output.recovery                                                  0.149933   \n",
       "rougher.input.floatbank11_xanthate                                     0.092727   \n",
       "rougher.state.floatbank10_e_air                                       -0.237540   \n",
       "primary_cleaner.output.concentrate_sol                                 0.368866   \n",
       "secondary_cleaner.state.floatbank2_a_air                               0.033422   \n",
       "final.output.concentrate_sol                                           0.020953   \n",
       "rougher.input.feed_size                                                0.056664   \n",
       "primary_cleaner.output.concentrate_pb                                  1.000000   \n",
       "primary_cleaner.input.xanthate                                         0.078666   \n",
       "final.output.tail_pb                                                   0.436652   \n",
       "rougher.input.feed_pb                                                  0.458708   \n",
       "secondary_cleaner.output.tail_sol                                     -0.184729   \n",
       "\n",
       "                                          primary_cleaner.input.xanthate  \\\n",
       "final.output.recovery                                           0.206445   \n",
       "final.output.recovery                                           0.206445   \n",
       "rougher.input.floatbank11_xanthate                              0.414596   \n",
       "rougher.state.floatbank10_e_air                                -0.168751   \n",
       "primary_cleaner.output.concentrate_sol                          0.306002   \n",
       "secondary_cleaner.state.floatbank2_a_air                       -0.167018   \n",
       "final.output.concentrate_sol                                    0.046279   \n",
       "rougher.input.feed_size                                         0.057861   \n",
       "primary_cleaner.output.concentrate_pb                           0.078666   \n",
       "primary_cleaner.input.xanthate                                  1.000000   \n",
       "final.output.tail_pb                                            0.031143   \n",
       "rougher.input.feed_pb                                           0.110320   \n",
       "secondary_cleaner.output.tail_sol                              -0.108844   \n",
       "\n",
       "                                          final.output.tail_pb  \\\n",
       "final.output.recovery                                -0.143094   \n",
       "final.output.recovery                                -0.143094   \n",
       "rougher.input.floatbank11_xanthate                   -0.166725   \n",
       "rougher.state.floatbank10_e_air                      -0.360260   \n",
       "primary_cleaner.output.concentrate_sol               -0.006221   \n",
       "secondary_cleaner.state.floatbank2_a_air             -0.027917   \n",
       "final.output.concentrate_sol                          0.221714   \n",
       "rougher.input.feed_size                              -0.110962   \n",
       "primary_cleaner.output.concentrate_pb                 0.436652   \n",
       "primary_cleaner.input.xanthate                        0.031143   \n",
       "final.output.tail_pb                                  1.000000   \n",
       "rougher.input.feed_pb                                 0.773465   \n",
       "secondary_cleaner.output.tail_sol                    -0.026049   \n",
       "\n",
       "                                          rougher.input.feed_pb  \\\n",
       "final.output.recovery                                  0.175646   \n",
       "final.output.recovery                                  0.175646   \n",
       "rougher.input.floatbank11_xanthate                     0.064683   \n",
       "rougher.state.floatbank10_e_air                       -0.350495   \n",
       "primary_cleaner.output.concentrate_sol                 0.185224   \n",
       "secondary_cleaner.state.floatbank2_a_air               0.042443   \n",
       "final.output.concentrate_sol                           0.185576   \n",
       "rougher.input.feed_size                               -0.054133   \n",
       "primary_cleaner.output.concentrate_pb                  0.458708   \n",
       "primary_cleaner.input.xanthate                         0.110320   \n",
       "final.output.tail_pb                                   0.773465   \n",
       "rougher.input.feed_pb                                  1.000000   \n",
       "secondary_cleaner.output.tail_sol                     -0.026652   \n",
       "\n",
       "                                          secondary_cleaner.output.tail_sol  \n",
       "final.output.recovery                                             -0.030084  \n",
       "final.output.recovery                                             -0.030084  \n",
       "rougher.input.floatbank11_xanthate                                 0.024705  \n",
       "rougher.state.floatbank10_e_air                                    0.202335  \n",
       "primary_cleaner.output.concentrate_sol                             0.268933  \n",
       "secondary_cleaner.state.floatbank2_a_air                           0.049661  \n",
       "final.output.concentrate_sol                                       0.345594  \n",
       "rougher.input.feed_size                                           -0.310050  \n",
       "primary_cleaner.output.concentrate_pb                             -0.184729  \n",
       "primary_cleaner.input.xanthate                                    -0.108844  \n",
       "final.output.tail_pb                                              -0.026049  \n",
       "rougher.input.feed_pb                                             -0.026652  \n",
       "secondary_cleaner.output.tail_sol                                  1.000000  "
      ]
     },
     "execution_count": 21,
     "metadata": {},
     "output_type": "execute_result"
    }
   ],
   "source": [
    "(df\n",
    " [['final.output.recovery','final.output.recovery',\n",
    "  'rougher.input.floatbank11_xanthate', 'rougher.state.floatbank10_e_air',\n",
    "  'primary_cleaner.output.concentrate_sol', 'secondary_cleaner.state.floatbank2_a_air',\n",
    "  'final.output.concentrate_sol', 'rougher.input.feed_size',\n",
    "  'primary_cleaner.output.concentrate_pb', 'primary_cleaner.input.xanthate',\n",
    "  'final.output.tail_pb', 'rougher.input.feed_pb',\n",
    "  'secondary_cleaner.output.tail_sol']].corr()\n",
    ")"
   ]
  },
  {
   "cell_type": "markdown",
   "metadata": {},
   "source": [
    "Заполним часть пропусков, остальную часть уберём."
   ]
  },
  {
   "cell_type": "code",
   "execution_count": 22,
   "metadata": {},
   "outputs": [],
   "source": [
    "df['secondary_cleaner.output.tail_sol'] = df['secondary_cleaner.output.tail_sol'].fillna(0)\n",
    "train['secondary_cleaner.output.tail_sol'] = train['secondary_cleaner.output.tail_sol'].fillna(0)"
   ]
  },
  {
   "cell_type": "code",
   "execution_count": 23,
   "metadata": {},
   "outputs": [],
   "source": [
    "df['rougher.input.floatbank11_xanthate'] =(\n",
    "    df['rougher.input.floatbank11_xanthate']\n",
    "    .fillna(df['rougher.input.floatbank11_xanthate'].median()))\n",
    "train['rougher.input.floatbank11_xanthate'] =(\n",
    "    train['rougher.input.floatbank11_xanthate']\n",
    "    .fillna(train['rougher.input.floatbank11_xanthate'].median()))\n",
    "test['rougher.input.floatbank11_xanthate'] =(\n",
    "    test['rougher.input.floatbank11_xanthate']\n",
    "    .fillna(test['rougher.input.floatbank11_xanthate'].median()))"
   ]
  },
  {
   "cell_type": "code",
   "execution_count": 24,
   "metadata": {},
   "outputs": [],
   "source": [
    "df['rougher.state.floatbank10_e_air'] =(\n",
    "    df['rougher.state.floatbank10_e_air']\n",
    "    .fillna(df['rougher.state.floatbank10_e_air'].median()))\n",
    "train['rougher.state.floatbank10_e_air'] =(\n",
    "    train['rougher.state.floatbank10_e_air']\n",
    "    .fillna(train['rougher.state.floatbank10_e_air'].median()))\n",
    "test['rougher.state.floatbank10_e_air'] =(\n",
    "    test['rougher.state.floatbank10_e_air']\n",
    "    .fillna(test['rougher.state.floatbank10_e_air'].median()))"
   ]
  },
  {
   "cell_type": "code",
   "execution_count": 25,
   "metadata": {},
   "outputs": [],
   "source": [
    "df['secondary_cleaner.state.floatbank2_a_air'] =(\n",
    "    df['secondary_cleaner.state.floatbank2_a_air']\n",
    "    .fillna(df['secondary_cleaner.state.floatbank2_a_air'].median()))\n",
    "train['secondary_cleaner.state.floatbank2_a_air'] =(\n",
    "    train['secondary_cleaner.state.floatbank2_a_air']\n",
    "    .fillna(train['secondary_cleaner.state.floatbank2_a_air'].median()))\n",
    "test['secondary_cleaner.state.floatbank2_a_air'] =(\n",
    "    test['secondary_cleaner.state.floatbank2_a_air']\n",
    "    .fillna(test['secondary_cleaner.state.floatbank2_a_air'].median()))"
   ]
  },
  {
   "cell_type": "code",
   "execution_count": 26,
   "metadata": {},
   "outputs": [],
   "source": [
    "df['primary_cleaner.output.concentrate_sol'] =(\n",
    "    df['primary_cleaner.output.concentrate_sol']\n",
    "    .fillna(df['primary_cleaner.output.concentrate_sol'].median()))\n",
    "train['primary_cleaner.output.concentrate_sol'] =(\n",
    "    train['primary_cleaner.output.concentrate_sol']\n",
    "    .fillna(train['primary_cleaner.output.concentrate_sol'].median()))"
   ]
  },
  {
   "cell_type": "markdown",
   "metadata": {},
   "source": [
    "<!-- df['final.output.concentrate_sol'] = df.fillna(df['final.output.concentrate_sol'].median()) -->\n",
    "<!-- # train['final.output.concentrate_sol'] = train.fillna(df['final.output.concentrate_sol'].median()) -->\n",
    "<!--  -->\n",
    "<!-- df['rougher.input.feed_size'] = df.fillna(df['rougher.input.feed_size'].median()) -->\n",
    "<!-- # train['rougher.input.feed_size'] = train.fillna(df['rougher.input.feed_size'].median()) -->\n",
    "<!-- test['rougher.input.feed_size'] = test.fillna(df['rougher.input.feed_size'].median()) -->\n",
    "<!--  -->\n",
    "<!-- df['primary_cleaner.output.concentrate_pb'] = df.fillna(df['primary_cleaner.output.concentrate_pb'].median()) -->\n",
    "<!-- # train['primary_cleaner.output.concentrate_pb'] = train.fillna(df['primary_cleaner.output.concentrate_pb'].median()) -->\n",
    "<!--  -->\n",
    "<!-- df['primary_cleaner.input.xanthate'] = df.fillna(df['primary_cleaner.input.xanthate'].median()) -->\n",
    "<!-- # train['primary_cleaner.input.xanthate'] = train.fillna(df['primary_cleaner.input.xanthate'].median()) -->\n",
    "<!-- test['primary_cleaner.input.xanthate'] = test.fillna(df['primary_cleaner.input.xanthate'].median()) -->\n",
    "<!--  -->\n",
    "<!-- df['final.output.tail_pb'] = df.fillna(df['final.output.tail_pb'].median()) -->\n",
    "<!-- # train['final.output.tail_pb'] = train.fillna(df['final.output.tail_pb'].median()) -->\n",
    "<!--  -->\n",
    "<!-- df['rougher.input.feed_pb'] = df.fillna(df['rougher.input.feed_pb'].median()) -->\n",
    "<!-- # train['rougher.input.feed_pb'] = train.fillna(df['rougher.input.feed_pb'].median()) -->\n",
    "<!-- test['rougher.input.feed_pb'] = test.fillna(df['rougher.input.feed_pb'].median()) -->"
   ]
  },
  {
   "cell_type": "markdown",
   "metadata": {},
   "source": [
    "Оценим результаты."
   ]
  },
  {
   "cell_type": "code",
   "execution_count": 27,
   "metadata": {},
   "outputs": [
    {
     "data": {
      "text/plain": [
       "((13918, 88), (4706, 55), (18534, 87))"
      ]
     },
     "execution_count": 27,
     "metadata": {},
     "output_type": "execute_result"
    }
   ],
   "source": [
    "df = df.dropna(axis='rows')\n",
    "train = train.dropna(axis='rows')\n",
    "test = test.dropna(axis='rows')\n",
    "train.shape, test.shape, df.shape"
   ]
  },
  {
   "cell_type": "markdown",
   "metadata": {},
   "source": [
    "Потери данных после очистки от неизвестных значений не превышают 5%.\n",
    "\n",
    "Поменяем тип данных у первого столбца каждого дата фрейма  **date** c *object* на *datetime64*"
   ]
  },
  {
   "cell_type": "code",
   "execution_count": 28,
   "metadata": {},
   "outputs": [],
   "source": [
    "# смена типов даных с обьекта на дату \n",
    "df['date'] = pd.to_datetime(df['date'])\n",
    "train['date'] = pd.to_datetime(train['date'])\n",
    "test['date'] = pd.to_datetime(test['date'])"
   ]
  },
  {
   "cell_type": "markdown",
   "metadata": {},
   "source": [
    "Разделение на выборки."
   ]
  },
  {
   "cell_type": "code",
   "execution_count": 29,
   "metadata": {},
   "outputs": [
    {
     "data": {
      "text/plain": [
       "((13918, 84), (13918,), (13918,), (4706, 55))"
      ]
     },
     "execution_count": 29,
     "metadata": {},
     "output_type": "execute_result"
    }
   ],
   "source": [
    "test_t = test.drop(['date'],axis=1)\n",
    "train_features = train.drop(['date','rougher.output.recovery', 'final.output.recovery','recalculation_rougher_output_recovery' ], axis=1)       \n",
    "train_rougher_target = train['rougher.output.recovery'] \n",
    "train_final_target = train['final.output.recovery']\n",
    "train_features.shape, train_rougher_target.shape, train_final_target.shape, test.shape"
   ]
  },
  {
   "cell_type": "markdown",
   "metadata": {},
   "source": [
    "Также соберем тестовую выборку."
   ]
  },
  {
   "cell_type": "code",
   "execution_count": 30,
   "metadata": {},
   "outputs": [
    {
     "data": {
      "text/plain": [
       "((4706, 52), (4706,))"
      ]
     },
     "execution_count": 30,
     "metadata": {},
     "output_type": "execute_result"
    }
   ],
   "source": [
    "test_features = test_t.drop(['rougher.output.recovery', 'final.output.recovery'], axis=1)       \n",
    "test_rougher_target = test_t['rougher.output.recovery'] \n",
    "test_final_target = test_t['final.output.recovery']\n",
    "\n",
    "test_features.shape, test_rougher_target.shape"
   ]
  },
  {
   "cell_type": "markdown",
   "metadata": {},
   "source": [
    "Мы подготовили данные для обучения разных моделей, также избавились от пропусков или заменили на и более подходящими значениями. Всего было удалено меньше 5% значений."
   ]
  },
  {
   "cell_type": "markdown",
   "metadata": {},
   "source": [
    "## Анализ данных"
   ]
  },
  {
   "cell_type": "markdown",
   "metadata": {},
   "source": [
    "###  Посмотрите, как меняется концентрация металлов (Au, Ag, Pb) на различных этапах: в сырье, в черновом концентрате, в концентрате после первой очистки и в финальном концентрате. Какие особенности имеют распределения? Опишите выводы."
   ]
  },
  {
   "cell_type": "markdown",
   "metadata": {},
   "source": [
    "Построим для каждого исследуемого значения гистограмму и посмотрим на графики.\n",
    "\n",
    "- в сырье — rougher.input.feed_au, rougher.input.feed_ag, rougher.input.feed_pb\n",
    "- в черновом концентрате — rougher.output.concentrate_au,rougher.output.concentrate_ag, rougher.output.concentrate_pb\n",
    "- в концентрате после первой очистки — primary_cleaner.output.concentrate_au, primary_cleaner.output.concentrate_ag, primary_cleaner.output.concentrate_pb\n",
    "- в финальном концентрате — final.output.concentrate_au, final.output.concentrate_ag, final.output.concentrate_pb"
   ]
  },
  {
   "cell_type": "markdown",
   "metadata": {},
   "source": [
    "#### Сырьё "
   ]
  },
  {
   "cell_type": "code",
   "execution_count": 31,
   "metadata": {},
   "outputs": [
    {
     "data": {
      "image/png": "[encoded data removed]",
      "text/plain": [
       "<Figure size 1080x504 with 4 Axes>"
      ]
     },
     "metadata": {
      "needs_background": "light"
     },
     "output_type": "display_data"
    }
   ],
   "source": [
    "train.loc[:,['rougher.input.feed_au','rougher.input.feed_ag','rougher.input.feed_pb']].hist(figsize=(15,7),bins=100);"
   ]
  },
  {
   "cell_type": "markdown",
   "metadata": {},
   "source": [
    "#### Черновые концентраты "
   ]
  },
  {
   "cell_type": "code",
   "execution_count": 32,
   "metadata": {},
   "outputs": [
    {
     "data": {
      "image/png": "[encoded data removed]",
      "text/plain": [
       "<Figure size 1440x720 with 4 Axes>"
      ]
     },
     "metadata": {
      "needs_background": "light"
     },
     "output_type": "display_data"
    }
   ],
   "source": [
    "train.loc[:,['rougher.output.concentrate_au','rougher.output.concentrate_ag','rougher.output.concentrate_pb']].hist(figsize=(20,10),bins=100);"
   ]
  },
  {
   "cell_type": "markdown",
   "metadata": {},
   "source": [
    "####  Концентраты после первой очистки "
   ]
  },
  {
   "cell_type": "markdown",
   "metadata": {},
   "source": [
    "После первой обработки мы теряем около 400 значений каждого менерала."
   ]
  },
  {
   "cell_type": "code",
   "execution_count": 33,
   "metadata": {},
   "outputs": [
    {
     "data": {
      "image/png": "[encoded data removed]",
      "text/plain": [
       "<Figure size 1080x504 with 4 Axes>"
      ]
     },
     "metadata": {
      "needs_background": "light"
     },
     "output_type": "display_data"
    }
   ],
   "source": [
    "train.loc[:,['primary_cleaner.output.concentrate_au','primary_cleaner.output.concentrate_ag','primary_cleaner.output.concentrate_pb']].hist(figsize=(15,7),bins=100);"
   ]
  },
  {
   "cell_type": "markdown",
   "metadata": {},
   "source": [
    "Здесь мы видим еще потерю  200 значений"
   ]
  },
  {
   "cell_type": "markdown",
   "metadata": {},
   "source": [
    "#### Финальные концентраты"
   ]
  },
  {
   "cell_type": "code",
   "execution_count": 34,
   "metadata": {},
   "outputs": [
    {
     "data": {
      "image/png": "[encoded data removed]",
      "text/plain": [
       "<Figure size 1080x864 with 4 Axes>"
      ]
     },
     "metadata": {
      "needs_background": "light"
     },
     "output_type": "display_data"
    }
   ],
   "source": [
    "train.loc[:,['final.output.concentrate_au','final.output.concentrate_ag','final.output.concentrate_pb']].hist(figsize=(15,12),bins=100);"
   ]
  },
  {
   "cell_type": "markdown",
   "metadata": {},
   "source": [
    "После финальной очистки мы теряем ещё 100 значений. Концентрация золота в обработанном сырье в среднем достигает от 40 до 49, количество серебра уменьшается до 3 - 7, а вот свинец повышает свою среднею концентрацию оставаясь в тех же объёмах 7.5 - 12.5.\n"
   ]
  },
  {
   "cell_type": "markdown",
   "metadata": {},
   "source": [
    "### Сравните распределения размеров гранул исходного сырья на обучающей и тестовой выборках. Если распределения сильно отличаются друг от друга, оценка модели будет неправильной."
   ]
  },
  {
   "cell_type": "markdown",
   "metadata": {},
   "source": [
    "Построим гистограммы для каждой выборки, так будет комфортнее оценивать всю картину в целом."
   ]
  },
  {
   "cell_type": "markdown",
   "metadata": {},
   "source": [
    "#### Гистограмма размер гранул исходного сырья на тестовой выборке"
   ]
  },
  {
   "cell_type": "code",
   "execution_count": 35,
   "metadata": {},
   "outputs": [
    {
     "name": "stdout",
     "output_type": "stream",
     "text": [
      "55.614182843416025\n"
     ]
    },
    {
     "data": {
      "text/plain": [
       "59.1755175568041"
      ]
     },
     "execution_count": 35,
     "metadata": {},
     "output_type": "execute_result"
    },
    {
     "data": {
      "image/png": "[encoded data removed]",
      "text/plain": [
       "<Figure size 936x360 with 1 Axes>"
      ]
     },
     "metadata": {
      "needs_background": "light"
     },
     "output_type": "display_data"
    }
   ],
   "source": [
    "test['rougher.input.feed_size'].hist(figsize=(13,5),bins=200, range=(25,120));\n",
    "print(test['rougher.input.feed_size'].median())\n",
    "test['rougher.input.feed_size'].mean()"
   ]
  },
  {
   "cell_type": "markdown",
   "metadata": {},
   "source": [
    "#### Гистограмма размер гранул исходного сырья на обучающей выборке"
   ]
  },
  {
   "cell_type": "code",
   "execution_count": 36,
   "metadata": {},
   "outputs": [
    {
     "name": "stdout",
     "output_type": "stream",
     "text": [
      "54.30961835119463\n"
     ]
    },
    {
     "data": {
      "text/plain": [
       "58.7288022412683"
      ]
     },
     "execution_count": 36,
     "metadata": {},
     "output_type": "execute_result"
    },
    {
     "data": {
      "image/png": "[encoded data removed]",
      "text/plain": [
       "<Figure size 936x360 with 1 Axes>"
      ]
     },
     "metadata": {
      "needs_background": "light"
     },
     "output_type": "display_data"
    }
   ],
   "source": [
    "train['rougher.input.feed_size'].hist(figsize=(13,5),bins=200, range=(25,120));\n",
    "print(train['rougher.input.feed_size'].median())\n",
    "train['rougher.input.feed_size'].mean()"
   ]
  },
  {
   "cell_type": "code",
   "execution_count": 37,
   "metadata": {},
   "outputs": [
    {
     "data": {
      "image/png": "[encoded data removed]",
      "text/plain": [
       "<Figure size 432x288 with 1 Axes>"
      ]
     },
     "metadata": {
      "needs_background": "light"
     },
     "output_type": "display_data"
    }
   ],
   "source": [
    "sns.kdeplot(test['rougher.input.feed_size']);"
   ]
  },
  {
   "cell_type": "code",
   "execution_count": 38,
   "metadata": {},
   "outputs": [
    {
     "data": {
      "image/png": "[encoded data removed]",
      "text/plain": [
       "<Figure size 432x288 with 1 Axes>"
      ]
     },
     "metadata": {
      "needs_background": "light"
     },
     "output_type": "display_data"
    }
   ],
   "source": [
    "sns.kdeplot(train['rougher.input.feed_size']);"
   ]
  },
  {
   "cell_type": "markdown",
   "metadata": {},
   "source": [
    "Наши значения двух выборок имеют схожее распределение основных значений в диапозоне от 35 до 110. "
   ]
  },
  {
   "cell_type": "markdown",
   "metadata": {},
   "source": [
    "###  Исследуйте суммарную концентрацию металлов на разных стадиях: в сырье, в черновом концентрате, в концентрате после первой очистки и в финальном концентрате."
   ]
  },
  {
   "cell_type": "markdown",
   "metadata": {},
   "source": [
    "- в сырье — rougher.input.feed_au/rougher.input.feed_ag/rougher.input.feed_pb\n",
    "- в черновом концентрате — rougher.output.concentrate_au/rougher.output.concentrate_ag/rougher.output.concentrate_pb\n",
    "- в концентрате после первой очистки — primary_cleaner.output.concentrate_au/primary_cleaner.output.concentrate_ag/primary_cleaner.output.concentrate_pb\n",
    "- в финальном концентрате — final.output.concentrate_au/final.output.concentrate_ag/final.output.concentrate_pb"
   ]
  },
  {
   "cell_type": "markdown",
   "metadata": {},
   "source": [
    "Построим графики для возможности визуальной оценки наших показателей."
   ]
  },
  {
   "cell_type": "markdown",
   "metadata": {},
   "source": [
    "#### Cуммарная концентрация металлов на разных стадиях: в сырье"
   ]
  },
  {
   "cell_type": "code",
   "execution_count": 39,
   "metadata": {},
   "outputs": [
    {
     "data": {
      "image/png": "[encoded data removed]",
      "text/plain": [
       "<Figure size 432x288 with 1 Axes>"
      ]
     },
     "metadata": {
      "needs_background": "light"
     },
     "output_type": "display_data"
    }
   ],
   "source": [
    "#  концентрация металлов в сырье\n",
    "df['concentrat_met_input'] =( \n",
    "    df['rougher.input.feed_au'] + \n",
    "    df['rougher.input.feed_ag'] + \n",
    "    df['rougher.input.feed_pb'] + \n",
    "    df['rougher.input.feed_sol'])\n",
    "df['concentrat_met_input'].hist(bins=100);"
   ]
  },
  {
   "cell_type": "markdown",
   "metadata": {},
   "source": [
    "#### Cуммарная концентрация металлов на разных стадиях:  в черновом концентрате"
   ]
  },
  {
   "cell_type": "code",
   "execution_count": 40,
   "metadata": {},
   "outputs": [
    {
     "data": {
      "image/png": "[encoded data removed]",
      "text/plain": [
       "<Figure size 432x288 with 1 Axes>"
      ]
     },
     "metadata": {
      "needs_background": "light"
     },
     "output_type": "display_data"
    }
   ],
   "source": [
    "df['concentrat_met_rougher'] =(\n",
    "    df['rougher.output.concentrate_au'] + \n",
    "    df['rougher.output.concentrate_ag'] + \n",
    "    df['rougher.output.concentrate_pb'] + \n",
    "    df['rougher.output.concentrate_sol'])\n",
    "df['concentrat_met_rougher'].hist(bins=100);"
   ]
  },
  {
   "cell_type": "markdown",
   "metadata": {},
   "source": [
    "#### Cуммарная концентрация металлов на разных стадиях: в концентрате после первой очистки "
   ]
  },
  {
   "cell_type": "code",
   "execution_count": 41,
   "metadata": {},
   "outputs": [
    {
     "data": {
      "image/png": "[encoded data removed]",
      "text/plain": [
       "<Figure size 432x288 with 1 Axes>"
      ]
     },
     "metadata": {
      "needs_background": "light"
     },
     "output_type": "display_data"
    }
   ],
   "source": [
    "df['concentrat_met_primary_cleaner'] =(\n",
    "    df['primary_cleaner.output.concentrate_au'] + \n",
    "    df['primary_cleaner.output.concentrate_ag'] + \n",
    "    df['primary_cleaner.output.concentrate_pb'] + \n",
    "    df['primary_cleaner.output.concentrate_sol'])\n",
    "df['concentrat_met_primary_cleaner'].hist(bins=100);"
   ]
  },
  {
   "cell_type": "markdown",
   "metadata": {},
   "source": [
    "#### Cуммарная концентрация металлов на разных стадиях: в финальном концентрате"
   ]
  },
  {
   "cell_type": "code",
   "execution_count": 42,
   "metadata": {},
   "outputs": [
    {
     "data": {
      "image/png": "[encoded data removed]",
      "text/plain": [
       "<Figure size 432x288 with 1 Axes>"
      ]
     },
     "metadata": {
      "needs_background": "light"
     },
     "output_type": "display_data"
    }
   ],
   "source": [
    "df['concentrat_met_final'] =(\n",
    "    df['final.output.concentrate_au'] + \n",
    "    df['final.output.concentrate_ag'] + \n",
    "    df['final.output.concentrate_pb'] + \n",
    "    df['final.output.concentrate_sol'])\n",
    "df['concentrat_met_final'].hist(bins=100);"
   ]
  },
  {
   "cell_type": "markdown",
   "metadata": {},
   "source": [
    "Благодаря проверке суммарной концентрации металлов, на графиках видно присутствие аномалий в виде нулевых значений, уберем их из нашего дата сета."
   ]
  },
  {
   "cell_type": "code",
   "execution_count": 43,
   "metadata": {},
   "outputs": [
    {
     "data": {
      "text/plain": [
       "(18534, 91)"
      ]
     },
     "execution_count": 43,
     "metadata": {},
     "output_type": "execute_result"
    }
   ],
   "source": [
    "df.shape"
   ]
  },
  {
   "cell_type": "code",
   "execution_count": 44,
   "metadata": {},
   "outputs": [
    {
     "data": {
      "text/plain": [
       "(18017, 91)"
      ]
     },
     "execution_count": 44,
     "metadata": {},
     "output_type": "execute_result"
    }
   ],
   "source": [
    "df = df.query('concentrat_met_final > 0  and concentrat_met_primary_cleaner > 0 and concentrat_met_rougher > 0 and concentrat_met_input > 0')\n",
    "df.shape"
   ]
  },
  {
   "cell_type": "code",
   "execution_count": 45,
   "metadata": {},
   "outputs": [
    {
     "data": {
      "text/plain": [
       "(13918, 88)"
      ]
     },
     "execution_count": 45,
     "metadata": {},
     "output_type": "execute_result"
    }
   ],
   "source": [
    "train.shape"
   ]
  },
  {
   "cell_type": "code",
   "execution_count": 46,
   "metadata": {},
   "outputs": [],
   "source": [
    "train = train.set_index('date')\n",
    "df = df.set_index('date')\n",
    "train = train.loc[train.index.isin(df.index)]"
   ]
  },
  {
   "cell_type": "code",
   "execution_count": 47,
   "metadata": {},
   "outputs": [
    {
     "data": {
      "text/plain": [
       "(13401, 87)"
      ]
     },
     "execution_count": 47,
     "metadata": {},
     "output_type": "execute_result"
    }
   ],
   "source": [
    "train.shape"
   ]
  },
  {
   "cell_type": "markdown",
   "metadata": {},
   "source": [
    "## Модель"
   ]
  },
  {
   "cell_type": "markdown",
   "metadata": {},
   "source": [
    "### Напишите функцию для вычисления итоговой sMAPE."
   ]
  },
  {
   "cell_type": "markdown",
   "metadata": {},
   "source": [
    "метрика качества — sMAPE (англ. Symmetric Mean Absolute Percentage Error, «симметричное среднее абсолютное процентное отклонение»).  \n",
    "\n",
    "Нужно спрогнозировать сразу две величины:\n",
    "- эффективность обогащения чернового концентрата.\n",
    "**rougher.output.recovery**;\n",
    "- эффективность обогащения финального концентрата.\n",
    "**final.output.recovery**.\n",
    "\n",
    "Итоговая метрика складывается из двух величин:\n",
    "\n",
    "Итоговое sMAPE= 0.25 x sMAPE(rougher) + 0.75 x sMAPE(final)"
   ]
  },
  {
   "cell_type": "markdown",
   "metadata": {},
   "source": [
    "Подготовим функцию для расчёта метрики."
   ]
  },
  {
   "cell_type": "code",
   "execution_count": 49,
   "metadata": {},
   "outputs": [],
   "source": [
    "def sMAPE(target, predicted):\n",
    "    \n",
    "    sMAPE =(\n",
    "        1/n * (sum(abs(target - predicted)) / sum((abs(target) + abs(predicted)) / 2)) * 100)\n",
    "    \n",
    "    return sMAPE"
   ]
  },
  {
   "cell_type": "markdown",
   "metadata": {},
   "source": [
    "### Обучите разные модели и оцените их качество кросс-валидацией. Выберите лучшую модель и проверьте её на тестовой выборке. Опишите выводы."
   ]
  },
  {
   "cell_type": "markdown",
   "metadata": {},
   "source": [
    "Начнем с линейной регрессии."
   ]
  },
  {
   "cell_type": "markdown",
   "metadata": {},
   "source": [
    "Что бы наша выборка была приближенна к реальным значениям сократим данные в обучающей выборке до тестовой и сандатизируем данные."
   ]
  },
  {
   "cell_type": "code",
   "execution_count": 50,
   "metadata": {},
   "outputs": [],
   "source": [
    "train_features_1 = train.drop(['recalculation_rougher_output_recovery' ], axis=1)       "
   ]
  },
  {
   "cell_type": "code",
   "execution_count": 51,
   "metadata": {},
   "outputs": [
    {
     "data": {
      "text/html": [
       "<div>\n",
       "<style scoped>\n",
       "    .dataframe tbody tr th:only-of-type {\n",
       "        vertical-align: middle;\n",
       "    }\n",
       "\n",
       "    .dataframe tbody tr th {\n",
       "        vertical-align: top;\n",
       "    }\n",
       "\n",
       "    .dataframe thead th {\n",
       "        text-align: right;\n",
       "    }\n",
       "</style>\n",
       "<table border=\"1\" class=\"dataframe\">\n",
       "  <thead>\n",
       "    <tr style=\"text-align: right;\">\n",
       "      <th></th>\n",
       "      <th>rougher.input.feed_au</th>\n",
       "      <th>rougher.input.feed_ag</th>\n",
       "      <th>rougher.input.feed_pb</th>\n",
       "      <th>rougher.input.feed_sol</th>\n",
       "      <th>rougher.input.feed_rate</th>\n",
       "      <th>rougher.input.feed_size</th>\n",
       "      <th>rougher.input.floatbank10_sulfate</th>\n",
       "      <th>rougher.input.floatbank10_xanthate</th>\n",
       "      <th>rougher.state.floatbank10_a_air</th>\n",
       "      <th>rougher.state.floatbank10_a_level</th>\n",
       "      <th>rougher.state.floatbank10_b_air</th>\n",
       "      <th>rougher.state.floatbank10_b_level</th>\n",
       "      <th>rougher.state.floatbank10_c_air</th>\n",
       "      <th>rougher.state.floatbank10_c_level</th>\n",
       "      <th>rougher.state.floatbank10_d_air</th>\n",
       "      <th>rougher.state.floatbank10_d_level</th>\n",
       "      <th>rougher.state.floatbank10_e_air</th>\n",
       "      <th>rougher.state.floatbank10_e_level</th>\n",
       "      <th>rougher.state.floatbank10_f_air</th>\n",
       "      <th>rougher.state.floatbank10_f_level</th>\n",
       "      <th>rougher.input.floatbank11_sulfate</th>\n",
       "      <th>rougher.input.floatbank11_xanthate</th>\n",
       "      <th>rougher.calculation.sulfate_to_au_concentrate</th>\n",
       "      <th>rougher.calculation.floatbank10_sulfate_to_au_feed</th>\n",
       "      <th>rougher.calculation.floatbank11_sulfate_to_au_feed</th>\n",
       "      <th>rougher.calculation.au_pb_ratio</th>\n",
       "      <th>rougher.output.concentrate_au</th>\n",
       "      <th>rougher.output.concentrate_ag</th>\n",
       "      <th>rougher.output.concentrate_pb</th>\n",
       "      <th>rougher.output.concentrate_sol</th>\n",
       "      <th>rougher.output.recovery</th>\n",
       "      <th>rougher.output.tail_au</th>\n",
       "      <th>rougher.output.tail_ag</th>\n",
       "      <th>rougher.output.tail_pb</th>\n",
       "      <th>rougher.output.tail_sol</th>\n",
       "      <th>primary_cleaner.input.sulfate</th>\n",
       "      <th>primary_cleaner.input.depressant</th>\n",
       "      <th>primary_cleaner.input.feed_size</th>\n",
       "      <th>primary_cleaner.input.xanthate</th>\n",
       "      <th>primary_cleaner.state.floatbank8_a_air</th>\n",
       "      <th>primary_cleaner.state.floatbank8_a_level</th>\n",
       "      <th>primary_cleaner.state.floatbank8_b_air</th>\n",
       "      <th>primary_cleaner.state.floatbank8_b_level</th>\n",
       "      <th>primary_cleaner.state.floatbank8_c_air</th>\n",
       "      <th>primary_cleaner.state.floatbank8_c_level</th>\n",
       "      <th>primary_cleaner.state.floatbank8_d_air</th>\n",
       "      <th>primary_cleaner.state.floatbank8_d_level</th>\n",
       "      <th>primary_cleaner.output.concentrate_au</th>\n",
       "      <th>primary_cleaner.output.concentrate_ag</th>\n",
       "      <th>primary_cleaner.output.concentrate_pb</th>\n",
       "      <th>primary_cleaner.output.concentrate_sol</th>\n",
       "      <th>primary_cleaner.output.tail_au</th>\n",
       "      <th>primary_cleaner.output.tail_ag</th>\n",
       "      <th>primary_cleaner.output.tail_pb</th>\n",
       "      <th>primary_cleaner.output.tail_sol</th>\n",
       "      <th>secondary_cleaner.state.floatbank2_a_air</th>\n",
       "      <th>secondary_cleaner.state.floatbank2_a_level</th>\n",
       "      <th>secondary_cleaner.state.floatbank2_b_air</th>\n",
       "      <th>secondary_cleaner.state.floatbank2_b_level</th>\n",
       "      <th>secondary_cleaner.state.floatbank3_a_air</th>\n",
       "      <th>secondary_cleaner.state.floatbank3_a_level</th>\n",
       "      <th>secondary_cleaner.state.floatbank3_b_air</th>\n",
       "      <th>secondary_cleaner.state.floatbank3_b_level</th>\n",
       "      <th>secondary_cleaner.state.floatbank4_a_air</th>\n",
       "      <th>secondary_cleaner.state.floatbank4_a_level</th>\n",
       "      <th>secondary_cleaner.state.floatbank4_b_air</th>\n",
       "      <th>secondary_cleaner.state.floatbank4_b_level</th>\n",
       "      <th>secondary_cleaner.state.floatbank5_a_air</th>\n",
       "      <th>secondary_cleaner.state.floatbank5_a_level</th>\n",
       "      <th>secondary_cleaner.state.floatbank5_b_air</th>\n",
       "      <th>secondary_cleaner.state.floatbank5_b_level</th>\n",
       "      <th>secondary_cleaner.state.floatbank6_a_air</th>\n",
       "      <th>secondary_cleaner.state.floatbank6_a_level</th>\n",
       "      <th>secondary_cleaner.output.tail_au</th>\n",
       "      <th>secondary_cleaner.output.tail_ag</th>\n",
       "      <th>secondary_cleaner.output.tail_pb</th>\n",
       "      <th>secondary_cleaner.output.tail_sol</th>\n",
       "      <th>final.output.concentrate_au</th>\n",
       "      <th>final.output.concentrate_ag</th>\n",
       "      <th>final.output.concentrate_pb</th>\n",
       "      <th>final.output.concentrate_sol</th>\n",
       "      <th>final.output.recovery</th>\n",
       "      <th>final.output.tail_au</th>\n",
       "      <th>final.output.tail_ag</th>\n",
       "      <th>final.output.tail_pb</th>\n",
       "      <th>final.output.tail_sol</th>\n",
       "    </tr>\n",
       "  </thead>\n",
       "  <tbody>\n",
       "    <tr>\n",
       "      <th>0</th>\n",
       "      <td>-1.050378</td>\n",
       "      <td>-1.467796</td>\n",
       "      <td>-1.292468</td>\n",
       "      <td>0.013271</td>\n",
       "      <td>0.431336</td>\n",
       "      <td>-0.155792</td>\n",
       "      <td>-0.165642</td>\n",
       "      <td>-0.056765</td>\n",
       "      <td>-0.653811</td>\n",
       "      <td>-0.271403</td>\n",
       "      <td>1.568385</td>\n",
       "      <td>0.540135</td>\n",
       "      <td>1.442307</td>\n",
       "      <td>0.422975</td>\n",
       "      <td>1.872688</td>\n",
       "      <td>0.267070</td>\n",
       "      <td>1.906394</td>\n",
       "      <td>0.138614</td>\n",
       "      <td>2.359748</td>\n",
       "      <td>0.201193</td>\n",
       "      <td>-0.104482</td>\n",
       "      <td>-0.101762</td>\n",
       "      <td>-0.016736</td>\n",
       "      <td>0.019184</td>\n",
       "      <td>0.048569</td>\n",
       "      <td>0.600586</td>\n",
       "      <td>-0.217518</td>\n",
       "      <td>-0.374138</td>\n",
       "      <td>-0.457100</td>\n",
       "      <td>-0.366764</td>\n",
       "      <td>0.255474</td>\n",
       "      <td>-1.039107</td>\n",
       "      <td>-0.592532</td>\n",
       "      <td>-0.603171</td>\n",
       "      <td>0.324340</td>\n",
       "      <td>-0.502199</td>\n",
       "      <td>0.364198</td>\n",
       "      <td>-0.100061</td>\n",
       "      <td>-0.093710</td>\n",
       "      <td>-0.326234</td>\n",
       "      <td>-0.233558</td>\n",
       "      <td>-0.329735</td>\n",
       "      <td>-0.752660</td>\n",
       "      <td>-0.289726</td>\n",
       "      <td>-0.203741</td>\n",
       "      <td>0.007598</td>\n",
       "      <td>-0.103758</td>\n",
       "      <td>0.398439</td>\n",
       "      <td>-0.030956</td>\n",
       "      <td>0.214373</td>\n",
       "      <td>2.333921</td>\n",
       "      <td>-1.207730</td>\n",
       "      <td>-0.331749</td>\n",
       "      <td>-0.633685</td>\n",
       "      <td>-0.287753</td>\n",
       "      <td>-0.509667</td>\n",
       "      <td>0.075561</td>\n",
       "      <td>-0.023519</td>\n",
       "      <td>0.034688</td>\n",
       "      <td>-0.688577</td>\n",
       "      <td>-0.194359</td>\n",
       "      <td>-0.044503</td>\n",
       "      <td>-0.145798</td>\n",
       "      <td>-0.924163</td>\n",
       "      <td>-0.372764</td>\n",
       "      <td>-0.583208</td>\n",
       "      <td>-0.678286</td>\n",
       "      <td>-1.022388</td>\n",
       "      <td>-0.309629</td>\n",
       "      <td>-0.750098</td>\n",
       "      <td>-0.382729</td>\n",
       "      <td>-0.881942</td>\n",
       "      <td>-2.717639</td>\n",
       "      <td>-0.758747</td>\n",
       "      <td>-0.009124</td>\n",
       "      <td>-0.347901</td>\n",
       "      <td>0.475314</td>\n",
       "      <td>-0.582834</td>\n",
       "      <td>0.653706</td>\n",
       "      <td>-0.088500</td>\n",
       "      <td>-1.540875</td>\n",
       "      <td>0.341864</td>\n",
       "      <td>-1.082526</td>\n",
       "      <td>0.271473</td>\n",
       "      <td>-1.960448</td>\n",
       "      <td>2.252427</td>\n",
       "    </tr>\n",
       "    <tr>\n",
       "      <th>1</th>\n",
       "      <td>-1.054453</td>\n",
       "      <td>-1.436176</td>\n",
       "      <td>-1.310615</td>\n",
       "      <td>-0.195480</td>\n",
       "      <td>0.448101</td>\n",
       "      <td>-0.071752</td>\n",
       "      <td>-0.170421</td>\n",
       "      <td>-0.058836</td>\n",
       "      <td>-0.650219</td>\n",
       "      <td>-0.229002</td>\n",
       "      <td>1.555744</td>\n",
       "      <td>0.268564</td>\n",
       "      <td>1.433174</td>\n",
       "      <td>0.284725</td>\n",
       "      <td>1.880406</td>\n",
       "      <td>0.291207</td>\n",
       "      <td>1.875643</td>\n",
       "      <td>0.216226</td>\n",
       "      <td>2.259634</td>\n",
       "      <td>0.231666</td>\n",
       "      <td>-0.061560</td>\n",
       "      <td>-0.095265</td>\n",
       "      <td>-0.015538</td>\n",
       "      <td>0.022185</td>\n",
       "      <td>0.043727</td>\n",
       "      <td>0.631095</td>\n",
       "      <td>-0.110099</td>\n",
       "      <td>-0.319669</td>\n",
       "      <td>-0.325845</td>\n",
       "      <td>-0.357766</td>\n",
       "      <td>0.219317</td>\n",
       "      <td>-1.016519</td>\n",
       "      <td>-0.641332</td>\n",
       "      <td>-0.485088</td>\n",
       "      <td>0.268027</td>\n",
       "      <td>-0.536335</td>\n",
       "      <td>0.415718</td>\n",
       "      <td>-0.100061</td>\n",
       "      <td>-0.066804</td>\n",
       "      <td>-0.116531</td>\n",
       "      <td>-0.301621</td>\n",
       "      <td>-0.137509</td>\n",
       "      <td>-0.228155</td>\n",
       "      <td>-0.091166</td>\n",
       "      <td>-0.225184</td>\n",
       "      <td>0.092845</td>\n",
       "      <td>-0.233732</td>\n",
       "      <td>0.387028</td>\n",
       "      <td>-0.025049</td>\n",
       "      <td>0.260067</td>\n",
       "      <td>2.291785</td>\n",
       "      <td>-1.043258</td>\n",
       "      <td>0.041234</td>\n",
       "      <td>-0.264747</td>\n",
       "      <td>-0.637544</td>\n",
       "      <td>-0.504541</td>\n",
       "      <td>0.048622</td>\n",
       "      <td>-0.024247</td>\n",
       "      <td>0.052262</td>\n",
       "      <td>-0.687124</td>\n",
       "      <td>-0.282003</td>\n",
       "      <td>-0.018294</td>\n",
       "      <td>-0.148249</td>\n",
       "      <td>-0.928917</td>\n",
       "      <td>-0.434924</td>\n",
       "      <td>-0.614069</td>\n",
       "      <td>-0.627170</td>\n",
       "      <td>-1.001360</td>\n",
       "      <td>-0.362820</td>\n",
       "      <td>-0.768263</td>\n",
       "      <td>-0.385660</td>\n",
       "      <td>-0.909669</td>\n",
       "      <td>-2.553288</td>\n",
       "      <td>-0.811734</td>\n",
       "      <td>-0.063475</td>\n",
       "      <td>-0.385744</td>\n",
       "      <td>0.532621</td>\n",
       "      <td>-0.446963</td>\n",
       "      <td>0.633659</td>\n",
       "      <td>-0.034511</td>\n",
       "      <td>-1.633015</td>\n",
       "      <td>0.186405</td>\n",
       "      <td>-0.988604</td>\n",
       "      <td>0.293292</td>\n",
       "      <td>-1.926445</td>\n",
       "      <td>2.155286</td>\n",
       "    </tr>\n",
       "    <tr>\n",
       "      <th>2</th>\n",
       "      <td>-1.117112</td>\n",
       "      <td>-1.459426</td>\n",
       "      <td>-1.412898</td>\n",
       "      <td>-0.152305</td>\n",
       "      <td>0.493621</td>\n",
       "      <td>-0.060873</td>\n",
       "      <td>-0.186100</td>\n",
       "      <td>0.119641</td>\n",
       "      <td>-0.653733</td>\n",
       "      <td>-0.229096</td>\n",
       "      <td>1.547805</td>\n",
       "      <td>0.267583</td>\n",
       "      <td>1.429286</td>\n",
       "      <td>0.282479</td>\n",
       "      <td>1.877114</td>\n",
       "      <td>0.291197</td>\n",
       "      <td>1.875373</td>\n",
       "      <td>0.231979</td>\n",
       "      <td>2.263228</td>\n",
       "      <td>0.224835</td>\n",
       "      <td>-0.081983</td>\n",
       "      <td>0.088903</td>\n",
       "      <td>-0.015776</td>\n",
       "      <td>0.021638</td>\n",
       "      <td>0.045701</td>\n",
       "      <td>0.761759</td>\n",
       "      <td>-0.241176</td>\n",
       "      <td>-0.281862</td>\n",
       "      <td>-0.371613</td>\n",
       "      <td>-0.503824</td>\n",
       "      <td>0.219187</td>\n",
       "      <td>-1.051006</td>\n",
       "      <td>-0.745086</td>\n",
       "      <td>-0.444014</td>\n",
       "      <td>0.221352</td>\n",
       "      <td>-0.578562</td>\n",
       "      <td>0.728604</td>\n",
       "      <td>-0.100061</td>\n",
       "      <td>-0.088860</td>\n",
       "      <td>0.085214</td>\n",
       "      <td>-0.270637</td>\n",
       "      <td>0.054088</td>\n",
       "      <td>-0.251684</td>\n",
       "      <td>0.106551</td>\n",
       "      <td>-0.276599</td>\n",
       "      <td>0.199075</td>\n",
       "      <td>-0.254887</td>\n",
       "      <td>0.356601</td>\n",
       "      <td>-0.001421</td>\n",
       "      <td>0.199419</td>\n",
       "      <td>2.238751</td>\n",
       "      <td>-1.000672</td>\n",
       "      <td>0.109732</td>\n",
       "      <td>-0.210977</td>\n",
       "      <td>-0.761093</td>\n",
       "      <td>-0.481235</td>\n",
       "      <td>0.049728</td>\n",
       "      <td>-0.024753</td>\n",
       "      <td>0.059409</td>\n",
       "      <td>-0.696588</td>\n",
       "      <td>-0.270315</td>\n",
       "      <td>0.319360</td>\n",
       "      <td>-0.158777</td>\n",
       "      <td>-0.924515</td>\n",
       "      <td>-0.373442</td>\n",
       "      <td>-0.621866</td>\n",
       "      <td>-0.624177</td>\n",
       "      <td>-0.995499</td>\n",
       "      <td>-0.361652</td>\n",
       "      <td>-0.762690</td>\n",
       "      <td>-0.383957</td>\n",
       "      <td>-0.904175</td>\n",
       "      <td>-2.597809</td>\n",
       "      <td>-0.825240</td>\n",
       "      <td>-0.098166</td>\n",
       "      <td>-0.373819</td>\n",
       "      <td>0.494247</td>\n",
       "      <td>-0.458728</td>\n",
       "      <td>0.654109</td>\n",
       "      <td>0.132330</td>\n",
       "      <td>-1.586500</td>\n",
       "      <td>0.046220</td>\n",
       "      <td>-0.950752</td>\n",
       "      <td>0.312381</td>\n",
       "      <td>-1.898543</td>\n",
       "      <td>2.002017</td>\n",
       "    </tr>\n",
       "  </tbody>\n",
       "</table>\n",
       "</div>"
      ],
      "text/plain": [
       "   rougher.input.feed_au  rougher.input.feed_ag  rougher.input.feed_pb  \\\n",
       "0              -1.050378              -1.467796              -1.292468   \n",
       "1              -1.054453              -1.436176              -1.310615   \n",
       "2              -1.117112              -1.459426              -1.412898   \n",
       "\n",
       "   rougher.input.feed_sol  rougher.input.feed_rate  rougher.input.feed_size  \\\n",
       "0                0.013271                 0.431336                -0.155792   \n",
       "1               -0.195480                 0.448101                -0.071752   \n",
       "2               -0.152305                 0.493621                -0.060873   \n",
       "\n",
       "   rougher.input.floatbank10_sulfate  rougher.input.floatbank10_xanthate  \\\n",
       "0                          -0.165642                           -0.056765   \n",
       "1                          -0.170421                           -0.058836   \n",
       "2                          -0.186100                            0.119641   \n",
       "\n",
       "   rougher.state.floatbank10_a_air  rougher.state.floatbank10_a_level  \\\n",
       "0                        -0.653811                          -0.271403   \n",
       "1                        -0.650219                          -0.229002   \n",
       "2                        -0.653733                          -0.229096   \n",
       "\n",
       "   rougher.state.floatbank10_b_air  rougher.state.floatbank10_b_level  \\\n",
       "0                         1.568385                           0.540135   \n",
       "1                         1.555744                           0.268564   \n",
       "2                         1.547805                           0.267583   \n",
       "\n",
       "   rougher.state.floatbank10_c_air  rougher.state.floatbank10_c_level  \\\n",
       "0                         1.442307                           0.422975   \n",
       "1                         1.433174                           0.284725   \n",
       "2                         1.429286                           0.282479   \n",
       "\n",
       "   rougher.state.floatbank10_d_air  rougher.state.floatbank10_d_level  \\\n",
       "0                         1.872688                           0.267070   \n",
       "1                         1.880406                           0.291207   \n",
       "2                         1.877114                           0.291197   \n",
       "\n",
       "   rougher.state.floatbank10_e_air  rougher.state.floatbank10_e_level  \\\n",
       "0                         1.906394                           0.138614   \n",
       "1                         1.875643                           0.216226   \n",
       "2                         1.875373                           0.231979   \n",
       "\n",
       "   rougher.state.floatbank10_f_air  rougher.state.floatbank10_f_level  \\\n",
       "0                         2.359748                           0.201193   \n",
       "1                         2.259634                           0.231666   \n",
       "2                         2.263228                           0.224835   \n",
       "\n",
       "   rougher.input.floatbank11_sulfate  rougher.input.floatbank11_xanthate  \\\n",
       "0                          -0.104482                           -0.101762   \n",
       "1                          -0.061560                           -0.095265   \n",
       "2                          -0.081983                            0.088903   \n",
       "\n",
       "   rougher.calculation.sulfate_to_au_concentrate  \\\n",
       "0                                      -0.016736   \n",
       "1                                      -0.015538   \n",
       "2                                      -0.015776   \n",
       "\n",
       "   rougher.calculation.floatbank10_sulfate_to_au_feed  \\\n",
       "0                                           0.019184    \n",
       "1                                           0.022185    \n",
       "2                                           0.021638    \n",
       "\n",
       "   rougher.calculation.floatbank11_sulfate_to_au_feed  \\\n",
       "0                                           0.048569    \n",
       "1                                           0.043727    \n",
       "2                                           0.045701    \n",
       "\n",
       "   rougher.calculation.au_pb_ratio  rougher.output.concentrate_au  \\\n",
       "0                         0.600586                      -0.217518   \n",
       "1                         0.631095                      -0.110099   \n",
       "2                         0.761759                      -0.241176   \n",
       "\n",
       "   rougher.output.concentrate_ag  rougher.output.concentrate_pb  \\\n",
       "0                      -0.374138                      -0.457100   \n",
       "1                      -0.319669                      -0.325845   \n",
       "2                      -0.281862                      -0.371613   \n",
       "\n",
       "   rougher.output.concentrate_sol  rougher.output.recovery  \\\n",
       "0                       -0.366764                 0.255474   \n",
       "1                       -0.357766                 0.219317   \n",
       "2                       -0.503824                 0.219187   \n",
       "\n",
       "   rougher.output.tail_au  rougher.output.tail_ag  rougher.output.tail_pb  \\\n",
       "0               -1.039107               -0.592532               -0.603171   \n",
       "1               -1.016519               -0.641332               -0.485088   \n",
       "2               -1.051006               -0.745086               -0.444014   \n",
       "\n",
       "   rougher.output.tail_sol  primary_cleaner.input.sulfate  \\\n",
       "0                 0.324340                      -0.502199   \n",
       "1                 0.268027                      -0.536335   \n",
       "2                 0.221352                      -0.578562   \n",
       "\n",
       "   primary_cleaner.input.depressant  primary_cleaner.input.feed_size  \\\n",
       "0                          0.364198                        -0.100061   \n",
       "1                          0.415718                        -0.100061   \n",
       "2                          0.728604                        -0.100061   \n",
       "\n",
       "   primary_cleaner.input.xanthate  primary_cleaner.state.floatbank8_a_air  \\\n",
       "0                       -0.093710                               -0.326234   \n",
       "1                       -0.066804                               -0.116531   \n",
       "2                       -0.088860                                0.085214   \n",
       "\n",
       "   primary_cleaner.state.floatbank8_a_level  \\\n",
       "0                                 -0.233558   \n",
       "1                                 -0.301621   \n",
       "2                                 -0.270637   \n",
       "\n",
       "   primary_cleaner.state.floatbank8_b_air  \\\n",
       "0                               -0.329735   \n",
       "1                               -0.137509   \n",
       "2                                0.054088   \n",
       "\n",
       "   primary_cleaner.state.floatbank8_b_level  \\\n",
       "0                                 -0.752660   \n",
       "1                                 -0.228155   \n",
       "2                                 -0.251684   \n",
       "\n",
       "   primary_cleaner.state.floatbank8_c_air  \\\n",
       "0                               -0.289726   \n",
       "1                               -0.091166   \n",
       "2                                0.106551   \n",
       "\n",
       "   primary_cleaner.state.floatbank8_c_level  \\\n",
       "0                                 -0.203741   \n",
       "1                                 -0.225184   \n",
       "2                                 -0.276599   \n",
       "\n",
       "   primary_cleaner.state.floatbank8_d_air  \\\n",
       "0                                0.007598   \n",
       "1                                0.092845   \n",
       "2                                0.199075   \n",
       "\n",
       "   primary_cleaner.state.floatbank8_d_level  \\\n",
       "0                                 -0.103758   \n",
       "1                                 -0.233732   \n",
       "2                                 -0.254887   \n",
       "\n",
       "   primary_cleaner.output.concentrate_au  \\\n",
       "0                               0.398439   \n",
       "1                               0.387028   \n",
       "2                               0.356601   \n",
       "\n",
       "   primary_cleaner.output.concentrate_ag  \\\n",
       "0                              -0.030956   \n",
       "1                              -0.025049   \n",
       "2                              -0.001421   \n",
       "\n",
       "   primary_cleaner.output.concentrate_pb  \\\n",
       "0                               0.214373   \n",
       "1                               0.260067   \n",
       "2                               0.199419   \n",
       "\n",
       "   primary_cleaner.output.concentrate_sol  primary_cleaner.output.tail_au  \\\n",
       "0                                2.333921                       -1.207730   \n",
       "1                                2.291785                       -1.043258   \n",
       "2                                2.238751                       -1.000672   \n",
       "\n",
       "   primary_cleaner.output.tail_ag  primary_cleaner.output.tail_pb  \\\n",
       "0                       -0.331749                       -0.633685   \n",
       "1                        0.041234                       -0.264747   \n",
       "2                        0.109732                       -0.210977   \n",
       "\n",
       "   primary_cleaner.output.tail_sol  secondary_cleaner.state.floatbank2_a_air  \\\n",
       "0                        -0.287753                                 -0.509667   \n",
       "1                        -0.637544                                 -0.504541   \n",
       "2                        -0.761093                                 -0.481235   \n",
       "\n",
       "   secondary_cleaner.state.floatbank2_a_level  \\\n",
       "0                                    0.075561   \n",
       "1                                    0.048622   \n",
       "2                                    0.049728   \n",
       "\n",
       "   secondary_cleaner.state.floatbank2_b_air  \\\n",
       "0                                 -0.023519   \n",
       "1                                 -0.024247   \n",
       "2                                 -0.024753   \n",
       "\n",
       "   secondary_cleaner.state.floatbank2_b_level  \\\n",
       "0                                    0.034688   \n",
       "1                                    0.052262   \n",
       "2                                    0.059409   \n",
       "\n",
       "   secondary_cleaner.state.floatbank3_a_air  \\\n",
       "0                                 -0.688577   \n",
       "1                                 -0.687124   \n",
       "2                                 -0.696588   \n",
       "\n",
       "   secondary_cleaner.state.floatbank3_a_level  \\\n",
       "0                                   -0.194359   \n",
       "1                                   -0.282003   \n",
       "2                                   -0.270315   \n",
       "\n",
       "   secondary_cleaner.state.floatbank3_b_air  \\\n",
       "0                                 -0.044503   \n",
       "1                                 -0.018294   \n",
       "2                                  0.319360   \n",
       "\n",
       "   secondary_cleaner.state.floatbank3_b_level  \\\n",
       "0                                   -0.145798   \n",
       "1                                   -0.148249   \n",
       "2                                   -0.158777   \n",
       "\n",
       "   secondary_cleaner.state.floatbank4_a_air  \\\n",
       "0                                 -0.924163   \n",
       "1                                 -0.928917   \n",
       "2                                 -0.924515   \n",
       "\n",
       "   secondary_cleaner.state.floatbank4_a_level  \\\n",
       "0                                   -0.372764   \n",
       "1                                   -0.434924   \n",
       "2                                   -0.373442   \n",
       "\n",
       "   secondary_cleaner.state.floatbank4_b_air  \\\n",
       "0                                 -0.583208   \n",
       "1                                 -0.614069   \n",
       "2                                 -0.621866   \n",
       "\n",
       "   secondary_cleaner.state.floatbank4_b_level  \\\n",
       "0                                   -0.678286   \n",
       "1                                   -0.627170   \n",
       "2                                   -0.624177   \n",
       "\n",
       "   secondary_cleaner.state.floatbank5_a_air  \\\n",
       "0                                 -1.022388   \n",
       "1                                 -1.001360   \n",
       "2                                 -0.995499   \n",
       "\n",
       "   secondary_cleaner.state.floatbank5_a_level  \\\n",
       "0                                   -0.309629   \n",
       "1                                   -0.362820   \n",
       "2                                   -0.361652   \n",
       "\n",
       "   secondary_cleaner.state.floatbank5_b_air  \\\n",
       "0                                 -0.750098   \n",
       "1                                 -0.768263   \n",
       "2                                 -0.762690   \n",
       "\n",
       "   secondary_cleaner.state.floatbank5_b_level  \\\n",
       "0                                   -0.382729   \n",
       "1                                   -0.385660   \n",
       "2                                   -0.383957   \n",
       "\n",
       "   secondary_cleaner.state.floatbank6_a_air  \\\n",
       "0                                 -0.881942   \n",
       "1                                 -0.909669   \n",
       "2                                 -0.904175   \n",
       "\n",
       "   secondary_cleaner.state.floatbank6_a_level  \\\n",
       "0                                   -2.717639   \n",
       "1                                   -2.553288   \n",
       "2                                   -2.597809   \n",
       "\n",
       "   secondary_cleaner.output.tail_au  secondary_cleaner.output.tail_ag  \\\n",
       "0                         -0.758747                         -0.009124   \n",
       "1                         -0.811734                         -0.063475   \n",
       "2                         -0.825240                         -0.098166   \n",
       "\n",
       "   secondary_cleaner.output.tail_pb  secondary_cleaner.output.tail_sol  \\\n",
       "0                         -0.347901                           0.475314   \n",
       "1                         -0.385744                           0.532621   \n",
       "2                         -0.373819                           0.494247   \n",
       "\n",
       "   final.output.concentrate_au  final.output.concentrate_ag  \\\n",
       "0                    -0.582834                     0.653706   \n",
       "1                    -0.446963                     0.633659   \n",
       "2                    -0.458728                     0.654109   \n",
       "\n",
       "   final.output.concentrate_pb  final.output.concentrate_sol  \\\n",
       "0                    -0.088500                     -1.540875   \n",
       "1                    -0.034511                     -1.633015   \n",
       "2                     0.132330                     -1.586500   \n",
       "\n",
       "   final.output.recovery  final.output.tail_au  final.output.tail_ag  \\\n",
       "0               0.341864             -1.082526              0.271473   \n",
       "1               0.186405             -0.988604              0.293292   \n",
       "2               0.046220             -0.950752              0.312381   \n",
       "\n",
       "   final.output.tail_pb  final.output.tail_sol  \n",
       "0             -1.960448               2.252427  \n",
       "1             -1.926445               2.155286  \n",
       "2             -1.898543               2.002017  "
      ]
     },
     "execution_count": 51,
     "metadata": {},
     "output_type": "execute_result"
    }
   ],
   "source": [
    "scaler = StandardScaler()\n",
    " \n",
    "train_features_1 = pd.DataFrame(scaler.fit_transform(train_features_1), columns = train_features_1.columns)\n",
    "scaler.fit(train_features_1)\n",
    "train_features_1.head(3)"
   ]
  },
  {
   "cell_type": "code",
   "execution_count": 52,
   "metadata": {},
   "outputs": [
    {
     "data": {
      "text/plain": [
       "\"['rougher.output.recovery', 'secondary_cleaner.output.tail_pb', 'rougher.output.concentrate_ag', 'primary_cleaner.output.concentrate_au', 'primary_cleaner.output.concentrate_pb', 'secondary_cleaner.output.tail_au', 'rougher.calculation.sulfate_to_au_concentrate', 'rougher.output.tail_ag', 'final.output.tail_ag', 'secondary_cleaner.output.tail_sol', 'rougher.output.concentrate_sol', 'primary_cleaner.output.concentrate_ag', 'primary_cleaner.output.tail_pb', 'final.output.tail_au', 'final.output.concentrate_pb', 'rougher.output.concentrate_au', 'rougher.output.tail_au', 'primary_cleaner.output.tail_sol', 'rougher.output.tail_pb', 'recalculation_rougher_output_recovery', 'rougher.calculation.floatbank10_sulfate_to_au_feed', 'rougher.output.tail_sol', 'final.output.concentrate_ag', 'rougher.calculation.floatbank11_sulfate_to_au_feed', 'final.output.recovery', 'primary_cleaner.output.tail_ag', 'final.output.tail_sol', 'secondary_cleaner.output.tail_ag', 'final.output.concentrate_sol', 'rougher.output.concentrate_pb', 'final.output.tail_pb', 'primary_cleaner.output.concentrate_sol', 'primary_cleaner.output.tail_au', 'final.output.concentrate_au', 'rougher.calculation.au_pb_ratio']\""
      ]
     },
     "execution_count": 52,
     "metadata": {},
     "output_type": "execute_result"
    }
   ],
   "source": [
    "str(list(set(train.columns) - set(test_features.columns)))"
   ]
  },
  {
   "cell_type": "code",
   "execution_count": 53,
   "metadata": {},
   "outputs": [],
   "source": [
    "train_features_1 = train_features_1.drop(['primary_cleaner.output.concentrate_pb', 'secondary_cleaner.output.tail_au',\n",
    "                         'secondary_cleaner.output.tail_pb', 'secondary_cleaner.output.tail_ag',\n",
    "                         'primary_cleaner.output.tail_ag', 'rougher.output.concentrate_sol', \n",
    "                         'rougher.calculation.sulfate_to_au_concentrate', 'rougher.output.concentrate_au',\n",
    "                         'primary_cleaner.output.concentrate_au', 'rougher.output.tail_au',\n",
    "                         'final.output.concentrate_pb', 'final.output.concentrate_ag',\n",
    "                         'rougher.output.tail_ag', 'rougher.output.tail_pb',\n",
    "                         'primary_cleaner.output.concentrate_ag',\n",
    "                         'rougher.calculation.floatbank10_sulfate_to_au_feed', 'secondary_cleaner.output.tail_sol',\n",
    "                         'rougher.output.tail_sol', 'rougher.calculation.floatbank11_sulfate_to_au_feed',\n",
    "                         'final.output.tail_au', 'primary_cleaner.output.tail_au',\n",
    "                         'rougher.output.concentrate_pb', 'final.output.tail_pb',\n",
    "                         'primary_cleaner.output.tail_sol', 'final.output.tail_ag',\n",
    "                         'final.output.concentrate_sol', 'final.output.tail_sol',\n",
    "                         'rougher.output.concentrate_ag', 'rougher.calculation.au_pb_ratio',\n",
    "                         'final.output.concentrate_au', 'primary_cleaner.output.concentrate_sol',\n",
    "                         'primary_cleaner.output.tail_pb'], axis=1)"
   ]
  },
  {
   "cell_type": "code",
   "execution_count": 54,
   "metadata": {},
   "outputs": [],
   "source": [
    "train_features = train_features_1.drop(['rougher.output.recovery', 'final.output.recovery'], axis=1)       \n",
    "train_rougher_target = train_features_1['rougher.output.recovery'] \n",
    "train_final_target = train_features_1['final.output.recovery']"
   ]
  },
  {
   "cell_type": "markdown",
   "metadata": {},
   "source": [
    "##### Предсказываем cross_val_score"
   ]
  },
  {
   "cell_type": "code",
   "execution_count": 55,
   "metadata": {},
   "outputs": [
    {
     "data": {
      "text/plain": [
       "0.008230038992205058"
      ]
     },
     "execution_count": 55,
     "metadata": {},
     "output_type": "execute_result"
    }
   ],
   "source": [
    "model_off = LinearRegression()\n",
    "def scores(model, features, train):\n",
    "    scor = cross_val_score(\n",
    "            model, \n",
    "            features,\n",
    "            train,\n",
    "            scoring=make_scorer(sMAPE, greater_is_better=False),\n",
    "            cv=5)\n",
    "    \n",
    "    return scor\n",
    "\n",
    "sMAPE_final_s = scores(model_off, train_features, train_final_target).mean()\n",
    "sMAPE_rougher_s = scores(model_off, train_features, train_rougher_target).mean()\n",
    "sMAPE_sum = 0.25 * sMAPE_rougher_s + 0.75 * sMAPE_final_s\n",
    "sMAPE_sum*-1"
   ]
  },
  {
   "cell_type": "markdown",
   "metadata": {},
   "source": [
    "##### Предсказываем cross_val_predict"
   ]
  },
  {
   "cell_type": "code",
   "execution_count": 57,
   "metadata": {},
   "outputs": [
    {
     "data": {
      "text/plain": [
       "0.008187682075701327"
      ]
     },
     "execution_count": 57,
     "metadata": {},
     "output_type": "execute_result"
    }
   ],
   "source": [
    "from sklearn.model_selection import cross_val_predict\n",
    "model_lrr = LinearRegression()\n",
    "\n",
    "def scores_predict(model, features, train):\n",
    "    scor = cross_val_predict(\n",
    "            model, \n",
    "            features,\n",
    "            train,\n",
    "            cv=5)\n",
    "    \n",
    "    return scor\n",
    "\n",
    "final_p = scores_predict(model_lrr, train_features, train_final_target)\n",
    "sMAPE_final_p = sMAPE(train_final_target, final_p)\n",
    "\n",
    "rougher_p = scores_predict(model_lrr, train_features, train_rougher_target)\n",
    "sMAPE_rougher_p = sMAPE(train_rougher_target, rougher_p)\n",
    "\n",
    "sMAPE_sum = 0.25 * sMAPE_rougher_p + 0.75 * sMAPE_final_p\n",
    "sMAPE_sum"
   ]
  },
  {
   "cell_type": "markdown",
   "metadata": {},
   "source": [
    "##### Проверка адекватности."
   ]
  },
  {
   "cell_type": "code",
   "execution_count": 58,
   "metadata": {},
   "outputs": [
    {
     "name": "stdout",
     "output_type": "stream",
     "text": [
      "константа после черновой очистки\n",
      "0.011004138348964087\n",
      "константа финальной очистки\n",
      "0.012398098150093665\n",
      "итоговая константа\n"
     ]
    },
    {
     "data": {
      "text/plain": [
       "0.012049608199811272"
      ]
     },
     "execution_count": 58,
     "metadata": {},
     "output_type": "execute_result"
    }
   ],
   "source": [
    "predicted_const_f = pd.Series(train_final_target.median(), index=train_final_target.index)\n",
    "predicted_const_r = pd.Series(train_rougher_target.median(), index=train_rougher_target.index)\n",
    "\n",
    "print(\"константа после черновой очистки\")\n",
    "print(sMAPE(train_rougher_target, predicted_const_r))\n",
    "print(\"константа финальной очистки\")\n",
    "print(sMAPE(train_final_target, predicted_const_f))\n",
    "print(\"итоговая константа\")\n",
    "0.25 * sMAPE(train_rougher_target, predicted_const_r) + 0.75 * sMAPE(train_final_target, predicted_const_f)"
   ]
  },
  {
   "cell_type": "markdown",
   "metadata": {},
   "source": [
    "Наша модель прошла проверку попбробуем подобрать боле лучшие характеристики на другой модели"
   ]
  },
  {
   "cell_type": "markdown",
   "metadata": {},
   "source": [
    "#### лес деревьев"
   ]
  },
  {
   "cell_type": "markdown",
   "metadata": {},
   "source": [
    "Теперь поберем гипперпараметры для модели **RandomForestRegressor**, с начала пройдёмся большими значениями с помощью **RandomizedSearchCV**, а после с корректируем **GridSearchCV**"
   ]
  },
  {
   "cell_type": "code",
   "execution_count": 59,
   "metadata": {},
   "outputs": [],
   "source": [
    "rfr = RandomForestRegressor()"
   ]
  },
  {
   "cell_type": "code",
   "execution_count": 60,
   "metadata": {},
   "outputs": [
    {
     "name": "stdout",
     "output_type": "stream",
     "text": [
      "-0.008492975757983424\n"
     ]
    },
    {
     "data": {
      "text/plain": [
       "RandomForestRegressor(max_depth=31, n_estimators=26)"
      ]
     },
     "execution_count": 60,
     "metadata": {},
     "output_type": "execute_result"
    }
   ],
   "source": [
    "from sklearn.model_selection import RandomizedSearchCV \n",
    "\n",
    "params = {'n_estimators': range (21, 62, 5),\n",
    "          'max_depth': range (21, 32, 5)} \n",
    "\n",
    "search = RandomizedSearchCV(estimator=rfr, param_distributions = params, scoring=make_scorer(sMAPE, greater_is_better=False), cv=3)\n",
    "search.fit(train_features, train_final_target) \n",
    "best_tree = search.best_estimator_\n",
    "print(search.best_score_)\n",
    "best_tree"
   ]
  },
  {
   "cell_type": "code",
   "execution_count": 59,
   "metadata": {},
   "outputs": [
    {
     "data": {
      "text/plain": [
       "0.011004138348964087"
      ]
     },
     "execution_count": 59,
     "metadata": {},
     "output_type": "execute_result"
    }
   ],
   "source": [
    "0.011004138348964087"
   ]
  },
  {
   "cell_type": "markdown",
   "metadata": {},
   "source": [
    "* Присматриваем параметры для **train_final_target**  \n",
    "\n",
    "    * n_estimators': range (1, 32, 5)  \n",
    "    * max_depth': range (1,42, 5)\n",
    "\n",
    "-0.00886484531005075\n",
    "RandomForestRegressor(max_depth=21, n_estimators=21)\n",
    "\n",
    "         * 'n_estimators': range (21, 62, 5),\n",
    "         * 'max_depth': range (21, 32, 5)} \n",
    "\n",
    "-0.00866828975371643\n",
    "RandomForestRegressor(max_depth=26, n_estimators=56)\n",
    "\n",
    "Наша модель показала хорошие результыты, и проходит тест на адекватность."
   ]
  },
  {
   "cell_type": "code",
   "execution_count": 60,
   "metadata": {},
   "outputs": [],
   "source": [
    "def grid_cv(features, target, model):\n",
    "\n",
    "    grid_space = {'n_estimators': range (56, 58),\n",
    "                  'max_depth': range (26, 28)}\n",
    "\n",
    "    grid = GridSearchCV(rfr, grid_space, scoring=make_scorer(sMAPE, greater_is_better=False), cv=3)\n",
    "    model_grid = grid.fit(features, target)\n",
    "\n",
    "    return model_grid.best_estimator_, model_grid.best_score_"
   ]
  },
  {
   "cell_type": "code",
   "execution_count": 62,
   "metadata": {},
   "outputs": [],
   "source": [
    "model_best_p, best_scor_p = grid_cv(train_features, train_rougher_target, rfr)"
   ]
  },
  {
   "cell_type": "code",
   "execution_count": 63,
   "metadata": {},
   "outputs": [
    {
     "data": {
      "text/plain": [
       "(RandomForestRegressor(max_depth=27, n_estimators=57), -0.007912929467783845)"
      ]
     },
     "execution_count": 63,
     "metadata": {},
     "output_type": "execute_result"
    }
   ],
   "source": [
    "model_best_p, best_scor_p"
   ]
  },
  {
   "cell_type": "code",
   "execution_count": 64,
   "metadata": {},
   "outputs": [],
   "source": [
    "model_best_f, best_scor_f = grid_cv(train_features, train_final_target, rfr)"
   ]
  },
  {
   "cell_type": "code",
   "execution_count": 65,
   "metadata": {},
   "outputs": [
    {
     "data": {
      "text/plain": [
       "(RandomForestRegressor(max_depth=27, n_estimators=56), -0.008739366292010246)"
      ]
     },
     "execution_count": 65,
     "metadata": {},
     "output_type": "execute_result"
    }
   ],
   "source": [
    "model_best_f, best_scor_f"
   ]
  },
  {
   "cell_type": "code",
   "execution_count": 66,
   "metadata": {},
   "outputs": [
    {
     "data": {
      "text/plain": [
       "-0.008532757085953645"
      ]
     },
     "execution_count": 66,
     "metadata": {},
     "output_type": "execute_result"
    }
   ],
   "source": [
    "0.25 * best_scor_p + 0.75 * best_scor_f"
   ]
  },
  {
   "cell_type": "markdown",
   "metadata": {},
   "source": [
    "Наша модель лес деревьев показал худший результат, чем модель линейная регрессия для теста будем использовать линейную регрессию"
   ]
  },
  {
   "cell_type": "markdown",
   "metadata": {},
   "source": [
    "#### test"
   ]
  },
  {
   "cell_type": "markdown",
   "metadata": {},
   "source": [
    "Произведем финальные расчёты, на наше тестовой выборке. Также стандартизируем выборку."
   ]
  },
  {
   "cell_type": "code",
   "execution_count": 69,
   "metadata": {},
   "outputs": [
    {
     "data": {
      "text/html": [
       "<div>\n",
       "<style scoped>\n",
       "    .dataframe tbody tr th:only-of-type {\n",
       "        vertical-align: middle;\n",
       "    }\n",
       "\n",
       "    .dataframe tbody tr th {\n",
       "        vertical-align: top;\n",
       "    }\n",
       "\n",
       "    .dataframe thead th {\n",
       "        text-align: right;\n",
       "    }\n",
       "</style>\n",
       "<table border=\"1\" class=\"dataframe\">\n",
       "  <thead>\n",
       "    <tr style=\"text-align: right;\">\n",
       "      <th></th>\n",
       "      <th>rougher.input.feed_au</th>\n",
       "      <th>rougher.input.feed_ag</th>\n",
       "      <th>rougher.input.feed_pb</th>\n",
       "      <th>rougher.input.feed_sol</th>\n",
       "      <th>rougher.input.feed_rate</th>\n",
       "      <th>rougher.input.feed_size</th>\n",
       "      <th>rougher.input.floatbank10_sulfate</th>\n",
       "      <th>rougher.input.floatbank10_xanthate</th>\n",
       "      <th>rougher.state.floatbank10_a_air</th>\n",
       "      <th>rougher.state.floatbank10_a_level</th>\n",
       "      <th>rougher.state.floatbank10_b_air</th>\n",
       "      <th>rougher.state.floatbank10_b_level</th>\n",
       "      <th>rougher.state.floatbank10_c_air</th>\n",
       "      <th>rougher.state.floatbank10_c_level</th>\n",
       "      <th>rougher.state.floatbank10_d_air</th>\n",
       "      <th>rougher.state.floatbank10_d_level</th>\n",
       "      <th>rougher.state.floatbank10_e_air</th>\n",
       "      <th>rougher.state.floatbank10_e_level</th>\n",
       "      <th>rougher.state.floatbank10_f_air</th>\n",
       "      <th>rougher.state.floatbank10_f_level</th>\n",
       "      <th>rougher.input.floatbank11_sulfate</th>\n",
       "      <th>rougher.input.floatbank11_xanthate</th>\n",
       "      <th>primary_cleaner.input.sulfate</th>\n",
       "      <th>primary_cleaner.input.depressant</th>\n",
       "      <th>primary_cleaner.input.feed_size</th>\n",
       "      <th>primary_cleaner.input.xanthate</th>\n",
       "      <th>primary_cleaner.state.floatbank8_a_air</th>\n",
       "      <th>primary_cleaner.state.floatbank8_a_level</th>\n",
       "      <th>primary_cleaner.state.floatbank8_b_air</th>\n",
       "      <th>primary_cleaner.state.floatbank8_b_level</th>\n",
       "      <th>primary_cleaner.state.floatbank8_c_air</th>\n",
       "      <th>primary_cleaner.state.floatbank8_c_level</th>\n",
       "      <th>primary_cleaner.state.floatbank8_d_air</th>\n",
       "      <th>primary_cleaner.state.floatbank8_d_level</th>\n",
       "      <th>secondary_cleaner.state.floatbank2_a_air</th>\n",
       "      <th>secondary_cleaner.state.floatbank2_a_level</th>\n",
       "      <th>secondary_cleaner.state.floatbank2_b_air</th>\n",
       "      <th>secondary_cleaner.state.floatbank2_b_level</th>\n",
       "      <th>secondary_cleaner.state.floatbank3_a_air</th>\n",
       "      <th>secondary_cleaner.state.floatbank3_a_level</th>\n",
       "      <th>secondary_cleaner.state.floatbank3_b_air</th>\n",
       "      <th>secondary_cleaner.state.floatbank3_b_level</th>\n",
       "      <th>secondary_cleaner.state.floatbank4_a_air</th>\n",
       "      <th>secondary_cleaner.state.floatbank4_a_level</th>\n",
       "      <th>secondary_cleaner.state.floatbank4_b_air</th>\n",
       "      <th>secondary_cleaner.state.floatbank4_b_level</th>\n",
       "      <th>secondary_cleaner.state.floatbank5_a_air</th>\n",
       "      <th>secondary_cleaner.state.floatbank5_a_level</th>\n",
       "      <th>secondary_cleaner.state.floatbank5_b_air</th>\n",
       "      <th>secondary_cleaner.state.floatbank5_b_level</th>\n",
       "      <th>secondary_cleaner.state.floatbank6_a_air</th>\n",
       "      <th>secondary_cleaner.state.floatbank6_a_level</th>\n",
       "      <th>rougher.output.recovery</th>\n",
       "      <th>final.output.recovery</th>\n",
       "    </tr>\n",
       "  </thead>\n",
       "  <tbody>\n",
       "    <tr>\n",
       "      <th>0</th>\n",
       "      <td>4.365491</td>\n",
       "      <td>6.158718</td>\n",
       "      <td>3.875727</td>\n",
       "      <td>39.135119</td>\n",
       "      <td>555.820208</td>\n",
       "      <td>94.544358</td>\n",
       "      <td>6.146982</td>\n",
       "      <td>9.308612</td>\n",
       "      <td>1196.238112</td>\n",
       "      <td>-299.862743</td>\n",
       "      <td>1147.248241</td>\n",
       "      <td>-500.363165</td>\n",
       "      <td>1047.279065</td>\n",
       "      <td>-500.354091</td>\n",
       "      <td>948.756608</td>\n",
       "      <td>-498.439416</td>\n",
       "      <td>849.441918</td>\n",
       "      <td>-499.255503</td>\n",
       "      <td>850.112246</td>\n",
       "      <td>-499.407112</td>\n",
       "      <td>6.168939</td>\n",
       "      <td>9.309852</td>\n",
       "      <td>95.248427</td>\n",
       "      <td>8.078957</td>\n",
       "      <td>6.5</td>\n",
       "      <td>1.283045</td>\n",
       "      <td>1648.759906</td>\n",
       "      <td>-399.862053</td>\n",
       "      <td>1650.135395</td>\n",
       "      <td>-399.957321</td>\n",
       "      <td>1648.831890</td>\n",
       "      <td>-400.586116</td>\n",
       "      <td>1649.464582</td>\n",
       "      <td>-400.673303</td>\n",
       "      <td>34.940919</td>\n",
       "      <td>-500.150510</td>\n",
       "      <td>30.031867</td>\n",
       "      <td>-500.328335</td>\n",
       "      <td>26.033990</td>\n",
       "      <td>-500.147792</td>\n",
       "      <td>22.952306</td>\n",
       "      <td>-500.037678</td>\n",
       "      <td>23.018622</td>\n",
       "      <td>-500.492702</td>\n",
       "      <td>20.020205</td>\n",
       "      <td>-500.220296</td>\n",
       "      <td>17.963512</td>\n",
       "      <td>-499.939490</td>\n",
       "      <td>12.990306</td>\n",
       "      <td>-500.080993</td>\n",
       "      <td>19.990336</td>\n",
       "      <td>-499.191575</td>\n",
       "      <td>89.514960</td>\n",
       "      <td>70.281454</td>\n",
       "    </tr>\n",
       "    <tr>\n",
       "      <th>1</th>\n",
       "      <td>4.362781</td>\n",
       "      <td>6.048130</td>\n",
       "      <td>3.902537</td>\n",
       "      <td>39.713906</td>\n",
       "      <td>544.731687</td>\n",
       "      <td>123.742430</td>\n",
       "      <td>6.210119</td>\n",
       "      <td>9.297709</td>\n",
       "      <td>1201.904177</td>\n",
       "      <td>-299.907308</td>\n",
       "      <td>1154.087804</td>\n",
       "      <td>-500.036580</td>\n",
       "      <td>1054.009756</td>\n",
       "      <td>-500.237335</td>\n",
       "      <td>944.138793</td>\n",
       "      <td>-496.866953</td>\n",
       "      <td>851.589767</td>\n",
       "      <td>-499.040466</td>\n",
       "      <td>851.345606</td>\n",
       "      <td>-499.122561</td>\n",
       "      <td>6.209517</td>\n",
       "      <td>9.297194</td>\n",
       "      <td>98.880538</td>\n",
       "      <td>7.984164</td>\n",
       "      <td>6.5</td>\n",
       "      <td>1.241969</td>\n",
       "      <td>1646.547763</td>\n",
       "      <td>-398.977083</td>\n",
       "      <td>1648.212240</td>\n",
       "      <td>-400.383265</td>\n",
       "      <td>1648.917387</td>\n",
       "      <td>-399.521344</td>\n",
       "      <td>1651.498591</td>\n",
       "      <td>-399.745329</td>\n",
       "      <td>34.980742</td>\n",
       "      <td>-498.131002</td>\n",
       "      <td>29.968453</td>\n",
       "      <td>-586.013330</td>\n",
       "      <td>25.971737</td>\n",
       "      <td>-499.608392</td>\n",
       "      <td>22.958448</td>\n",
       "      <td>-499.821308</td>\n",
       "      <td>23.024963</td>\n",
       "      <td>-501.153409</td>\n",
       "      <td>20.054122</td>\n",
       "      <td>-500.314711</td>\n",
       "      <td>17.979515</td>\n",
       "      <td>-499.272871</td>\n",
       "      <td>12.992404</td>\n",
       "      <td>-499.976268</td>\n",
       "      <td>20.013986</td>\n",
       "      <td>-500.625471</td>\n",
       "      <td>89.858126</td>\n",
       "      <td>65.523246</td>\n",
       "    </tr>\n",
       "    <tr>\n",
       "      <th>2</th>\n",
       "      <td>5.081681</td>\n",
       "      <td>6.082745</td>\n",
       "      <td>4.564078</td>\n",
       "      <td>37.208683</td>\n",
       "      <td>558.155110</td>\n",
       "      <td>82.610855</td>\n",
       "      <td>7.363824</td>\n",
       "      <td>9.003562</td>\n",
       "      <td>1200.826926</td>\n",
       "      <td>-300.124116</td>\n",
       "      <td>1150.754676</td>\n",
       "      <td>-499.986009</td>\n",
       "      <td>1049.182824</td>\n",
       "      <td>-500.014696</td>\n",
       "      <td>948.085464</td>\n",
       "      <td>-499.997003</td>\n",
       "      <td>850.170086</td>\n",
       "      <td>-500.270334</td>\n",
       "      <td>849.557905</td>\n",
       "      <td>-500.198702</td>\n",
       "      <td>7.358308</td>\n",
       "      <td>9.000624</td>\n",
       "      <td>119.497545</td>\n",
       "      <td>8.003752</td>\n",
       "      <td>6.5</td>\n",
       "      <td>1.259741</td>\n",
       "      <td>1647.368779</td>\n",
       "      <td>-399.788506</td>\n",
       "      <td>1648.395206</td>\n",
       "      <td>-400.166490</td>\n",
       "      <td>1648.953828</td>\n",
       "      <td>-400.468641</td>\n",
       "      <td>1649.821569</td>\n",
       "      <td>-400.071884</td>\n",
       "      <td>34.952967</td>\n",
       "      <td>-501.204647</td>\n",
       "      <td>29.927025</td>\n",
       "      <td>-500.106628</td>\n",
       "      <td>25.978253</td>\n",
       "      <td>-499.890060</td>\n",
       "      <td>23.004376</td>\n",
       "      <td>-500.014529</td>\n",
       "      <td>22.993827</td>\n",
       "      <td>-501.559663</td>\n",
       "      <td>20.029144</td>\n",
       "      <td>-500.000662</td>\n",
       "      <td>18.012723</td>\n",
       "      <td>-500.024764</td>\n",
       "      <td>13.016445</td>\n",
       "      <td>-500.058432</td>\n",
       "      <td>19.973767</td>\n",
       "      <td>-501.394155</td>\n",
       "      <td>91.816623</td>\n",
       "      <td>74.817644</td>\n",
       "    </tr>\n",
       "  </tbody>\n",
       "</table>\n",
       "</div>"
      ],
      "text/plain": [
       "   rougher.input.feed_au  rougher.input.feed_ag  rougher.input.feed_pb  \\\n",
       "0               4.365491               6.158718               3.875727   \n",
       "1               4.362781               6.048130               3.902537   \n",
       "2               5.081681               6.082745               4.564078   \n",
       "\n",
       "   rougher.input.feed_sol  rougher.input.feed_rate  rougher.input.feed_size  \\\n",
       "0               39.135119               555.820208                94.544358   \n",
       "1               39.713906               544.731687               123.742430   \n",
       "2               37.208683               558.155110                82.610855   \n",
       "\n",
       "   rougher.input.floatbank10_sulfate  rougher.input.floatbank10_xanthate  \\\n",
       "0                           6.146982                            9.308612   \n",
       "1                           6.210119                            9.297709   \n",
       "2                           7.363824                            9.003562   \n",
       "\n",
       "   rougher.state.floatbank10_a_air  rougher.state.floatbank10_a_level  \\\n",
       "0                      1196.238112                        -299.862743   \n",
       "1                      1201.904177                        -299.907308   \n",
       "2                      1200.826926                        -300.124116   \n",
       "\n",
       "   rougher.state.floatbank10_b_air  rougher.state.floatbank10_b_level  \\\n",
       "0                      1147.248241                        -500.363165   \n",
       "1                      1154.087804                        -500.036580   \n",
       "2                      1150.754676                        -499.986009   \n",
       "\n",
       "   rougher.state.floatbank10_c_air  rougher.state.floatbank10_c_level  \\\n",
       "0                      1047.279065                        -500.354091   \n",
       "1                      1054.009756                        -500.237335   \n",
       "2                      1049.182824                        -500.014696   \n",
       "\n",
       "   rougher.state.floatbank10_d_air  rougher.state.floatbank10_d_level  \\\n",
       "0                       948.756608                        -498.439416   \n",
       "1                       944.138793                        -496.866953   \n",
       "2                       948.085464                        -499.997003   \n",
       "\n",
       "   rougher.state.floatbank10_e_air  rougher.state.floatbank10_e_level  \\\n",
       "0                       849.441918                        -499.255503   \n",
       "1                       851.589767                        -499.040466   \n",
       "2                       850.170086                        -500.270334   \n",
       "\n",
       "   rougher.state.floatbank10_f_air  rougher.state.floatbank10_f_level  \\\n",
       "0                       850.112246                        -499.407112   \n",
       "1                       851.345606                        -499.122561   \n",
       "2                       849.557905                        -500.198702   \n",
       "\n",
       "   rougher.input.floatbank11_sulfate  rougher.input.floatbank11_xanthate  \\\n",
       "0                           6.168939                            9.309852   \n",
       "1                           6.209517                            9.297194   \n",
       "2                           7.358308                            9.000624   \n",
       "\n",
       "   primary_cleaner.input.sulfate  primary_cleaner.input.depressant  \\\n",
       "0                      95.248427                          8.078957   \n",
       "1                      98.880538                          7.984164   \n",
       "2                     119.497545                          8.003752   \n",
       "\n",
       "   primary_cleaner.input.feed_size  primary_cleaner.input.xanthate  \\\n",
       "0                              6.5                        1.283045   \n",
       "1                              6.5                        1.241969   \n",
       "2                              6.5                        1.259741   \n",
       "\n",
       "   primary_cleaner.state.floatbank8_a_air  \\\n",
       "0                             1648.759906   \n",
       "1                             1646.547763   \n",
       "2                             1647.368779   \n",
       "\n",
       "   primary_cleaner.state.floatbank8_a_level  \\\n",
       "0                               -399.862053   \n",
       "1                               -398.977083   \n",
       "2                               -399.788506   \n",
       "\n",
       "   primary_cleaner.state.floatbank8_b_air  \\\n",
       "0                             1650.135395   \n",
       "1                             1648.212240   \n",
       "2                             1648.395206   \n",
       "\n",
       "   primary_cleaner.state.floatbank8_b_level  \\\n",
       "0                               -399.957321   \n",
       "1                               -400.383265   \n",
       "2                               -400.166490   \n",
       "\n",
       "   primary_cleaner.state.floatbank8_c_air  \\\n",
       "0                             1648.831890   \n",
       "1                             1648.917387   \n",
       "2                             1648.953828   \n",
       "\n",
       "   primary_cleaner.state.floatbank8_c_level  \\\n",
       "0                               -400.586116   \n",
       "1                               -399.521344   \n",
       "2                               -400.468641   \n",
       "\n",
       "   primary_cleaner.state.floatbank8_d_air  \\\n",
       "0                             1649.464582   \n",
       "1                             1651.498591   \n",
       "2                             1649.821569   \n",
       "\n",
       "   primary_cleaner.state.floatbank8_d_level  \\\n",
       "0                               -400.673303   \n",
       "1                               -399.745329   \n",
       "2                               -400.071884   \n",
       "\n",
       "   secondary_cleaner.state.floatbank2_a_air  \\\n",
       "0                                 34.940919   \n",
       "1                                 34.980742   \n",
       "2                                 34.952967   \n",
       "\n",
       "   secondary_cleaner.state.floatbank2_a_level  \\\n",
       "0                                 -500.150510   \n",
       "1                                 -498.131002   \n",
       "2                                 -501.204647   \n",
       "\n",
       "   secondary_cleaner.state.floatbank2_b_air  \\\n",
       "0                                 30.031867   \n",
       "1                                 29.968453   \n",
       "2                                 29.927025   \n",
       "\n",
       "   secondary_cleaner.state.floatbank2_b_level  \\\n",
       "0                                 -500.328335   \n",
       "1                                 -586.013330   \n",
       "2                                 -500.106628   \n",
       "\n",
       "   secondary_cleaner.state.floatbank3_a_air  \\\n",
       "0                                 26.033990   \n",
       "1                                 25.971737   \n",
       "2                                 25.978253   \n",
       "\n",
       "   secondary_cleaner.state.floatbank3_a_level  \\\n",
       "0                                 -500.147792   \n",
       "1                                 -499.608392   \n",
       "2                                 -499.890060   \n",
       "\n",
       "   secondary_cleaner.state.floatbank3_b_air  \\\n",
       "0                                 22.952306   \n",
       "1                                 22.958448   \n",
       "2                                 23.004376   \n",
       "\n",
       "   secondary_cleaner.state.floatbank3_b_level  \\\n",
       "0                                 -500.037678   \n",
       "1                                 -499.821308   \n",
       "2                                 -500.014529   \n",
       "\n",
       "   secondary_cleaner.state.floatbank4_a_air  \\\n",
       "0                                 23.018622   \n",
       "1                                 23.024963   \n",
       "2                                 22.993827   \n",
       "\n",
       "   secondary_cleaner.state.floatbank4_a_level  \\\n",
       "0                                 -500.492702   \n",
       "1                                 -501.153409   \n",
       "2                                 -501.559663   \n",
       "\n",
       "   secondary_cleaner.state.floatbank4_b_air  \\\n",
       "0                                 20.020205   \n",
       "1                                 20.054122   \n",
       "2                                 20.029144   \n",
       "\n",
       "   secondary_cleaner.state.floatbank4_b_level  \\\n",
       "0                                 -500.220296   \n",
       "1                                 -500.314711   \n",
       "2                                 -500.000662   \n",
       "\n",
       "   secondary_cleaner.state.floatbank5_a_air  \\\n",
       "0                                 17.963512   \n",
       "1                                 17.979515   \n",
       "2                                 18.012723   \n",
       "\n",
       "   secondary_cleaner.state.floatbank5_a_level  \\\n",
       "0                                 -499.939490   \n",
       "1                                 -499.272871   \n",
       "2                                 -500.024764   \n",
       "\n",
       "   secondary_cleaner.state.floatbank5_b_air  \\\n",
       "0                                 12.990306   \n",
       "1                                 12.992404   \n",
       "2                                 13.016445   \n",
       "\n",
       "   secondary_cleaner.state.floatbank5_b_level  \\\n",
       "0                                 -500.080993   \n",
       "1                                 -499.976268   \n",
       "2                                 -500.058432   \n",
       "\n",
       "   secondary_cleaner.state.floatbank6_a_air  \\\n",
       "0                                 19.990336   \n",
       "1                                 20.013986   \n",
       "2                                 19.973767   \n",
       "\n",
       "   secondary_cleaner.state.floatbank6_a_level  rougher.output.recovery  \\\n",
       "0                                 -499.191575                89.514960   \n",
       "1                                 -500.625471                89.858126   \n",
       "2                                 -501.394155                91.816623   \n",
       "\n",
       "   final.output.recovery  \n",
       "0              70.281454  \n",
       "1              65.523246  \n",
       "2              74.817644  "
      ]
     },
     "execution_count": 69,
     "metadata": {},
     "output_type": "execute_result"
    }
   ],
   "source": [
    "test_t = pd.DataFrame(scaler.transform(test_t), columns = test_t.columns)\n",
    " \n",
    "test_t.head(3)"
   ]
  },
  {
   "cell_type": "code",
   "execution_count": 70,
   "metadata": {
    "scrolled": true
   },
   "outputs": [
    {
     "data": {
      "text/plain": [
       "((4706, 52), (4706,), (4706,))"
      ]
     },
     "execution_count": 70,
     "metadata": {},
     "output_type": "execute_result"
    }
   ],
   "source": [
    "test_t_features = test_t.drop(['rougher.output.recovery', 'final.output.recovery'], axis=1)       \n",
    "test_t_rougher_target = test_t['rougher.output.recovery'] \n",
    "test_t_final_target = test_t['final.output.recovery']\n",
    "\n",
    "test_t_features.shape, test_t_rougher_target.shape, test_t_final_target.shape"
   ]
  },
  {
   "cell_type": "code",
   "execution_count": 73,
   "metadata": {},
   "outputs": [
    {
     "data": {
      "text/plain": [
       "0.013199721338938784"
      ]
     },
     "execution_count": 73,
     "metadata": {},
     "output_type": "execute_result"
    }
   ],
   "source": [
    "model_off.fit(train_features, train_rougher_target)\n",
    "model_lrr.fit(train_features, train_final_target)\n",
    "\n",
    "predicted_t_r = model_off.predict(test_t_features)\n",
    "predicted_t_f = model_lrr.predict(test_t_features)\n",
    "sMAPE_test =( 0.25 * sMAPE(test_t_rougher_target, predicted_t_r) + 0.75 * sMAPE(test_t_final_target, predicted_t_f))\n",
    "sMAPE_test"
   ]
  },
  {
   "cell_type": "markdown",
   "metadata": {},
   "source": [
    "Проанализировав и подготовив данные мы, провели исследования на двух разных моделях **LinearRegression** и **RandomForestRegressor** обе прошли проверку на адекватность и первая модель показала наилучший результат. По этой причине с помощью данной модели мы провели исследование на тестовой выборке, наша модель справилась с  заданием и готова к использованию."
   ]
  }
 ],
 "metadata": {
  "ExecuteTimeLog": [
   {
    "duration": 444,
    "start_time": "2024-02-15T04:42:24.162Z"
   },
   {
    "duration": 117,
    "start_time": "2024-02-15T04:42:59.200Z"
   },
   {
    "duration": 49,
    "start_time": "2024-02-15T04:44:12.550Z"
   },
   {
    "duration": 432,
    "start_time": "2024-02-15T04:44:21.642Z"
   },
   {
    "duration": 109,
    "start_time": "2024-02-15T04:44:22.969Z"
   },
   {
    "duration": 45,
    "start_time": "2024-02-15T04:45:41.217Z"
   },
   {
    "duration": 3163,
    "start_time": "2024-02-15T04:45:48.270Z"
   },
   {
    "duration": 2,
    "start_time": "2024-02-15T05:00:18.560Z"
   },
   {
    "duration": 851,
    "start_time": "2024-02-15T05:00:19.126Z"
   },
   {
    "duration": 36,
    "start_time": "2024-02-15T05:00:33.347Z"
   },
   {
    "duration": 20,
    "start_time": "2024-02-15T05:00:46.483Z"
   },
   {
    "duration": 21,
    "start_time": "2024-02-15T05:01:06.477Z"
   },
   {
    "duration": 18,
    "start_time": "2024-02-15T05:01:16.839Z"
   },
   {
    "duration": 3,
    "start_time": "2024-02-15T05:07:17.145Z"
   },
   {
    "duration": 7,
    "start_time": "2024-02-15T05:07:27.047Z"
   },
   {
    "duration": 21,
    "start_time": "2024-02-15T05:07:33.408Z"
   },
   {
    "duration": 18,
    "start_time": "2024-02-15T05:07:58.220Z"
   },
   {
    "duration": 44,
    "start_time": "2024-02-15T05:28:10.906Z"
   },
   {
    "duration": 4,
    "start_time": "2024-02-15T06:11:16.201Z"
   },
   {
    "duration": 390,
    "start_time": "2024-02-15T06:12:14.807Z"
   },
   {
    "duration": 871,
    "start_time": "2024-02-15T06:12:18.410Z"
   },
   {
    "duration": 25,
    "start_time": "2024-02-15T06:12:19.283Z"
   },
   {
    "duration": 18,
    "start_time": "2024-02-15T06:12:19.310Z"
   },
   {
    "duration": 20,
    "start_time": "2024-02-15T06:12:19.619Z"
   },
   {
    "duration": 45,
    "start_time": "2024-02-15T06:12:20.991Z"
   },
   {
    "duration": 4,
    "start_time": "2024-02-15T06:12:21.270Z"
   },
   {
    "duration": 767,
    "start_time": "2024-02-15T06:39:35.997Z"
   },
   {
    "duration": 42,
    "start_time": "2024-02-15T06:40:23.496Z"
   },
   {
    "duration": 103,
    "start_time": "2024-02-15T06:47:48.407Z"
   },
   {
    "duration": 14,
    "start_time": "2024-02-15T06:47:57.139Z"
   },
   {
    "duration": 102,
    "start_time": "2024-02-15T06:48:52.940Z"
   },
   {
    "duration": 13,
    "start_time": "2024-02-15T06:49:40.428Z"
   },
   {
    "duration": 5,
    "start_time": "2024-02-15T06:49:47.620Z"
   },
   {
    "duration": 7,
    "start_time": "2024-02-15T06:49:52.211Z"
   },
   {
    "duration": 3,
    "start_time": "2024-02-15T06:56:42.098Z"
   },
   {
    "duration": 58,
    "start_time": "2024-02-15T06:56:46.477Z"
   },
   {
    "duration": 36,
    "start_time": "2024-02-15T06:56:53.577Z"
   },
   {
    "duration": 60,
    "start_time": "2024-02-15T06:56:54.177Z"
   },
   {
    "duration": 17,
    "start_time": "2024-02-15T07:32:45.823Z"
   },
   {
    "duration": 3,
    "start_time": "2024-02-15T07:52:30.109Z"
   },
   {
    "duration": 889,
    "start_time": "2024-02-15T07:52:30.664Z"
   },
   {
    "duration": 27,
    "start_time": "2024-02-15T07:52:31.556Z"
   },
   {
    "duration": 58,
    "start_time": "2024-02-15T07:53:46.775Z"
   },
   {
    "duration": 1393,
    "start_time": "2024-02-15T07:58:06.481Z"
   },
   {
    "duration": 6,
    "start_time": "2024-02-15T07:58:26.470Z"
   },
   {
    "duration": 11,
    "start_time": "2024-02-15T07:58:38.675Z"
   },
   {
    "duration": 10,
    "start_time": "2024-02-15T08:03:59.036Z"
   },
   {
    "duration": 3,
    "start_time": "2024-02-15T08:05:33.200Z"
   },
   {
    "duration": 10,
    "start_time": "2024-02-15T08:05:53.885Z"
   },
   {
    "duration": 7,
    "start_time": "2024-02-15T08:06:12.365Z"
   },
   {
    "duration": 76,
    "start_time": "2024-02-15T08:06:32.330Z"
   },
   {
    "duration": 8,
    "start_time": "2024-02-15T08:06:36.845Z"
   },
   {
    "duration": 7,
    "start_time": "2024-02-15T09:21:55.187Z"
   },
   {
    "duration": 5,
    "start_time": "2024-02-15T09:22:23.449Z"
   },
   {
    "duration": 56,
    "start_time": "2024-02-15T09:22:30.351Z"
   },
   {
    "duration": 5,
    "start_time": "2024-02-15T09:22:51.841Z"
   },
   {
    "duration": 55,
    "start_time": "2024-02-15T09:22:56.441Z"
   },
   {
    "duration": 6,
    "start_time": "2024-02-15T09:32:47.265Z"
   },
   {
    "duration": 55,
    "start_time": "2024-02-15T09:32:51.910Z"
   },
   {
    "duration": 1184,
    "start_time": "2024-02-15T09:34:12.150Z"
   },
   {
    "duration": 867,
    "start_time": "2024-02-15T09:34:14.750Z"
   },
   {
    "duration": 17,
    "start_time": "2024-02-15T09:34:16.279Z"
   },
   {
    "duration": 102,
    "start_time": "2024-02-15T09:34:16.955Z"
   },
   {
    "duration": 71,
    "start_time": "2024-02-15T09:34:18.114Z"
   },
   {
    "duration": 7,
    "start_time": "2024-02-15T09:34:43.848Z"
   },
   {
    "duration": 6,
    "start_time": "2024-02-15T09:34:45.876Z"
   },
   {
    "duration": 7,
    "start_time": "2024-02-15T09:35:17.940Z"
   },
   {
    "duration": 7,
    "start_time": "2024-02-15T09:36:47.563Z"
   },
   {
    "duration": 6,
    "start_time": "2024-02-15T09:40:38.574Z"
   },
   {
    "duration": 36,
    "start_time": "2024-02-15T09:40:40.874Z"
   },
   {
    "duration": 1084,
    "start_time": "2024-02-15T09:42:42.228Z"
   },
   {
    "duration": 907,
    "start_time": "2024-02-15T09:42:43.314Z"
   },
   {
    "duration": 25,
    "start_time": "2024-02-15T09:42:44.223Z"
   },
   {
    "duration": 84,
    "start_time": "2024-02-15T09:42:44.250Z"
   },
   {
    "duration": 58,
    "start_time": "2024-02-15T09:42:44.336Z"
   },
   {
    "duration": 78,
    "start_time": "2024-02-15T09:42:44.396Z"
   },
   {
    "duration": 39,
    "start_time": "2024-02-15T09:42:44.477Z"
   },
   {
    "duration": 4,
    "start_time": "2024-02-15T09:42:45.530Z"
   },
   {
    "duration": 9,
    "start_time": "2024-02-15T09:42:50.802Z"
   },
   {
    "duration": 6,
    "start_time": "2024-02-15T09:42:51.961Z"
   },
   {
    "duration": 5,
    "start_time": "2024-02-15T09:47:35.653Z"
   },
   {
    "duration": 59,
    "start_time": "2024-02-15T09:48:18.251Z"
   },
   {
    "duration": 75,
    "start_time": "2024-02-15T09:48:39.005Z"
   },
   {
    "duration": 4,
    "start_time": "2024-02-15T09:55:14.443Z"
   },
   {
    "duration": 5,
    "start_time": "2024-02-15T09:56:01.422Z"
   },
   {
    "duration": 4,
    "start_time": "2024-02-15T09:56:19.421Z"
   },
   {
    "duration": 67,
    "start_time": "2024-02-15T09:57:35.161Z"
   },
   {
    "duration": 68,
    "start_time": "2024-02-15T09:57:45.600Z"
   },
   {
    "duration": 5,
    "start_time": "2024-02-15T09:59:27.381Z"
   },
   {
    "duration": 6,
    "start_time": "2024-02-15T09:59:45.821Z"
   },
   {
    "duration": 6,
    "start_time": "2024-02-15T10:00:43.517Z"
   },
   {
    "duration": 6,
    "start_time": "2024-02-15T10:00:54.260Z"
   },
   {
    "duration": 4,
    "start_time": "2024-02-15T10:05:43.178Z"
   },
   {
    "duration": 22,
    "start_time": "2024-02-15T10:06:05.919Z"
   },
   {
    "duration": 117,
    "start_time": "2024-02-15T10:06:52.729Z"
   },
   {
    "duration": 6,
    "start_time": "2024-02-15T10:06:57.870Z"
   },
   {
    "duration": 6,
    "start_time": "2024-02-15T10:07:00.159Z"
   },
   {
    "duration": 7,
    "start_time": "2024-02-15T10:07:30.120Z"
   },
   {
    "duration": 8,
    "start_time": "2024-02-15T10:10:48.750Z"
   },
   {
    "duration": 1190,
    "start_time": "2024-02-15T10:12:04.266Z"
   },
   {
    "duration": 889,
    "start_time": "2024-02-15T10:12:05.458Z"
   },
   {
    "duration": 31,
    "start_time": "2024-02-15T10:12:06.349Z"
   },
   {
    "duration": 78,
    "start_time": "2024-02-15T10:12:06.382Z"
   },
   {
    "duration": 38,
    "start_time": "2024-02-15T10:12:06.474Z"
   },
   {
    "duration": 80,
    "start_time": "2024-02-15T10:12:06.514Z"
   },
   {
    "duration": 40,
    "start_time": "2024-02-15T10:12:06.780Z"
   },
   {
    "duration": 5,
    "start_time": "2024-02-15T10:12:07.023Z"
   },
   {
    "duration": 7,
    "start_time": "2024-02-15T10:12:07.747Z"
   },
   {
    "duration": 7,
    "start_time": "2024-02-15T10:12:08.197Z"
   },
   {
    "duration": 7,
    "start_time": "2024-02-15T10:12:08.411Z"
   },
   {
    "duration": 6,
    "start_time": "2024-02-15T10:12:08.837Z"
   },
   {
    "duration": 44,
    "start_time": "2024-02-15T11:45:36.535Z"
   },
   {
    "duration": 5,
    "start_time": "2024-02-15T11:45:53.663Z"
   },
   {
    "duration": 5,
    "start_time": "2024-02-15T11:46:39.914Z"
   },
   {
    "duration": 1144,
    "start_time": "2024-02-15T11:46:46.534Z"
   },
   {
    "duration": 3256,
    "start_time": "2024-02-15T11:46:47.680Z"
   },
   {
    "duration": 15,
    "start_time": "2024-02-15T11:46:50.938Z"
   },
   {
    "duration": 69,
    "start_time": "2024-02-15T11:46:50.956Z"
   },
   {
    "duration": 38,
    "start_time": "2024-02-15T11:46:51.027Z"
   },
   {
    "duration": 50,
    "start_time": "2024-02-15T11:46:51.067Z"
   },
   {
    "duration": 56,
    "start_time": "2024-02-15T11:46:51.118Z"
   },
   {
    "duration": 4,
    "start_time": "2024-02-15T11:46:51.175Z"
   },
   {
    "duration": 8,
    "start_time": "2024-02-15T11:46:51.181Z"
   },
   {
    "duration": 7,
    "start_time": "2024-02-15T11:46:51.191Z"
   },
   {
    "duration": 10,
    "start_time": "2024-02-15T11:46:51.200Z"
   },
   {
    "duration": 5,
    "start_time": "2024-02-15T11:46:51.212Z"
   },
   {
    "duration": 4,
    "start_time": "2024-02-15T11:55:59.156Z"
   },
   {
    "duration": 32,
    "start_time": "2024-02-15T11:56:41.592Z"
   },
   {
    "duration": 5,
    "start_time": "2024-02-15T11:56:52.823Z"
   },
   {
    "duration": 5,
    "start_time": "2024-02-15T11:57:06.596Z"
   },
   {
    "duration": 4,
    "start_time": "2024-02-15T11:59:20.385Z"
   },
   {
    "duration": 68,
    "start_time": "2024-02-15T11:59:37.624Z"
   },
   {
    "duration": 44,
    "start_time": "2024-02-15T12:00:37.204Z"
   },
   {
    "duration": 31,
    "start_time": "2024-02-15T12:00:48.944Z"
   },
   {
    "duration": 4,
    "start_time": "2024-02-15T12:08:31.468Z"
   },
   {
    "duration": 4,
    "start_time": "2024-02-15T12:08:37.380Z"
   },
   {
    "duration": 4,
    "start_time": "2024-02-15T12:09:03.844Z"
   },
   {
    "duration": 5,
    "start_time": "2024-02-15T12:10:00.395Z"
   },
   {
    "duration": 4,
    "start_time": "2024-02-15T12:10:33.779Z"
   },
   {
    "duration": 5,
    "start_time": "2024-02-15T12:11:31.683Z"
   },
   {
    "duration": 15,
    "start_time": "2024-02-15T12:12:12.151Z"
   },
   {
    "duration": 49,
    "start_time": "2024-02-15T13:33:57.844Z"
   },
   {
    "duration": 1197,
    "start_time": "2024-02-15T13:34:03.832Z"
   },
   {
    "duration": 833,
    "start_time": "2024-02-15T13:34:05.031Z"
   },
   {
    "duration": 18,
    "start_time": "2024-02-15T13:34:05.866Z"
   },
   {
    "duration": 80,
    "start_time": "2024-02-15T13:34:05.885Z"
   },
   {
    "duration": 36,
    "start_time": "2024-02-15T13:34:05.968Z"
   },
   {
    "duration": 53,
    "start_time": "2024-02-15T13:34:06.051Z"
   },
   {
    "duration": 43,
    "start_time": "2024-02-15T13:34:06.333Z"
   },
   {
    "duration": 3,
    "start_time": "2024-02-15T13:34:06.503Z"
   },
   {
    "duration": 7,
    "start_time": "2024-02-15T13:34:07.665Z"
   },
   {
    "duration": 5,
    "start_time": "2024-02-15T13:34:08.157Z"
   },
   {
    "duration": 6,
    "start_time": "2024-02-15T13:34:08.412Z"
   },
   {
    "duration": 5,
    "start_time": "2024-02-15T13:34:08.918Z"
   },
   {
    "duration": 3,
    "start_time": "2024-02-15T13:34:09.968Z"
   },
   {
    "duration": 14,
    "start_time": "2024-02-15T13:34:11.652Z"
   },
   {
    "duration": 29,
    "start_time": "2024-02-15T16:22:55.404Z"
   },
   {
    "duration": 837,
    "start_time": "2024-02-15T16:22:56.061Z"
   },
   {
    "duration": 18,
    "start_time": "2024-02-15T16:22:56.900Z"
   },
   {
    "duration": 77,
    "start_time": "2024-02-15T16:22:56.919Z"
   },
   {
    "duration": 32,
    "start_time": "2024-02-15T16:22:57.043Z"
   },
   {
    "duration": 65,
    "start_time": "2024-02-15T16:22:57.264Z"
   },
   {
    "duration": 38,
    "start_time": "2024-02-15T16:22:57.594Z"
   },
   {
    "duration": 4,
    "start_time": "2024-02-15T16:22:57.634Z"
   },
   {
    "duration": 8,
    "start_time": "2024-02-15T16:22:58.260Z"
   },
   {
    "duration": 7,
    "start_time": "2024-02-15T16:22:58.648Z"
   },
   {
    "duration": 6,
    "start_time": "2024-02-15T16:22:58.867Z"
   },
   {
    "duration": 5,
    "start_time": "2024-02-15T16:22:59.276Z"
   },
   {
    "duration": 4,
    "start_time": "2024-02-15T16:23:00.095Z"
   },
   {
    "duration": 51,
    "start_time": "2024-02-15T16:33:02.617Z"
   },
   {
    "duration": 7,
    "start_time": "2024-02-15T16:41:32.969Z"
   },
   {
    "duration": 6,
    "start_time": "2024-02-15T16:41:50.033Z"
   },
   {
    "duration": 7,
    "start_time": "2024-02-15T16:42:27.803Z"
   },
   {
    "duration": 6,
    "start_time": "2024-02-15T16:42:38.649Z"
   },
   {
    "duration": 6,
    "start_time": "2024-02-15T16:42:51.794Z"
   },
   {
    "duration": 41,
    "start_time": "2024-02-15T16:45:51.920Z"
   },
   {
    "duration": 45,
    "start_time": "2024-02-15T17:20:43.512Z"
   },
   {
    "duration": 78,
    "start_time": "2024-02-15T17:21:25.139Z"
   },
   {
    "duration": 70,
    "start_time": "2024-02-15T17:21:50.838Z"
   },
   {
    "duration": 60,
    "start_time": "2024-02-15T17:22:31.658Z"
   },
   {
    "duration": 9,
    "start_time": "2024-02-15T17:22:54.973Z"
   },
   {
    "duration": 7,
    "start_time": "2024-02-15T17:23:21.055Z"
   },
   {
    "duration": 8,
    "start_time": "2024-02-15T17:23:44.384Z"
   },
   {
    "duration": 7,
    "start_time": "2024-02-15T17:23:51.208Z"
   },
   {
    "duration": 73,
    "start_time": "2024-02-15T17:24:39.239Z"
   },
   {
    "duration": 72,
    "start_time": "2024-02-15T17:25:10.248Z"
   },
   {
    "duration": 10,
    "start_time": "2024-02-15T17:25:17.439Z"
   },
   {
    "duration": 8,
    "start_time": "2024-02-15T17:25:20.845Z"
   },
   {
    "duration": 10,
    "start_time": "2024-02-15T17:25:27.792Z"
   },
   {
    "duration": 5,
    "start_time": "2024-02-15T17:25:49.107Z"
   },
   {
    "duration": 65,
    "start_time": "2024-02-15T17:26:49.486Z"
   },
   {
    "duration": 16,
    "start_time": "2024-02-15T17:30:30.395Z"
   },
   {
    "duration": 27,
    "start_time": "2024-02-15T17:30:55.872Z"
   },
   {
    "duration": 27,
    "start_time": "2024-02-15T17:31:09.095Z"
   },
   {
    "duration": 28,
    "start_time": "2024-02-15T17:31:12.249Z"
   },
   {
    "duration": 69,
    "start_time": "2024-02-15T17:31:24.589Z"
   },
   {
    "duration": 27,
    "start_time": "2024-02-15T17:31:31.974Z"
   },
   {
    "duration": 21,
    "start_time": "2024-02-15T17:31:40.430Z"
   },
   {
    "duration": 10,
    "start_time": "2024-02-15T17:52:42.981Z"
   },
   {
    "duration": 8,
    "start_time": "2024-02-15T17:53:28.615Z"
   },
   {
    "duration": 7,
    "start_time": "2024-02-15T17:55:26.465Z"
   },
   {
    "duration": 9,
    "start_time": "2024-02-15T17:55:59.823Z"
   },
   {
    "duration": 8,
    "start_time": "2024-02-15T17:56:21.181Z"
   },
   {
    "duration": 8,
    "start_time": "2024-02-15T17:56:26.808Z"
   },
   {
    "duration": 443,
    "start_time": "2024-02-15T17:59:42.868Z"
   },
   {
    "duration": 38,
    "start_time": "2024-02-15T17:59:48.588Z"
   },
   {
    "duration": 20,
    "start_time": "2024-02-15T18:01:07.521Z"
   },
   {
    "duration": 101,
    "start_time": "2024-02-15T18:01:40.603Z"
   },
   {
    "duration": 113,
    "start_time": "2024-02-15T18:03:12.252Z"
   },
   {
    "duration": 32,
    "start_time": "2024-02-15T18:03:33.733Z"
   },
   {
    "duration": 35,
    "start_time": "2024-02-15T18:03:49.960Z"
   },
   {
    "duration": 30,
    "start_time": "2024-02-15T18:04:10.634Z"
   },
   {
    "duration": 32,
    "start_time": "2024-02-15T18:04:22.606Z"
   },
   {
    "duration": 58,
    "start_time": "2024-02-15T18:11:11.322Z"
   },
   {
    "duration": 43,
    "start_time": "2024-02-15T18:11:17.696Z"
   },
   {
    "duration": 48,
    "start_time": "2024-02-15T18:21:03.993Z"
   },
   {
    "duration": 84,
    "start_time": "2024-02-15T18:21:18.320Z"
   },
   {
    "duration": 44,
    "start_time": "2024-02-15T18:21:22.438Z"
   },
   {
    "duration": 1289,
    "start_time": "2024-02-15T18:22:41.884Z"
   },
   {
    "duration": 37,
    "start_time": "2024-02-15T18:22:43.175Z"
   },
   {
    "duration": 814,
    "start_time": "2024-02-15T18:22:43.544Z"
   },
   {
    "duration": 56,
    "start_time": "2024-02-15T18:22:44.359Z"
   },
   {
    "duration": 34,
    "start_time": "2024-02-15T18:22:44.604Z"
   },
   {
    "duration": 53,
    "start_time": "2024-02-15T18:22:44.858Z"
   },
   {
    "duration": 38,
    "start_time": "2024-02-15T18:22:45.140Z"
   },
   {
    "duration": 4,
    "start_time": "2024-02-15T18:22:45.399Z"
   },
   {
    "duration": 7,
    "start_time": "2024-02-15T18:22:46.179Z"
   },
   {
    "duration": 6,
    "start_time": "2024-02-15T18:22:46.724Z"
   },
   {
    "duration": 7,
    "start_time": "2024-02-15T18:22:47.645Z"
   },
   {
    "duration": 94,
    "start_time": "2024-02-15T18:22:48.477Z"
   },
   {
    "duration": 6,
    "start_time": "2024-02-15T18:22:48.718Z"
   },
   {
    "duration": 4,
    "start_time": "2024-02-15T18:22:49.891Z"
   },
   {
    "duration": 68,
    "start_time": "2024-02-15T18:22:50.424Z"
   },
   {
    "duration": 48,
    "start_time": "2024-02-15T18:22:50.911Z"
   },
   {
    "duration": 46,
    "start_time": "2024-02-15T18:23:00.556Z"
   },
   {
    "duration": 12,
    "start_time": "2024-02-15T18:23:01.529Z"
   },
   {
    "duration": 8,
    "start_time": "2024-02-15T18:23:02.048Z"
   },
   {
    "duration": 67,
    "start_time": "2024-02-15T18:23:02.396Z"
   },
   {
    "duration": 59,
    "start_time": "2024-02-15T18:23:45.467Z"
   },
   {
    "duration": 50,
    "start_time": "2024-02-15T18:24:31.370Z"
   },
   {
    "duration": 36,
    "start_time": "2024-02-15T18:24:41.426Z"
   },
   {
    "duration": 67,
    "start_time": "2024-02-15T18:29:11.253Z"
   },
   {
    "duration": 759,
    "start_time": "2024-02-15T18:33:32.901Z"
   },
   {
    "duration": 736,
    "start_time": "2024-02-15T18:34:09.583Z"
   },
   {
    "duration": 6,
    "start_time": "2024-02-15T18:42:54.317Z"
   },
   {
    "duration": 6,
    "start_time": "2024-02-15T18:43:01.661Z"
   },
   {
    "duration": 7,
    "start_time": "2024-02-15T18:43:02.302Z"
   },
   {
    "duration": 4,
    "start_time": "2024-02-15T18:43:03.574Z"
   },
   {
    "duration": 46,
    "start_time": "2024-02-15T18:43:13.580Z"
   },
   {
    "duration": 105,
    "start_time": "2024-02-15T18:43:14.177Z"
   },
   {
    "duration": 52,
    "start_time": "2024-02-15T18:43:55.124Z"
   },
   {
    "duration": 1390,
    "start_time": "2024-02-15T18:52:10.615Z"
   },
   {
    "duration": 11,
    "start_time": "2024-02-15T18:52:26.928Z"
   },
   {
    "duration": 1363,
    "start_time": "2024-02-15T18:52:56.767Z"
   },
   {
    "duration": 35,
    "start_time": "2024-02-15T18:52:58.132Z"
   },
   {
    "duration": 807,
    "start_time": "2024-02-15T18:52:58.975Z"
   },
   {
    "duration": 53,
    "start_time": "2024-02-15T18:52:59.953Z"
   },
   {
    "duration": 33,
    "start_time": "2024-02-15T18:53:00.307Z"
   },
   {
    "duration": 52,
    "start_time": "2024-02-15T18:53:00.565Z"
   },
   {
    "duration": 40,
    "start_time": "2024-02-15T18:53:00.889Z"
   },
   {
    "duration": 5,
    "start_time": "2024-02-15T18:53:01.184Z"
   },
   {
    "duration": 7,
    "start_time": "2024-02-15T18:53:02.192Z"
   },
   {
    "duration": 7,
    "start_time": "2024-02-15T18:53:02.874Z"
   },
   {
    "duration": 8,
    "start_time": "2024-02-15T18:53:03.498Z"
   },
   {
    "duration": 5,
    "start_time": "2024-02-15T18:53:03.994Z"
   },
   {
    "duration": 6,
    "start_time": "2024-02-15T18:53:04.250Z"
   },
   {
    "duration": 4,
    "start_time": "2024-02-15T18:53:05.351Z"
   },
   {
    "duration": 45,
    "start_time": "2024-02-15T18:53:06.252Z"
   },
   {
    "duration": 12,
    "start_time": "2024-02-15T18:53:06.782Z"
   },
   {
    "duration": 94,
    "start_time": "2024-02-15T18:53:07.286Z"
   },
   {
    "duration": 11,
    "start_time": "2024-02-15T18:53:20.152Z"
   },
   {
    "duration": 11,
    "start_time": "2024-02-15T18:53:29.438Z"
   },
   {
    "duration": 18,
    "start_time": "2024-02-15T18:54:13.086Z"
   },
   {
    "duration": 263,
    "start_time": "2024-02-15T18:54:27.941Z"
   },
   {
    "duration": 74,
    "start_time": "2024-02-15T18:54:54.601Z"
   },
   {
    "duration": 240,
    "start_time": "2024-02-15T18:55:08.593Z"
   },
   {
    "duration": 307,
    "start_time": "2024-02-15T18:55:20.303Z"
   },
   {
    "duration": 430,
    "start_time": "2024-02-15T18:55:33.147Z"
   },
   {
    "duration": 474,
    "start_time": "2024-02-15T18:55:54.999Z"
   },
   {
    "duration": 627,
    "start_time": "2024-02-15T18:56:02.830Z"
   },
   {
    "duration": 740,
    "start_time": "2024-02-15T18:58:37.511Z"
   },
   {
    "duration": 654,
    "start_time": "2024-02-15T18:58:38.253Z"
   },
   {
    "duration": 753,
    "start_time": "2024-02-15T18:58:38.909Z"
   },
   {
    "duration": 3864,
    "start_time": "2024-02-15T18:58:54.077Z"
   },
   {
    "duration": 1266,
    "start_time": "2024-02-15T18:59:07.483Z"
   },
   {
    "duration": 642,
    "start_time": "2024-02-15T18:59:15.688Z"
   },
   {
    "duration": 27,
    "start_time": "2024-02-15T19:02:40.019Z"
   },
   {
    "duration": 41,
    "start_time": "2024-02-15T19:02:45.055Z"
   },
   {
    "duration": 254,
    "start_time": "2024-02-15T19:09:07.281Z"
   },
   {
    "duration": 509,
    "start_time": "2024-02-15T19:09:13.181Z"
   },
   {
    "duration": 220,
    "start_time": "2024-02-15T19:09:23.171Z"
   },
   {
    "duration": 332,
    "start_time": "2024-02-15T19:09:29.023Z"
   },
   {
    "duration": 336,
    "start_time": "2024-02-15T19:09:46.380Z"
   },
   {
    "duration": 434,
    "start_time": "2024-02-15T19:09:47.532Z"
   },
   {
    "duration": 377,
    "start_time": "2024-02-15T19:10:11.030Z"
   },
   {
    "duration": 334,
    "start_time": "2024-02-15T19:10:28.235Z"
   },
   {
    "duration": 8,
    "start_time": "2024-02-15T19:11:37.732Z"
   },
   {
    "duration": 358,
    "start_time": "2024-02-15T19:12:07.464Z"
   },
   {
    "duration": 453,
    "start_time": "2024-02-15T19:13:08.864Z"
   },
   {
    "duration": 338,
    "start_time": "2024-02-15T19:13:09.334Z"
   },
   {
    "duration": 355,
    "start_time": "2024-02-15T19:13:35.048Z"
   },
   {
    "duration": 332,
    "start_time": "2024-02-15T19:13:40.667Z"
   },
   {
    "duration": 456,
    "start_time": "2024-02-15T19:14:05.755Z"
   },
   {
    "duration": 371,
    "start_time": "2024-02-15T19:14:50.940Z"
   },
   {
    "duration": 340,
    "start_time": "2024-02-15T19:14:56.086Z"
   },
   {
    "duration": 7,
    "start_time": "2024-02-15T19:21:18.833Z"
   },
   {
    "duration": 6,
    "start_time": "2024-02-15T19:22:52.173Z"
   },
   {
    "duration": 6,
    "start_time": "2024-02-15T19:22:52.450Z"
   },
   {
    "duration": 8,
    "start_time": "2024-02-15T19:22:52.693Z"
   },
   {
    "duration": 6,
    "start_time": "2024-02-15T19:22:52.941Z"
   },
   {
    "duration": 122,
    "start_time": "2024-02-15T19:23:17.549Z"
   },
   {
    "duration": 142,
    "start_time": "2024-02-15T19:23:30.391Z"
   },
   {
    "duration": 323,
    "start_time": "2024-02-15T19:23:43.384Z"
   },
   {
    "duration": 12,
    "start_time": "2024-02-15T19:24:11.614Z"
   },
   {
    "duration": 10,
    "start_time": "2024-02-15T19:24:25.616Z"
   },
   {
    "duration": 0,
    "start_time": "2024-02-15T19:25:22.805Z"
   },
   {
    "duration": 0,
    "start_time": "2024-02-15T19:25:22.806Z"
   },
   {
    "duration": 1323,
    "start_time": "2024-02-15T19:25:33.485Z"
   },
   {
    "duration": 275,
    "start_time": "2024-02-15T19:25:34.810Z"
   },
   {
    "duration": 807,
    "start_time": "2024-02-15T19:25:35.087Z"
   },
   {
    "duration": 50,
    "start_time": "2024-02-15T19:25:35.895Z"
   },
   {
    "duration": 42,
    "start_time": "2024-02-15T19:25:35.946Z"
   },
   {
    "duration": 63,
    "start_time": "2024-02-15T19:25:36.127Z"
   },
   {
    "duration": 38,
    "start_time": "2024-02-15T19:25:36.320Z"
   },
   {
    "duration": 4,
    "start_time": "2024-02-15T19:25:36.551Z"
   },
   {
    "duration": 7,
    "start_time": "2024-02-15T19:25:37.267Z"
   },
   {
    "duration": 7,
    "start_time": "2024-02-15T19:25:37.814Z"
   },
   {
    "duration": 7,
    "start_time": "2024-02-15T19:25:38.435Z"
   },
   {
    "duration": 5,
    "start_time": "2024-02-15T19:25:38.884Z"
   },
   {
    "duration": 7,
    "start_time": "2024-02-15T19:25:39.092Z"
   },
   {
    "duration": 4,
    "start_time": "2024-02-15T19:25:39.987Z"
   },
   {
    "duration": 45,
    "start_time": "2024-02-15T19:25:40.860Z"
   },
   {
    "duration": 13,
    "start_time": "2024-02-15T19:25:41.298Z"
   },
   {
    "duration": 652,
    "start_time": "2024-02-15T19:25:42.566Z"
   },
   {
    "duration": 733,
    "start_time": "2024-02-15T19:25:43.220Z"
   },
   {
    "duration": 653,
    "start_time": "2024-02-15T19:25:43.958Z"
   },
   {
    "duration": 799,
    "start_time": "2024-02-15T19:25:44.613Z"
   },
   {
    "duration": 37,
    "start_time": "2024-02-15T19:25:45.544Z"
   },
   {
    "duration": 369,
    "start_time": "2024-02-15T19:25:45.830Z"
   },
   {
    "duration": 351,
    "start_time": "2024-02-15T19:25:46.201Z"
   },
   {
    "duration": 118,
    "start_time": "2024-02-15T19:25:47.443Z"
   },
   {
    "duration": 7,
    "start_time": "2024-02-15T19:25:47.823Z"
   },
   {
    "duration": 7,
    "start_time": "2024-02-15T19:25:48.179Z"
   },
   {
    "duration": 6,
    "start_time": "2024-02-15T19:25:48.726Z"
   },
   {
    "duration": 81,
    "start_time": "2024-02-15T19:26:18.866Z"
   },
   {
    "duration": 204,
    "start_time": "2024-02-15T19:26:26.466Z"
   },
   {
    "duration": 95,
    "start_time": "2024-02-15T19:26:35.237Z"
   },
   {
    "duration": 68,
    "start_time": "2024-02-15T19:27:14.660Z"
   },
   {
    "duration": 120,
    "start_time": "2024-02-15T19:27:23.057Z"
   },
   {
    "duration": 110,
    "start_time": "2024-02-15T19:28:11.438Z"
   },
   {
    "duration": 104,
    "start_time": "2024-02-15T19:28:32.351Z"
   },
   {
    "duration": 93,
    "start_time": "2024-02-15T19:28:32.596Z"
   },
   {
    "duration": 105,
    "start_time": "2024-02-15T19:28:32.938Z"
   },
   {
    "duration": 743,
    "start_time": "2024-02-15T19:33:29.882Z"
   },
   {
    "duration": 79,
    "start_time": "2024-02-15T19:36:23.442Z"
   },
   {
    "duration": 620,
    "start_time": "2024-02-15T19:36:44.202Z"
   },
   {
    "duration": 714,
    "start_time": "2024-02-15T19:38:40.776Z"
   },
   {
    "duration": 575,
    "start_time": "2024-02-15T19:44:02.817Z"
   },
   {
    "duration": 1276,
    "start_time": "2024-02-15T19:44:53.998Z"
   },
   {
    "duration": 43,
    "start_time": "2024-02-15T19:44:55.276Z"
   },
   {
    "duration": 802,
    "start_time": "2024-02-15T19:44:55.321Z"
   },
   {
    "duration": 54,
    "start_time": "2024-02-15T19:44:56.125Z"
   },
   {
    "duration": 34,
    "start_time": "2024-02-15T19:44:56.376Z"
   },
   {
    "duration": 52,
    "start_time": "2024-02-15T19:44:56.645Z"
   },
   {
    "duration": 37,
    "start_time": "2024-02-15T19:44:56.917Z"
   },
   {
    "duration": 4,
    "start_time": "2024-02-15T19:44:57.180Z"
   },
   {
    "duration": 7,
    "start_time": "2024-02-15T19:44:57.986Z"
   },
   {
    "duration": 6,
    "start_time": "2024-02-15T19:44:58.509Z"
   },
   {
    "duration": 7,
    "start_time": "2024-02-15T19:44:59.250Z"
   },
   {
    "duration": 5,
    "start_time": "2024-02-15T19:44:59.757Z"
   },
   {
    "duration": 7,
    "start_time": "2024-02-15T19:45:00.329Z"
   },
   {
    "duration": 4,
    "start_time": "2024-02-15T19:45:01.252Z"
   },
   {
    "duration": 46,
    "start_time": "2024-02-15T19:45:02.140Z"
   },
   {
    "duration": 13,
    "start_time": "2024-02-15T19:45:02.562Z"
   },
   {
    "duration": 687,
    "start_time": "2024-02-15T19:45:03.884Z"
   },
   {
    "duration": 727,
    "start_time": "2024-02-15T19:45:04.572Z"
   },
   {
    "duration": 650,
    "start_time": "2024-02-15T19:45:06.123Z"
   },
   {
    "duration": 804,
    "start_time": "2024-02-15T19:45:06.905Z"
   },
   {
    "duration": 35,
    "start_time": "2024-02-15T19:45:07.894Z"
   },
   {
    "duration": 447,
    "start_time": "2024-02-15T19:45:08.232Z"
   },
   {
    "duration": 566,
    "start_time": "2024-02-15T19:45:08.681Z"
   },
   {
    "duration": 95,
    "start_time": "2024-02-15T19:45:09.635Z"
   },
   {
    "duration": 103,
    "start_time": "2024-02-15T19:45:09.984Z"
   },
   {
    "duration": 98,
    "start_time": "2024-02-15T19:45:10.207Z"
   },
   {
    "duration": 97,
    "start_time": "2024-02-15T19:45:10.539Z"
   },
   {
    "duration": 114,
    "start_time": "2024-02-15T19:46:29.985Z"
   },
   {
    "duration": 99,
    "start_time": "2024-02-15T19:46:46.509Z"
   },
   {
    "duration": 105,
    "start_time": "2024-02-15T19:46:46.945Z"
   },
   {
    "duration": 108,
    "start_time": "2024-02-15T19:46:47.321Z"
   },
   {
    "duration": 108,
    "start_time": "2024-02-15T19:46:47.764Z"
   },
   {
    "duration": 551,
    "start_time": "2024-02-15T19:48:17.354Z"
   },
   {
    "duration": 422,
    "start_time": "2024-02-15T19:48:19.036Z"
   },
   {
    "duration": 441,
    "start_time": "2024-02-15T19:48:44.957Z"
   },
   {
    "duration": 538,
    "start_time": "2024-02-15T19:48:45.400Z"
   },
   {
    "duration": 326,
    "start_time": "2024-02-15T19:49:27.502Z"
   },
   {
    "duration": 328,
    "start_time": "2024-02-15T19:49:34.640Z"
   },
   {
    "duration": 140,
    "start_time": "2024-02-15T20:04:05.462Z"
   },
   {
    "duration": 25,
    "start_time": "2024-02-15T20:35:44.483Z"
   },
   {
    "duration": 45,
    "start_time": "2024-02-16T05:47:21.668Z"
   },
   {
    "duration": 1479,
    "start_time": "2024-02-16T05:47:34.752Z"
   },
   {
    "duration": 43,
    "start_time": "2024-02-16T05:47:36.232Z"
   },
   {
    "duration": 2047,
    "start_time": "2024-02-16T05:47:36.276Z"
   },
   {
    "duration": 61,
    "start_time": "2024-02-16T05:47:38.325Z"
   },
   {
    "duration": 36,
    "start_time": "2024-02-16T05:47:38.388Z"
   },
   {
    "duration": 55,
    "start_time": "2024-02-16T05:47:38.426Z"
   },
   {
    "duration": 56,
    "start_time": "2024-02-16T05:47:38.483Z"
   },
   {
    "duration": 4,
    "start_time": "2024-02-16T05:47:38.541Z"
   },
   {
    "duration": 8,
    "start_time": "2024-02-16T05:47:38.546Z"
   },
   {
    "duration": 5,
    "start_time": "2024-02-16T05:47:38.905Z"
   },
   {
    "duration": 7,
    "start_time": "2024-02-16T05:47:39.344Z"
   },
   {
    "duration": 6,
    "start_time": "2024-02-16T05:47:39.899Z"
   },
   {
    "duration": 4,
    "start_time": "2024-02-16T05:47:41.920Z"
   },
   {
    "duration": 45,
    "start_time": "2024-02-16T05:47:42.843Z"
   },
   {
    "duration": 12,
    "start_time": "2024-02-16T05:47:43.582Z"
   },
   {
    "duration": 741,
    "start_time": "2024-02-16T05:47:44.587Z"
   },
   {
    "duration": 702,
    "start_time": "2024-02-16T05:47:45.330Z"
   },
   {
    "duration": 695,
    "start_time": "2024-02-16T05:47:46.034Z"
   },
   {
    "duration": 823,
    "start_time": "2024-02-16T05:47:46.731Z"
   },
   {
    "duration": 36,
    "start_time": "2024-02-16T05:47:47.556Z"
   },
   {
    "duration": 358,
    "start_time": "2024-02-16T05:47:47.594Z"
   },
   {
    "duration": 354,
    "start_time": "2024-02-16T05:47:47.954Z"
   },
   {
    "duration": 214,
    "start_time": "2024-02-16T05:47:48.310Z"
   },
   {
    "duration": 102,
    "start_time": "2024-02-16T05:47:48.599Z"
   },
   {
    "duration": 100,
    "start_time": "2024-02-16T05:47:48.776Z"
   },
   {
    "duration": 114,
    "start_time": "2024-02-16T05:47:49.581Z"
   },
   {
    "duration": 3,
    "start_time": "2024-02-16T05:47:50.543Z"
   },
   {
    "duration": 90,
    "start_time": "2024-02-16T05:47:50.781Z"
   },
   {
    "duration": 42,
    "start_time": "2024-02-16T05:48:09.882Z"
   },
   {
    "duration": 43,
    "start_time": "2024-02-16T08:05:02.769Z"
   },
   {
    "duration": 1409,
    "start_time": "2024-02-16T08:11:24.773Z"
   },
   {
    "duration": 101,
    "start_time": "2024-02-16T08:11:27.284Z"
   },
   {
    "duration": 838,
    "start_time": "2024-02-16T08:11:27.816Z"
   },
   {
    "duration": 63,
    "start_time": "2024-02-16T08:11:28.655Z"
   },
   {
    "duration": 34,
    "start_time": "2024-02-16T08:11:28.719Z"
   },
   {
    "duration": 65,
    "start_time": "2024-02-16T08:11:28.754Z"
   },
   {
    "duration": 42,
    "start_time": "2024-02-16T08:11:29.770Z"
   },
   {
    "duration": 4,
    "start_time": "2024-02-16T08:11:30.281Z"
   },
   {
    "duration": 7,
    "start_time": "2024-02-16T08:11:30.400Z"
   },
   {
    "duration": 7,
    "start_time": "2024-02-16T08:11:31.618Z"
   },
   {
    "duration": 7,
    "start_time": "2024-02-16T08:11:31.678Z"
   },
   {
    "duration": 5,
    "start_time": "2024-02-16T08:11:31.730Z"
   },
   {
    "duration": 4,
    "start_time": "2024-02-16T08:11:31.853Z"
   },
   {
    "duration": 45,
    "start_time": "2024-02-16T08:11:33.223Z"
   },
   {
    "duration": 12,
    "start_time": "2024-02-16T08:11:33.282Z"
   },
   {
    "duration": 770,
    "start_time": "2024-02-16T08:11:33.465Z"
   },
   {
    "duration": 674,
    "start_time": "2024-02-16T08:11:35.238Z"
   },
   {
    "duration": 714,
    "start_time": "2024-02-16T08:11:35.917Z"
   },
   {
    "duration": 879,
    "start_time": "2024-02-16T08:11:36.633Z"
   },
   {
    "duration": 38,
    "start_time": "2024-02-16T08:11:37.517Z"
   },
   {
    "duration": 357,
    "start_time": "2024-02-16T08:11:38.012Z"
   },
   {
    "duration": 378,
    "start_time": "2024-02-16T08:11:38.496Z"
   },
   {
    "duration": 190,
    "start_time": "2024-02-16T08:11:40.981Z"
   },
   {
    "duration": 119,
    "start_time": "2024-02-16T08:11:41.172Z"
   },
   {
    "duration": 114,
    "start_time": "2024-02-16T08:11:41.383Z"
   },
   {
    "duration": 111,
    "start_time": "2024-02-16T08:11:41.602Z"
   },
   {
    "duration": 9,
    "start_time": "2024-02-16T08:11:42.659Z"
   },
   {
    "duration": 102,
    "start_time": "2024-02-16T08:11:43.450Z"
   },
   {
    "duration": 9,
    "start_time": "2024-02-16T08:14:04.952Z"
   },
   {
    "duration": 10,
    "start_time": "2024-02-16T08:15:42.144Z"
   },
   {
    "duration": 3,
    "start_time": "2024-02-16T08:18:06.532Z"
   },
   {
    "duration": 85,
    "start_time": "2024-02-16T08:22:09.116Z"
   },
   {
    "duration": 9,
    "start_time": "2024-02-16T08:25:15.884Z"
   },
   {
    "duration": 7,
    "start_time": "2024-02-16T08:26:18.632Z"
   },
   {
    "duration": 3,
    "start_time": "2024-02-16T08:26:57.593Z"
   },
   {
    "duration": 32,
    "start_time": "2024-02-16T13:37:17.325Z"
   },
   {
    "duration": 58,
    "start_time": "2024-02-16T13:37:17.819Z"
   },
   {
    "duration": 11,
    "start_time": "2024-02-16T14:55:44.915Z"
   },
   {
    "duration": 112,
    "start_time": "2024-02-16T15:25:16.083Z"
   },
   {
    "duration": 12,
    "start_time": "2024-02-16T15:27:11.539Z"
   },
   {
    "duration": 17,
    "start_time": "2024-02-16T15:27:14.066Z"
   },
   {
    "duration": 943,
    "start_time": "2024-02-16T15:33:23.336Z"
   },
   {
    "duration": 90,
    "start_time": "2024-02-16T15:40:27.882Z"
   },
   {
    "duration": 2004,
    "start_time": "2024-02-16T15:40:34.735Z"
   },
   {
    "duration": 2462,
    "start_time": "2024-02-16T15:40:53.081Z"
   },
   {
    "duration": 2166,
    "start_time": "2024-02-16T15:55:10.226Z"
   },
   {
    "duration": 3,
    "start_time": "2024-02-16T16:20:49.991Z"
   },
   {
    "duration": 147,
    "start_time": "2024-02-16T16:22:47.616Z"
   },
   {
    "duration": 31,
    "start_time": "2024-02-16T16:26:08.331Z"
   },
   {
    "duration": 9,
    "start_time": "2024-02-16T16:27:55.599Z"
   },
   {
    "duration": 9,
    "start_time": "2024-02-16T16:28:22.865Z"
   },
   {
    "duration": 2169,
    "start_time": "2024-02-16T16:28:50.272Z"
   },
   {
    "duration": 1293,
    "start_time": "2024-02-16T16:29:35.915Z"
   },
   {
    "duration": 38,
    "start_time": "2024-02-16T16:29:38.063Z"
   },
   {
    "duration": 821,
    "start_time": "2024-02-16T16:29:39.160Z"
   },
   {
    "duration": 51,
    "start_time": "2024-02-16T16:29:40.213Z"
   },
   {
    "duration": 35,
    "start_time": "2024-02-16T16:29:40.463Z"
   },
   {
    "duration": 51,
    "start_time": "2024-02-16T16:29:40.749Z"
   },
   {
    "duration": 39,
    "start_time": "2024-02-16T16:29:41.005Z"
   },
   {
    "duration": 4,
    "start_time": "2024-02-16T16:29:41.594Z"
   },
   {
    "duration": 65,
    "start_time": "2024-02-16T16:29:41.955Z"
   },
   {
    "duration": 2024,
    "start_time": "2024-02-16T16:29:42.300Z"
   },
   {
    "duration": 7,
    "start_time": "2024-02-16T16:29:44.326Z"
   },
   {
    "duration": 7,
    "start_time": "2024-02-16T16:29:44.896Z"
   },
   {
    "duration": 7,
    "start_time": "2024-02-16T16:29:57.111Z"
   },
   {
    "duration": 4,
    "start_time": "2024-02-16T16:29:57.889Z"
   },
   {
    "duration": 4,
    "start_time": "2024-02-16T16:29:59.325Z"
   },
   {
    "duration": 1436,
    "start_time": "2024-02-16T16:30:00.893Z"
   },
   {
    "duration": 0,
    "start_time": "2024-02-16T16:30:02.331Z"
   },
   {
    "duration": 0,
    "start_time": "2024-02-16T16:30:02.332Z"
   },
   {
    "duration": 4,
    "start_time": "2024-02-16T16:31:47.063Z"
   },
   {
    "duration": 2108,
    "start_time": "2024-02-16T16:31:53.740Z"
   },
   {
    "duration": 9,
    "start_time": "2024-02-16T16:33:07.333Z"
   },
   {
    "duration": 10,
    "start_time": "2024-02-16T16:34:00.387Z"
   },
   {
    "duration": 10,
    "start_time": "2024-02-16T16:34:08.243Z"
   },
   {
    "duration": 429,
    "start_time": "2024-02-16T16:36:17.290Z"
   },
   {
    "duration": 5,
    "start_time": "2024-02-16T16:37:27.387Z"
   },
   {
    "duration": 527,
    "start_time": "2024-02-16T16:37:32.593Z"
   },
   {
    "duration": 11,
    "start_time": "2024-02-16T16:38:15.666Z"
   },
   {
    "duration": 373,
    "start_time": "2024-02-16T16:41:25.258Z"
   },
   {
    "duration": 367,
    "start_time": "2024-02-16T16:41:59.133Z"
   },
   {
    "duration": 381,
    "start_time": "2024-02-16T16:42:13.480Z"
   },
   {
    "duration": 389,
    "start_time": "2024-02-16T16:42:39.308Z"
   },
   {
    "duration": 4,
    "start_time": "2024-02-16T16:43:19.802Z"
   },
   {
    "duration": 355,
    "start_time": "2024-02-16T16:43:24.379Z"
   },
   {
    "duration": 1491,
    "start_time": "2024-02-16T16:43:41.203Z"
   },
   {
    "duration": 1513,
    "start_time": "2024-02-16T16:43:47.247Z"
   },
   {
    "duration": 1509,
    "start_time": "2024-02-16T16:43:53.448Z"
   },
   {
    "duration": 1108,
    "start_time": "2024-02-16T16:44:05.157Z"
   },
   {
    "duration": 19,
    "start_time": "2024-02-16T16:44:32.597Z"
   },
   {
    "duration": 17156,
    "start_time": "2024-02-16T16:44:38.296Z"
   },
   {
    "duration": 18,
    "start_time": "2024-02-16T16:45:02.924Z"
   },
   {
    "duration": 153,
    "start_time": "2024-02-16T16:45:23.009Z"
   },
   {
    "duration": 3,
    "start_time": "2024-02-16T16:45:48.271Z"
   },
   {
    "duration": 898,
    "start_time": "2024-02-16T16:45:55.137Z"
   },
   {
    "duration": 663,
    "start_time": "2024-02-16T16:46:52.903Z"
   },
   {
    "duration": 157,
    "start_time": "2024-02-16T16:47:55.313Z"
   },
   {
    "duration": 8,
    "start_time": "2024-02-16T16:48:14.291Z"
   },
   {
    "duration": 10,
    "start_time": "2024-02-16T16:54:54.686Z"
   },
   {
    "duration": 10,
    "start_time": "2024-02-16T16:55:11.367Z"
   },
   {
    "duration": 10,
    "start_time": "2024-02-16T16:55:15.968Z"
   },
   {
    "duration": 10,
    "start_time": "2024-02-16T16:55:19.687Z"
   },
   {
    "duration": 9,
    "start_time": "2024-02-16T16:55:24.267Z"
   },
   {
    "duration": 10,
    "start_time": "2024-02-16T16:55:28.446Z"
   },
   {
    "duration": 9,
    "start_time": "2024-02-16T16:55:34.564Z"
   },
   {
    "duration": 12,
    "start_time": "2024-02-16T17:00:20.712Z"
   },
   {
    "duration": 9,
    "start_time": "2024-02-16T17:01:29.656Z"
   },
   {
    "duration": 10,
    "start_time": "2024-02-16T17:03:09.610Z"
   },
   {
    "duration": 13,
    "start_time": "2024-02-16T17:03:58.141Z"
   },
   {
    "duration": 9,
    "start_time": "2024-02-16T17:04:21.585Z"
   },
   {
    "duration": 9,
    "start_time": "2024-02-16T17:04:30.163Z"
   },
   {
    "duration": 9,
    "start_time": "2024-02-16T17:04:46.505Z"
   },
   {
    "duration": 15,
    "start_time": "2024-02-16T17:05:12.974Z"
   },
   {
    "duration": 14,
    "start_time": "2024-02-16T17:05:19.510Z"
   },
   {
    "duration": 73,
    "start_time": "2024-02-16T17:06:32.318Z"
   },
   {
    "duration": 1205,
    "start_time": "2024-02-16T17:06:39.761Z"
   },
   {
    "duration": 12,
    "start_time": "2024-02-16T17:07:15.093Z"
   },
   {
    "duration": 11,
    "start_time": "2024-02-16T17:07:34.631Z"
   },
   {
    "duration": 32,
    "start_time": "2024-02-16T17:08:15.784Z"
   },
   {
    "duration": 36,
    "start_time": "2024-02-16T17:10:32.674Z"
   },
   {
    "duration": 37,
    "start_time": "2024-02-16T17:10:46.551Z"
   },
   {
    "duration": 15,
    "start_time": "2024-02-16T17:31:54.353Z"
   },
   {
    "duration": 124,
    "start_time": "2024-02-16T17:34:04.603Z"
   },
   {
    "duration": 10,
    "start_time": "2024-02-16T17:39:59.059Z"
   },
   {
    "duration": 1627,
    "start_time": "2024-02-16T17:40:05.267Z"
   },
   {
    "duration": 71,
    "start_time": "2024-02-16T17:40:12.272Z"
   },
   {
    "duration": 24,
    "start_time": "2024-02-16T17:40:30.453Z"
   },
   {
    "duration": 1268,
    "start_time": "2024-02-16T17:41:42.665Z"
   },
   {
    "duration": 75,
    "start_time": "2024-02-16T17:41:43.935Z"
   },
   {
    "duration": 800,
    "start_time": "2024-02-16T17:41:44.344Z"
   },
   {
    "duration": 54,
    "start_time": "2024-02-16T17:41:45.146Z"
   },
   {
    "duration": 46,
    "start_time": "2024-02-16T17:41:45.202Z"
   },
   {
    "duration": 68,
    "start_time": "2024-02-16T17:41:45.250Z"
   },
   {
    "duration": 39,
    "start_time": "2024-02-16T17:41:45.320Z"
   },
   {
    "duration": 3,
    "start_time": "2024-02-16T17:41:45.361Z"
   },
   {
    "duration": 69,
    "start_time": "2024-02-16T17:41:46.369Z"
   },
   {
    "duration": 2192,
    "start_time": "2024-02-16T17:41:46.926Z"
   },
   {
    "duration": 6,
    "start_time": "2024-02-16T17:41:49.120Z"
   },
   {
    "duration": 7,
    "start_time": "2024-02-16T17:41:51.489Z"
   },
   {
    "duration": 7,
    "start_time": "2024-02-16T17:41:52.131Z"
   },
   {
    "duration": 4,
    "start_time": "2024-02-16T17:41:52.831Z"
   },
   {
    "duration": 3,
    "start_time": "2024-02-16T17:41:54.270Z"
   },
   {
    "duration": 14,
    "start_time": "2024-02-16T17:41:59.502Z"
   },
   {
    "duration": 27,
    "start_time": "2024-02-16T17:42:03.650Z"
   },
   {
    "duration": 4,
    "start_time": "2024-02-16T17:42:47.345Z"
   },
   {
    "duration": 1674,
    "start_time": "2024-02-16T17:42:48.750Z"
   },
   {
    "duration": 74,
    "start_time": "2024-02-16T17:42:50.425Z"
   },
   {
    "duration": 15,
    "start_time": "2024-02-16T17:43:19.258Z"
   },
   {
    "duration": 27,
    "start_time": "2024-02-16T17:43:21.582Z"
   },
   {
    "duration": 12,
    "start_time": "2024-02-16T17:43:26.053Z"
   },
   {
    "duration": 25,
    "start_time": "2024-02-16T17:44:58.064Z"
   },
   {
    "duration": 40,
    "start_time": "2024-02-16T17:50:46.435Z"
   },
   {
    "duration": 109,
    "start_time": "2024-02-16T17:52:42.906Z"
   },
   {
    "duration": 95,
    "start_time": "2024-02-16T17:52:44.065Z"
   },
   {
    "duration": 95,
    "start_time": "2024-02-16T17:53:05.217Z"
   },
   {
    "duration": 1243,
    "start_time": "2024-02-16T17:54:23.057Z"
   },
   {
    "duration": 40,
    "start_time": "2024-02-16T17:54:24.301Z"
   },
   {
    "duration": 775,
    "start_time": "2024-02-16T17:54:26.164Z"
   },
   {
    "duration": 52,
    "start_time": "2024-02-16T17:54:27.850Z"
   },
   {
    "duration": 33,
    "start_time": "2024-02-16T17:54:28.855Z"
   },
   {
    "duration": 49,
    "start_time": "2024-02-16T17:54:29.344Z"
   },
   {
    "duration": 38,
    "start_time": "2024-02-16T17:54:29.899Z"
   },
   {
    "duration": 4,
    "start_time": "2024-02-16T17:54:30.299Z"
   },
   {
    "duration": 2072,
    "start_time": "2024-02-16T17:54:31.702Z"
   },
   {
    "duration": 8,
    "start_time": "2024-02-16T17:54:33.777Z"
   },
   {
    "duration": 7,
    "start_time": "2024-02-16T17:54:34.633Z"
   },
   {
    "duration": 6,
    "start_time": "2024-02-16T17:54:35.859Z"
   },
   {
    "duration": 5,
    "start_time": "2024-02-16T17:54:37.207Z"
   },
   {
    "duration": 4,
    "start_time": "2024-02-16T17:54:39.408Z"
   },
   {
    "duration": 10,
    "start_time": "2024-02-16T17:54:42.473Z"
   },
   {
    "duration": 14,
    "start_time": "2024-02-16T17:54:43.341Z"
   },
   {
    "duration": 27,
    "start_time": "2024-02-16T17:54:46.045Z"
   },
   {
    "duration": 5,
    "start_time": "2024-02-16T17:54:47.151Z"
   },
   {
    "duration": 256,
    "start_time": "2024-02-16T17:54:48.166Z"
   },
   {
    "duration": 7,
    "start_time": "2024-02-16T17:55:30.991Z"
   },
   {
    "duration": 22,
    "start_time": "2024-02-16T17:59:39.662Z"
   },
   {
    "duration": 21,
    "start_time": "2024-02-16T18:00:00.485Z"
   },
   {
    "duration": 7,
    "start_time": "2024-02-16T18:00:57.601Z"
   },
   {
    "duration": 20,
    "start_time": "2024-02-16T18:00:58.599Z"
   },
   {
    "duration": 12,
    "start_time": "2024-02-16T18:01:06.531Z"
   },
   {
    "duration": 20,
    "start_time": "2024-02-16T18:01:38.130Z"
   },
   {
    "duration": 18,
    "start_time": "2024-02-16T18:01:50.398Z"
   },
   {
    "duration": 34,
    "start_time": "2024-02-16T18:01:55.607Z"
   },
   {
    "duration": 17,
    "start_time": "2024-02-16T18:03:15.354Z"
   },
   {
    "duration": 1314,
    "start_time": "2024-02-16T18:03:42.095Z"
   },
   {
    "duration": 47,
    "start_time": "2024-02-16T18:03:43.410Z"
   },
   {
    "duration": 783,
    "start_time": "2024-02-16T18:03:43.459Z"
   },
   {
    "duration": 51,
    "start_time": "2024-02-16T18:03:44.243Z"
   },
   {
    "duration": 46,
    "start_time": "2024-02-16T18:03:44.296Z"
   },
   {
    "duration": 52,
    "start_time": "2024-02-16T18:03:44.526Z"
   },
   {
    "duration": 40,
    "start_time": "2024-02-16T18:03:44.780Z"
   },
   {
    "duration": 5,
    "start_time": "2024-02-16T18:03:45.001Z"
   },
   {
    "duration": 2060,
    "start_time": "2024-02-16T18:03:45.610Z"
   },
   {
    "duration": 7,
    "start_time": "2024-02-16T18:03:47.672Z"
   },
   {
    "duration": 12,
    "start_time": "2024-02-16T18:03:47.681Z"
   },
   {
    "duration": 21,
    "start_time": "2024-02-16T18:03:47.695Z"
   },
   {
    "duration": 12,
    "start_time": "2024-02-16T18:03:47.718Z"
   },
   {
    "duration": 4,
    "start_time": "2024-02-16T18:03:49.419Z"
   },
   {
    "duration": 8,
    "start_time": "2024-02-16T18:03:50.441Z"
   },
   {
    "duration": 17,
    "start_time": "2024-02-16T18:03:50.450Z"
   },
   {
    "duration": 14,
    "start_time": "2024-02-16T18:03:50.820Z"
   },
   {
    "duration": 27,
    "start_time": "2024-02-16T18:03:54.759Z"
   },
   {
    "duration": 4,
    "start_time": "2024-02-16T18:03:57.050Z"
   },
   {
    "duration": 6,
    "start_time": "2024-02-16T18:03:58.487Z"
   },
   {
    "duration": 5,
    "start_time": "2024-02-16T18:04:35.115Z"
   },
   {
    "duration": 6,
    "start_time": "2024-02-16T18:04:58.133Z"
   },
   {
    "duration": 7,
    "start_time": "2024-02-16T18:05:05.734Z"
   },
   {
    "duration": 5,
    "start_time": "2024-02-16T18:07:35.173Z"
   },
   {
    "duration": 8,
    "start_time": "2024-02-16T18:11:00.327Z"
   },
   {
    "duration": 9,
    "start_time": "2024-02-16T18:11:06.285Z"
   },
   {
    "duration": 7,
    "start_time": "2024-02-16T18:13:56.490Z"
   },
   {
    "duration": 6,
    "start_time": "2024-02-16T18:14:01.900Z"
   },
   {
    "duration": 6,
    "start_time": "2024-02-16T18:14:09.947Z"
   },
   {
    "duration": 6,
    "start_time": "2024-02-16T18:14:24.818Z"
   },
   {
    "duration": 6,
    "start_time": "2024-02-16T18:14:45.539Z"
   },
   {
    "duration": 6,
    "start_time": "2024-02-16T18:15:03.248Z"
   },
   {
    "duration": 8,
    "start_time": "2024-02-16T18:15:11.261Z"
   },
   {
    "duration": 52,
    "start_time": "2024-02-16T18:17:48.372Z"
   },
   {
    "duration": 57,
    "start_time": "2024-02-16T18:18:56.909Z"
   },
   {
    "duration": 1316,
    "start_time": "2024-02-16T18:19:17.807Z"
   },
   {
    "duration": 40,
    "start_time": "2024-02-16T18:19:19.125Z"
   },
   {
    "duration": 805,
    "start_time": "2024-02-16T18:19:19.414Z"
   },
   {
    "duration": 51,
    "start_time": "2024-02-16T18:19:20.383Z"
   },
   {
    "duration": 31,
    "start_time": "2024-02-16T18:19:20.656Z"
   },
   {
    "duration": 49,
    "start_time": "2024-02-16T18:19:20.992Z"
   },
   {
    "duration": 38,
    "start_time": "2024-02-16T18:19:21.328Z"
   },
   {
    "duration": 4,
    "start_time": "2024-02-16T18:19:21.639Z"
   },
   {
    "duration": 2038,
    "start_time": "2024-02-16T18:19:22.699Z"
   },
   {
    "duration": 7,
    "start_time": "2024-02-16T18:19:24.739Z"
   },
   {
    "duration": 11,
    "start_time": "2024-02-16T18:19:24.747Z"
   },
   {
    "duration": 7,
    "start_time": "2024-02-16T18:19:25.067Z"
   },
   {
    "duration": 5,
    "start_time": "2024-02-16T18:19:25.707Z"
   },
   {
    "duration": 4,
    "start_time": "2024-02-16T18:19:27.248Z"
   },
   {
    "duration": 8,
    "start_time": "2024-02-16T18:19:28.522Z"
   },
   {
    "duration": 7,
    "start_time": "2024-02-16T18:19:28.784Z"
   },
   {
    "duration": 9,
    "start_time": "2024-02-16T18:19:29.049Z"
   },
   {
    "duration": 16,
    "start_time": "2024-02-16T18:19:29.330Z"
   },
   {
    "duration": 28,
    "start_time": "2024-02-16T18:19:29.649Z"
   },
   {
    "duration": 3,
    "start_time": "2024-02-16T18:19:30.076Z"
   },
   {
    "duration": 6,
    "start_time": "2024-02-16T18:19:30.751Z"
   },
   {
    "duration": 6,
    "start_time": "2024-02-16T18:19:30.978Z"
   },
   {
    "duration": 6,
    "start_time": "2024-02-16T18:19:31.348Z"
   },
   {
    "duration": 6,
    "start_time": "2024-02-16T18:19:31.950Z"
   },
   {
    "duration": 56,
    "start_time": "2024-02-16T18:19:33.144Z"
   },
   {
    "duration": 43,
    "start_time": "2024-02-16T18:19:55.784Z"
   },
   {
    "duration": 29,
    "start_time": "2024-02-16T18:20:08.716Z"
   },
   {
    "duration": 45,
    "start_time": "2024-02-16T18:23:34.311Z"
   },
   {
    "duration": 21,
    "start_time": "2024-02-16T18:23:34.939Z"
   },
   {
    "duration": 746,
    "start_time": "2024-02-16T18:23:42.300Z"
   },
   {
    "duration": 647,
    "start_time": "2024-02-16T18:23:44.599Z"
   },
   {
    "duration": 773,
    "start_time": "2024-02-16T18:23:46.531Z"
   },
   {
    "duration": 693,
    "start_time": "2024-02-16T18:23:47.830Z"
   },
   {
    "duration": 37,
    "start_time": "2024-02-16T18:23:50.631Z"
   },
   {
    "duration": 324,
    "start_time": "2024-02-16T18:23:53.123Z"
   },
   {
    "duration": 465,
    "start_time": "2024-02-16T18:23:54.164Z"
   },
   {
    "duration": 101,
    "start_time": "2024-02-16T18:23:56.462Z"
   },
   {
    "duration": 96,
    "start_time": "2024-02-16T18:23:57.327Z"
   },
   {
    "duration": 100,
    "start_time": "2024-02-16T18:23:58.023Z"
   },
   {
    "duration": 110,
    "start_time": "2024-02-16T18:23:59.695Z"
   },
   {
    "duration": 3,
    "start_time": "2024-02-16T18:24:05.967Z"
   },
   {
    "duration": 31,
    "start_time": "2024-02-16T18:24:08.456Z"
   },
   {
    "duration": 61,
    "start_time": "2024-02-16T18:24:08.767Z"
   },
   {
    "duration": 9,
    "start_time": "2024-02-16T18:24:12.350Z"
   },
   {
    "duration": 135,
    "start_time": "2024-02-16T18:24:14.055Z"
   },
   {
    "duration": 333,
    "start_time": "2024-02-16T18:24:19.687Z"
   },
   {
    "duration": 6,
    "start_time": "2024-02-16T18:26:16.287Z"
   },
   {
    "duration": 8,
    "start_time": "2024-02-16T18:26:17.125Z"
   },
   {
    "duration": 6,
    "start_time": "2024-02-16T18:26:18.487Z"
   },
   {
    "duration": 6,
    "start_time": "2024-02-16T18:28:35.973Z"
   },
   {
    "duration": 9,
    "start_time": "2024-02-16T18:28:36.293Z"
   },
   {
    "duration": 12,
    "start_time": "2024-02-16T18:28:36.600Z"
   },
   {
    "duration": 8,
    "start_time": "2024-02-16T18:28:45.088Z"
   },
   {
    "duration": 23,
    "start_time": "2024-02-16T18:46:08.818Z"
   },
   {
    "duration": 1373,
    "start_time": "2024-02-16T18:47:30.819Z"
   },
   {
    "duration": 39,
    "start_time": "2024-02-16T18:47:32.194Z"
   },
   {
    "duration": 826,
    "start_time": "2024-02-16T18:47:32.234Z"
   },
   {
    "duration": 58,
    "start_time": "2024-02-16T18:47:33.062Z"
   },
   {
    "duration": 34,
    "start_time": "2024-02-16T18:47:33.121Z"
   },
   {
    "duration": 67,
    "start_time": "2024-02-16T18:47:33.157Z"
   },
   {
    "duration": 40,
    "start_time": "2024-02-16T18:47:33.225Z"
   },
   {
    "duration": 4,
    "start_time": "2024-02-16T18:47:33.268Z"
   },
   {
    "duration": 2045,
    "start_time": "2024-02-16T18:47:33.273Z"
   },
   {
    "duration": 7,
    "start_time": "2024-02-16T18:47:35.810Z"
   },
   {
    "duration": 6,
    "start_time": "2024-02-16T18:47:46.110Z"
   },
   {
    "duration": 7,
    "start_time": "2024-02-16T18:47:46.687Z"
   },
   {
    "duration": 5,
    "start_time": "2024-02-16T18:47:47.400Z"
   },
   {
    "duration": 4,
    "start_time": "2024-02-16T18:47:49.134Z"
   },
   {
    "duration": 8,
    "start_time": "2024-02-16T18:47:52.612Z"
   },
   {
    "duration": 6,
    "start_time": "2024-02-16T18:47:55.268Z"
   },
   {
    "duration": 10,
    "start_time": "2024-02-16T18:47:57.696Z"
   },
   {
    "duration": 15,
    "start_time": "2024-02-16T18:47:58.258Z"
   },
   {
    "duration": 26,
    "start_time": "2024-02-16T18:48:04.970Z"
   },
   {
    "duration": 5,
    "start_time": "2024-02-16T18:48:06.340Z"
   },
   {
    "duration": 12,
    "start_time": "2024-02-16T18:48:07.516Z"
   },
   {
    "duration": 6,
    "start_time": "2024-02-16T18:48:09.468Z"
   },
   {
    "duration": 7,
    "start_time": "2024-02-16T18:48:09.530Z"
   },
   {
    "duration": 5,
    "start_time": "2024-02-16T18:48:10.036Z"
   },
   {
    "duration": 39,
    "start_time": "2024-02-16T18:48:12.465Z"
   },
   {
    "duration": 53,
    "start_time": "2024-02-16T18:48:16.977Z"
   },
   {
    "duration": 14,
    "start_time": "2024-02-16T18:48:28.576Z"
   },
   {
    "duration": 12,
    "start_time": "2024-02-16T18:48:42.575Z"
   },
   {
    "duration": 15,
    "start_time": "2024-02-16T18:57:50.101Z"
   },
   {
    "duration": 14,
    "start_time": "2024-02-16T18:57:50.966Z"
   },
   {
    "duration": 18,
    "start_time": "2024-02-16T19:11:45.903Z"
   },
   {
    "duration": 14,
    "start_time": "2024-02-16T19:21:06.399Z"
   },
   {
    "duration": 13,
    "start_time": "2024-02-16T19:22:02.613Z"
   },
   {
    "duration": 708,
    "start_time": "2024-02-16T19:25:29.625Z"
   },
   {
    "duration": 192,
    "start_time": "2024-02-16T19:25:37.227Z"
   },
   {
    "duration": 526,
    "start_time": "2024-02-16T19:39:11.530Z"
   },
   {
    "duration": 130,
    "start_time": "2024-02-16T19:39:31.789Z"
   },
   {
    "duration": 11,
    "start_time": "2024-02-16T19:43:24.322Z"
   },
   {
    "duration": 10,
    "start_time": "2024-02-16T19:46:06.403Z"
   },
   {
    "duration": 5,
    "start_time": "2024-02-16T19:47:02.365Z"
   },
   {
    "duration": 11,
    "start_time": "2024-02-16T19:58:21.980Z"
   },
   {
    "duration": 4,
    "start_time": "2024-02-16T19:58:33.342Z"
   },
   {
    "duration": 148,
    "start_time": "2024-02-16T19:58:34.173Z"
   },
   {
    "duration": 280,
    "start_time": "2024-02-16T19:58:59.338Z"
   },
   {
    "duration": 202,
    "start_time": "2024-02-16T19:59:07.718Z"
   },
   {
    "duration": 4,
    "start_time": "2024-02-16T20:00:57.943Z"
   },
   {
    "duration": 388,
    "start_time": "2024-02-16T20:00:58.933Z"
   },
   {
    "duration": 201,
    "start_time": "2024-02-16T20:01:21.119Z"
   },
   {
    "duration": 4,
    "start_time": "2024-02-16T20:01:47.951Z"
   },
   {
    "duration": 159,
    "start_time": "2024-02-16T20:01:48.863Z"
   },
   {
    "duration": 134,
    "start_time": "2024-02-16T20:03:35.683Z"
   },
   {
    "duration": 169,
    "start_time": "2024-02-16T20:04:00.251Z"
   },
   {
    "duration": 307,
    "start_time": "2024-02-16T20:04:00.610Z"
   },
   {
    "duration": 3,
    "start_time": "2024-02-16T20:04:14.913Z"
   },
   {
    "duration": 203,
    "start_time": "2024-02-16T20:04:15.216Z"
   },
   {
    "duration": 374,
    "start_time": "2024-02-16T20:04:15.555Z"
   },
   {
    "duration": 56,
    "start_time": "2024-02-16T20:06:50.266Z"
   },
   {
    "duration": 14,
    "start_time": "2024-02-16T20:11:04.847Z"
   },
   {
    "duration": 3,
    "start_time": "2024-02-16T20:11:28.533Z"
   },
   {
    "duration": 63,
    "start_time": "2024-02-16T20:11:28.963Z"
   },
   {
    "duration": 196,
    "start_time": "2024-02-16T20:11:30.028Z"
   },
   {
    "duration": 271,
    "start_time": "2024-02-16T20:12:12.147Z"
   },
   {
    "duration": 209,
    "start_time": "2024-02-16T20:14:11.915Z"
   },
   {
    "duration": 715,
    "start_time": "2024-02-16T20:15:13.706Z"
   },
   {
    "duration": 6,
    "start_time": "2024-02-16T20:17:22.237Z"
   },
   {
    "duration": 5,
    "start_time": "2024-02-16T20:17:41.400Z"
   },
   {
    "duration": 6,
    "start_time": "2024-02-16T20:17:53.975Z"
   },
   {
    "duration": 414,
    "start_time": "2024-02-16T20:21:37.909Z"
   },
   {
    "duration": 3,
    "start_time": "2024-02-16T20:21:56.868Z"
   },
   {
    "duration": 154,
    "start_time": "2024-02-16T20:21:57.271Z"
   },
   {
    "duration": 319,
    "start_time": "2024-02-16T20:21:57.801Z"
   },
   {
    "duration": 702,
    "start_time": "2024-02-16T20:21:58.728Z"
   },
   {
    "duration": 6,
    "start_time": "2024-02-16T20:22:07.464Z"
   },
   {
    "duration": 7,
    "start_time": "2024-02-16T20:22:08.451Z"
   },
   {
    "duration": 1396,
    "start_time": "2024-02-16T20:25:32.897Z"
   },
   {
    "duration": 41,
    "start_time": "2024-02-16T20:25:34.294Z"
   },
   {
    "duration": 845,
    "start_time": "2024-02-16T20:25:34.336Z"
   },
   {
    "duration": 59,
    "start_time": "2024-02-16T20:25:35.183Z"
   },
   {
    "duration": 33,
    "start_time": "2024-02-16T20:25:35.244Z"
   },
   {
    "duration": 66,
    "start_time": "2024-02-16T20:25:35.278Z"
   },
   {
    "duration": 38,
    "start_time": "2024-02-16T20:25:35.346Z"
   },
   {
    "duration": 3,
    "start_time": "2024-02-16T20:25:35.385Z"
   },
   {
    "duration": 2135,
    "start_time": "2024-02-16T20:25:35.390Z"
   },
   {
    "duration": 8,
    "start_time": "2024-02-16T20:25:37.528Z"
   },
   {
    "duration": 7,
    "start_time": "2024-02-16T20:25:37.538Z"
   },
   {
    "duration": 10,
    "start_time": "2024-02-16T20:25:37.547Z"
   },
   {
    "duration": 8,
    "start_time": "2024-02-16T20:25:37.558Z"
   },
   {
    "duration": 7,
    "start_time": "2024-02-16T20:25:37.567Z"
   },
   {
    "duration": 18,
    "start_time": "2024-02-16T20:25:37.575Z"
   },
   {
    "duration": 28,
    "start_time": "2024-02-16T20:25:37.594Z"
   },
   {
    "duration": 11,
    "start_time": "2024-02-16T20:25:37.624Z"
   },
   {
    "duration": 15,
    "start_time": "2024-02-16T20:25:37.636Z"
   },
   {
    "duration": 26,
    "start_time": "2024-02-16T20:25:37.653Z"
   },
   {
    "duration": 3,
    "start_time": "2024-02-16T20:25:37.680Z"
   },
   {
    "duration": 6,
    "start_time": "2024-02-16T20:25:37.717Z"
   },
   {
    "duration": 14,
    "start_time": "2024-02-16T20:25:37.725Z"
   },
   {
    "duration": 13,
    "start_time": "2024-02-16T20:25:37.741Z"
   },
   {
    "duration": 4,
    "start_time": "2024-02-16T20:25:37.756Z"
   },
   {
    "duration": 43,
    "start_time": "2024-02-16T20:25:37.762Z"
   },
   {
    "duration": 18,
    "start_time": "2024-02-16T20:25:37.806Z"
   },
   {
    "duration": 13,
    "start_time": "2024-02-16T20:25:37.826Z"
   },
   {
    "duration": 81,
    "start_time": "2024-02-16T20:25:37.842Z"
   },
   {
    "duration": 0,
    "start_time": "2024-02-16T20:25:37.924Z"
   },
   {
    "duration": 0,
    "start_time": "2024-02-16T20:25:37.925Z"
   },
   {
    "duration": 0,
    "start_time": "2024-02-16T20:25:37.926Z"
   },
   {
    "duration": 0,
    "start_time": "2024-02-16T20:25:37.927Z"
   },
   {
    "duration": 0,
    "start_time": "2024-02-16T20:25:37.928Z"
   },
   {
    "duration": 0,
    "start_time": "2024-02-16T20:25:37.929Z"
   },
   {
    "duration": 0,
    "start_time": "2024-02-16T20:25:37.930Z"
   },
   {
    "duration": 0,
    "start_time": "2024-02-16T20:25:37.931Z"
   },
   {
    "duration": 0,
    "start_time": "2024-02-16T20:25:37.932Z"
   },
   {
    "duration": 0,
    "start_time": "2024-02-16T20:25:37.933Z"
   },
   {
    "duration": 0,
    "start_time": "2024-02-16T20:25:37.934Z"
   },
   {
    "duration": 0,
    "start_time": "2024-02-16T20:25:37.935Z"
   },
   {
    "duration": 0,
    "start_time": "2024-02-16T20:25:37.936Z"
   },
   {
    "duration": 0,
    "start_time": "2024-02-16T20:25:37.937Z"
   },
   {
    "duration": 0,
    "start_time": "2024-02-16T20:25:37.938Z"
   },
   {
    "duration": 0,
    "start_time": "2024-02-16T20:25:37.939Z"
   },
   {
    "duration": 0,
    "start_time": "2024-02-16T20:25:37.940Z"
   },
   {
    "duration": 0,
    "start_time": "2024-02-16T20:25:37.941Z"
   },
   {
    "duration": 0,
    "start_time": "2024-02-16T20:25:37.942Z"
   },
   {
    "duration": 0,
    "start_time": "2024-02-16T20:25:37.943Z"
   },
   {
    "duration": 0,
    "start_time": "2024-02-16T20:25:37.944Z"
   },
   {
    "duration": 0,
    "start_time": "2024-02-16T20:25:37.945Z"
   },
   {
    "duration": 0,
    "start_time": "2024-02-16T20:25:37.946Z"
   },
   {
    "duration": 0,
    "start_time": "2024-02-16T20:25:37.947Z"
   },
   {
    "duration": 0,
    "start_time": "2024-02-16T20:25:37.948Z"
   },
   {
    "duration": 0,
    "start_time": "2024-02-16T20:25:37.949Z"
   },
   {
    "duration": 1274,
    "start_time": "2024-02-16T20:26:22.155Z"
   },
   {
    "duration": 39,
    "start_time": "2024-02-16T20:26:24.715Z"
   },
   {
    "duration": 831,
    "start_time": "2024-02-16T20:26:26.650Z"
   },
   {
    "duration": 53,
    "start_time": "2024-02-16T20:26:29.028Z"
   },
   {
    "duration": 33,
    "start_time": "2024-02-16T20:26:29.842Z"
   },
   {
    "duration": 51,
    "start_time": "2024-02-16T20:26:30.757Z"
   },
   {
    "duration": 43,
    "start_time": "2024-02-16T20:26:31.281Z"
   },
   {
    "duration": 4,
    "start_time": "2024-02-16T20:26:31.887Z"
   },
   {
    "duration": 2041,
    "start_time": "2024-02-16T20:26:32.897Z"
   },
   {
    "duration": 8,
    "start_time": "2024-02-16T20:26:38.006Z"
   },
   {
    "duration": 7,
    "start_time": "2024-02-16T20:26:39.118Z"
   },
   {
    "duration": 7,
    "start_time": "2024-02-16T20:26:40.235Z"
   },
   {
    "duration": 6,
    "start_time": "2024-02-16T20:26:41.508Z"
   },
   {
    "duration": 4,
    "start_time": "2024-02-16T20:26:43.404Z"
   },
   {
    "duration": 8,
    "start_time": "2024-02-16T20:26:45.256Z"
   },
   {
    "duration": 7,
    "start_time": "2024-02-16T20:26:45.754Z"
   },
   {
    "duration": 10,
    "start_time": "2024-02-16T20:26:46.251Z"
   },
   {
    "duration": 14,
    "start_time": "2024-02-16T20:26:46.698Z"
   },
   {
    "duration": 26,
    "start_time": "2024-02-16T20:26:47.425Z"
   },
   {
    "duration": 4,
    "start_time": "2024-02-16T20:26:47.896Z"
   },
   {
    "duration": 7,
    "start_time": "2024-02-16T20:26:48.410Z"
   },
   {
    "duration": 7,
    "start_time": "2024-02-16T20:26:48.970Z"
   },
   {
    "duration": 9,
    "start_time": "2024-02-16T20:26:49.440Z"
   },
   {
    "duration": 6,
    "start_time": "2024-02-16T20:26:49.879Z"
   },
   {
    "duration": 41,
    "start_time": "2024-02-16T20:26:50.865Z"
   },
   {
    "duration": 12,
    "start_time": "2024-02-16T20:26:52.353Z"
   },
   {
    "duration": 13,
    "start_time": "2024-02-16T20:26:53.284Z"
   },
   {
    "duration": 15,
    "start_time": "2024-02-16T20:26:54.449Z"
   },
   {
    "duration": 15,
    "start_time": "2024-02-16T20:26:54.478Z"
   },
   {
    "duration": 779,
    "start_time": "2024-02-16T20:26:57.009Z"
   },
   {
    "duration": 697,
    "start_time": "2024-02-16T20:26:57.790Z"
   },
   {
    "duration": 750,
    "start_time": "2024-02-16T20:26:58.818Z"
   },
   {
    "duration": 713,
    "start_time": "2024-02-16T20:26:59.664Z"
   },
   {
    "duration": 37,
    "start_time": "2024-02-16T20:27:00.848Z"
   },
   {
    "duration": 348,
    "start_time": "2024-02-16T20:27:01.253Z"
   },
   {
    "duration": 498,
    "start_time": "2024-02-16T20:27:01.696Z"
   },
   {
    "duration": 109,
    "start_time": "2024-02-16T20:27:03.295Z"
   },
   {
    "duration": 103,
    "start_time": "2024-02-16T20:27:03.652Z"
   },
   {
    "duration": 99,
    "start_time": "2024-02-16T20:27:04.012Z"
   },
   {
    "duration": 102,
    "start_time": "2024-02-16T20:27:04.490Z"
   },
   {
    "duration": 3,
    "start_time": "2024-02-16T20:27:05.986Z"
   },
   {
    "duration": 70,
    "start_time": "2024-02-16T20:27:06.754Z"
   },
   {
    "duration": 69,
    "start_time": "2024-02-16T20:27:07.526Z"
   },
   {
    "duration": 3,
    "start_time": "2024-02-16T20:27:07.957Z"
   },
   {
    "duration": 157,
    "start_time": "2024-02-16T20:27:08.363Z"
   },
   {
    "duration": 235,
    "start_time": "2024-02-16T20:27:09.284Z"
   },
   {
    "duration": 674,
    "start_time": "2024-02-16T20:27:09.749Z"
   },
   {
    "duration": 7,
    "start_time": "2024-02-16T20:27:11.524Z"
   },
   {
    "duration": 5,
    "start_time": "2024-02-16T20:27:12.299Z"
   },
   {
    "duration": 98,
    "start_time": "2024-02-16T20:27:13.367Z"
   },
   {
    "duration": 45,
    "start_time": "2024-02-16T20:29:49.387Z"
   },
   {
    "duration": 16,
    "start_time": "2024-02-16T20:45:25.037Z"
   },
   {
    "duration": 16,
    "start_time": "2024-02-16T20:46:55.266Z"
   },
   {
    "duration": 4,
    "start_time": "2024-02-16T20:48:59.668Z"
   },
   {
    "duration": 1355,
    "start_time": "2024-02-16T20:56:56.649Z"
   },
   {
    "duration": 848,
    "start_time": "2024-02-16T20:57:01.000Z"
   },
   {
    "duration": 57,
    "start_time": "2024-02-16T20:57:02.403Z"
   },
   {
    "duration": 36,
    "start_time": "2024-02-16T20:57:02.801Z"
   },
   {
    "duration": 51,
    "start_time": "2024-02-16T20:57:03.236Z"
   },
   {
    "duration": 39,
    "start_time": "2024-02-16T20:57:03.865Z"
   },
   {
    "duration": 5,
    "start_time": "2024-02-16T20:57:04.515Z"
   },
   {
    "duration": 2075,
    "start_time": "2024-02-16T20:57:05.979Z"
   },
   {
    "duration": 1931,
    "start_time": "2024-02-16T20:57:17.357Z"
   },
   {
    "duration": 9,
    "start_time": "2024-02-16T20:58:00.090Z"
   },
   {
    "duration": 6,
    "start_time": "2024-02-16T20:58:01.847Z"
   },
   {
    "duration": 7,
    "start_time": "2024-02-16T20:58:02.163Z"
   },
   {
    "duration": 6,
    "start_time": "2024-02-16T20:58:05.877Z"
   },
   {
    "duration": 4,
    "start_time": "2024-02-16T20:58:07.638Z"
   },
   {
    "duration": 14,
    "start_time": "2024-02-16T20:58:21.415Z"
   },
   {
    "duration": 14,
    "start_time": "2024-02-16T20:58:24.807Z"
   },
   {
    "duration": 4,
    "start_time": "2024-02-16T20:58:29.790Z"
   },
   {
    "duration": 12,
    "start_time": "2024-02-16T20:58:31.256Z"
   },
   {
    "duration": 6,
    "start_time": "2024-02-16T20:58:31.781Z"
   },
   {
    "duration": 10,
    "start_time": "2024-02-16T20:58:32.148Z"
   },
   {
    "duration": 14,
    "start_time": "2024-02-16T20:58:32.571Z"
   },
   {
    "duration": 27,
    "start_time": "2024-02-16T20:58:33.862Z"
   },
   {
    "duration": 4,
    "start_time": "2024-02-16T20:58:34.306Z"
   },
   {
    "duration": 7,
    "start_time": "2024-02-16T20:58:34.666Z"
   },
   {
    "duration": 9,
    "start_time": "2024-02-16T20:58:35.188Z"
   },
   {
    "duration": 7,
    "start_time": "2024-02-16T20:58:35.829Z"
   },
   {
    "duration": 6,
    "start_time": "2024-02-16T20:58:36.494Z"
   },
   {
    "duration": 39,
    "start_time": "2024-02-16T20:58:36.977Z"
   },
   {
    "duration": 14,
    "start_time": "2024-02-16T20:58:38.148Z"
   },
   {
    "duration": 12,
    "start_time": "2024-02-16T20:58:39.580Z"
   },
   {
    "duration": 14,
    "start_time": "2024-02-16T20:58:40.891Z"
   },
   {
    "duration": 14,
    "start_time": "2024-02-16T20:58:52.546Z"
   },
   {
    "duration": 747,
    "start_time": "2024-02-16T20:58:55.064Z"
   },
   {
    "duration": 737,
    "start_time": "2024-02-16T20:58:57.937Z"
   },
   {
    "duration": 812,
    "start_time": "2024-02-16T20:59:11.684Z"
   },
   {
    "duration": 711,
    "start_time": "2024-02-16T20:59:13.663Z"
   },
   {
    "duration": 50,
    "start_time": "2024-02-16T20:59:16.112Z"
   },
   {
    "duration": 460,
    "start_time": "2024-02-16T20:59:16.618Z"
   },
   {
    "duration": 435,
    "start_time": "2024-02-16T20:59:20.721Z"
   },
   {
    "duration": 120,
    "start_time": "2024-02-16T20:59:22.788Z"
   },
   {
    "duration": 126,
    "start_time": "2024-02-16T20:59:23.250Z"
   },
   {
    "duration": 130,
    "start_time": "2024-02-16T20:59:23.695Z"
   },
   {
    "duration": 111,
    "start_time": "2024-02-16T20:59:24.040Z"
   },
   {
    "duration": 3,
    "start_time": "2024-02-16T20:59:28.527Z"
   },
   {
    "duration": 1661,
    "start_time": "2024-02-16T20:59:33.661Z"
   },
   {
    "duration": 256,
    "start_time": "2024-02-16T20:59:36.364Z"
   },
   {
    "duration": 394,
    "start_time": "2024-02-16T20:59:36.623Z"
   },
   {
    "duration": 804,
    "start_time": "2024-02-16T20:59:37.020Z"
   },
   {
    "duration": 6,
    "start_time": "2024-02-16T20:59:44.907Z"
   },
   {
    "duration": 5,
    "start_time": "2024-02-16T20:59:45.463Z"
   },
   {
    "duration": 106,
    "start_time": "2024-02-16T21:03:30.699Z"
   },
   {
    "duration": 6,
    "start_time": "2024-02-16T21:08:25.546Z"
   },
   {
    "duration": 412,
    "start_time": "2024-02-16T21:08:33.112Z"
   },
   {
    "duration": 20,
    "start_time": "2024-02-16T21:13:12.980Z"
   },
   {
    "duration": 5,
    "start_time": "2024-02-16T21:14:50.915Z"
   },
   {
    "duration": 4,
    "start_time": "2024-02-16T21:15:42.442Z"
   },
   {
    "duration": 15,
    "start_time": "2024-02-16T21:16:47.411Z"
   },
   {
    "duration": 13,
    "start_time": "2024-02-16T21:17:12.509Z"
   },
   {
    "duration": 1305,
    "start_time": "2024-02-16T21:17:26.038Z"
   },
   {
    "duration": 864,
    "start_time": "2024-02-16T21:17:29.295Z"
   },
   {
    "duration": 55,
    "start_time": "2024-02-16T21:17:30.760Z"
   },
   {
    "duration": 42,
    "start_time": "2024-02-16T21:17:31.063Z"
   },
   {
    "duration": 54,
    "start_time": "2024-02-16T21:17:31.500Z"
   },
   {
    "duration": 39,
    "start_time": "2024-02-16T21:17:31.882Z"
   },
   {
    "duration": 4,
    "start_time": "2024-02-16T21:17:32.481Z"
   },
   {
    "duration": 1885,
    "start_time": "2024-02-16T21:17:34.505Z"
   },
   {
    "duration": 8,
    "start_time": "2024-02-16T21:17:38.507Z"
   },
   {
    "duration": 8,
    "start_time": "2024-02-16T21:17:39.028Z"
   },
   {
    "duration": 8,
    "start_time": "2024-02-16T21:17:39.606Z"
   },
   {
    "duration": 5,
    "start_time": "2024-02-16T21:17:40.139Z"
   },
   {
    "duration": 4,
    "start_time": "2024-02-16T21:17:41.255Z"
   },
   {
    "duration": 9,
    "start_time": "2024-02-16T21:17:42.320Z"
   },
   {
    "duration": 7,
    "start_time": "2024-02-16T21:17:42.536Z"
   },
   {
    "duration": 10,
    "start_time": "2024-02-16T21:17:42.817Z"
   },
   {
    "duration": 15,
    "start_time": "2024-02-16T21:17:42.987Z"
   },
   {
    "duration": 32,
    "start_time": "2024-02-16T21:17:43.174Z"
   },
   {
    "duration": 4,
    "start_time": "2024-02-16T21:17:43.404Z"
   },
   {
    "duration": 6,
    "start_time": "2024-02-16T21:17:43.661Z"
   },
   {
    "duration": 7,
    "start_time": "2024-02-16T21:17:43.851Z"
   },
   {
    "duration": 7,
    "start_time": "2024-02-16T21:17:44.081Z"
   },
   {
    "duration": 6,
    "start_time": "2024-02-16T21:17:44.326Z"
   },
   {
    "duration": 41,
    "start_time": "2024-02-16T21:17:44.829Z"
   },
   {
    "duration": 12,
    "start_time": "2024-02-16T21:17:45.806Z"
   },
   {
    "duration": 13,
    "start_time": "2024-02-16T21:17:46.182Z"
   },
   {
    "duration": 19,
    "start_time": "2024-02-16T21:17:46.718Z"
   },
   {
    "duration": 14,
    "start_time": "2024-02-16T21:17:47.020Z"
   },
   {
    "duration": 797,
    "start_time": "2024-02-16T21:17:48.486Z"
   },
   {
    "duration": 690,
    "start_time": "2024-02-16T21:17:49.284Z"
   },
   {
    "duration": 787,
    "start_time": "2024-02-16T21:17:49.976Z"
   },
   {
    "duration": 703,
    "start_time": "2024-02-16T21:17:50.765Z"
   },
   {
    "duration": 36,
    "start_time": "2024-02-16T21:17:52.441Z"
   },
   {
    "duration": 331,
    "start_time": "2024-02-16T21:17:52.850Z"
   },
   {
    "duration": 468,
    "start_time": "2024-02-16T21:17:53.480Z"
   },
   {
    "duration": 115,
    "start_time": "2024-02-16T21:17:55.052Z"
   },
   {
    "duration": 106,
    "start_time": "2024-02-16T21:17:55.408Z"
   },
   {
    "duration": 112,
    "start_time": "2024-02-16T21:17:55.705Z"
   },
   {
    "duration": 117,
    "start_time": "2024-02-16T21:17:56.102Z"
   },
   {
    "duration": 3,
    "start_time": "2024-02-16T21:18:01.312Z"
   },
   {
    "duration": 6,
    "start_time": "2024-02-16T21:18:05.020Z"
   },
   {
    "duration": 182,
    "start_time": "2024-02-16T21:18:08.137Z"
   },
   {
    "duration": 203,
    "start_time": "2024-02-16T21:18:09.320Z"
   },
   {
    "duration": 6,
    "start_time": "2024-02-16T21:18:16.548Z"
   },
   {
    "duration": 444,
    "start_time": "2024-02-16T21:18:19.882Z"
   },
   {
    "duration": 13,
    "start_time": "2024-02-16T21:18:32.912Z"
   },
   {
    "duration": 4,
    "start_time": "2024-02-16T21:18:41.763Z"
   },
   {
    "duration": 5,
    "start_time": "2024-02-16T21:18:41.956Z"
   },
   {
    "duration": 8,
    "start_time": "2024-02-16T21:23:32.295Z"
   },
   {
    "duration": 6,
    "start_time": "2024-02-16T21:23:34.376Z"
   },
   {
    "duration": 8,
    "start_time": "2024-02-16T21:23:37.687Z"
   },
   {
    "duration": 5,
    "start_time": "2024-02-16T21:23:47.759Z"
   },
   {
    "duration": 5,
    "start_time": "2024-02-16T21:35:42.430Z"
   },
   {
    "duration": 5,
    "start_time": "2024-02-16T21:35:49.044Z"
   },
   {
    "duration": 864,
    "start_time": "2024-02-16T21:38:59.477Z"
   },
   {
    "duration": 386776,
    "start_time": "2024-02-16T22:05:14.415Z"
   },
   {
    "duration": 4,
    "start_time": "2024-02-16T22:14:22.982Z"
   },
   {
    "duration": 1322,
    "start_time": "2024-02-16T22:14:30.440Z"
   },
   {
    "duration": 40,
    "start_time": "2024-02-16T22:14:32.933Z"
   },
   {
    "duration": 803,
    "start_time": "2024-02-16T22:14:34.478Z"
   },
   {
    "duration": 56,
    "start_time": "2024-02-16T22:14:35.659Z"
   },
   {
    "duration": 34,
    "start_time": "2024-02-16T22:14:35.968Z"
   },
   {
    "duration": 50,
    "start_time": "2024-02-16T22:14:36.391Z"
   },
   {
    "duration": 39,
    "start_time": "2024-02-16T22:14:36.690Z"
   },
   {
    "duration": 4,
    "start_time": "2024-02-16T22:14:37.094Z"
   },
   {
    "duration": 1909,
    "start_time": "2024-02-16T22:14:37.849Z"
   },
   {
    "duration": 7,
    "start_time": "2024-02-16T22:14:39.760Z"
   },
   {
    "duration": 6,
    "start_time": "2024-02-16T22:14:40.066Z"
   },
   {
    "duration": 7,
    "start_time": "2024-02-16T22:14:40.724Z"
   },
   {
    "duration": 5,
    "start_time": "2024-02-16T22:14:41.452Z"
   },
   {
    "duration": 4,
    "start_time": "2024-02-16T22:14:42.894Z"
   },
   {
    "duration": 9,
    "start_time": "2024-02-16T22:14:44.381Z"
   },
   {
    "duration": 7,
    "start_time": "2024-02-16T22:14:44.730Z"
   },
   {
    "duration": 10,
    "start_time": "2024-02-16T22:14:45.114Z"
   },
   {
    "duration": 14,
    "start_time": "2024-02-16T22:14:45.464Z"
   },
   {
    "duration": 29,
    "start_time": "2024-02-16T22:14:45.872Z"
   },
   {
    "duration": 4,
    "start_time": "2024-02-16T22:14:46.285Z"
   },
   {
    "duration": 8,
    "start_time": "2024-02-16T22:14:47.145Z"
   },
   {
    "duration": 6,
    "start_time": "2024-02-16T22:14:47.756Z"
   },
   {
    "duration": 6,
    "start_time": "2024-02-16T22:14:48.183Z"
   },
   {
    "duration": 6,
    "start_time": "2024-02-16T22:14:48.553Z"
   },
   {
    "duration": 39,
    "start_time": "2024-02-16T22:14:49.452Z"
   },
   {
    "duration": 13,
    "start_time": "2024-02-16T22:14:51.992Z"
   },
   {
    "duration": 12,
    "start_time": "2024-02-16T22:15:00.855Z"
   },
   {
    "duration": 16,
    "start_time": "2024-02-16T22:15:02.418Z"
   },
   {
    "duration": 15,
    "start_time": "2024-02-16T22:15:02.979Z"
   },
   {
    "duration": 766,
    "start_time": "2024-02-16T22:15:05.439Z"
   },
   {
    "duration": 691,
    "start_time": "2024-02-16T22:15:06.207Z"
   },
   {
    "duration": 740,
    "start_time": "2024-02-16T22:15:06.900Z"
   },
   {
    "duration": 700,
    "start_time": "2024-02-16T22:15:07.642Z"
   },
   {
    "duration": 38,
    "start_time": "2024-02-16T22:15:08.493Z"
   },
   {
    "duration": 333,
    "start_time": "2024-02-16T22:15:08.885Z"
   },
   {
    "duration": 481,
    "start_time": "2024-02-16T22:15:09.296Z"
   },
   {
    "duration": 107,
    "start_time": "2024-02-16T22:15:10.905Z"
   },
   {
    "duration": 104,
    "start_time": "2024-02-16T22:15:11.308Z"
   },
   {
    "duration": 111,
    "start_time": "2024-02-16T22:15:11.721Z"
   },
   {
    "duration": 107,
    "start_time": "2024-02-16T22:15:12.127Z"
   },
   {
    "duration": 3,
    "start_time": "2024-02-16T22:15:15.596Z"
   },
   {
    "duration": 3,
    "start_time": "2024-02-16T22:15:27.214Z"
   },
   {
    "duration": 162,
    "start_time": "2024-02-16T22:15:28.259Z"
   },
   {
    "duration": 283,
    "start_time": "2024-02-16T22:15:28.835Z"
   },
   {
    "duration": 688,
    "start_time": "2024-02-16T22:15:29.633Z"
   },
   {
    "duration": 5,
    "start_time": "2024-02-16T22:15:32.070Z"
   },
   {
    "duration": 6,
    "start_time": "2024-02-16T22:15:34.871Z"
   },
   {
    "duration": 5,
    "start_time": "2024-02-16T22:15:35.683Z"
   },
   {
    "duration": 4,
    "start_time": "2024-02-16T22:15:43.613Z"
   },
   {
    "duration": 4,
    "start_time": "2024-02-16T22:15:43.921Z"
   },
   {
    "duration": 3,
    "start_time": "2024-02-16T22:16:08.202Z"
   },
   {
    "duration": 3,
    "start_time": "2024-02-16T22:16:18.677Z"
   },
   {
    "duration": 104,
    "start_time": "2024-02-16T22:16:31.469Z"
   },
   {
    "duration": 4,
    "start_time": "2024-02-16T22:22:18.177Z"
   },
   {
    "duration": 5,
    "start_time": "2024-02-16T22:22:59.556Z"
   },
   {
    "duration": 4,
    "start_time": "2024-02-16T22:23:39.575Z"
   },
   {
    "duration": 2973,
    "start_time": "2024-02-16T22:27:06.457Z"
   },
   {
    "duration": 2970,
    "start_time": "2024-02-16T22:28:19.156Z"
   },
   {
    "duration": 2941,
    "start_time": "2024-02-16T22:29:05.460Z"
   },
   {
    "duration": 2937,
    "start_time": "2024-02-16T22:29:18.086Z"
   },
   {
    "duration": 10,
    "start_time": "2024-02-16T22:30:11.201Z"
   },
   {
    "duration": 9,
    "start_time": "2024-02-16T22:31:23.112Z"
   },
   {
    "duration": 65,
    "start_time": "2024-02-16T22:31:47.570Z"
   },
   {
    "duration": 4,
    "start_time": "2024-02-16T22:33:22.332Z"
   },
   {
    "duration": 4,
    "start_time": "2024-02-16T22:34:28.302Z"
   },
   {
    "duration": 49,
    "start_time": "2024-02-16T22:35:23.349Z"
   },
   {
    "duration": 6,
    "start_time": "2024-02-16T22:36:14.732Z"
   },
   {
    "duration": 11,
    "start_time": "2024-02-16T22:36:22.247Z"
   },
   {
    "duration": 84,
    "start_time": "2024-02-16T22:36:26.351Z"
   },
   {
    "duration": 5,
    "start_time": "2024-02-16T22:36:29.792Z"
   },
   {
    "duration": 12,
    "start_time": "2024-02-16T22:36:54.895Z"
   },
   {
    "duration": 11,
    "start_time": "2024-02-16T22:37:13.256Z"
   },
   {
    "duration": 2998,
    "start_time": "2024-02-16T22:38:04.921Z"
   },
   {
    "duration": 3125,
    "start_time": "2024-02-16T22:38:39.706Z"
   },
   {
    "duration": 53,
    "start_time": "2024-02-16T22:40:15.706Z"
   },
   {
    "duration": 1427,
    "start_time": "2024-02-16T22:40:51.771Z"
   },
   {
    "duration": 42,
    "start_time": "2024-02-16T22:40:53.200Z"
   },
   {
    "duration": 865,
    "start_time": "2024-02-16T22:40:53.243Z"
   },
   {
    "duration": 62,
    "start_time": "2024-02-16T22:40:54.110Z"
   },
   {
    "duration": 33,
    "start_time": "2024-02-16T22:40:54.267Z"
   },
   {
    "duration": 54,
    "start_time": "2024-02-16T22:40:54.535Z"
   },
   {
    "duration": 45,
    "start_time": "2024-02-16T22:40:54.792Z"
   },
   {
    "duration": 4,
    "start_time": "2024-02-16T22:40:55.056Z"
   },
   {
    "duration": 2031,
    "start_time": "2024-02-16T22:40:55.824Z"
   },
   {
    "duration": 9,
    "start_time": "2024-02-16T22:40:59.753Z"
   },
   {
    "duration": 8,
    "start_time": "2024-02-16T22:41:00.427Z"
   },
   {
    "duration": 18,
    "start_time": "2024-02-16T22:41:01.212Z"
   },
   {
    "duration": 6,
    "start_time": "2024-02-16T22:41:01.770Z"
   },
   {
    "duration": 5,
    "start_time": "2024-02-16T22:41:02.924Z"
   },
   {
    "duration": 10,
    "start_time": "2024-02-16T22:41:04.263Z"
   },
   {
    "duration": 7,
    "start_time": "2024-02-16T22:41:04.589Z"
   },
   {
    "duration": 17,
    "start_time": "2024-02-16T22:41:04.815Z"
   },
   {
    "duration": 21,
    "start_time": "2024-02-16T22:41:05.113Z"
   },
   {
    "duration": 29,
    "start_time": "2024-02-16T22:41:05.379Z"
   },
   {
    "duration": 4,
    "start_time": "2024-02-16T22:41:05.684Z"
   },
   {
    "duration": 8,
    "start_time": "2024-02-16T22:41:05.981Z"
   },
   {
    "duration": 7,
    "start_time": "2024-02-16T22:41:06.273Z"
   },
   {
    "duration": 8,
    "start_time": "2024-02-16T22:41:06.564Z"
   },
   {
    "duration": 6,
    "start_time": "2024-02-16T22:41:06.841Z"
   },
   {
    "duration": 41,
    "start_time": "2024-02-16T22:41:07.445Z"
   },
   {
    "duration": 13,
    "start_time": "2024-02-16T22:41:08.247Z"
   },
   {
    "duration": 11,
    "start_time": "2024-02-16T22:41:08.775Z"
   },
   {
    "duration": 21,
    "start_time": "2024-02-16T22:41:09.308Z"
   },
   {
    "duration": 19,
    "start_time": "2024-02-16T22:41:09.585Z"
   },
   {
    "duration": 821,
    "start_time": "2024-02-16T22:41:11.131Z"
   },
   {
    "duration": 738,
    "start_time": "2024-02-16T22:41:11.954Z"
   },
   {
    "duration": 843,
    "start_time": "2024-02-16T22:41:12.694Z"
   },
   {
    "duration": 746,
    "start_time": "2024-02-16T22:41:13.539Z"
   },
   {
    "duration": 49,
    "start_time": "2024-02-16T22:41:14.287Z"
   },
   {
    "duration": 395,
    "start_time": "2024-02-16T22:41:14.338Z"
   },
   {
    "duration": 504,
    "start_time": "2024-02-16T22:41:14.735Z"
   },
   {
    "duration": 120,
    "start_time": "2024-02-16T22:41:15.242Z"
   },
   {
    "duration": 114,
    "start_time": "2024-02-16T22:41:15.365Z"
   },
   {
    "duration": 115,
    "start_time": "2024-02-16T22:41:15.481Z"
   },
   {
    "duration": 113,
    "start_time": "2024-02-16T22:41:15.734Z"
   },
   {
    "duration": 3,
    "start_time": "2024-02-16T22:41:16.864Z"
   },
   {
    "duration": 106,
    "start_time": "2024-02-16T22:41:17.371Z"
   },
   {
    "duration": 10,
    "start_time": "2024-02-16T22:41:23.515Z"
   },
   {
    "duration": 355,
    "start_time": "2024-02-16T22:41:24.177Z"
   },
   {
    "duration": 622,
    "start_time": "2024-02-16T22:41:24.619Z"
   },
   {
    "duration": 1389,
    "start_time": "2024-02-16T22:41:25.534Z"
   },
   {
    "duration": 95,
    "start_time": "2024-02-16T22:41:26.925Z"
   },
   {
    "duration": 10,
    "start_time": "2024-02-16T22:41:27.813Z"
   },
   {
    "duration": 7,
    "start_time": "2024-02-16T22:41:28.486Z"
   },
   {
    "duration": 38,
    "start_time": "2024-02-16T22:41:33.760Z"
   },
   {
    "duration": 6,
    "start_time": "2024-02-16T22:41:37.626Z"
   },
   {
    "duration": 4,
    "start_time": "2024-02-16T22:41:38.230Z"
   },
   {
    "duration": 83,
    "start_time": "2024-02-16T22:41:41.052Z"
   },
   {
    "duration": 2,
    "start_time": "2024-02-16T22:41:52.925Z"
   },
   {
    "duration": 12,
    "start_time": "2024-02-16T22:42:45.128Z"
   },
   {
    "duration": 2,
    "start_time": "2024-02-16T22:43:08.699Z"
   },
   {
    "duration": 6,
    "start_time": "2024-02-16T22:43:11.274Z"
   },
   {
    "duration": 3,
    "start_time": "2024-02-16T22:43:12.428Z"
   },
   {
    "duration": 7,
    "start_time": "2024-02-16T22:43:19.297Z"
   },
   {
    "duration": 8,
    "start_time": "2024-02-16T22:43:29.845Z"
   },
   {
    "duration": 3069,
    "start_time": "2024-02-16T22:43:46.071Z"
   },
   {
    "duration": 3002,
    "start_time": "2024-02-16T22:43:58.557Z"
   },
   {
    "duration": 12,
    "start_time": "2024-02-16T22:45:45.078Z"
   },
   {
    "duration": 6,
    "start_time": "2024-02-16T22:45:50.447Z"
   },
   {
    "duration": 665,
    "start_time": "2024-02-16T22:47:01.901Z"
   },
   {
    "duration": 13,
    "start_time": "2024-02-16T22:47:23.729Z"
   },
   {
    "duration": 5,
    "start_time": "2024-02-16T22:52:52.497Z"
   },
   {
    "duration": 4,
    "start_time": "2024-02-16T22:52:55.214Z"
   },
   {
    "duration": 15,
    "start_time": "2024-02-16T22:56:53.413Z"
   },
   {
    "duration": 13,
    "start_time": "2024-02-16T22:56:59.576Z"
   },
   {
    "duration": 2749,
    "start_time": "2024-02-16T22:58:02.652Z"
   },
   {
    "duration": 2806,
    "start_time": "2024-02-16T22:58:40.862Z"
   },
   {
    "duration": 2757,
    "start_time": "2024-02-16T22:58:52.075Z"
   },
   {
    "duration": 16,
    "start_time": "2024-02-16T22:59:39.309Z"
   },
   {
    "duration": 859,
    "start_time": "2024-02-16T23:00:00.960Z"
   },
   {
    "duration": 18,
    "start_time": "2024-02-16T23:00:14.929Z"
   },
   {
    "duration": 9357,
    "start_time": "2024-02-16T23:00:21.224Z"
   },
   {
    "duration": 9611,
    "start_time": "2024-02-16T23:02:07.089Z"
   },
   {
    "duration": 43,
    "start_time": "2024-02-16T23:02:49.280Z"
   },
   {
    "duration": 44,
    "start_time": "2024-02-16T23:03:26.163Z"
   },
   {
    "duration": 9,
    "start_time": "2024-02-16T23:03:30.446Z"
   },
   {
    "duration": 9302,
    "start_time": "2024-02-16T23:04:38.284Z"
   },
   {
    "duration": 43,
    "start_time": "2024-02-16T23:04:49.056Z"
   },
   {
    "duration": 7,
    "start_time": "2024-02-16T23:05:17.765Z"
   },
   {
    "duration": 1228,
    "start_time": "2024-02-16T23:05:27.646Z"
   },
   {
    "duration": 52,
    "start_time": "2024-02-16T23:06:11.327Z"
   },
   {
    "duration": 347,
    "start_time": "2024-02-16T23:06:20.873Z"
   },
   {
    "duration": 402,
    "start_time": "2024-02-16T23:06:24.848Z"
   },
   {
    "duration": 9311,
    "start_time": "2024-02-16T23:06:30.335Z"
   },
   {
    "duration": 56,
    "start_time": "2024-02-16T23:06:45.585Z"
   },
   {
    "duration": 6,
    "start_time": "2024-02-16T23:06:58.273Z"
   },
   {
    "duration": 4055,
    "start_time": "2024-02-16T23:08:06.415Z"
   },
   {
    "duration": 12,
    "start_time": "2024-02-16T23:08:58.147Z"
   },
   {
    "duration": 12,
    "start_time": "2024-02-16T23:09:03.821Z"
   },
   {
    "duration": 9254,
    "start_time": "2024-02-16T23:09:07.746Z"
   },
   {
    "duration": 45,
    "start_time": "2024-02-16T23:09:18.829Z"
   },
   {
    "duration": 16,
    "start_time": "2024-02-16T23:09:49.167Z"
   },
   {
    "duration": 3,
    "start_time": "2024-02-16T23:10:21.797Z"
   },
   {
    "duration": 1225,
    "start_time": "2024-02-16T23:10:44.603Z"
   },
   {
    "duration": 4,
    "start_time": "2024-02-16T23:11:13.226Z"
   },
   {
    "duration": 54,
    "start_time": "2024-02-16T23:12:03.559Z"
   },
   {
    "duration": 18701,
    "start_time": "2024-02-16T23:12:45.452Z"
   },
   {
    "duration": 5,
    "start_time": "2024-02-16T23:13:25.900Z"
   },
   {
    "duration": 10546,
    "start_time": "2024-02-16T23:14:21.387Z"
   },
   {
    "duration": 46,
    "start_time": "2024-02-16T23:14:37.086Z"
   },
   {
    "duration": 4,
    "start_time": "2024-02-16T23:15:01.223Z"
   },
   {
    "duration": 46,
    "start_time": "2024-02-16T23:15:36.784Z"
   },
   {
    "duration": 9009,
    "start_time": "2024-02-16T23:16:23.493Z"
   },
   {
    "duration": 51,
    "start_time": "2024-02-16T23:16:36.150Z"
   },
   {
    "duration": 337,
    "start_time": "2024-02-16T23:16:44.224Z"
   },
   {
    "duration": 44,
    "start_time": "2024-02-16T23:17:45.004Z"
   },
   {
    "duration": 315,
    "start_time": "2024-02-16T23:18:07.958Z"
   },
   {
    "duration": 9143,
    "start_time": "2024-02-16T23:21:45.988Z"
   },
   {
    "duration": 320,
    "start_time": "2024-02-16T23:22:02.626Z"
   },
   {
    "duration": 8793,
    "start_time": "2024-02-16T23:22:21.566Z"
   },
   {
    "duration": 314,
    "start_time": "2024-02-16T23:22:34.942Z"
   },
   {
    "duration": 27,
    "start_time": "2024-02-16T23:22:45.633Z"
   },
   {
    "duration": 30,
    "start_time": "2024-02-16T23:22:51.593Z"
   },
   {
    "duration": 4,
    "start_time": "2024-02-16T23:23:18.827Z"
   },
   {
    "duration": 4,
    "start_time": "2024-02-16T23:23:26.152Z"
   },
   {
    "duration": 9035,
    "start_time": "2024-02-16T23:23:34.127Z"
   },
   {
    "duration": 332,
    "start_time": "2024-02-16T23:23:49.869Z"
   },
   {
    "duration": 3,
    "start_time": "2024-02-16T23:24:02.529Z"
   },
   {
    "duration": 366,
    "start_time": "2024-02-16T23:24:20.346Z"
   },
   {
    "duration": 8357,
    "start_time": "2024-02-16T23:24:30.177Z"
   },
   {
    "duration": 47,
    "start_time": "2024-02-16T23:24:40.225Z"
   },
   {
    "duration": 794,
    "start_time": "2024-02-16T23:24:52.015Z"
   },
   {
    "duration": 14050,
    "start_time": "2024-02-16T23:25:25.332Z"
   },
   {
    "duration": 42996,
    "start_time": "2024-02-16T23:27:09.300Z"
   },
   {
    "duration": 28219,
    "start_time": "2024-02-16T23:27:57.406Z"
   },
   {
    "duration": 5,
    "start_time": "2024-02-16T23:28:26.911Z"
   },
   {
    "duration": 5,
    "start_time": "2024-02-16T23:28:36.778Z"
   },
   {
    "duration": 7,
    "start_time": "2024-02-16T23:28:37.818Z"
   },
   {
    "duration": 8925,
    "start_time": "2024-02-16T23:28:51.720Z"
   },
   {
    "duration": 8472,
    "start_time": "2024-02-16T23:30:08.089Z"
   },
   {
    "duration": 20509,
    "start_time": "2024-02-16T23:30:17.980Z"
   },
   {
    "duration": 278,
    "start_time": "2024-02-16T23:31:31.293Z"
   },
   {
    "duration": 9836,
    "start_time": "2024-02-16T23:31:53.482Z"
   },
   {
    "duration": 5,
    "start_time": "2024-02-16T23:32:04.961Z"
   },
   {
    "duration": 9021,
    "start_time": "2024-02-16T23:36:06.441Z"
   },
   {
    "duration": 8864,
    "start_time": "2024-02-16T23:36:24.569Z"
   },
   {
    "duration": 5,
    "start_time": "2024-02-17T00:03:10.481Z"
   },
   {
    "duration": 5,
    "start_time": "2024-02-17T00:09:29.821Z"
   },
   {
    "duration": 4,
    "start_time": "2024-02-17T00:11:20.462Z"
   },
   {
    "duration": 4282210,
    "start_time": "2024-02-17T00:24:46.214Z"
   },
   {
    "duration": 0,
    "start_time": "2024-02-17T01:36:08.425Z"
   },
   {
    "duration": 1325,
    "start_time": "2024-02-17T01:36:35.642Z"
   },
   {
    "duration": 38,
    "start_time": "2024-02-17T01:36:39.559Z"
   },
   {
    "duration": 813,
    "start_time": "2024-02-17T01:36:40.436Z"
   },
   {
    "duration": 55,
    "start_time": "2024-02-17T01:36:41.369Z"
   },
   {
    "duration": 32,
    "start_time": "2024-02-17T01:36:41.712Z"
   },
   {
    "duration": 53,
    "start_time": "2024-02-17T01:36:41.900Z"
   },
   {
    "duration": 38,
    "start_time": "2024-02-17T01:36:42.172Z"
   },
   {
    "duration": 3,
    "start_time": "2024-02-17T01:36:42.426Z"
   },
   {
    "duration": 1818,
    "start_time": "2024-02-17T01:36:43.157Z"
   },
   {
    "duration": 7,
    "start_time": "2024-02-17T01:36:44.977Z"
   },
   {
    "duration": 6,
    "start_time": "2024-02-17T01:36:44.985Z"
   },
   {
    "duration": 7,
    "start_time": "2024-02-17T01:36:45.139Z"
   },
   {
    "duration": 5,
    "start_time": "2024-02-17T01:36:45.879Z"
   },
   {
    "duration": 4,
    "start_time": "2024-02-17T01:36:46.667Z"
   },
   {
    "duration": 8862,
    "start_time": "2024-02-17T01:36:48.637Z"
   },
   {
    "duration": 8832,
    "start_time": "2024-02-17T01:36:58.250Z"
   },
   {
    "duration": 8,
    "start_time": "2024-02-17T01:37:07.083Z"
   },
   {
    "duration": 6,
    "start_time": "2024-02-17T01:37:07.621Z"
   },
   {
    "duration": 9,
    "start_time": "2024-02-17T01:37:07.974Z"
   },
   {
    "duration": 18,
    "start_time": "2024-02-17T01:37:08.314Z"
   },
   {
    "duration": 28,
    "start_time": "2024-02-17T01:37:08.992Z"
   },
   {
    "duration": 4,
    "start_time": "2024-02-17T01:37:09.706Z"
   },
   {
    "duration": 7,
    "start_time": "2024-02-17T01:37:10.129Z"
   },
   {
    "duration": 6,
    "start_time": "2024-02-17T01:37:10.412Z"
   },
   {
    "duration": 8,
    "start_time": "2024-02-17T01:37:10.779Z"
   },
   {
    "duration": 4,
    "start_time": "2024-02-17T01:37:11.181Z"
   },
   {
    "duration": 40,
    "start_time": "2024-02-17T01:37:12.143Z"
   },
   {
    "duration": 13,
    "start_time": "2024-02-17T01:37:12.811Z"
   },
   {
    "duration": 12,
    "start_time": "2024-02-17T01:37:13.546Z"
   },
   {
    "duration": 16,
    "start_time": "2024-02-17T01:37:14.264Z"
   },
   {
    "duration": 17,
    "start_time": "2024-02-17T01:37:14.759Z"
   },
   {
    "duration": 769,
    "start_time": "2024-02-17T01:37:16.955Z"
   },
   {
    "duration": 705,
    "start_time": "2024-02-17T01:37:17.899Z"
   },
   {
    "duration": 831,
    "start_time": "2024-02-17T01:37:19.178Z"
   },
   {
    "duration": 712,
    "start_time": "2024-02-17T01:37:20.265Z"
   },
   {
    "duration": 357,
    "start_time": "2024-02-17T01:37:23.539Z"
   },
   {
    "duration": 485,
    "start_time": "2024-02-17T01:37:24.300Z"
   },
   {
    "duration": 108,
    "start_time": "2024-02-17T01:37:25.554Z"
   },
   {
    "duration": 114,
    "start_time": "2024-02-17T01:37:26.450Z"
   },
   {
    "duration": 100,
    "start_time": "2024-02-17T01:37:27.175Z"
   },
   {
    "duration": 111,
    "start_time": "2024-02-17T01:37:28.010Z"
   },
   {
    "duration": 3,
    "start_time": "2024-02-17T01:37:30.455Z"
   },
   {
    "duration": 3,
    "start_time": "2024-02-17T01:37:32.669Z"
   },
   {
    "duration": 207,
    "start_time": "2024-02-17T01:37:33.412Z"
   },
   {
    "duration": 165,
    "start_time": "2024-02-17T01:37:33.954Z"
   },
   {
    "duration": 587,
    "start_time": "2024-02-17T01:37:34.834Z"
   },
   {
    "duration": 6,
    "start_time": "2024-02-17T01:37:35.597Z"
   },
   {
    "duration": 6,
    "start_time": "2024-02-17T01:37:36.841Z"
   },
   {
    "duration": 21830,
    "start_time": "2024-02-17T01:40:07.393Z"
   },
   {
    "duration": 118,
    "start_time": "2024-02-17T01:42:15.276Z"
   },
   {
    "duration": 14,
    "start_time": "2024-02-17T01:44:15.040Z"
   },
   {
    "duration": 22571,
    "start_time": "2024-02-17T01:51:51.362Z"
   },
   {
    "duration": 106,
    "start_time": "2024-02-17T09:03:45.392Z"
   },
   {
    "duration": 1792,
    "start_time": "2024-02-17T17:17:57.842Z"
   },
   {
    "duration": 48,
    "start_time": "2024-02-17T17:18:06.553Z"
   },
   {
    "duration": 2177,
    "start_time": "2024-02-17T17:18:09.275Z"
   },
   {
    "duration": 63,
    "start_time": "2024-02-17T17:18:13.416Z"
   },
   {
    "duration": 39,
    "start_time": "2024-02-17T17:18:13.893Z"
   },
   {
    "duration": 60,
    "start_time": "2024-02-17T17:18:14.378Z"
   },
   {
    "duration": 59,
    "start_time": "2024-02-17T17:18:15.732Z"
   },
   {
    "duration": 4,
    "start_time": "2024-02-17T17:18:16.556Z"
   },
   {
    "duration": 2124,
    "start_time": "2024-02-17T17:18:18.185Z"
   },
   {
    "duration": 9,
    "start_time": "2024-02-17T17:18:24.697Z"
   },
   {
    "duration": 7,
    "start_time": "2024-02-17T17:18:33.318Z"
   },
   {
    "duration": 7,
    "start_time": "2024-02-17T17:18:34.549Z"
   },
   {
    "duration": 7,
    "start_time": "2024-02-17T17:18:35.444Z"
   },
   {
    "duration": 4,
    "start_time": "2024-02-17T17:18:38.860Z"
   },
   {
    "duration": 144,
    "start_time": "2024-02-17T17:18:56.857Z"
   },
   {
    "duration": 10,
    "start_time": "2024-02-17T17:25:46.865Z"
   },
   {
    "duration": 10280,
    "start_time": "2024-02-17T17:25:49.355Z"
   },
   {
    "duration": 15,
    "start_time": "2024-02-17T18:16:04.161Z"
   },
   {
    "duration": 65,
    "start_time": "2024-02-17T18:16:10.588Z"
   },
   {
    "duration": 20,
    "start_time": "2024-02-17T18:16:32.108Z"
   },
   {
    "duration": 1555,
    "start_time": "2024-02-17T18:16:55.374Z"
   },
   {
    "duration": 78,
    "start_time": "2024-02-17T18:17:40.152Z"
   },
   {
    "duration": 28,
    "start_time": "2024-02-17T18:17:49.029Z"
   },
   {
    "duration": 63,
    "start_time": "2024-02-17T18:23:35.061Z"
   },
   {
    "duration": 31,
    "start_time": "2024-02-17T18:23:55.665Z"
   },
   {
    "duration": 18,
    "start_time": "2024-02-17T18:25:34.106Z"
   },
   {
    "duration": 30,
    "start_time": "2024-02-17T18:25:54.007Z"
   },
   {
    "duration": 13,
    "start_time": "2024-02-17T18:26:25.128Z"
   },
   {
    "duration": 8,
    "start_time": "2024-02-17T18:26:26.807Z"
   },
   {
    "duration": 10,
    "start_time": "2024-02-17T18:26:27.575Z"
   },
   {
    "duration": 16,
    "start_time": "2024-02-17T18:26:34.924Z"
   },
   {
    "duration": 1537,
    "start_time": "2024-02-17T18:28:18.388Z"
   },
   {
    "duration": 58,
    "start_time": "2024-02-17T18:28:19.927Z"
   },
   {
    "duration": 1021,
    "start_time": "2024-02-17T18:28:21.701Z"
   },
   {
    "duration": 71,
    "start_time": "2024-02-17T18:28:23.945Z"
   },
   {
    "duration": 40,
    "start_time": "2024-02-17T18:28:24.575Z"
   },
   {
    "duration": 70,
    "start_time": "2024-02-17T18:28:26.056Z"
   },
   {
    "duration": 52,
    "start_time": "2024-02-17T18:28:27.638Z"
   },
   {
    "duration": 5,
    "start_time": "2024-02-17T18:28:28.732Z"
   },
   {
    "duration": 2232,
    "start_time": "2024-02-17T18:28:32.540Z"
   },
   {
    "duration": 7,
    "start_time": "2024-02-17T18:28:38.291Z"
   },
   {
    "duration": 7,
    "start_time": "2024-02-17T18:28:39.619Z"
   },
   {
    "duration": 8,
    "start_time": "2024-02-17T18:28:42.498Z"
   },
   {
    "duration": 7,
    "start_time": "2024-02-17T18:28:43.823Z"
   },
   {
    "duration": 4,
    "start_time": "2024-02-17T18:28:49.448Z"
   },
   {
    "duration": 28,
    "start_time": "2024-02-17T18:28:57.832Z"
   },
   {
    "duration": 1323,
    "start_time": "2024-02-17T18:29:18.043Z"
   },
   {
    "duration": 20,
    "start_time": "2024-02-17T18:29:26.892Z"
   },
   {
    "duration": 1546,
    "start_time": "2024-02-17T18:42:03.844Z"
   },
   {
    "duration": 39,
    "start_time": "2024-02-17T18:42:05.392Z"
   },
   {
    "duration": 882,
    "start_time": "2024-02-17T18:42:05.432Z"
   },
   {
    "duration": 67,
    "start_time": "2024-02-17T18:42:06.316Z"
   },
   {
    "duration": 38,
    "start_time": "2024-02-17T18:42:06.387Z"
   },
   {
    "duration": 59,
    "start_time": "2024-02-17T18:42:06.716Z"
   },
   {
    "duration": 45,
    "start_time": "2024-02-17T18:42:06.988Z"
   },
   {
    "duration": 4,
    "start_time": "2024-02-17T18:42:07.274Z"
   },
   {
    "duration": 2263,
    "start_time": "2024-02-17T18:42:08.040Z"
   },
   {
    "duration": 7,
    "start_time": "2024-02-17T18:42:10.305Z"
   },
   {
    "duration": 7,
    "start_time": "2024-02-17T18:42:10.314Z"
   },
   {
    "duration": 8,
    "start_time": "2024-02-17T18:42:10.609Z"
   },
   {
    "duration": 6,
    "start_time": "2024-02-17T18:42:12.515Z"
   },
   {
    "duration": 4,
    "start_time": "2024-02-17T18:42:12.821Z"
   },
   {
    "duration": 19,
    "start_time": "2024-02-17T18:42:14.869Z"
   },
   {
    "duration": 11,
    "start_time": "2024-02-17T18:42:15.375Z"
   },
   {
    "duration": 8,
    "start_time": "2024-02-17T18:42:15.869Z"
   },
   {
    "duration": 10,
    "start_time": "2024-02-17T18:42:16.127Z"
   },
   {
    "duration": 19,
    "start_time": "2024-02-17T18:42:16.352Z"
   },
   {
    "duration": 39,
    "start_time": "2024-02-17T18:42:16.930Z"
   },
   {
    "duration": 4,
    "start_time": "2024-02-17T18:42:17.682Z"
   },
   {
    "duration": 6,
    "start_time": "2024-02-17T18:42:18.130Z"
   },
   {
    "duration": 6,
    "start_time": "2024-02-17T18:42:18.584Z"
   },
   {
    "duration": 6,
    "start_time": "2024-02-17T18:42:18.859Z"
   },
   {
    "duration": 6,
    "start_time": "2024-02-17T18:42:19.186Z"
   },
   {
    "duration": 48,
    "start_time": "2024-02-17T18:42:20.298Z"
   },
   {
    "duration": 13,
    "start_time": "2024-02-17T18:42:21.117Z"
   },
   {
    "duration": 12,
    "start_time": "2024-02-17T18:42:21.716Z"
   },
   {
    "duration": 869,
    "start_time": "2024-02-17T18:42:25.508Z"
   },
   {
    "duration": 822,
    "start_time": "2024-02-17T18:42:26.379Z"
   },
   {
    "duration": 865,
    "start_time": "2024-02-17T18:42:27.258Z"
   },
   {
    "duration": 788,
    "start_time": "2024-02-17T18:42:28.285Z"
   },
   {
    "duration": 400,
    "start_time": "2024-02-17T18:42:32.226Z"
   },
   {
    "duration": 519,
    "start_time": "2024-02-17T18:42:32.916Z"
   },
   {
    "duration": 32,
    "start_time": "2024-02-17T19:07:07.953Z"
   },
   {
    "duration": 121,
    "start_time": "2024-02-17T19:08:06.350Z"
   },
   {
    "duration": 9,
    "start_time": "2024-02-17T19:08:14.552Z"
   },
   {
    "duration": 3379,
    "start_time": "2024-02-17T19:12:39.759Z"
   },
   {
    "duration": 3412,
    "start_time": "2024-02-17T19:13:35.298Z"
   },
   {
    "duration": 6,
    "start_time": "2024-02-17T19:16:49.130Z"
   },
   {
    "duration": 6617,
    "start_time": "2024-02-17T19:17:18.115Z"
   },
   {
    "duration": 3392,
    "start_time": "2024-02-17T19:17:27.703Z"
   },
   {
    "duration": 3420,
    "start_time": "2024-02-17T19:17:42.891Z"
   },
   {
    "duration": 3423,
    "start_time": "2024-02-17T19:17:50.938Z"
   },
   {
    "duration": 3420,
    "start_time": "2024-02-17T19:18:01.804Z"
   },
   {
    "duration": 3497,
    "start_time": "2024-02-17T19:18:21.653Z"
   },
   {
    "duration": 157,
    "start_time": "2024-02-17T19:20:48.379Z"
   },
   {
    "duration": 157,
    "start_time": "2024-02-17T19:21:04.596Z"
   },
   {
    "duration": 508,
    "start_time": "2024-02-17T19:21:47.606Z"
   },
   {
    "duration": 553,
    "start_time": "2024-02-17T19:23:42.248Z"
   },
   {
    "duration": 491,
    "start_time": "2024-02-17T19:23:51.129Z"
   },
   {
    "duration": 568,
    "start_time": "2024-02-17T19:24:00.141Z"
   },
   {
    "duration": 498,
    "start_time": "2024-02-17T19:24:14.108Z"
   },
   {
    "duration": 513,
    "start_time": "2024-02-17T19:24:26.202Z"
   },
   {
    "duration": 73,
    "start_time": "2024-02-17T19:24:35.936Z"
   },
   {
    "duration": 647,
    "start_time": "2024-02-17T19:24:40.956Z"
   },
   {
    "duration": 533,
    "start_time": "2024-02-17T19:24:50.776Z"
   },
   {
    "duration": 503,
    "start_time": "2024-02-17T19:24:56.707Z"
   },
   {
    "duration": 551,
    "start_time": "2024-02-17T19:25:08.559Z"
   },
   {
    "duration": 579,
    "start_time": "2024-02-17T19:25:36.828Z"
   },
   {
    "duration": 3611,
    "start_time": "2024-02-17T19:25:58.582Z"
   },
   {
    "duration": 30,
    "start_time": "2024-02-17T19:30:07.936Z"
   },
   {
    "duration": 28,
    "start_time": "2024-02-17T19:31:03.651Z"
   },
   {
    "duration": 27,
    "start_time": "2024-02-17T19:31:15.150Z"
   },
   {
    "duration": 20,
    "start_time": "2024-02-17T19:31:34.556Z"
   },
   {
    "duration": 1299,
    "start_time": "2024-02-17T19:31:49.926Z"
   },
   {
    "duration": 9,
    "start_time": "2024-02-17T19:32:06.338Z"
   },
   {
    "duration": 71,
    "start_time": "2024-02-17T19:32:15.802Z"
   },
   {
    "duration": 10,
    "start_time": "2024-02-17T19:32:23.273Z"
   },
   {
    "duration": 3452,
    "start_time": "2024-02-17T19:36:33.409Z"
   },
   {
    "duration": 3415,
    "start_time": "2024-02-17T19:37:02.947Z"
   },
   {
    "duration": 3436,
    "start_time": "2024-02-17T19:37:24.127Z"
   },
   {
    "duration": 3400,
    "start_time": "2024-02-17T19:37:49.495Z"
   },
   {
    "duration": 3517,
    "start_time": "2024-02-17T19:38:07.828Z"
   },
   {
    "duration": 3416,
    "start_time": "2024-02-17T19:38:37.437Z"
   },
   {
    "duration": 3508,
    "start_time": "2024-02-17T19:39:01.225Z"
   },
   {
    "duration": 10,
    "start_time": "2024-02-17T19:40:21.109Z"
   },
   {
    "duration": 1109,
    "start_time": "2024-02-17T19:40:31.805Z"
   },
   {
    "duration": 42,
    "start_time": "2024-02-17T19:41:39.155Z"
   },
   {
    "duration": 6,
    "start_time": "2024-02-17T19:41:53.884Z"
   },
   {
    "duration": 7,
    "start_time": "2024-02-17T19:42:28.627Z"
   },
   {
    "duration": 9,
    "start_time": "2024-02-17T19:43:29.780Z"
   },
   {
    "duration": 145,
    "start_time": "2024-02-17T19:45:32.292Z"
   },
   {
    "duration": 163,
    "start_time": "2024-02-17T19:45:44.709Z"
   },
   {
    "duration": 321,
    "start_time": "2024-02-17T19:46:03.588Z"
   },
   {
    "duration": 36,
    "start_time": "2024-02-17T19:51:28.518Z"
   },
   {
    "duration": 38,
    "start_time": "2024-02-17T19:52:15.995Z"
   },
   {
    "duration": 20,
    "start_time": "2024-02-17T19:52:41.533Z"
   },
   {
    "duration": 1598,
    "start_time": "2024-02-17T19:58:10.137Z"
   },
   {
    "duration": 48,
    "start_time": "2024-02-17T19:58:11.738Z"
   },
   {
    "duration": 889,
    "start_time": "2024-02-17T19:58:11.787Z"
   },
   {
    "duration": 58,
    "start_time": "2024-02-17T19:58:12.678Z"
   },
   {
    "duration": 51,
    "start_time": "2024-02-17T19:58:12.738Z"
   },
   {
    "duration": 70,
    "start_time": "2024-02-17T19:58:12.790Z"
   },
   {
    "duration": 44,
    "start_time": "2024-02-17T19:58:12.863Z"
   },
   {
    "duration": 6,
    "start_time": "2024-02-17T19:58:12.909Z"
   },
   {
    "duration": 2110,
    "start_time": "2024-02-17T19:58:13.326Z"
   },
   {
    "duration": 8,
    "start_time": "2024-02-17T19:58:15.437Z"
   },
   {
    "duration": 7,
    "start_time": "2024-02-17T19:58:15.459Z"
   },
   {
    "duration": 27,
    "start_time": "2024-02-17T19:58:15.468Z"
   },
   {
    "duration": 6,
    "start_time": "2024-02-17T19:58:15.548Z"
   },
   {
    "duration": 5,
    "start_time": "2024-02-17T19:58:16.611Z"
   },
   {
    "duration": 19,
    "start_time": "2024-02-17T19:58:18.515Z"
   },
   {
    "duration": 9,
    "start_time": "2024-02-17T19:58:18.942Z"
   },
   {
    "duration": 7,
    "start_time": "2024-02-17T19:58:19.126Z"
   },
   {
    "duration": 10,
    "start_time": "2024-02-17T19:58:19.405Z"
   },
   {
    "duration": 15,
    "start_time": "2024-02-17T19:58:19.589Z"
   },
   {
    "duration": 33,
    "start_time": "2024-02-17T19:58:19.980Z"
   },
   {
    "duration": 4,
    "start_time": "2024-02-17T19:58:20.404Z"
   },
   {
    "duration": 7,
    "start_time": "2024-02-17T19:58:20.580Z"
   },
   {
    "duration": 7,
    "start_time": "2024-02-17T19:58:20.840Z"
   },
   {
    "duration": 7,
    "start_time": "2024-02-17T19:58:21.050Z"
   },
   {
    "duration": 6,
    "start_time": "2024-02-17T19:58:21.196Z"
   },
   {
    "duration": 50,
    "start_time": "2024-02-17T19:58:21.913Z"
   },
   {
    "duration": 14,
    "start_time": "2024-02-17T19:58:22.558Z"
   },
   {
    "duration": 11,
    "start_time": "2024-02-17T19:58:22.940Z"
   },
   {
    "duration": 840,
    "start_time": "2024-02-17T19:58:25.447Z"
   },
   {
    "duration": 773,
    "start_time": "2024-02-17T19:58:26.289Z"
   },
   {
    "duration": 862,
    "start_time": "2024-02-17T19:58:27.064Z"
   },
   {
    "duration": 797,
    "start_time": "2024-02-17T19:58:27.928Z"
   },
   {
    "duration": 506,
    "start_time": "2024-02-17T19:58:28.727Z"
   },
   {
    "duration": 420,
    "start_time": "2024-02-17T19:58:29.235Z"
   },
   {
    "duration": 139,
    "start_time": "2024-02-17T19:58:29.658Z"
   },
   {
    "duration": 0,
    "start_time": "2024-02-17T19:58:29.799Z"
   },
   {
    "duration": 0,
    "start_time": "2024-02-17T19:58:29.800Z"
   },
   {
    "duration": 161,
    "start_time": "2024-02-17T19:58:41.868Z"
   },
   {
    "duration": 163,
    "start_time": "2024-02-17T19:58:44.018Z"
   },
   {
    "duration": 334,
    "start_time": "2024-02-17T19:58:44.273Z"
   },
   {
    "duration": 60,
    "start_time": "2024-02-17T20:08:49.549Z"
   },
   {
    "duration": 258,
    "start_time": "2024-02-17T20:14:16.298Z"
   },
   {
    "duration": 246,
    "start_time": "2024-02-17T20:19:11.878Z"
   },
   {
    "duration": 369,
    "start_time": "2024-02-17T20:19:23.828Z"
   },
   {
    "duration": 234,
    "start_time": "2024-02-17T20:27:38.379Z"
   },
   {
    "duration": 230,
    "start_time": "2024-02-17T20:27:46.653Z"
   },
   {
    "duration": 250,
    "start_time": "2024-02-17T20:31:02.420Z"
   },
   {
    "duration": 247,
    "start_time": "2024-02-17T20:32:39.213Z"
   },
   {
    "duration": 4,
    "start_time": "2024-02-17T20:54:26.142Z"
   },
   {
    "duration": 64,
    "start_time": "2024-02-17T20:57:12.156Z"
   },
   {
    "duration": 30,
    "start_time": "2024-02-17T20:58:11.301Z"
   },
   {
    "duration": 23,
    "start_time": "2024-02-17T20:58:52.993Z"
   },
   {
    "duration": 18,
    "start_time": "2024-02-17T20:59:17.295Z"
   },
   {
    "duration": 43,
    "start_time": "2024-02-17T20:59:29.704Z"
   },
   {
    "duration": 349,
    "start_time": "2024-02-17T20:59:47.431Z"
   },
   {
    "duration": 25,
    "start_time": "2024-02-17T21:00:01.570Z"
   },
   {
    "duration": 260,
    "start_time": "2024-02-17T21:06:00.343Z"
   },
   {
    "duration": 236,
    "start_time": "2024-02-17T21:06:01.295Z"
   },
   {
    "duration": 252,
    "start_time": "2024-02-17T21:06:02.289Z"
   },
   {
    "duration": 257,
    "start_time": "2024-02-17T21:06:04.211Z"
   },
   {
    "duration": 5,
    "start_time": "2024-02-17T21:06:07.633Z"
   },
   {
    "duration": 37,
    "start_time": "2024-02-17T21:06:07.958Z"
   },
   {
    "duration": 262,
    "start_time": "2024-02-17T21:06:14.471Z"
   },
   {
    "duration": 363,
    "start_time": "2024-02-17T21:06:16.502Z"
   },
   {
    "duration": 257,
    "start_time": "2024-02-17T21:06:18.672Z"
   },
   {
    "duration": 240,
    "start_time": "2024-02-17T21:06:28.282Z"
   },
   {
    "duration": 7,
    "start_time": "2024-02-17T21:07:29.949Z"
   },
   {
    "duration": 10,
    "start_time": "2024-02-17T21:07:50.605Z"
   },
   {
    "duration": 10,
    "start_time": "2024-02-17T21:08:01.187Z"
   },
   {
    "duration": 7,
    "start_time": "2024-02-17T21:08:17.245Z"
   },
   {
    "duration": 7,
    "start_time": "2024-02-17T21:08:32.916Z"
   },
   {
    "duration": 7,
    "start_time": "2024-02-17T21:09:01.479Z"
   },
   {
    "duration": 5,
    "start_time": "2024-02-17T21:10:08.523Z"
   },
   {
    "duration": 16,
    "start_time": "2024-02-17T21:10:18.583Z"
   },
   {
    "duration": 4,
    "start_time": "2024-02-17T21:10:23.366Z"
   },
   {
    "duration": 1585,
    "start_time": "2024-02-17T21:11:12.627Z"
   },
   {
    "duration": 41,
    "start_time": "2024-02-17T21:11:14.214Z"
   },
   {
    "duration": 894,
    "start_time": "2024-02-17T21:11:14.874Z"
   },
   {
    "duration": 60,
    "start_time": "2024-02-17T21:11:15.770Z"
   },
   {
    "duration": 38,
    "start_time": "2024-02-17T21:11:16.019Z"
   },
   {
    "duration": 58,
    "start_time": "2024-02-17T21:11:16.346Z"
   },
   {
    "duration": 43,
    "start_time": "2024-02-17T21:11:16.577Z"
   },
   {
    "duration": 5,
    "start_time": "2024-02-17T21:11:16.845Z"
   },
   {
    "duration": 2127,
    "start_time": "2024-02-17T21:11:17.372Z"
   },
   {
    "duration": 8,
    "start_time": "2024-02-17T21:11:19.501Z"
   },
   {
    "duration": 17,
    "start_time": "2024-02-17T21:11:19.510Z"
   },
   {
    "duration": 8,
    "start_time": "2024-02-17T21:11:19.910Z"
   },
   {
    "duration": 6,
    "start_time": "2024-02-17T21:11:20.468Z"
   },
   {
    "duration": 4,
    "start_time": "2024-02-17T21:11:22.188Z"
   },
   {
    "duration": 18,
    "start_time": "2024-02-17T21:11:24.748Z"
   },
   {
    "duration": 9,
    "start_time": "2024-02-17T21:11:25.444Z"
   },
   {
    "duration": 7,
    "start_time": "2024-02-17T21:11:25.773Z"
   },
   {
    "duration": 10,
    "start_time": "2024-02-17T21:11:26.036Z"
   },
   {
    "duration": 15,
    "start_time": "2024-02-17T21:11:26.288Z"
   },
   {
    "duration": 36,
    "start_time": "2024-02-17T21:11:26.986Z"
   },
   {
    "duration": 4,
    "start_time": "2024-02-17T21:11:27.641Z"
   },
   {
    "duration": 7,
    "start_time": "2024-02-17T21:11:27.919Z"
   },
   {
    "duration": 7,
    "start_time": "2024-02-17T21:11:28.218Z"
   },
   {
    "duration": 7,
    "start_time": "2024-02-17T21:11:28.512Z"
   },
   {
    "duration": 5,
    "start_time": "2024-02-17T21:11:28.829Z"
   },
   {
    "duration": 49,
    "start_time": "2024-02-17T21:11:29.704Z"
   },
   {
    "duration": 14,
    "start_time": "2024-02-17T21:11:30.646Z"
   },
   {
    "duration": 13,
    "start_time": "2024-02-17T21:11:31.294Z"
   },
   {
    "duration": 877,
    "start_time": "2024-02-17T21:11:34.543Z"
   },
   {
    "duration": 791,
    "start_time": "2024-02-17T21:11:35.422Z"
   },
   {
    "duration": 866,
    "start_time": "2024-02-17T21:11:36.216Z"
   },
   {
    "duration": 808,
    "start_time": "2024-02-17T21:11:37.084Z"
   },
   {
    "duration": 536,
    "start_time": "2024-02-17T21:11:38.368Z"
   },
   {
    "duration": 413,
    "start_time": "2024-02-17T21:11:38.948Z"
   },
   {
    "duration": 165,
    "start_time": "2024-02-17T21:11:39.364Z"
   },
   {
    "duration": 333,
    "start_time": "2024-02-17T21:11:39.695Z"
   },
   {
    "duration": 264,
    "start_time": "2024-02-17T21:11:54.502Z"
   },
   {
    "duration": 231,
    "start_time": "2024-02-17T21:11:55.246Z"
   },
   {
    "duration": 361,
    "start_time": "2024-02-17T21:11:55.883Z"
   },
   {
    "duration": 293,
    "start_time": "2024-02-17T21:11:56.895Z"
   },
   {
    "duration": 3,
    "start_time": "2024-02-17T21:11:58.119Z"
   },
   {
    "duration": 36,
    "start_time": "2024-02-17T21:11:58.439Z"
   },
   {
    "duration": 7,
    "start_time": "2024-02-17T21:11:58.821Z"
   },
   {
    "duration": 5,
    "start_time": "2024-02-17T21:11:59.159Z"
   },
   {
    "duration": 19,
    "start_time": "2024-02-17T21:11:59.489Z"
   },
   {
    "duration": 4,
    "start_time": "2024-02-17T21:11:59.947Z"
   },
   {
    "duration": 5,
    "start_time": "2024-02-18T04:06:26.681Z"
   },
   {
    "duration": 3,
    "start_time": "2024-02-18T04:09:56.110Z"
   },
   {
    "duration": 3,
    "start_time": "2024-02-18T04:10:11.024Z"
   },
   {
    "duration": 130,
    "start_time": "2024-02-18T04:10:14.920Z"
   },
   {
    "duration": 9,
    "start_time": "2024-02-18T04:10:15.172Z"
   },
   {
    "duration": 700,
    "start_time": "2024-02-18T04:10:15.486Z"
   },
   {
    "duration": 664,
    "start_time": "2024-02-18T04:10:37.296Z"
   },
   {
    "duration": 11,
    "start_time": "2024-02-18T04:25:00.639Z"
   },
   {
    "duration": 1580,
    "start_time": "2024-02-18T04:25:18.479Z"
   },
   {
    "duration": 11,
    "start_time": "2024-02-18T06:27:41.248Z"
   },
   {
    "duration": 9,
    "start_time": "2024-02-18T06:27:48.400Z"
   },
   {
    "duration": 10,
    "start_time": "2024-02-18T06:28:13.221Z"
   },
   {
    "duration": 113,
    "start_time": "2024-02-18T06:30:08.138Z"
   },
   {
    "duration": 11,
    "start_time": "2024-02-18T06:30:18.492Z"
   },
   {
    "duration": 3,
    "start_time": "2024-02-18T06:32:19.510Z"
   },
   {
    "duration": 15,
    "start_time": "2024-02-18T06:32:24.891Z"
   },
   {
    "duration": 10,
    "start_time": "2024-02-18T06:34:52.803Z"
   },
   {
    "duration": 3,
    "start_time": "2024-02-18T06:34:57.797Z"
   },
   {
    "duration": 14,
    "start_time": "2024-02-18T06:34:58.338Z"
   },
   {
    "duration": 67,
    "start_time": "2024-02-18T06:36:33.337Z"
   },
   {
    "duration": 13,
    "start_time": "2024-02-18T06:37:20.964Z"
   },
   {
    "duration": 3,
    "start_time": "2024-02-18T06:56:53.189Z"
   },
   {
    "duration": 2,
    "start_time": "2024-02-18T06:56:53.503Z"
   },
   {
    "duration": 2,
    "start_time": "2024-02-18T06:58:37.476Z"
   },
   {
    "duration": 2,
    "start_time": "2024-02-18T06:58:48.802Z"
   },
   {
    "duration": 2,
    "start_time": "2024-02-18T06:59:04.189Z"
   },
   {
    "duration": 4,
    "start_time": "2024-02-18T06:59:15.407Z"
   },
   {
    "duration": 2559,
    "start_time": "2024-02-18T07:00:32.087Z"
   },
   {
    "duration": 3,
    "start_time": "2024-02-18T07:00:49.122Z"
   },
   {
    "duration": 1627,
    "start_time": "2024-02-18T07:01:04.254Z"
   },
   {
    "duration": 63,
    "start_time": "2024-02-18T07:01:05.883Z"
   },
   {
    "duration": 890,
    "start_time": "2024-02-18T07:01:05.948Z"
   },
   {
    "duration": 63,
    "start_time": "2024-02-18T07:01:06.840Z"
   },
   {
    "duration": 39,
    "start_time": "2024-02-18T07:01:06.905Z"
   },
   {
    "duration": 85,
    "start_time": "2024-02-18T07:01:06.959Z"
   },
   {
    "duration": 48,
    "start_time": "2024-02-18T07:01:07.046Z"
   },
   {
    "duration": 4,
    "start_time": "2024-02-18T07:01:07.750Z"
   },
   {
    "duration": 2105,
    "start_time": "2024-02-18T07:01:07.755Z"
   },
   {
    "duration": 7,
    "start_time": "2024-02-18T07:01:12.094Z"
   },
   {
    "duration": 6,
    "start_time": "2024-02-18T07:01:14.488Z"
   },
   {
    "duration": 25,
    "start_time": "2024-02-18T07:01:14.496Z"
   },
   {
    "duration": 5,
    "start_time": "2024-02-18T07:01:14.850Z"
   },
   {
    "duration": 4,
    "start_time": "2024-02-18T07:01:17.027Z"
   },
   {
    "duration": 24,
    "start_time": "2024-02-18T07:01:21.247Z"
   },
   {
    "duration": 10,
    "start_time": "2024-02-18T07:01:22.004Z"
   },
   {
    "duration": 8,
    "start_time": "2024-02-18T07:01:22.326Z"
   },
   {
    "duration": 10,
    "start_time": "2024-02-18T07:01:22.731Z"
   },
   {
    "duration": 15,
    "start_time": "2024-02-18T07:01:23.043Z"
   },
   {
    "duration": 31,
    "start_time": "2024-02-18T07:01:23.777Z"
   },
   {
    "duration": 4,
    "start_time": "2024-02-18T07:01:24.378Z"
   },
   {
    "duration": 7,
    "start_time": "2024-02-18T07:01:24.712Z"
   },
   {
    "duration": 6,
    "start_time": "2024-02-18T07:01:25.063Z"
   },
   {
    "duration": 6,
    "start_time": "2024-02-18T07:01:25.474Z"
   },
   {
    "duration": 7,
    "start_time": "2024-02-18T07:01:25.858Z"
   },
   {
    "duration": 48,
    "start_time": "2024-02-18T07:01:26.844Z"
   },
   {
    "duration": 14,
    "start_time": "2024-02-18T07:01:27.663Z"
   },
   {
    "duration": 12,
    "start_time": "2024-02-18T07:01:28.513Z"
   },
   {
    "duration": 926,
    "start_time": "2024-02-18T07:01:31.800Z"
   },
   {
    "duration": 783,
    "start_time": "2024-02-18T07:01:32.728Z"
   },
   {
    "duration": 860,
    "start_time": "2024-02-18T07:01:34.345Z"
   },
   {
    "duration": 780,
    "start_time": "2024-02-18T07:01:35.337Z"
   },
   {
    "duration": 497,
    "start_time": "2024-02-18T07:01:39.891Z"
   },
   {
    "duration": 406,
    "start_time": "2024-02-18T07:01:40.390Z"
   },
   {
    "duration": 179,
    "start_time": "2024-02-18T07:01:40.798Z"
   },
   {
    "duration": 244,
    "start_time": "2024-02-18T07:02:13.925Z"
   },
   {
    "duration": 339,
    "start_time": "2024-02-18T07:02:14.171Z"
   },
   {
    "duration": 244,
    "start_time": "2024-02-18T07:02:24.516Z"
   },
   {
    "duration": 369,
    "start_time": "2024-02-18T07:02:26.442Z"
   },
   {
    "duration": 277,
    "start_time": "2024-02-18T07:02:27.425Z"
   },
   {
    "duration": 267,
    "start_time": "2024-02-18T07:02:28.553Z"
   },
   {
    "duration": 4,
    "start_time": "2024-02-18T07:02:29.739Z"
   },
   {
    "duration": 36,
    "start_time": "2024-02-18T07:02:30.754Z"
   },
   {
    "duration": 4,
    "start_time": "2024-02-18T07:02:31.100Z"
   },
   {
    "duration": 20,
    "start_time": "2024-02-18T07:02:31.482Z"
   },
   {
    "duration": 3,
    "start_time": "2024-02-18T07:02:32.029Z"
   },
   {
    "duration": 3,
    "start_time": "2024-02-18T07:02:54.019Z"
   },
   {
    "duration": 5,
    "start_time": "2024-02-18T07:13:37.464Z"
   },
   {
    "duration": 3,
    "start_time": "2024-02-18T07:15:02.976Z"
   },
   {
    "duration": 127,
    "start_time": "2024-02-18T07:15:04.707Z"
   },
   {
    "duration": 3,
    "start_time": "2024-02-18T07:15:28.441Z"
   },
   {
    "duration": 6,
    "start_time": "2024-02-18T07:15:41.602Z"
   },
   {
    "duration": 6,
    "start_time": "2024-02-18T07:15:43.052Z"
   },
   {
    "duration": 2,
    "start_time": "2024-02-18T08:47:12.327Z"
   },
   {
    "duration": 18,
    "start_time": "2024-02-18T08:48:11.038Z"
   },
   {
    "duration": 1673,
    "start_time": "2024-02-18T08:48:19.487Z"
   },
   {
    "duration": 7,
    "start_time": "2024-02-18T08:49:13.227Z"
   },
   {
    "duration": 20,
    "start_time": "2024-02-18T08:50:34.681Z"
   },
   {
    "duration": 1822,
    "start_time": "2024-02-18T08:50:49.438Z"
   },
   {
    "duration": 21,
    "start_time": "2024-02-18T08:51:08.321Z"
   },
   {
    "duration": 10,
    "start_time": "2024-02-18T08:51:13.106Z"
   },
   {
    "duration": 10,
    "start_time": "2024-02-18T08:51:17.851Z"
   },
   {
    "duration": 1652,
    "start_time": "2024-02-18T08:51:25.506Z"
   },
   {
    "duration": 1975,
    "start_time": "2024-02-18T08:51:37.186Z"
   },
   {
    "duration": 10,
    "start_time": "2024-02-18T08:52:22.877Z"
   },
   {
    "duration": 1873,
    "start_time": "2024-02-18T08:52:33.287Z"
   },
   {
    "duration": 1916,
    "start_time": "2024-02-18T08:53:56.246Z"
   },
   {
    "duration": 2113,
    "start_time": "2024-02-18T08:54:35.847Z"
   },
   {
    "duration": 1716,
    "start_time": "2024-02-18T08:54:52.750Z"
   },
   {
    "duration": 2020,
    "start_time": "2024-02-18T09:02:26.943Z"
   },
   {
    "duration": 1626,
    "start_time": "2024-02-18T09:02:56.433Z"
   },
   {
    "duration": 1767,
    "start_time": "2024-02-18T09:03:12.098Z"
   },
   {
    "duration": 2230,
    "start_time": "2024-02-18T09:03:52.338Z"
   },
   {
    "duration": 3,
    "start_time": "2024-02-18T09:06:20.071Z"
   },
   {
    "duration": 1883,
    "start_time": "2024-02-18T09:06:25.482Z"
   },
   {
    "duration": 1677,
    "start_time": "2024-02-18T09:06:32.783Z"
   },
   {
    "duration": 3,
    "start_time": "2024-02-18T09:06:42.724Z"
   },
   {
    "duration": 1949,
    "start_time": "2024-02-18T09:07:18.911Z"
   },
   {
    "duration": 80,
    "start_time": "2024-02-18T09:08:23.503Z"
   },
   {
    "duration": 81,
    "start_time": "2024-02-18T09:12:16.735Z"
   },
   {
    "duration": 1927,
    "start_time": "2024-02-18T09:12:23.633Z"
   },
   {
    "duration": 1869,
    "start_time": "2024-02-18T09:15:07.891Z"
   },
   {
    "duration": 3769,
    "start_time": "2024-02-18T09:15:48.291Z"
   },
   {
    "duration": 2300,
    "start_time": "2024-02-18T09:17:39.668Z"
   },
   {
    "duration": 1794,
    "start_time": "2024-02-18T09:18:18.466Z"
   },
   {
    "duration": 2179,
    "start_time": "2024-02-18T09:18:38.989Z"
   },
   {
    "duration": 4,
    "start_time": "2024-02-18T09:20:22.760Z"
   },
   {
    "duration": 11,
    "start_time": "2024-02-18T09:22:58.664Z"
   },
   {
    "duration": 6,
    "start_time": "2024-02-18T09:23:03.548Z"
   },
   {
    "duration": 8,
    "start_time": "2024-02-18T09:23:04.491Z"
   },
   {
    "duration": 6,
    "start_time": "2024-02-18T09:23:04.835Z"
   },
   {
    "duration": 8,
    "start_time": "2024-02-18T09:23:08.468Z"
   },
   {
    "duration": 87,
    "start_time": "2024-02-18T09:24:03.649Z"
   },
   {
    "duration": 4867,
    "start_time": "2024-02-18T09:24:15.695Z"
   },
   {
    "duration": 3778,
    "start_time": "2024-02-18T09:25:05.182Z"
   },
   {
    "duration": 3277,
    "start_time": "2024-02-18T09:25:18.188Z"
   },
   {
    "duration": 4221,
    "start_time": "2024-02-18T09:37:29.339Z"
   },
   {
    "duration": 4382,
    "start_time": "2024-02-18T09:38:24.881Z"
   },
   {
    "duration": 1826,
    "start_time": "2024-02-18T09:39:41.637Z"
   },
   {
    "duration": 3332,
    "start_time": "2024-02-18T09:40:08.727Z"
   },
   {
    "duration": 21,
    "start_time": "2024-02-18T09:44:24.125Z"
   },
   {
    "duration": 1525,
    "start_time": "2024-02-18T09:46:04.912Z"
   },
   {
    "duration": 41,
    "start_time": "2024-02-18T09:46:08.395Z"
   },
   {
    "duration": 956,
    "start_time": "2024-02-18T09:46:10.257Z"
   },
   {
    "duration": 72,
    "start_time": "2024-02-18T09:46:11.215Z"
   },
   {
    "duration": 40,
    "start_time": "2024-02-18T09:46:11.289Z"
   },
   {
    "duration": 60,
    "start_time": "2024-02-18T09:46:11.643Z"
   },
   {
    "duration": 57,
    "start_time": "2024-02-18T09:46:11.706Z"
   },
   {
    "duration": 5,
    "start_time": "2024-02-18T09:46:12.012Z"
   },
   {
    "duration": 2251,
    "start_time": "2024-02-18T09:46:12.671Z"
   },
   {
    "duration": 7,
    "start_time": "2024-02-18T09:46:18.276Z"
   },
   {
    "duration": 7,
    "start_time": "2024-02-18T09:46:18.804Z"
   },
   {
    "duration": 8,
    "start_time": "2024-02-18T09:46:19.689Z"
   },
   {
    "duration": 6,
    "start_time": "2024-02-18T09:46:20.604Z"
   },
   {
    "duration": 5,
    "start_time": "2024-02-18T09:46:23.395Z"
   },
   {
    "duration": 17,
    "start_time": "2024-02-18T09:46:26.009Z"
   },
   {
    "duration": 10,
    "start_time": "2024-02-18T09:46:27.020Z"
   },
   {
    "duration": 8,
    "start_time": "2024-02-18T09:46:27.350Z"
   },
   {
    "duration": 11,
    "start_time": "2024-02-18T09:46:27.694Z"
   },
   {
    "duration": 15,
    "start_time": "2024-02-18T09:46:27.925Z"
   },
   {
    "duration": 31,
    "start_time": "2024-02-18T09:46:28.266Z"
   },
   {
    "duration": 5,
    "start_time": "2024-02-18T09:46:28.879Z"
   },
   {
    "duration": 8,
    "start_time": "2024-02-18T09:46:40.417Z"
   },
   {
    "duration": 7,
    "start_time": "2024-02-18T09:46:40.631Z"
   },
   {
    "duration": 13,
    "start_time": "2024-02-18T09:46:40.640Z"
   },
   {
    "duration": 6,
    "start_time": "2024-02-18T09:46:40.655Z"
   },
   {
    "duration": 46,
    "start_time": "2024-02-18T09:46:42.076Z"
   },
   {
    "duration": 12,
    "start_time": "2024-02-18T09:46:42.875Z"
   },
   {
    "duration": 11,
    "start_time": "2024-02-18T09:46:43.423Z"
   },
   {
    "duration": 923,
    "start_time": "2024-02-18T09:46:46.969Z"
   },
   {
    "duration": 801,
    "start_time": "2024-02-18T09:46:48.657Z"
   },
   {
    "duration": 889,
    "start_time": "2024-02-18T09:46:49.460Z"
   },
   {
    "duration": 804,
    "start_time": "2024-02-18T09:46:53.276Z"
   },
   {
    "duration": 547,
    "start_time": "2024-02-18T09:46:55.863Z"
   },
   {
    "duration": 432,
    "start_time": "2024-02-18T09:46:56.835Z"
   },
   {
    "duration": 161,
    "start_time": "2024-02-18T09:46:57.626Z"
   },
   {
    "duration": 328,
    "start_time": "2024-02-18T09:46:58.189Z"
   },
   {
    "duration": 282,
    "start_time": "2024-02-18T09:47:02.927Z"
   },
   {
    "duration": 248,
    "start_time": "2024-02-18T09:47:03.886Z"
   },
   {
    "duration": 393,
    "start_time": "2024-02-18T09:47:04.839Z"
   },
   {
    "duration": 266,
    "start_time": "2024-02-18T09:47:05.413Z"
   },
   {
    "duration": 5,
    "start_time": "2024-02-18T09:47:05.970Z"
   },
   {
    "duration": 34,
    "start_time": "2024-02-18T09:47:06.527Z"
   },
   {
    "duration": 5,
    "start_time": "2024-02-18T09:47:06.945Z"
   },
   {
    "duration": 19,
    "start_time": "2024-02-18T09:47:07.972Z"
   },
   {
    "duration": 4,
    "start_time": "2024-02-18T09:47:08.793Z"
   },
   {
    "duration": 4,
    "start_time": "2024-02-18T09:47:12.293Z"
   },
   {
    "duration": 122,
    "start_time": "2024-02-18T09:47:12.652Z"
   },
   {
    "duration": 4,
    "start_time": "2024-02-18T09:47:15.658Z"
   },
   {
    "duration": 24,
    "start_time": "2024-02-18T09:47:16.407Z"
   },
   {
    "duration": 7,
    "start_time": "2024-02-18T09:47:17.798Z"
   },
   {
    "duration": 7,
    "start_time": "2024-02-18T09:47:18.181Z"
   },
   {
    "duration": 2307,
    "start_time": "2024-02-18T09:47:20.257Z"
   },
   {
    "duration": 4232,
    "start_time": "2024-02-18T09:47:25.928Z"
   },
   {
    "duration": 97,
    "start_time": "2024-02-18T09:47:38.922Z"
   },
   {
    "duration": 4960,
    "start_time": "2024-02-18T09:47:44.706Z"
   },
   {
    "duration": 5029,
    "start_time": "2024-02-18T09:48:08.530Z"
   },
   {
    "duration": 4527,
    "start_time": "2024-02-18T09:49:49.434Z"
   },
   {
    "duration": 4,
    "start_time": "2024-02-18T09:51:59.201Z"
   },
   {
    "duration": 4,
    "start_time": "2024-02-18T09:53:30.718Z"
   },
   {
    "duration": 4,
    "start_time": "2024-02-18T09:53:45.859Z"
   },
   {
    "duration": 4,
    "start_time": "2024-02-18T09:54:19.006Z"
   },
   {
    "duration": 4,
    "start_time": "2024-02-18T09:55:09.756Z"
   },
   {
    "duration": 5,
    "start_time": "2024-02-18T09:58:07.925Z"
   },
   {
    "duration": 4,
    "start_time": "2024-02-18T09:58:24.558Z"
   },
   {
    "duration": 8117,
    "start_time": "2024-02-18T10:05:41.344Z"
   },
   {
    "duration": 8233,
    "start_time": "2024-02-18T10:06:10.526Z"
   },
   {
    "duration": 4,
    "start_time": "2024-02-18T10:07:03.521Z"
   },
   {
    "duration": 17111,
    "start_time": "2024-02-18T10:07:14.747Z"
   },
   {
    "duration": 16591,
    "start_time": "2024-02-18T10:07:39.869Z"
   },
   {
    "duration": 4,
    "start_time": "2024-02-18T10:09:26.037Z"
   },
   {
    "duration": 12865,
    "start_time": "2024-02-18T10:09:50.601Z"
   },
   {
    "duration": 12398,
    "start_time": "2024-02-18T10:10:03.469Z"
   },
   {
    "duration": 5,
    "start_time": "2024-02-18T10:12:07.781Z"
   },
   {
    "duration": 87,
    "start_time": "2024-02-18T11:57:07.810Z"
   },
   {
    "duration": 1725,
    "start_time": "2024-02-18T11:57:21.693Z"
   },
   {
    "duration": 3334,
    "start_time": "2024-02-18T11:57:48.214Z"
   },
   {
    "duration": 9,
    "start_time": "2024-02-18T17:30:27.429Z"
   },
   {
    "duration": 1644,
    "start_time": "2024-02-18T17:30:41.433Z"
   },
   {
    "duration": 41,
    "start_time": "2024-02-18T17:30:46.877Z"
   },
   {
    "duration": 930,
    "start_time": "2024-02-18T17:30:47.933Z"
   },
   {
    "duration": 67,
    "start_time": "2024-02-18T17:30:48.866Z"
   },
   {
    "duration": 50,
    "start_time": "2024-02-18T17:30:48.984Z"
   },
   {
    "duration": 72,
    "start_time": "2024-02-18T17:30:49.238Z"
   },
   {
    "duration": 44,
    "start_time": "2024-02-18T17:30:49.414Z"
   },
   {
    "duration": 4,
    "start_time": "2024-02-18T17:30:49.697Z"
   },
   {
    "duration": 2440,
    "start_time": "2024-02-18T17:30:50.154Z"
   },
   {
    "duration": 8,
    "start_time": "2024-02-18T17:30:52.597Z"
   },
   {
    "duration": 26,
    "start_time": "2024-02-18T17:30:52.606Z"
   },
   {
    "duration": 24,
    "start_time": "2024-02-18T17:30:52.634Z"
   },
   {
    "duration": 6,
    "start_time": "2024-02-18T17:30:53.019Z"
   },
   {
    "duration": 5,
    "start_time": "2024-02-18T17:30:55.051Z"
   },
   {
    "duration": 25,
    "start_time": "2024-02-18T17:30:58.728Z"
   },
   {
    "duration": 13,
    "start_time": "2024-02-18T17:30:59.437Z"
   },
   {
    "duration": 10,
    "start_time": "2024-02-18T17:30:59.881Z"
   },
   {
    "duration": 10,
    "start_time": "2024-02-18T17:31:00.289Z"
   },
   {
    "duration": 16,
    "start_time": "2024-02-18T17:31:00.623Z"
   },
   {
    "duration": 45,
    "start_time": "2024-02-18T17:31:01.357Z"
   },
   {
    "duration": 4,
    "start_time": "2024-02-18T17:31:02.502Z"
   },
   {
    "duration": 19,
    "start_time": "2024-02-18T17:31:02.530Z"
   },
   {
    "duration": 8,
    "start_time": "2024-02-18T17:31:02.687Z"
   },
   {
    "duration": 7,
    "start_time": "2024-02-18T17:31:03.035Z"
   },
   {
    "duration": 8,
    "start_time": "2024-02-18T17:31:03.360Z"
   },
   {
    "duration": 61,
    "start_time": "2024-02-18T17:31:04.467Z"
   },
   {
    "duration": 16,
    "start_time": "2024-02-18T17:31:05.384Z"
   },
   {
    "duration": 14,
    "start_time": "2024-02-18T17:31:06.066Z"
   },
   {
    "duration": 984,
    "start_time": "2024-02-18T17:31:09.713Z"
   },
   {
    "duration": 828,
    "start_time": "2024-02-18T17:31:12.577Z"
   },
   {
    "duration": 959,
    "start_time": "2024-02-18T17:31:14.876Z"
   },
   {
    "duration": 932,
    "start_time": "2024-02-18T17:31:16.088Z"
   },
   {
    "duration": 546,
    "start_time": "2024-02-18T17:31:18.376Z"
   },
   {
    "duration": 420,
    "start_time": "2024-02-18T17:31:19.286Z"
   },
   {
    "duration": 183,
    "start_time": "2024-02-18T17:31:19.918Z"
   },
   {
    "duration": 399,
    "start_time": "2024-02-18T17:31:20.422Z"
   },
   {
    "duration": 293,
    "start_time": "2024-02-18T17:31:23.894Z"
   },
   {
    "duration": 254,
    "start_time": "2024-02-18T17:31:24.765Z"
   },
   {
    "duration": 441,
    "start_time": "2024-02-18T17:31:25.560Z"
   },
   {
    "duration": 304,
    "start_time": "2024-02-18T17:31:26.511Z"
   },
   {
    "duration": 4,
    "start_time": "2024-02-18T17:31:27.428Z"
   },
   {
    "duration": 35,
    "start_time": "2024-02-18T17:31:27.866Z"
   },
   {
    "duration": 4,
    "start_time": "2024-02-18T17:31:28.336Z"
   },
   {
    "duration": 22,
    "start_time": "2024-02-18T17:31:28.911Z"
   },
   {
    "duration": 4,
    "start_time": "2024-02-18T17:31:29.220Z"
   },
   {
    "duration": 4,
    "start_time": "2024-02-18T17:31:33.547Z"
   },
   {
    "duration": 24870,
    "start_time": "2024-02-18T17:33:32.804Z"
   },
   {
    "duration": 23982,
    "start_time": "2024-02-18T17:34:00.096Z"
   },
   {
    "duration": 7,
    "start_time": "2024-02-18T17:34:24.159Z"
   },
   {
    "duration": 130,
    "start_time": "2024-02-18T17:35:27.761Z"
   },
   {
    "duration": 778566,
    "start_time": "2024-02-18T17:45:18.729Z"
   },
   {
    "duration": 775174,
    "start_time": "2024-02-18T18:36:34.419Z"
   },
   {
    "duration": 107,
    "start_time": "2024-02-18T18:52:51.217Z"
   },
   {
    "duration": 21,
    "start_time": "2024-02-18T18:53:03.497Z"
   },
   {
    "duration": 761194,
    "start_time": "2024-02-18T18:53:09.743Z"
   },
   {
    "duration": 725060,
    "start_time": "2024-02-18T19:13:31.576Z"
   },
   {
    "duration": 100,
    "start_time": "2024-02-18T19:25:36.638Z"
   },
   {
    "duration": 6,
    "start_time": "2024-02-18T19:39:38.921Z"
   },
   {
    "duration": 81449,
    "start_time": "2024-02-18T19:41:10.054Z"
   },
   {
    "duration": 1432830,
    "start_time": "2024-02-18T19:43:41.921Z"
   },
   {
    "duration": 1595,
    "start_time": "2024-02-18T20:07:46.884Z"
   },
   {
    "duration": 45,
    "start_time": "2024-02-18T20:07:48.481Z"
   },
   {
    "duration": 884,
    "start_time": "2024-02-18T20:07:50.027Z"
   },
   {
    "duration": 64,
    "start_time": "2024-02-18T20:07:50.913Z"
   },
   {
    "duration": 40,
    "start_time": "2024-02-18T20:07:51.092Z"
   },
   {
    "duration": 60,
    "start_time": "2024-02-18T20:07:51.225Z"
   },
   {
    "duration": 43,
    "start_time": "2024-02-18T20:07:51.485Z"
   },
   {
    "duration": 4,
    "start_time": "2024-02-18T20:07:51.700Z"
   },
   {
    "duration": 2141,
    "start_time": "2024-02-18T20:07:52.192Z"
   },
   {
    "duration": 7,
    "start_time": "2024-02-18T20:07:54.335Z"
   },
   {
    "duration": 19,
    "start_time": "2024-02-18T20:07:54.343Z"
   },
   {
    "duration": 17,
    "start_time": "2024-02-18T20:07:54.364Z"
   },
   {
    "duration": 5,
    "start_time": "2024-02-18T20:07:54.560Z"
   },
   {
    "duration": 4,
    "start_time": "2024-02-18T20:07:55.616Z"
   },
   {
    "duration": 19,
    "start_time": "2024-02-18T20:07:57.955Z"
   },
   {
    "duration": 10,
    "start_time": "2024-02-18T20:07:58.378Z"
   },
   {
    "duration": 7,
    "start_time": "2024-02-18T20:07:58.587Z"
   },
   {
    "duration": 11,
    "start_time": "2024-02-18T20:07:58.813Z"
   },
   {
    "duration": 16,
    "start_time": "2024-02-18T20:07:59.057Z"
   },
   {
    "duration": 32,
    "start_time": "2024-02-18T20:07:59.491Z"
   },
   {
    "duration": 5,
    "start_time": "2024-02-18T20:07:59.929Z"
   },
   {
    "duration": 8,
    "start_time": "2024-02-18T20:08:00.129Z"
   },
   {
    "duration": 8,
    "start_time": "2024-02-18T20:08:00.353Z"
   },
   {
    "duration": 8,
    "start_time": "2024-02-18T20:08:00.585Z"
   },
   {
    "duration": 7,
    "start_time": "2024-02-18T20:08:00.773Z"
   },
   {
    "duration": 49,
    "start_time": "2024-02-18T20:08:01.433Z"
   },
   {
    "duration": 15,
    "start_time": "2024-02-18T20:08:02.092Z"
   },
   {
    "duration": 13,
    "start_time": "2024-02-18T20:08:02.535Z"
   },
   {
    "duration": 900,
    "start_time": "2024-02-18T20:08:04.956Z"
   },
   {
    "duration": 826,
    "start_time": "2024-02-18T20:08:05.859Z"
   },
   {
    "duration": 987,
    "start_time": "2024-02-18T20:08:06.687Z"
   },
   {
    "duration": 789,
    "start_time": "2024-02-18T20:08:07.676Z"
   },
   {
    "duration": 525,
    "start_time": "2024-02-18T20:08:08.466Z"
   },
   {
    "duration": 407,
    "start_time": "2024-02-18T20:08:08.993Z"
   },
   {
    "duration": 169,
    "start_time": "2024-02-18T20:08:09.402Z"
   },
   {
    "duration": 339,
    "start_time": "2024-02-18T20:08:09.573Z"
   },
   {
    "duration": 256,
    "start_time": "2024-02-18T20:08:10.690Z"
   },
   {
    "duration": 244,
    "start_time": "2024-02-18T20:08:11.116Z"
   },
   {
    "duration": 371,
    "start_time": "2024-02-18T20:08:11.549Z"
   },
   {
    "duration": 281,
    "start_time": "2024-02-18T20:08:12.035Z"
   },
   {
    "duration": 4,
    "start_time": "2024-02-18T20:08:12.417Z"
   },
   {
    "duration": 36,
    "start_time": "2024-02-18T20:08:12.661Z"
   },
   {
    "duration": 4,
    "start_time": "2024-02-18T20:08:12.877Z"
   },
   {
    "duration": 21,
    "start_time": "2024-02-18T20:08:13.132Z"
   },
   {
    "duration": 4,
    "start_time": "2024-02-18T20:08:13.355Z"
   },
   {
    "duration": 4,
    "start_time": "2024-02-18T20:08:15.360Z"
   },
   {
    "duration": 119,
    "start_time": "2024-02-18T20:08:15.510Z"
   },
   {
    "duration": 12071,
    "start_time": "2024-02-18T20:08:17.495Z"
   },
   {
    "duration": 13001,
    "start_time": "2024-02-18T20:08:29.568Z"
   },
   {
    "duration": 5,
    "start_time": "2024-02-18T20:08:42.571Z"
   },
   {
    "duration": 11,
    "start_time": "2024-02-18T20:09:25.085Z"
   },
   {
    "duration": 179062,
    "start_time": "2024-02-18T20:09:41.993Z"
   },
   {
    "duration": 872007,
    "start_time": "2024-02-18T20:16:03.561Z"
   },
   {
    "duration": 1553,
    "start_time": "2024-02-18T20:30:44.772Z"
   },
   {
    "duration": 41,
    "start_time": "2024-02-18T20:30:46.327Z"
   },
   {
    "duration": 874,
    "start_time": "2024-02-18T20:30:46.370Z"
   },
   {
    "duration": 68,
    "start_time": "2024-02-18T20:30:47.246Z"
   },
   {
    "duration": 47,
    "start_time": "2024-02-18T20:30:47.316Z"
   },
   {
    "duration": 65,
    "start_time": "2024-02-18T20:30:47.365Z"
   },
   {
    "duration": 55,
    "start_time": "2024-02-18T20:30:47.432Z"
   },
   {
    "duration": 5,
    "start_time": "2024-02-18T20:30:47.489Z"
   },
   {
    "duration": 2147,
    "start_time": "2024-02-18T20:30:47.584Z"
   },
   {
    "duration": 8,
    "start_time": "2024-02-18T20:30:49.733Z"
   },
   {
    "duration": 21,
    "start_time": "2024-02-18T20:30:49.742Z"
   },
   {
    "duration": 14,
    "start_time": "2024-02-18T20:30:49.765Z"
   },
   {
    "duration": 5,
    "start_time": "2024-02-18T20:30:49.781Z"
   },
   {
    "duration": 4,
    "start_time": "2024-02-18T20:30:52.197Z"
   },
   {
    "duration": 18,
    "start_time": "2024-02-18T20:30:53.874Z"
   },
   {
    "duration": 9,
    "start_time": "2024-02-18T20:30:54.407Z"
   },
   {
    "duration": 7,
    "start_time": "2024-02-18T20:30:54.424Z"
   },
   {
    "duration": 10,
    "start_time": "2024-02-18T20:30:54.611Z"
   },
   {
    "duration": 15,
    "start_time": "2024-02-18T20:30:54.816Z"
   },
   {
    "duration": 32,
    "start_time": "2024-02-18T20:30:55.218Z"
   },
   {
    "duration": 5,
    "start_time": "2024-02-18T20:30:55.581Z"
   },
   {
    "duration": 7,
    "start_time": "2024-02-18T20:30:55.802Z"
   },
   {
    "duration": 8,
    "start_time": "2024-02-18T20:30:56.009Z"
   },
   {
    "duration": 6,
    "start_time": "2024-02-18T20:30:56.204Z"
   },
   {
    "duration": 6,
    "start_time": "2024-02-18T20:30:56.383Z"
   },
   {
    "duration": 47,
    "start_time": "2024-02-18T20:30:57.061Z"
   },
   {
    "duration": 14,
    "start_time": "2024-02-18T20:30:57.768Z"
   },
   {
    "duration": 14,
    "start_time": "2024-02-18T20:30:58.180Z"
   },
   {
    "duration": 907,
    "start_time": "2024-02-18T20:31:00.292Z"
   },
   {
    "duration": 808,
    "start_time": "2024-02-18T20:31:01.202Z"
   },
   {
    "duration": 915,
    "start_time": "2024-02-18T20:31:02.013Z"
   },
   {
    "duration": 850,
    "start_time": "2024-02-18T20:31:02.930Z"
   },
   {
    "duration": 537,
    "start_time": "2024-02-18T20:31:03.782Z"
   },
   {
    "duration": 422,
    "start_time": "2024-02-18T20:31:04.321Z"
   },
   {
    "duration": 166,
    "start_time": "2024-02-18T20:31:04.745Z"
   },
   {
    "duration": 395,
    "start_time": "2024-02-18T20:31:04.913Z"
   },
   {
    "duration": 265,
    "start_time": "2024-02-18T20:31:05.796Z"
   },
   {
    "duration": 238,
    "start_time": "2024-02-18T20:31:06.205Z"
   },
   {
    "duration": 397,
    "start_time": "2024-02-18T20:31:06.721Z"
   },
   {
    "duration": 281,
    "start_time": "2024-02-18T20:31:07.120Z"
   },
   {
    "duration": 4,
    "start_time": "2024-02-18T20:31:07.458Z"
   },
   {
    "duration": 35,
    "start_time": "2024-02-18T20:31:07.660Z"
   },
   {
    "duration": 5,
    "start_time": "2024-02-18T20:31:07.983Z"
   },
   {
    "duration": 20,
    "start_time": "2024-02-18T20:31:08.100Z"
   },
   {
    "duration": 3,
    "start_time": "2024-02-18T20:31:08.431Z"
   },
   {
    "duration": 3,
    "start_time": "2024-02-18T20:31:11.497Z"
   },
   {
    "duration": 15720,
    "start_time": "2024-02-18T20:31:26.345Z"
   },
   {
    "duration": 12490,
    "start_time": "2024-02-18T20:31:44.372Z"
   },
   {
    "duration": 4,
    "start_time": "2024-02-18T20:31:58.214Z"
   },
   {
    "duration": 129,
    "start_time": "2024-02-18T20:32:53.586Z"
   },
   {
    "duration": 28987,
    "start_time": "2024-02-18T20:38:23.425Z"
   },
   {
    "duration": 48453,
    "start_time": "2024-02-18T20:40:05.314Z"
   },
   {
    "duration": 243620,
    "start_time": "2024-02-18T20:41:25.916Z"
   },
   {
    "duration": 10,
    "start_time": "2024-02-18T20:47:46.264Z"
   },
   {
    "duration": 71,
    "start_time": "2024-02-18T20:47:51.018Z"
   },
   {
    "duration": 91,
    "start_time": "2024-02-18T20:47:57.141Z"
   },
   {
    "duration": 3,
    "start_time": "2024-02-18T20:48:02.706Z"
   },
   {
    "duration": 1272941,
    "start_time": "2024-02-18T20:48:06.486Z"
   },
   {
    "duration": 4,
    "start_time": "2024-02-18T21:09:48.707Z"
   },
   {
    "duration": 3,
    "start_time": "2024-02-18T21:10:38.615Z"
   },
   {
    "duration": 1553,
    "start_time": "2024-02-18T21:15:23.869Z"
   },
   {
    "duration": 40,
    "start_time": "2024-02-18T21:15:26.333Z"
   },
   {
    "duration": 901,
    "start_time": "2024-02-18T21:15:27.200Z"
   },
   {
    "duration": 65,
    "start_time": "2024-02-18T21:15:28.103Z"
   },
   {
    "duration": 38,
    "start_time": "2024-02-18T21:15:28.170Z"
   },
   {
    "duration": 59,
    "start_time": "2024-02-18T21:15:28.411Z"
   },
   {
    "duration": 45,
    "start_time": "2024-02-18T21:15:28.724Z"
   },
   {
    "duration": 4,
    "start_time": "2024-02-18T21:15:28.908Z"
   },
   {
    "duration": 2084,
    "start_time": "2024-02-18T21:15:29.383Z"
   },
   {
    "duration": 8,
    "start_time": "2024-02-18T21:15:31.469Z"
   },
   {
    "duration": 44,
    "start_time": "2024-02-18T21:15:31.478Z"
   },
   {
    "duration": 57,
    "start_time": "2024-02-18T21:15:31.524Z"
   },
   {
    "duration": 5,
    "start_time": "2024-02-18T21:15:31.713Z"
   },
   {
    "duration": 5,
    "start_time": "2024-02-18T21:15:32.744Z"
   },
   {
    "duration": 20,
    "start_time": "2024-02-18T21:15:34.498Z"
   },
   {
    "duration": 9,
    "start_time": "2024-02-18T21:15:34.900Z"
   },
   {
    "duration": 7,
    "start_time": "2024-02-18T21:15:35.100Z"
   },
   {
    "duration": 10,
    "start_time": "2024-02-18T21:15:35.311Z"
   },
   {
    "duration": 16,
    "start_time": "2024-02-18T21:15:35.588Z"
   },
   {
    "duration": 32,
    "start_time": "2024-02-18T21:15:35.835Z"
   },
   {
    "duration": 5,
    "start_time": "2024-02-18T21:15:36.230Z"
   },
   {
    "duration": 7,
    "start_time": "2024-02-18T21:15:36.470Z"
   },
   {
    "duration": 8,
    "start_time": "2024-02-18T21:15:36.628Z"
   },
   {
    "duration": 7,
    "start_time": "2024-02-18T21:15:36.848Z"
   },
   {
    "duration": 7,
    "start_time": "2024-02-18T21:15:37.052Z"
   },
   {
    "duration": 48,
    "start_time": "2024-02-18T21:15:37.688Z"
   },
   {
    "duration": 13,
    "start_time": "2024-02-18T21:15:38.261Z"
   },
   {
    "duration": 12,
    "start_time": "2024-02-18T21:15:38.661Z"
   },
   {
    "duration": 132,
    "start_time": "2024-02-18T21:15:39.112Z"
   },
   {
    "duration": 878,
    "start_time": "2024-02-18T21:15:43.670Z"
   },
   {
    "duration": 794,
    "start_time": "2024-02-18T21:15:45.822Z"
   },
   {
    "duration": 885,
    "start_time": "2024-02-18T21:15:47.804Z"
   },
   {
    "duration": 788,
    "start_time": "2024-02-18T21:15:49.312Z"
   },
   {
    "duration": 504,
    "start_time": "2024-02-18T21:15:52.408Z"
   },
   {
    "duration": 388,
    "start_time": "2024-02-18T21:15:52.975Z"
   },
   {
    "duration": 184,
    "start_time": "2024-02-18T21:15:53.365Z"
   },
   {
    "duration": 362,
    "start_time": "2024-02-18T21:15:53.551Z"
   },
   {
    "duration": 255,
    "start_time": "2024-02-18T21:15:55.711Z"
   },
   {
    "duration": 245,
    "start_time": "2024-02-18T21:15:56.195Z"
   },
   {
    "duration": 405,
    "start_time": "2024-02-18T21:15:56.753Z"
   },
   {
    "duration": 251,
    "start_time": "2024-02-18T21:15:57.418Z"
   },
   {
    "duration": 5,
    "start_time": "2024-02-18T21:15:58.155Z"
   },
   {
    "duration": 34,
    "start_time": "2024-02-18T21:15:58.669Z"
   },
   {
    "duration": 4,
    "start_time": "2024-02-18T21:15:58.901Z"
   },
   {
    "duration": 23,
    "start_time": "2024-02-18T21:15:59.218Z"
   },
   {
    "duration": 4,
    "start_time": "2024-02-18T21:15:59.912Z"
   },
   {
    "duration": 4,
    "start_time": "2024-02-18T21:16:04.100Z"
   },
   {
    "duration": 12745,
    "start_time": "2024-02-18T21:16:09.320Z"
   },
   {
    "duration": 12396,
    "start_time": "2024-02-18T21:16:34.362Z"
   },
   {
    "duration": 6,
    "start_time": "2024-02-18T21:16:46.760Z"
   },
   {
    "duration": 20850,
    "start_time": "2024-02-18T21:18:01.945Z"
   },
   {
    "duration": 167640,
    "start_time": "2024-02-18T21:19:09.645Z"
   },
   {
    "duration": 4,
    "start_time": "2024-02-18T21:21:57.287Z"
   },
   {
    "duration": 1588,
    "start_time": "2024-02-18T21:27:55.984Z"
   },
   {
    "duration": 49,
    "start_time": "2024-02-18T21:27:59.833Z"
   },
   {
    "duration": 910,
    "start_time": "2024-02-18T21:28:00.899Z"
   },
   {
    "duration": 71,
    "start_time": "2024-02-18T21:28:01.811Z"
   },
   {
    "duration": 39,
    "start_time": "2024-02-18T21:28:02.038Z"
   },
   {
    "duration": 60,
    "start_time": "2024-02-18T21:28:02.343Z"
   },
   {
    "duration": 44,
    "start_time": "2024-02-18T21:28:02.701Z"
   },
   {
    "duration": 4,
    "start_time": "2024-02-18T21:28:02.955Z"
   },
   {
    "duration": 2121,
    "start_time": "2024-02-18T21:28:03.501Z"
   },
   {
    "duration": 8,
    "start_time": "2024-02-18T21:28:05.624Z"
   },
   {
    "duration": 7,
    "start_time": "2024-02-18T21:28:05.633Z"
   },
   {
    "duration": 7,
    "start_time": "2024-02-18T21:28:06.007Z"
   },
   {
    "duration": 5,
    "start_time": "2024-02-18T21:28:06.567Z"
   },
   {
    "duration": 4,
    "start_time": "2024-02-18T21:28:07.915Z"
   },
   {
    "duration": 17,
    "start_time": "2024-02-18T21:28:10.356Z"
   },
   {
    "duration": 9,
    "start_time": "2024-02-18T21:28:10.915Z"
   },
   {
    "duration": 7,
    "start_time": "2024-02-18T21:28:11.255Z"
   },
   {
    "duration": 10,
    "start_time": "2024-02-18T21:28:11.552Z"
   },
   {
    "duration": 16,
    "start_time": "2024-02-18T21:28:11.774Z"
   },
   {
    "duration": 30,
    "start_time": "2024-02-18T21:28:12.363Z"
   },
   {
    "duration": 4,
    "start_time": "2024-02-18T21:28:12.989Z"
   },
   {
    "duration": 9,
    "start_time": "2024-02-18T21:28:13.292Z"
   },
   {
    "duration": 7,
    "start_time": "2024-02-18T21:28:13.609Z"
   },
   {
    "duration": 8,
    "start_time": "2024-02-18T21:28:13.904Z"
   },
   {
    "duration": 7,
    "start_time": "2024-02-18T21:28:14.190Z"
   },
   {
    "duration": 49,
    "start_time": "2024-02-18T21:28:15.139Z"
   },
   {
    "duration": 13,
    "start_time": "2024-02-18T21:28:16.690Z"
   },
   {
    "duration": 13,
    "start_time": "2024-02-18T21:28:17.632Z"
   },
   {
    "duration": 148,
    "start_time": "2024-02-18T21:28:18.211Z"
   },
   {
    "duration": 6,
    "start_time": "2024-02-18T21:28:44.748Z"
   },
   {
    "duration": 866,
    "start_time": "2024-02-18T21:28:50.517Z"
   },
   {
    "duration": 788,
    "start_time": "2024-02-18T21:28:52.493Z"
   },
   {
    "duration": 852,
    "start_time": "2024-02-18T21:28:53.283Z"
   },
   {
    "duration": 828,
    "start_time": "2024-02-18T21:28:54.138Z"
   },
   {
    "duration": 522,
    "start_time": "2024-02-18T21:28:55.156Z"
   },
   {
    "duration": 383,
    "start_time": "2024-02-18T21:28:56.004Z"
   },
   {
    "duration": 171,
    "start_time": "2024-02-18T21:28:56.389Z"
   },
   {
    "duration": 377,
    "start_time": "2024-02-18T21:28:56.741Z"
   },
   {
    "duration": 260,
    "start_time": "2024-02-18T21:29:00.190Z"
   },
   {
    "duration": 244,
    "start_time": "2024-02-18T21:29:00.997Z"
   },
   {
    "duration": 381,
    "start_time": "2024-02-18T21:29:01.702Z"
   },
   {
    "duration": 247,
    "start_time": "2024-02-18T21:29:02.392Z"
   },
   {
    "duration": 4,
    "start_time": "2024-02-18T21:29:03.094Z"
   },
   {
    "duration": 34,
    "start_time": "2024-02-18T21:29:03.579Z"
   },
   {
    "duration": 4,
    "start_time": "2024-02-18T21:29:03.949Z"
   },
   {
    "duration": 20,
    "start_time": "2024-02-18T21:29:04.246Z"
   },
   {
    "duration": 4,
    "start_time": "2024-02-18T21:29:04.581Z"
   },
   {
    "duration": 3,
    "start_time": "2024-02-18T21:29:08.677Z"
   },
   {
    "duration": 12097,
    "start_time": "2024-02-18T21:29:12.465Z"
   },
   {
    "duration": 13178,
    "start_time": "2024-02-18T21:29:29.582Z"
   },
   {
    "duration": 4,
    "start_time": "2024-02-18T21:29:42.762Z"
   },
   {
    "duration": 10,
    "start_time": "2024-02-18T21:29:59.767Z"
   },
   {
    "duration": 4,
    "start_time": "2024-02-18T21:30:04.639Z"
   },
   {
    "duration": 9,
    "start_time": "2024-02-18T21:30:07.095Z"
   },
   {
    "duration": 1632,
    "start_time": "2024-02-18T21:37:13.238Z"
   },
   {
    "duration": 38,
    "start_time": "2024-02-18T21:37:16.081Z"
   },
   {
    "duration": 936,
    "start_time": "2024-02-18T21:37:16.808Z"
   },
   {
    "duration": 63,
    "start_time": "2024-02-18T21:37:17.961Z"
   },
   {
    "duration": 45,
    "start_time": "2024-02-18T21:37:18.332Z"
   },
   {
    "duration": 60,
    "start_time": "2024-02-18T21:37:18.580Z"
   },
   {
    "duration": 46,
    "start_time": "2024-02-18T21:37:18.985Z"
   },
   {
    "duration": 3,
    "start_time": "2024-02-18T21:37:19.333Z"
   },
   {
    "duration": 2077,
    "start_time": "2024-02-18T21:37:19.939Z"
   },
   {
    "duration": 7,
    "start_time": "2024-02-18T21:37:22.018Z"
   },
   {
    "duration": 7,
    "start_time": "2024-02-18T21:37:22.305Z"
   },
   {
    "duration": 8,
    "start_time": "2024-02-18T21:37:23.089Z"
   },
   {
    "duration": 5,
    "start_time": "2024-02-18T21:37:24.068Z"
   },
   {
    "duration": 5,
    "start_time": "2024-02-18T21:37:25.713Z"
   },
   {
    "duration": 18,
    "start_time": "2024-02-18T21:37:28.437Z"
   },
   {
    "duration": 10,
    "start_time": "2024-02-18T21:37:29.119Z"
   },
   {
    "duration": 8,
    "start_time": "2024-02-18T21:37:29.520Z"
   },
   {
    "duration": 10,
    "start_time": "2024-02-18T21:37:29.912Z"
   },
   {
    "duration": 16,
    "start_time": "2024-02-18T21:37:30.095Z"
   },
   {
    "duration": 32,
    "start_time": "2024-02-18T21:37:30.717Z"
   },
   {
    "duration": 4,
    "start_time": "2024-02-18T21:37:31.313Z"
   },
   {
    "duration": 7,
    "start_time": "2024-02-18T21:37:31.528Z"
   },
   {
    "duration": 7,
    "start_time": "2024-02-18T21:37:31.825Z"
   },
   {
    "duration": 7,
    "start_time": "2024-02-18T21:37:32.096Z"
   },
   {
    "duration": 6,
    "start_time": "2024-02-18T21:37:32.358Z"
   },
   {
    "duration": 48,
    "start_time": "2024-02-18T21:37:33.150Z"
   },
   {
    "duration": 13,
    "start_time": "2024-02-18T21:37:33.928Z"
   },
   {
    "duration": 12,
    "start_time": "2024-02-18T21:37:34.411Z"
   },
   {
    "duration": 5,
    "start_time": "2024-02-18T21:37:34.953Z"
   },
   {
    "duration": 884,
    "start_time": "2024-02-18T21:37:38.304Z"
   },
   {
    "duration": 786,
    "start_time": "2024-02-18T21:37:39.189Z"
   },
   {
    "duration": 865,
    "start_time": "2024-02-18T21:37:39.989Z"
   },
   {
    "duration": 785,
    "start_time": "2024-02-18T21:37:41.400Z"
   },
   {
    "duration": 515,
    "start_time": "2024-02-18T21:37:44.371Z"
   },
   {
    "duration": 404,
    "start_time": "2024-02-18T21:37:45.022Z"
   },
   {
    "duration": 160,
    "start_time": "2024-02-18T21:37:45.494Z"
   },
   {
    "duration": 369,
    "start_time": "2024-02-18T21:37:45.841Z"
   },
   {
    "duration": 247,
    "start_time": "2024-02-18T21:37:48.435Z"
   },
   {
    "duration": 232,
    "start_time": "2024-02-18T21:37:49.484Z"
   },
   {
    "duration": 379,
    "start_time": "2024-02-18T21:37:50.321Z"
   },
   {
    "duration": 246,
    "start_time": "2024-02-18T21:37:51.162Z"
   },
   {
    "duration": 4,
    "start_time": "2024-02-18T21:37:52.006Z"
   },
   {
    "duration": 35,
    "start_time": "2024-02-18T21:37:52.399Z"
   },
   {
    "duration": 4,
    "start_time": "2024-02-18T21:37:52.963Z"
   },
   {
    "duration": 19,
    "start_time": "2024-02-18T21:37:53.274Z"
   },
   {
    "duration": 4,
    "start_time": "2024-02-18T21:37:53.759Z"
   },
   {
    "duration": 3,
    "start_time": "2024-02-18T21:37:58.125Z"
   },
   {
    "duration": 3,
    "start_time": "2024-02-18T21:38:10.182Z"
   },
   {
    "duration": 0,
    "start_time": "2024-02-18T21:42:14.016Z"
   },
   {
    "duration": 0,
    "start_time": "2024-02-18T21:42:14.017Z"
   },
   {
    "duration": 226348,
    "start_time": "2024-02-18T21:42:15.226Z"
   },
   {
    "duration": 4,
    "start_time": "2024-02-18T21:46:46.965Z"
   },
   {
    "duration": 91300,
    "start_time": "2024-02-18T21:46:58.954Z"
   },
   {
    "duration": 3,
    "start_time": "2024-02-18T21:48:30.256Z"
   },
   {
    "duration": 97007,
    "start_time": "2024-02-18T21:48:30.261Z"
   },
   {
    "duration": 6,
    "start_time": "2024-02-18T21:50:33.013Z"
   },
   {
    "duration": 5,
    "start_time": "2024-02-18T21:50:52.821Z"
   },
   {
    "duration": 3,
    "start_time": "2024-02-18T21:52:21.594Z"
   },
   {
    "duration": 638950,
    "start_time": "2024-02-18T21:52:25.166Z"
   },
   {
    "duration": 4,
    "start_time": "2024-02-18T22:03:04.118Z"
   },
   {
    "duration": 4,
    "start_time": "2024-02-18T22:04:05.882Z"
   },
   {
    "duration": 36886,
    "start_time": "2024-02-18T22:04:12.069Z"
   },
   {
    "duration": 15,
    "start_time": "2024-02-18T22:09:04.431Z"
   },
   {
    "duration": 12057,
    "start_time": "2024-02-18T22:09:29.110Z"
   },
   {
    "duration": 12557,
    "start_time": "2024-02-18T22:09:46.903Z"
   },
   {
    "duration": 22,
    "start_time": "2024-02-18T22:10:13.841Z"
   },
   {
    "duration": 11,
    "start_time": "2024-02-18T22:11:13.372Z"
   },
   {
    "duration": 21,
    "start_time": "2024-02-18T22:12:05.228Z"
   },
   {
    "duration": 21,
    "start_time": "2024-02-18T22:12:29.814Z"
   },
   {
    "duration": 29,
    "start_time": "2024-02-18T22:13:23.591Z"
   },
   {
    "duration": 21,
    "start_time": "2024-02-18T22:14:15.563Z"
   },
   {
    "duration": 7,
    "start_time": "2024-02-18T22:14:59.924Z"
   },
   {
    "duration": 6,
    "start_time": "2024-02-18T22:15:10.521Z"
   },
   {
    "duration": 7,
    "start_time": "2024-02-18T22:15:37.574Z"
   },
   {
    "duration": 7034,
    "start_time": "2024-02-18T22:15:46.128Z"
   },
   {
    "duration": 6692,
    "start_time": "2024-02-18T22:26:50.668Z"
   },
   {
    "duration": 1519,
    "start_time": "2024-02-18T22:27:32.799Z"
   },
   {
    "duration": 41,
    "start_time": "2024-02-18T22:27:34.320Z"
   },
   {
    "duration": 874,
    "start_time": "2024-02-18T22:27:34.363Z"
   },
   {
    "duration": 65,
    "start_time": "2024-02-18T22:27:35.240Z"
   },
   {
    "duration": 35,
    "start_time": "2024-02-18T22:27:35.307Z"
   },
   {
    "duration": 56,
    "start_time": "2024-02-18T22:27:35.500Z"
   },
   {
    "duration": 40,
    "start_time": "2024-02-18T22:27:35.717Z"
   },
   {
    "duration": 4,
    "start_time": "2024-02-18T22:27:36.048Z"
   },
   {
    "duration": 2054,
    "start_time": "2024-02-18T22:27:36.440Z"
   },
   {
    "duration": 7,
    "start_time": "2024-02-18T22:27:38.496Z"
   },
   {
    "duration": 8,
    "start_time": "2024-02-18T22:27:38.505Z"
   },
   {
    "duration": 28,
    "start_time": "2024-02-18T22:27:38.540Z"
   },
   {
    "duration": 5,
    "start_time": "2024-02-18T22:27:38.989Z"
   },
   {
    "duration": 5,
    "start_time": "2024-02-18T22:27:40.158Z"
   },
   {
    "duration": 18,
    "start_time": "2024-02-18T22:27:42.184Z"
   },
   {
    "duration": 9,
    "start_time": "2024-02-18T22:27:42.667Z"
   },
   {
    "duration": 7,
    "start_time": "2024-02-18T22:27:42.867Z"
   },
   {
    "duration": 10,
    "start_time": "2024-02-18T22:27:43.100Z"
   },
   {
    "duration": 15,
    "start_time": "2024-02-18T22:27:43.333Z"
   },
   {
    "duration": 31,
    "start_time": "2024-02-18T22:27:43.819Z"
   },
   {
    "duration": 4,
    "start_time": "2024-02-18T22:27:44.283Z"
   },
   {
    "duration": 7,
    "start_time": "2024-02-18T22:27:44.540Z"
   },
   {
    "duration": 6,
    "start_time": "2024-02-18T22:27:44.805Z"
   },
   {
    "duration": 7,
    "start_time": "2024-02-18T22:27:44.974Z"
   },
   {
    "duration": 6,
    "start_time": "2024-02-18T22:27:45.229Z"
   },
   {
    "duration": 48,
    "start_time": "2024-02-18T22:27:45.899Z"
   },
   {
    "duration": 12,
    "start_time": "2024-02-18T22:27:46.585Z"
   },
   {
    "duration": 13,
    "start_time": "2024-02-18T22:27:47.029Z"
   },
   {
    "duration": 7,
    "start_time": "2024-02-18T22:27:47.501Z"
   },
   {
    "duration": 866,
    "start_time": "2024-02-18T22:27:49.937Z"
   },
   {
    "duration": 781,
    "start_time": "2024-02-18T22:27:50.805Z"
   },
   {
    "duration": 893,
    "start_time": "2024-02-18T22:27:51.588Z"
   },
   {
    "duration": 813,
    "start_time": "2024-02-18T22:27:52.483Z"
   },
   {
    "duration": 491,
    "start_time": "2024-02-18T22:27:53.299Z"
   },
   {
    "duration": 404,
    "start_time": "2024-02-18T22:27:53.792Z"
   },
   {
    "duration": 170,
    "start_time": "2024-02-18T22:27:54.198Z"
   },
   {
    "duration": 335,
    "start_time": "2024-02-18T22:27:54.370Z"
   },
   {
    "duration": 247,
    "start_time": "2024-02-18T22:27:55.773Z"
   },
   {
    "duration": 241,
    "start_time": "2024-02-18T22:27:56.239Z"
   },
   {
    "duration": 398,
    "start_time": "2024-02-18T22:27:56.658Z"
   },
   {
    "duration": 269,
    "start_time": "2024-02-18T22:27:57.115Z"
   },
   {
    "duration": 3,
    "start_time": "2024-02-18T22:27:57.570Z"
   },
   {
    "duration": 37,
    "start_time": "2024-02-18T22:27:57.859Z"
   },
   {
    "duration": 4,
    "start_time": "2024-02-18T22:27:58.009Z"
   },
   {
    "duration": 19,
    "start_time": "2024-02-18T22:27:58.263Z"
   },
   {
    "duration": 5,
    "start_time": "2024-02-18T22:27:58.464Z"
   },
   {
    "duration": 3,
    "start_time": "2024-02-18T22:28:00.394Z"
   },
   {
    "duration": 14267,
    "start_time": "2024-02-18T22:28:02.597Z"
   },
   {
    "duration": 14093,
    "start_time": "2024-02-18T22:28:16.867Z"
   },
   {
    "duration": 5,
    "start_time": "2024-02-18T22:28:30.962Z"
   },
   {
    "duration": 41,
    "start_time": "2024-02-18T22:28:30.969Z"
   },
   {
    "duration": 229228,
    "start_time": "2024-02-18T22:28:31.011Z"
   },
   {
    "duration": 3,
    "start_time": "2024-02-18T22:32:20.241Z"
   },
   {
    "duration": 650754,
    "start_time": "2024-02-18T22:32:20.246Z"
   },
   {
    "duration": 5,
    "start_time": "2024-02-18T22:43:11.001Z"
   },
   {
    "duration": 99,
    "start_time": "2024-02-19T19:03:18.239Z"
   },
   {
    "duration": 14566,
    "start_time": "2024-02-19T19:05:10.830Z"
   },
   {
    "duration": 45,
    "start_time": "2024-02-19T20:33:42.655Z"
   },
   {
    "duration": 1665,
    "start_time": "2024-02-19T20:33:49.850Z"
   },
   {
    "duration": 58,
    "start_time": "2024-02-19T20:33:51.516Z"
   },
   {
    "duration": 3189,
    "start_time": "2024-02-19T20:33:51.576Z"
   },
   {
    "duration": 51,
    "start_time": "2024-02-19T20:33:54.767Z"
   },
   {
    "duration": 36,
    "start_time": "2024-02-19T20:33:54.819Z"
   },
   {
    "duration": 62,
    "start_time": "2024-02-19T20:33:54.856Z"
   },
   {
    "duration": 51,
    "start_time": "2024-02-19T20:33:54.919Z"
   },
   {
    "duration": 3,
    "start_time": "2024-02-19T20:33:54.972Z"
   },
   {
    "duration": 1898,
    "start_time": "2024-02-19T20:33:54.977Z"
   },
   {
    "duration": 7,
    "start_time": "2024-02-19T20:33:56.876Z"
   },
   {
    "duration": 5,
    "start_time": "2024-02-19T20:33:56.885Z"
   },
   {
    "duration": 6,
    "start_time": "2024-02-19T20:33:56.892Z"
   },
   {
    "duration": 6,
    "start_time": "2024-02-19T20:33:57.296Z"
   },
   {
    "duration": 4,
    "start_time": "2024-02-19T20:33:58.655Z"
   },
   {
    "duration": 17,
    "start_time": "2024-02-19T20:34:01.259Z"
   },
   {
    "duration": 9,
    "start_time": "2024-02-19T20:34:01.525Z"
   },
   {
    "duration": 17,
    "start_time": "2024-02-19T20:34:01.557Z"
   },
   {
    "duration": 10,
    "start_time": "2024-02-19T20:34:01.747Z"
   },
   {
    "duration": 15,
    "start_time": "2024-02-19T20:34:01.984Z"
   },
   {
    "duration": 29,
    "start_time": "2024-02-19T20:34:02.625Z"
   },
   {
    "duration": 4,
    "start_time": "2024-02-19T20:34:03.859Z"
   },
   {
    "duration": 10,
    "start_time": "2024-02-19T20:34:03.865Z"
   },
   {
    "duration": 6,
    "start_time": "2024-02-19T20:34:03.877Z"
   },
   {
    "duration": 11,
    "start_time": "2024-02-19T20:34:03.885Z"
   },
   {
    "duration": 6,
    "start_time": "2024-02-19T20:34:03.912Z"
   },
   {
    "duration": 45,
    "start_time": "2024-02-19T20:34:04.701Z"
   },
   {
    "duration": 12,
    "start_time": "2024-02-19T20:34:05.291Z"
   },
   {
    "duration": 14,
    "start_time": "2024-02-19T20:34:05.927Z"
   },
   {
    "duration": 7,
    "start_time": "2024-02-19T20:34:06.254Z"
   },
   {
    "duration": 769,
    "start_time": "2024-02-19T20:34:10.638Z"
   },
   {
    "duration": 709,
    "start_time": "2024-02-19T20:34:11.409Z"
   },
   {
    "duration": 778,
    "start_time": "2024-02-19T20:34:12.120Z"
   },
   {
    "duration": 727,
    "start_time": "2024-02-19T20:34:12.900Z"
   },
   {
    "duration": 490,
    "start_time": "2024-02-19T20:34:14.757Z"
   },
   {
    "duration": 397,
    "start_time": "2024-02-19T20:34:15.249Z"
   },
   {
    "duration": 162,
    "start_time": "2024-02-19T20:34:15.648Z"
   },
   {
    "duration": 407,
    "start_time": "2024-02-19T20:34:15.811Z"
   },
   {
    "duration": 227,
    "start_time": "2024-02-19T20:34:17.879Z"
   },
   {
    "duration": 221,
    "start_time": "2024-02-19T20:34:18.478Z"
   },
   {
    "duration": 366,
    "start_time": "2024-02-19T20:34:18.912Z"
   },
   {
    "duration": 255,
    "start_time": "2024-02-19T20:34:19.714Z"
   },
   {
    "duration": 4,
    "start_time": "2024-02-19T20:34:20.409Z"
   },
   {
    "duration": 32,
    "start_time": "2024-02-19T20:34:20.612Z"
   },
   {
    "duration": 4,
    "start_time": "2024-02-19T20:34:20.981Z"
   },
   {
    "duration": 18,
    "start_time": "2024-02-19T20:34:21.181Z"
   },
   {
    "duration": 4,
    "start_time": "2024-02-19T20:34:21.522Z"
   },
   {
    "duration": 4,
    "start_time": "2024-02-19T20:34:24.718Z"
   },
   {
    "duration": 4,
    "start_time": "2024-02-19T20:36:06.763Z"
   },
   {
    "duration": 4,
    "start_time": "2024-02-19T20:56:27.287Z"
   },
   {
    "duration": 4,
    "start_time": "2024-02-19T20:58:23.327Z"
   },
   {
    "duration": 86,
    "start_time": "2024-02-19T21:00:26.306Z"
   },
   {
    "duration": 4,
    "start_time": "2024-02-19T21:01:48.148Z"
   },
   {
    "duration": 14,
    "start_time": "2024-02-19T21:01:57.353Z"
   },
   {
    "duration": 5,
    "start_time": "2024-02-19T21:02:11.993Z"
   },
   {
    "duration": 14,
    "start_time": "2024-02-19T21:02:36.991Z"
   },
   {
    "duration": 17,
    "start_time": "2024-02-19T21:03:29.628Z"
   },
   {
    "duration": 14,
    "start_time": "2024-02-19T21:04:01.904Z"
   },
   {
    "duration": 13,
    "start_time": "2024-02-19T21:05:21.516Z"
   },
   {
    "duration": 15,
    "start_time": "2024-02-19T21:05:28.345Z"
   },
   {
    "duration": 14,
    "start_time": "2024-02-19T21:08:21.801Z"
   },
   {
    "duration": 47,
    "start_time": "2024-02-19T21:08:34.995Z"
   },
   {
    "duration": 0,
    "start_time": "2024-02-19T21:08:35.043Z"
   },
   {
    "duration": 0,
    "start_time": "2024-02-19T21:08:35.045Z"
   },
   {
    "duration": 0,
    "start_time": "2024-02-19T21:08:35.046Z"
   },
   {
    "duration": 6,
    "start_time": "2024-02-19T21:08:35.117Z"
   },
   {
    "duration": 6,
    "start_time": "2024-02-19T21:08:35.697Z"
   },
   {
    "duration": 1406,
    "start_time": "2024-02-19T21:08:48.071Z"
   },
   {
    "duration": 66,
    "start_time": "2024-02-19T21:08:49.478Z"
   },
   {
    "duration": 831,
    "start_time": "2024-02-19T21:08:49.545Z"
   },
   {
    "duration": 68,
    "start_time": "2024-02-19T21:08:50.377Z"
   },
   {
    "duration": 34,
    "start_time": "2024-02-19T21:08:50.536Z"
   },
   {
    "duration": 54,
    "start_time": "2024-02-19T21:08:50.714Z"
   },
   {
    "duration": 41,
    "start_time": "2024-02-19T21:08:50.992Z"
   },
   {
    "duration": 4,
    "start_time": "2024-02-19T21:08:51.134Z"
   },
   {
    "duration": 1920,
    "start_time": "2024-02-19T21:08:51.576Z"
   },
   {
    "duration": 8,
    "start_time": "2024-02-19T21:09:06.508Z"
   },
   {
    "duration": 7,
    "start_time": "2024-02-19T21:09:07.187Z"
   },
   {
    "duration": 8,
    "start_time": "2024-02-19T21:09:07.882Z"
   },
   {
    "duration": 5,
    "start_time": "2024-02-19T21:09:08.371Z"
   },
   {
    "duration": 4,
    "start_time": "2024-02-19T21:09:09.845Z"
   },
   {
    "duration": 17,
    "start_time": "2024-02-19T21:09:12.237Z"
   },
   {
    "duration": 10,
    "start_time": "2024-02-19T21:09:12.628Z"
   },
   {
    "duration": 7,
    "start_time": "2024-02-19T21:09:12.864Z"
   },
   {
    "duration": 9,
    "start_time": "2024-02-19T21:09:13.053Z"
   },
   {
    "duration": 15,
    "start_time": "2024-02-19T21:09:13.292Z"
   },
   {
    "duration": 31,
    "start_time": "2024-02-19T21:09:13.766Z"
   },
   {
    "duration": 4,
    "start_time": "2024-02-19T21:09:14.067Z"
   },
   {
    "duration": 9,
    "start_time": "2024-02-19T21:09:14.282Z"
   },
   {
    "duration": 7,
    "start_time": "2024-02-19T21:09:14.485Z"
   },
   {
    "duration": 6,
    "start_time": "2024-02-19T21:09:14.816Z"
   },
   {
    "duration": 5,
    "start_time": "2024-02-19T21:09:14.970Z"
   },
   {
    "duration": 49,
    "start_time": "2024-02-19T21:09:15.516Z"
   },
   {
    "duration": 14,
    "start_time": "2024-02-19T21:09:16.134Z"
   },
   {
    "duration": 14,
    "start_time": "2024-02-19T21:09:16.521Z"
   },
   {
    "duration": 8,
    "start_time": "2024-02-19T21:09:16.919Z"
   },
   {
    "duration": 799,
    "start_time": "2024-02-19T21:09:19.602Z"
   },
   {
    "duration": 728,
    "start_time": "2024-02-19T21:09:20.403Z"
   },
   {
    "duration": 795,
    "start_time": "2024-02-19T21:09:21.133Z"
   },
   {
    "duration": 741,
    "start_time": "2024-02-19T21:09:21.929Z"
   },
   {
    "duration": 483,
    "start_time": "2024-02-19T21:09:22.699Z"
   },
   {
    "duration": 381,
    "start_time": "2024-02-19T21:09:23.184Z"
   },
   {
    "duration": 158,
    "start_time": "2024-02-19T21:09:23.569Z"
   },
   {
    "duration": 371,
    "start_time": "2024-02-19T21:09:23.729Z"
   },
   {
    "duration": 234,
    "start_time": "2024-02-19T21:09:26.475Z"
   },
   {
    "duration": 233,
    "start_time": "2024-02-19T21:09:26.711Z"
   },
   {
    "duration": 339,
    "start_time": "2024-02-19T21:09:27.431Z"
   },
   {
    "duration": 252,
    "start_time": "2024-02-19T21:09:27.969Z"
   },
   {
    "duration": 4,
    "start_time": "2024-02-19T21:09:28.842Z"
   },
   {
    "duration": 34,
    "start_time": "2024-02-19T21:09:29.114Z"
   },
   {
    "duration": 4,
    "start_time": "2024-02-19T21:09:29.389Z"
   },
   {
    "duration": 18,
    "start_time": "2024-02-19T21:09:30.226Z"
   },
   {
    "duration": 3,
    "start_time": "2024-02-19T21:09:30.558Z"
   },
   {
    "duration": 3,
    "start_time": "2024-02-19T21:09:35.625Z"
   },
   {
    "duration": 4,
    "start_time": "2024-02-19T21:09:37.136Z"
   },
   {
    "duration": 3,
    "start_time": "2024-02-19T21:09:37.854Z"
   },
   {
    "duration": 117,
    "start_time": "2024-02-19T21:09:38.837Z"
   },
   {
    "duration": 6,
    "start_time": "2024-02-19T21:10:01.072Z"
   },
   {
    "duration": 13,
    "start_time": "2024-02-19T21:10:21.853Z"
   },
   {
    "duration": 5,
    "start_time": "2024-02-19T21:11:07.352Z"
   },
   {
    "duration": 8275,
    "start_time": "2024-02-19T21:11:13.696Z"
   },
   {
    "duration": 8506,
    "start_time": "2024-02-19T21:11:33.773Z"
   },
   {
    "duration": 7,
    "start_time": "2024-02-19T21:12:13.261Z"
   },
   {
    "duration": 13,
    "start_time": "2024-02-19T21:15:37.337Z"
   },
   {
    "duration": 2725,
    "start_time": "2024-02-19T21:16:06.945Z"
   },
   {
    "duration": 2538,
    "start_time": "2024-02-19T21:16:14.531Z"
   },
   {
    "duration": 14,
    "start_time": "2024-02-19T21:16:21.608Z"
   },
   {
    "duration": 2,
    "start_time": "2024-02-19T21:18:53.613Z"
   },
   {
    "duration": 166310,
    "start_time": "2024-02-19T21:18:54.555Z"
   },
   {
    "duration": 20327,
    "start_time": "2024-02-19T21:25:31.234Z"
   },
   {
    "duration": 21008,
    "start_time": "2024-02-19T21:27:40.686Z"
   },
   {
    "duration": 56924,
    "start_time": "2024-02-19T21:33:27.509Z"
   },
   {
    "duration": 342605,
    "start_time": "2024-02-19T21:38:23.979Z"
   },
   {
    "duration": 300479,
    "start_time": "2024-02-19T21:48:03.826Z"
   },
   {
    "duration": 22,
    "start_time": "2024-02-19T21:56:09.056Z"
   },
   {
    "duration": 4,
    "start_time": "2024-02-19T21:58:16.132Z"
   },
   {
    "duration": 218287,
    "start_time": "2024-02-19T21:58:37.449Z"
   },
   {
    "duration": 4,
    "start_time": "2024-02-19T22:02:15.738Z"
   },
   {
    "duration": 3,
    "start_time": "2024-02-19T22:03:34.288Z"
   },
   {
    "duration": 130883,
    "start_time": "2024-02-19T22:03:37.930Z"
   },
   {
    "duration": 4,
    "start_time": "2024-02-19T22:05:48.815Z"
   },
   {
    "duration": 120573,
    "start_time": "2024-02-19T22:07:59.742Z"
   },
   {
    "duration": 13,
    "start_time": "2024-02-19T22:12:28.030Z"
   },
   {
    "duration": 2929,
    "start_time": "2024-02-19T22:12:44.350Z"
   },
   {
    "duration": 311572,
    "start_time": "2024-02-19T22:13:31.897Z"
   },
   {
    "duration": 14,
    "start_time": "2024-02-19T22:21:58.839Z"
   },
   {
    "duration": 14,
    "start_time": "2024-02-19T22:22:29.337Z"
   },
   {
    "duration": 4,
    "start_time": "2024-02-19T22:23:06.471Z"
   },
   {
    "duration": 13,
    "start_time": "2024-02-19T22:23:36.575Z"
   },
   {
    "duration": 11,
    "start_time": "2024-02-19T22:23:37.337Z"
   },
   {
    "duration": 6,
    "start_time": "2024-02-19T22:23:55.527Z"
   },
   {
    "duration": 6,
    "start_time": "2024-02-19T22:24:56.897Z"
   },
   {
    "duration": 4,
    "start_time": "2024-02-19T22:25:09.793Z"
   },
   {
    "duration": 49,
    "start_time": "2024-02-19T22:25:34.376Z"
   },
   {
    "duration": 6,
    "start_time": "2024-02-19T22:27:54.966Z"
   },
   {
    "duration": 255620,
    "start_time": "2024-02-19T22:28:22.462Z"
   },
   {
    "duration": 2724,
    "start_time": "2024-02-19T22:32:54.447Z"
   },
   {
    "duration": 2594,
    "start_time": "2024-02-19T22:32:59.880Z"
   },
   {
    "duration": 18,
    "start_time": "2024-02-19T22:33:04.028Z"
   },
   {
    "duration": 121866,
    "start_time": "2024-02-19T22:40:14.200Z"
   },
   {
    "duration": 112,
    "start_time": "2024-02-19T22:43:09.370Z"
   },
   {
    "duration": 116,
    "start_time": "2024-02-19T22:43:18.710Z"
   },
   {
    "duration": 419061,
    "start_time": "2024-02-19T22:46:23.148Z"
   },
   {
    "duration": 1733,
    "start_time": "2024-02-19T22:56:31.983Z"
   },
   {
    "duration": 80,
    "start_time": "2024-02-19T22:56:33.717Z"
   },
   {
    "duration": 839,
    "start_time": "2024-02-19T22:56:33.799Z"
   },
   {
    "duration": 61,
    "start_time": "2024-02-19T22:56:34.640Z"
   },
   {
    "duration": 36,
    "start_time": "2024-02-19T22:56:34.702Z"
   },
   {
    "duration": 70,
    "start_time": "2024-02-19T22:56:34.739Z"
   },
   {
    "duration": 42,
    "start_time": "2024-02-19T22:56:35.142Z"
   },
   {
    "duration": 3,
    "start_time": "2024-02-19T22:56:35.236Z"
   },
   {
    "duration": 1919,
    "start_time": "2024-02-19T22:56:35.910Z"
   },
   {
    "duration": 7,
    "start_time": "2024-02-19T22:56:37.831Z"
   },
   {
    "duration": 6,
    "start_time": "2024-02-19T22:56:37.840Z"
   },
   {
    "duration": 7,
    "start_time": "2024-02-19T22:56:38.108Z"
   },
   {
    "duration": 5,
    "start_time": "2024-02-19T22:56:38.728Z"
   },
   {
    "duration": 4,
    "start_time": "2024-02-19T22:56:40.013Z"
   },
   {
    "duration": 16,
    "start_time": "2024-02-19T22:56:42.538Z"
   },
   {
    "duration": 9,
    "start_time": "2024-02-19T22:56:43.059Z"
   },
   {
    "duration": 7,
    "start_time": "2024-02-19T22:56:43.358Z"
   },
   {
    "duration": 9,
    "start_time": "2024-02-19T22:56:43.607Z"
   },
   {
    "duration": 15,
    "start_time": "2024-02-19T22:56:43.865Z"
   },
   {
    "duration": 28,
    "start_time": "2024-02-19T22:56:44.399Z"
   },
   {
    "duration": 4,
    "start_time": "2024-02-19T22:56:45.013Z"
   },
   {
    "duration": 6,
    "start_time": "2024-02-19T22:56:45.227Z"
   },
   {
    "duration": 6,
    "start_time": "2024-02-19T22:56:45.503Z"
   },
   {
    "duration": 6,
    "start_time": "2024-02-19T22:56:45.790Z"
   },
   {
    "duration": 5,
    "start_time": "2024-02-19T22:56:46.124Z"
   },
   {
    "duration": 42,
    "start_time": "2024-02-19T22:56:46.912Z"
   },
   {
    "duration": 12,
    "start_time": "2024-02-19T22:56:47.667Z"
   },
   {
    "duration": 11,
    "start_time": "2024-02-19T22:56:48.141Z"
   },
   {
    "duration": 6,
    "start_time": "2024-02-19T22:56:48.651Z"
   },
   {
    "duration": 769,
    "start_time": "2024-02-19T22:56:51.701Z"
   },
   {
    "duration": 698,
    "start_time": "2024-02-19T22:56:52.471Z"
   },
   {
    "duration": 765,
    "start_time": "2024-02-19T22:56:53.451Z"
   },
   {
    "duration": 721,
    "start_time": "2024-02-19T22:56:54.217Z"
   },
   {
    "duration": 454,
    "start_time": "2024-02-19T22:56:55.243Z"
   },
   {
    "duration": 357,
    "start_time": "2024-02-19T22:56:55.699Z"
   },
   {
    "duration": 159,
    "start_time": "2024-02-19T22:56:56.058Z"
   },
   {
    "duration": 385,
    "start_time": "2024-02-19T22:56:56.219Z"
   },
   {
    "duration": 222,
    "start_time": "2024-02-19T22:56:59.147Z"
   },
   {
    "duration": 221,
    "start_time": "2024-02-19T22:56:59.977Z"
   },
   {
    "duration": 325,
    "start_time": "2024-02-19T22:57:00.613Z"
   },
   {
    "duration": 214,
    "start_time": "2024-02-19T22:57:01.142Z"
   },
   {
    "duration": 3,
    "start_time": "2024-02-19T22:57:01.608Z"
   },
   {
    "duration": 31,
    "start_time": "2024-02-19T22:57:01.918Z"
   },
   {
    "duration": 5,
    "start_time": "2024-02-19T22:57:02.132Z"
   },
   {
    "duration": 20,
    "start_time": "2024-02-19T22:57:02.543Z"
   },
   {
    "duration": 3,
    "start_time": "2024-02-19T22:57:02.793Z"
   },
   {
    "duration": 4,
    "start_time": "2024-02-19T22:57:06.232Z"
   },
   {
    "duration": 6,
    "start_time": "2024-02-19T22:57:07.854Z"
   },
   {
    "duration": 8,
    "start_time": "2024-02-19T22:57:48.684Z"
   },
   {
    "duration": 4,
    "start_time": "2024-02-19T22:57:49.662Z"
   },
   {
    "duration": 6,
    "start_time": "2024-02-19T22:57:50.379Z"
   },
   {
    "duration": 5,
    "start_time": "2024-02-19T22:57:51.258Z"
   },
   {
    "duration": 48,
    "start_time": "2024-02-19T22:57:52.355Z"
   },
   {
    "duration": 2736,
    "start_time": "2024-02-19T22:58:07.336Z"
   },
   {
    "duration": 2365,
    "start_time": "2024-02-19T22:58:27.912Z"
   },
   {
    "duration": 21,
    "start_time": "2024-02-19T22:58:35.523Z"
   },
   {
    "duration": 3,
    "start_time": "2024-02-19T22:59:32.833Z"
   },
   {
    "duration": 423716,
    "start_time": "2024-02-19T22:59:47.069Z"
   },
   {
    "duration": 1543,
    "start_time": "2024-02-19T23:07:29.095Z"
   },
   {
    "duration": 59,
    "start_time": "2024-02-19T23:07:32.917Z"
   },
   {
    "duration": 837,
    "start_time": "2024-02-19T23:07:33.701Z"
   },
   {
    "duration": 60,
    "start_time": "2024-02-19T23:07:35.037Z"
   },
   {
    "duration": 35,
    "start_time": "2024-02-19T23:07:35.098Z"
   },
   {
    "duration": 54,
    "start_time": "2024-02-19T23:07:38.927Z"
   },
   {
    "duration": 38,
    "start_time": "2024-02-19T23:07:38.983Z"
   },
   {
    "duration": 4,
    "start_time": "2024-02-19T23:07:39.022Z"
   },
   {
    "duration": 1902,
    "start_time": "2024-02-19T23:07:45.844Z"
   },
   {
    "duration": 8,
    "start_time": "2024-02-19T23:07:47.748Z"
   },
   {
    "duration": 8,
    "start_time": "2024-02-19T23:07:47.769Z"
   },
   {
    "duration": 7,
    "start_time": "2024-02-19T23:08:45.286Z"
   },
   {
    "duration": 5,
    "start_time": "2024-02-19T23:08:46.527Z"
   },
   {
    "duration": 3,
    "start_time": "2024-02-19T23:08:50.106Z"
   },
   {
    "duration": 17,
    "start_time": "2024-02-19T23:08:53.466Z"
   },
   {
    "duration": 8,
    "start_time": "2024-02-19T23:08:53.484Z"
   },
   {
    "duration": 6,
    "start_time": "2024-02-19T23:08:56.700Z"
   },
   {
    "duration": 18,
    "start_time": "2024-02-19T23:08:56.708Z"
   },
   {
    "duration": 14,
    "start_time": "2024-02-19T23:08:56.728Z"
   },
   {
    "duration": 28,
    "start_time": "2024-02-19T23:08:56.744Z"
   },
   {
    "duration": 3,
    "start_time": "2024-02-19T23:08:57.811Z"
   },
   {
    "duration": 5,
    "start_time": "2024-02-19T23:08:58.202Z"
   },
   {
    "duration": 6,
    "start_time": "2024-02-19T23:08:58.308Z"
   },
   {
    "duration": 6,
    "start_time": "2024-02-19T23:08:59.463Z"
   },
   {
    "duration": 5,
    "start_time": "2024-02-19T23:08:59.471Z"
   },
   {
    "duration": 45,
    "start_time": "2024-02-19T23:08:59.478Z"
   },
   {
    "duration": 12,
    "start_time": "2024-02-19T23:09:00.533Z"
   },
   {
    "duration": 11,
    "start_time": "2024-02-19T23:09:01.166Z"
   },
   {
    "duration": 7,
    "start_time": "2024-02-19T23:09:01.382Z"
   },
   {
    "duration": 783,
    "start_time": "2024-02-19T23:09:04.793Z"
   },
   {
    "duration": 712,
    "start_time": "2024-02-19T23:09:05.579Z"
   },
   {
    "duration": 771,
    "start_time": "2024-02-19T23:09:06.688Z"
   },
   {
    "duration": 715,
    "start_time": "2024-02-19T23:09:07.642Z"
   },
   {
    "duration": 448,
    "start_time": "2024-02-19T23:09:09.989Z"
   },
   {
    "duration": 358,
    "start_time": "2024-02-19T23:09:11.058Z"
   },
   {
    "duration": 159,
    "start_time": "2024-02-19T23:09:11.418Z"
   },
   {
    "duration": 334,
    "start_time": "2024-02-19T23:09:11.579Z"
   },
   {
    "duration": 221,
    "start_time": "2024-02-19T23:09:14.748Z"
   },
   {
    "duration": 207,
    "start_time": "2024-02-19T23:09:15.236Z"
   },
   {
    "duration": 324,
    "start_time": "2024-02-19T23:09:15.912Z"
   },
   {
    "duration": 240,
    "start_time": "2024-02-19T23:09:16.553Z"
   },
   {
    "duration": 4,
    "start_time": "2024-02-19T23:09:17.231Z"
   },
   {
    "duration": 31,
    "start_time": "2024-02-19T23:09:17.537Z"
   },
   {
    "duration": 4,
    "start_time": "2024-02-19T23:09:17.716Z"
   },
   {
    "duration": 17,
    "start_time": "2024-02-19T23:09:18.315Z"
   },
   {
    "duration": 3,
    "start_time": "2024-02-19T23:09:18.373Z"
   },
   {
    "duration": 3,
    "start_time": "2024-02-19T23:09:59.104Z"
   },
   {
    "duration": 6,
    "start_time": "2024-02-19T23:10:00.597Z"
   },
   {
    "duration": 75,
    "start_time": "2024-02-19T23:10:02.466Z"
   },
   {
    "duration": 3,
    "start_time": "2024-02-19T23:10:02.934Z"
   },
   {
    "duration": 6,
    "start_time": "2024-02-19T23:10:04.204Z"
   },
   {
    "duration": 8,
    "start_time": "2024-02-19T23:10:04.212Z"
   },
   {
    "duration": 2507,
    "start_time": "2024-02-19T23:10:07.267Z"
   },
   {
    "duration": 2727,
    "start_time": "2024-02-19T23:10:12.644Z"
   },
   {
    "duration": 110,
    "start_time": "2024-02-19T23:10:15.374Z"
   },
   {
    "duration": 108,
    "start_time": "2024-02-19T23:12:05.481Z"
   },
   {
    "duration": 2,
    "start_time": "2024-02-19T23:12:14.907Z"
   },
   {
    "duration": 471033,
    "start_time": "2024-02-19T23:12:15.841Z"
   },
   {
    "duration": 4,
    "start_time": "2024-02-19T23:20:06.875Z"
   },
   {
    "duration": 601021,
    "start_time": "2024-02-19T23:20:06.880Z"
   },
   {
    "duration": 4,
    "start_time": "2024-02-19T23:30:07.903Z"
   },
   {
    "duration": 1438,
    "start_time": "2024-02-19T23:51:31.386Z"
   },
   {
    "duration": 55,
    "start_time": "2024-02-19T23:51:32.826Z"
   },
   {
    "duration": 850,
    "start_time": "2024-02-19T23:51:34.931Z"
   },
   {
    "duration": 58,
    "start_time": "2024-02-19T23:51:35.788Z"
   },
   {
    "duration": 41,
    "start_time": "2024-02-19T23:51:36.109Z"
   },
   {
    "duration": 56,
    "start_time": "2024-02-19T23:51:36.364Z"
   },
   {
    "duration": 40,
    "start_time": "2024-02-19T23:51:36.748Z"
   },
   {
    "duration": 4,
    "start_time": "2024-02-19T23:51:37.009Z"
   },
   {
    "duration": 2060,
    "start_time": "2024-02-19T23:51:37.656Z"
   },
   {
    "duration": 6,
    "start_time": "2024-02-19T23:51:39.718Z"
   },
   {
    "duration": 8,
    "start_time": "2024-02-19T23:51:39.725Z"
   },
   {
    "duration": 7,
    "start_time": "2024-02-19T23:51:40.268Z"
   },
   {
    "duration": 5,
    "start_time": "2024-02-19T23:51:40.858Z"
   },
   {
    "duration": 6,
    "start_time": "2024-02-19T23:51:42.341Z"
   },
   {
    "duration": 16,
    "start_time": "2024-02-19T23:51:45.171Z"
   },
   {
    "duration": 9,
    "start_time": "2024-02-19T23:51:45.743Z"
   },
   {
    "duration": 7,
    "start_time": "2024-02-19T23:51:45.962Z"
   },
   {
    "duration": 10,
    "start_time": "2024-02-19T23:51:46.229Z"
   },
   {
    "duration": 14,
    "start_time": "2024-02-19T23:51:46.542Z"
   },
   {
    "duration": 30,
    "start_time": "2024-02-19T23:51:47.120Z"
   },
   {
    "duration": 4,
    "start_time": "2024-02-19T23:51:47.672Z"
   },
   {
    "duration": 6,
    "start_time": "2024-02-19T23:51:47.949Z"
   },
   {
    "duration": 6,
    "start_time": "2024-02-19T23:51:48.282Z"
   },
   {
    "duration": 7,
    "start_time": "2024-02-19T23:51:48.700Z"
   },
   {
    "duration": 6,
    "start_time": "2024-02-19T23:51:48.855Z"
   },
   {
    "duration": 43,
    "start_time": "2024-02-19T23:51:49.675Z"
   },
   {
    "duration": 13,
    "start_time": "2024-02-19T23:51:50.460Z"
   },
   {
    "duration": 11,
    "start_time": "2024-02-19T23:51:51.092Z"
   },
   {
    "duration": 7,
    "start_time": "2024-02-19T23:51:51.648Z"
   },
   {
    "duration": 802,
    "start_time": "2024-02-19T23:51:55.129Z"
   },
   {
    "duration": 733,
    "start_time": "2024-02-19T23:51:55.932Z"
   },
   {
    "duration": 809,
    "start_time": "2024-02-19T23:51:56.669Z"
   },
   {
    "duration": 734,
    "start_time": "2024-02-19T23:52:02.252Z"
   },
   {
    "duration": 474,
    "start_time": "2024-02-19T23:52:04.081Z"
   },
   {
    "duration": 354,
    "start_time": "2024-02-19T23:52:04.734Z"
   },
   {
    "duration": 144,
    "start_time": "2024-02-19T23:52:05.137Z"
   },
   {
    "duration": 345,
    "start_time": "2024-02-19T23:52:05.363Z"
   },
   {
    "duration": 234,
    "start_time": "2024-02-19T23:52:07.971Z"
   },
   {
    "duration": 212,
    "start_time": "2024-02-19T23:52:08.516Z"
   },
   {
    "duration": 324,
    "start_time": "2024-02-19T23:52:09.108Z"
   },
   {
    "duration": 243,
    "start_time": "2024-02-19T23:52:09.723Z"
   },
   {
    "duration": 4,
    "start_time": "2024-02-19T23:52:10.345Z"
   },
   {
    "duration": 34,
    "start_time": "2024-02-19T23:52:10.643Z"
   },
   {
    "duration": 3,
    "start_time": "2024-02-19T23:52:10.950Z"
   },
   {
    "duration": 19,
    "start_time": "2024-02-19T23:52:11.365Z"
   },
   {
    "duration": 4,
    "start_time": "2024-02-19T23:52:11.669Z"
   },
   {
    "duration": 3,
    "start_time": "2024-02-19T23:52:15.357Z"
   },
   {
    "duration": 6,
    "start_time": "2024-02-19T23:52:17.124Z"
   },
   {
    "duration": 72,
    "start_time": "2024-02-19T23:52:18.902Z"
   },
   {
    "duration": 3,
    "start_time": "2024-02-19T23:52:18.976Z"
   },
   {
    "duration": 6,
    "start_time": "2024-02-19T23:52:21.926Z"
   },
   {
    "duration": 5,
    "start_time": "2024-02-19T23:52:23.089Z"
   },
   {
    "duration": 2691,
    "start_time": "2024-02-19T23:52:28.779Z"
   },
   {
    "duration": 2593,
    "start_time": "2024-02-19T23:52:33.583Z"
   },
   {
    "duration": 101,
    "start_time": "2024-02-19T23:52:36.178Z"
   },
   {
    "duration": 3,
    "start_time": "2024-02-19T23:52:38.092Z"
   },
   {
    "duration": 532436,
    "start_time": "2024-02-19T23:52:38.399Z"
   },
   {
    "duration": 3,
    "start_time": "2024-02-20T00:01:30.837Z"
   },
   {
    "duration": 44,
    "start_time": "2024-02-20T00:01:30.841Z"
   },
   {
    "duration": 3,
    "start_time": "2024-02-20T00:03:58.155Z"
   },
   {
    "duration": 261333,
    "start_time": "2024-02-20T00:04:00.355Z"
   },
   {
    "duration": 4,
    "start_time": "2024-02-20T00:08:21.690Z"
   },
   {
    "duration": 287369,
    "start_time": "2024-02-20T00:08:21.695Z"
   },
   {
    "duration": 5,
    "start_time": "2024-02-20T00:13:09.066Z"
   },
   {
    "duration": 37,
    "start_time": "2024-02-20T00:13:09.073Z"
   },
   {
    "duration": 42,
    "start_time": "2024-02-20T00:16:14.496Z"
   },
   {
    "duration": 119,
    "start_time": "2024-02-20T00:16:20.628Z"
   },
   {
    "duration": 11,
    "start_time": "2024-02-20T00:16:34.343Z"
   },
   {
    "duration": 12,
    "start_time": "2024-02-20T00:17:36.304Z"
   },
   {
    "duration": 10,
    "start_time": "2024-02-20T00:21:28.035Z"
   },
   {
    "duration": 828,
    "start_time": "2024-02-20T00:21:44.148Z"
   },
   {
    "duration": 59,
    "start_time": "2024-02-20T09:21:25.377Z"
   },
   {
    "duration": 14,
    "start_time": "2024-02-20T09:21:35.449Z"
   },
   {
    "duration": 1558,
    "start_time": "2024-02-20T19:11:07.339Z"
   },
   {
    "duration": 42,
    "start_time": "2024-02-20T19:11:11.386Z"
   },
   {
    "duration": 2144,
    "start_time": "2024-02-20T19:11:13.334Z"
   },
   {
    "duration": 57,
    "start_time": "2024-02-20T19:11:16.710Z"
   },
   {
    "duration": 34,
    "start_time": "2024-02-20T19:11:17.611Z"
   },
   {
    "duration": 63,
    "start_time": "2024-02-20T19:11:18.040Z"
   },
   {
    "duration": 46,
    "start_time": "2024-02-20T19:11:18.503Z"
   },
   {
    "duration": 4,
    "start_time": "2024-02-20T19:11:18.813Z"
   },
   {
    "duration": 1888,
    "start_time": "2024-02-20T19:11:19.321Z"
   },
   {
    "duration": 8,
    "start_time": "2024-02-20T19:11:21.212Z"
   },
   {
    "duration": 19,
    "start_time": "2024-02-20T19:11:21.232Z"
   },
   {
    "duration": 9,
    "start_time": "2024-02-20T19:11:21.315Z"
   },
   {
    "duration": 6,
    "start_time": "2024-02-20T19:11:21.779Z"
   },
   {
    "duration": 6,
    "start_time": "2024-02-20T19:11:22.913Z"
   },
   {
    "duration": 19,
    "start_time": "2024-02-20T19:11:24.979Z"
   },
   {
    "duration": 10,
    "start_time": "2024-02-20T19:11:25.465Z"
   },
   {
    "duration": 8,
    "start_time": "2024-02-20T19:11:25.623Z"
   },
   {
    "duration": 12,
    "start_time": "2024-02-20T19:11:25.838Z"
   },
   {
    "duration": 18,
    "start_time": "2024-02-20T19:11:26.080Z"
   },
   {
    "duration": 37,
    "start_time": "2024-02-20T19:11:26.516Z"
   },
   {
    "duration": 4,
    "start_time": "2024-02-20T19:11:26.985Z"
   },
   {
    "duration": 6,
    "start_time": "2024-02-20T19:11:27.452Z"
   },
   {
    "duration": 7,
    "start_time": "2024-02-20T19:11:27.698Z"
   },
   {
    "duration": 6,
    "start_time": "2024-02-20T19:11:27.974Z"
   },
   {
    "duration": 5,
    "start_time": "2024-02-20T19:11:28.210Z"
   },
   {
    "duration": 43,
    "start_time": "2024-02-20T19:11:28.856Z"
   },
   {
    "duration": 19,
    "start_time": "2024-02-20T19:11:29.544Z"
   },
   {
    "duration": 10,
    "start_time": "2024-02-20T19:11:30.213Z"
   },
   {
    "duration": 7,
    "start_time": "2024-02-20T19:11:31.053Z"
   },
   {
    "duration": 785,
    "start_time": "2024-02-20T19:11:33.518Z"
   },
   {
    "duration": 666,
    "start_time": "2024-02-20T19:11:34.305Z"
   },
   {
    "duration": 777,
    "start_time": "2024-02-20T19:11:35.111Z"
   },
   {
    "duration": 655,
    "start_time": "2024-02-20T19:11:36.891Z"
   },
   {
    "duration": 430,
    "start_time": "2024-02-20T19:11:38.195Z"
   },
   {
    "duration": 328,
    "start_time": "2024-02-20T19:11:38.673Z"
   },
   {
    "duration": 139,
    "start_time": "2024-02-20T19:11:39.002Z"
   },
   {
    "duration": 361,
    "start_time": "2024-02-20T19:11:39.215Z"
   },
   {
    "duration": 219,
    "start_time": "2024-02-20T19:11:41.265Z"
   },
   {
    "duration": 222,
    "start_time": "2024-02-20T19:11:41.750Z"
   },
   {
    "duration": 329,
    "start_time": "2024-02-20T19:11:42.272Z"
   },
   {
    "duration": 238,
    "start_time": "2024-02-20T19:11:42.820Z"
   },
   {
    "duration": 3,
    "start_time": "2024-02-20T19:11:43.237Z"
   },
   {
    "duration": 38,
    "start_time": "2024-02-20T19:11:43.802Z"
   },
   {
    "duration": 4,
    "start_time": "2024-02-20T19:11:43.842Z"
   },
   {
    "duration": 19,
    "start_time": "2024-02-20T19:11:43.986Z"
   },
   {
    "duration": 4,
    "start_time": "2024-02-20T19:11:44.228Z"
   },
   {
    "duration": 3,
    "start_time": "2024-02-20T19:11:46.330Z"
   },
   {
    "duration": 6,
    "start_time": "2024-02-20T19:11:47.921Z"
   },
   {
    "duration": 74,
    "start_time": "2024-02-20T19:11:48.153Z"
   },
   {
    "duration": 3,
    "start_time": "2024-02-20T19:11:48.569Z"
   },
   {
    "duration": 7,
    "start_time": "2024-02-20T19:11:48.622Z"
   },
   {
    "duration": 5,
    "start_time": "2024-02-20T19:11:48.894Z"
   },
   {
    "duration": 2533,
    "start_time": "2024-02-20T19:11:50.203Z"
   },
   {
    "duration": 11,
    "start_time": "2024-02-20T19:11:55.328Z"
   },
   {
    "duration": 3090,
    "start_time": "2024-02-20T19:12:08.845Z"
   },
   {
    "duration": 114,
    "start_time": "2024-02-20T19:12:11.937Z"
   },
   {
    "duration": 6,
    "start_time": "2024-02-20T19:12:17.131Z"
   },
   {
    "duration": 413347,
    "start_time": "2024-02-20T19:12:17.645Z"
   },
   {
    "duration": 4,
    "start_time": "2024-02-20T19:19:10.994Z"
   },
   {
    "duration": 14,
    "start_time": "2024-02-20T19:19:11.000Z"
   },
   {
    "duration": 76,
    "start_time": "2024-02-20T19:21:33.343Z"
   },
   {
    "duration": 253065,
    "start_time": "2024-02-20T19:23:24.265Z"
   },
   {
    "duration": 4,
    "start_time": "2024-02-20T19:27:37.332Z"
   },
   {
    "duration": 274820,
    "start_time": "2024-02-20T19:27:37.337Z"
   },
   {
    "duration": 4,
    "start_time": "2024-02-20T19:32:12.159Z"
   },
   {
    "duration": 7,
    "start_time": "2024-02-20T19:32:12.164Z"
   },
   {
    "duration": 134,
    "start_time": "2024-02-20T19:32:43.136Z"
   },
   {
    "duration": 57,
    "start_time": "2024-02-20T19:38:00.655Z"
   },
   {
    "duration": 36,
    "start_time": "2024-02-20T19:38:27.312Z"
   },
   {
    "duration": 6,
    "start_time": "2024-02-20T19:38:33.476Z"
   },
   {
    "duration": 320,
    "start_time": "2024-02-20T19:38:37.516Z"
   },
   {
    "duration": 4,
    "start_time": "2024-02-20T19:39:40.840Z"
   },
   {
    "duration": 478,
    "start_time": "2024-02-20T19:40:23.756Z"
   },
   {
    "duration": 1836,
    "start_time": "2024-03-05T12:05:50.446Z"
   },
   {
    "duration": 58,
    "start_time": "2024-03-05T12:05:52.284Z"
   },
   {
    "duration": 3299,
    "start_time": "2024-03-05T12:05:53.295Z"
   },
   {
    "duration": 58,
    "start_time": "2024-03-05T12:05:56.596Z"
   },
   {
    "duration": 45,
    "start_time": "2024-03-05T12:05:56.656Z"
   },
   {
    "duration": 56,
    "start_time": "2024-03-05T12:05:56.703Z"
   },
   {
    "duration": 54,
    "start_time": "2024-03-05T12:05:56.983Z"
   },
   {
    "duration": 8,
    "start_time": "2024-03-05T12:05:57.285Z"
   },
   {
    "duration": 2222,
    "start_time": "2024-03-05T12:05:57.835Z"
   },
   {
    "duration": 29,
    "start_time": "2024-03-05T12:06:00.059Z"
   },
   {
    "duration": 1926,
    "start_time": "2024-03-05T12:06:00.090Z"
   },
   {
    "duration": 0,
    "start_time": "2024-03-05T12:06:02.018Z"
   },
   {
    "duration": 0,
    "start_time": "2024-03-05T12:06:02.020Z"
   },
   {
    "duration": 17,
    "start_time": "2024-03-05T12:06:03.239Z"
   },
   {
    "duration": 16,
    "start_time": "2024-03-05T12:06:03.878Z"
   },
   {
    "duration": 8,
    "start_time": "2024-03-05T12:06:04.442Z"
   },
   {
    "duration": 10,
    "start_time": "2024-03-05T12:06:04.595Z"
   },
   {
    "duration": 15,
    "start_time": "2024-03-05T12:06:04.831Z"
   },
   {
    "duration": 36,
    "start_time": "2024-03-05T12:06:05.313Z"
   },
   {
    "duration": 6,
    "start_time": "2024-03-05T12:06:05.821Z"
   },
   {
    "duration": 8,
    "start_time": "2024-03-05T12:06:05.915Z"
   },
   {
    "duration": 9,
    "start_time": "2024-03-05T12:06:06.094Z"
   },
   {
    "duration": 13,
    "start_time": "2024-03-05T12:06:06.286Z"
   },
   {
    "duration": 6,
    "start_time": "2024-03-05T12:06:06.512Z"
   },
   {
    "duration": 37,
    "start_time": "2024-03-05T12:06:07.195Z"
   },
   {
    "duration": 14,
    "start_time": "2024-03-05T12:06:08.241Z"
   },
   {
    "duration": 23,
    "start_time": "2024-03-05T12:06:08.258Z"
   },
   {
    "duration": 6,
    "start_time": "2024-03-05T12:06:08.599Z"
   },
   {
    "duration": 149,
    "start_time": "2024-03-05T12:06:37.926Z"
   },
   {
    "duration": 16,
    "start_time": "2024-03-05T12:06:38.658Z"
   },
   {
    "duration": 2413,
    "start_time": "2024-03-05T12:07:06.956Z"
   },
   {
    "duration": 50,
    "start_time": "2024-03-05T12:07:09.372Z"
   },
   {
    "duration": 1042,
    "start_time": "2024-03-05T12:07:11.521Z"
   },
   {
    "duration": 61,
    "start_time": "2024-03-05T12:07:13.011Z"
   },
   {
    "duration": 50,
    "start_time": "2024-03-05T12:07:14.132Z"
   },
   {
    "duration": 75,
    "start_time": "2024-03-05T12:07:14.639Z"
   },
   {
    "duration": 67,
    "start_time": "2024-03-05T12:07:15.443Z"
   },
   {
    "duration": 9,
    "start_time": "2024-03-05T12:07:15.971Z"
   },
   {
    "duration": 2465,
    "start_time": "2024-03-05T12:07:17.154Z"
   },
   {
    "duration": 11,
    "start_time": "2024-03-05T12:07:23.391Z"
   },
   {
    "duration": 1714,
    "start_time": "2024-03-05T12:07:28.400Z"
   },
   {
    "duration": 7,
    "start_time": "2024-03-05T12:07:33.604Z"
   },
   {
    "duration": 14,
    "start_time": "2024-03-05T12:07:35.086Z"
   },
   {
    "duration": 17,
    "start_time": "2024-03-05T12:07:36.379Z"
   },
   {
    "duration": 4,
    "start_time": "2024-03-05T12:07:38.435Z"
   },
   {
    "duration": 24,
    "start_time": "2024-03-05T12:07:42.274Z"
   },
   {
    "duration": 10,
    "start_time": "2024-03-05T12:07:43.313Z"
   },
   {
    "duration": 11,
    "start_time": "2024-03-05T12:07:43.583Z"
   },
   {
    "duration": 14,
    "start_time": "2024-03-05T12:07:44.235Z"
   },
   {
    "duration": 21,
    "start_time": "2024-03-05T12:07:44.646Z"
   },
   {
    "duration": 32,
    "start_time": "2024-03-05T12:07:45.999Z"
   },
   {
    "duration": 5,
    "start_time": "2024-03-05T12:07:47.585Z"
   },
   {
    "duration": 9,
    "start_time": "2024-03-05T12:07:48.294Z"
   },
   {
    "duration": 7,
    "start_time": "2024-03-05T12:07:48.761Z"
   },
   {
    "duration": 6,
    "start_time": "2024-03-05T12:07:49.201Z"
   },
   {
    "duration": 6,
    "start_time": "2024-03-05T12:07:49.615Z"
   },
   {
    "duration": 49,
    "start_time": "2024-03-05T12:07:51.390Z"
   },
   {
    "duration": 13,
    "start_time": "2024-03-05T12:07:53.018Z"
   },
   {
    "duration": 12,
    "start_time": "2024-03-05T12:07:54.352Z"
   },
   {
    "duration": 15,
    "start_time": "2024-03-05T12:07:56.470Z"
   },
   {
    "duration": 982,
    "start_time": "2024-03-05T12:08:01.015Z"
   },
   {
    "duration": 883,
    "start_time": "2024-03-05T12:08:03.531Z"
   },
   {
    "duration": 1000,
    "start_time": "2024-03-05T12:08:05.066Z"
   },
   {
    "duration": 848,
    "start_time": "2024-03-05T12:08:07.069Z"
   },
   {
    "duration": 574,
    "start_time": "2024-03-05T12:08:14.084Z"
   },
   {
    "duration": 430,
    "start_time": "2024-03-05T12:08:16.154Z"
   },
   {
    "duration": 184,
    "start_time": "2024-03-05T12:08:16.586Z"
   },
   {
    "duration": 343,
    "start_time": "2024-03-05T12:08:16.930Z"
   },
   {
    "duration": 297,
    "start_time": "2024-03-05T12:08:19.921Z"
   },
   {
    "duration": 265,
    "start_time": "2024-03-05T12:08:21.279Z"
   },
   {
    "duration": 448,
    "start_time": "2024-03-05T12:08:21.917Z"
   },
   {
    "duration": 268,
    "start_time": "2024-03-05T12:08:22.683Z"
   },
   {
    "duration": 5,
    "start_time": "2024-03-05T12:08:23.698Z"
   },
   {
    "duration": 38,
    "start_time": "2024-03-05T12:08:23.979Z"
   },
   {
    "duration": 4,
    "start_time": "2024-03-05T12:08:24.459Z"
   },
   {
    "duration": 19,
    "start_time": "2024-03-05T12:08:24.925Z"
   },
   {
    "duration": 5,
    "start_time": "2024-03-05T12:08:25.341Z"
   },
   {
    "duration": 3,
    "start_time": "2024-03-05T12:08:29.530Z"
   },
   {
    "duration": 4,
    "start_time": "2024-03-05T12:11:06.858Z"
   },
   {
    "duration": 6,
    "start_time": "2024-03-05T12:11:13.809Z"
   },
   {
    "duration": 104,
    "start_time": "2024-03-05T12:11:14.704Z"
   },
   {
    "duration": 5,
    "start_time": "2024-03-05T12:11:15.263Z"
   },
   {
    "duration": 9,
    "start_time": "2024-03-05T12:11:15.945Z"
   },
   {
    "duration": 8,
    "start_time": "2024-03-05T12:11:16.317Z"
   },
   {
    "duration": 2967,
    "start_time": "2024-03-05T12:11:18.321Z"
   },
   {
    "duration": 98,
    "start_time": "2024-03-05T12:11:21.292Z"
   },
   {
    "duration": 2955,
    "start_time": "2024-03-05T12:11:24.939Z"
   },
   {
    "duration": 30,
    "start_time": "2024-03-05T12:11:35.139Z"
   },
   {
    "duration": 2,
    "start_time": "2024-03-05T12:11:44.431Z"
   },
   {
    "duration": 558948,
    "start_time": "2024-03-05T12:11:45.660Z"
   }
  ],
  "kernelspec": {
   "display_name": "Python 3 (ipykernel)",
   "language": "python",
   "name": "python3"
  },
  "language_info": {
   "codemirror_mode": {
    "name": "ipython",
    "version": 3
   },
   "file_extension": ".py",
   "mimetype": "text/x-python",
   "name": "python",
   "nbconvert_exporter": "python",
   "pygments_lexer": "ipython3",
   "version": "3.9.18"
  },
  "toc": {
   "base_numbering": 1,
   "nav_menu": {},
   "number_sections": true,
   "sideBar": true,
   "skip_h1_title": true,
   "title_cell": "Содержание",
   "title_sidebar": "Contents",
   "toc_cell": true,
   "toc_position": {
    "height": "743px",
    "left": "37px",
    "top": "111.125px",
    "width": "236.989px"
   },
   "toc_section_display": true,
   "toc_window_display": true
  }
 },
 "nbformat": 4,
 "nbformat_minor": 4
}
